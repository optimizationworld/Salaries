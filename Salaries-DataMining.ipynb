{
 "cells": [
  {
   "cell_type": "markdown",
   "metadata": {},
   "source": [
    "<p style=\"font-family: Arial; font-size:3em;color:red;\"> Mineria de datos- Actividad 2 </p>"
   ]
  },
  {
   "cell_type": "markdown",
   "metadata": {},
   "source": [
    "\n",
    "# Procesamiento de datos "
   ]
  },
  {
   "cell_type": "markdown",
   "metadata": {},
   "source": [
    "<p style=\"font-family: Arial; font-size:1.5em;color:black;\"> Importar pandas y numpy </p>\n",
    "1)  importar, modificar y manipular los datos"
   ]
  },
  {
   "cell_type": "code",
   "execution_count": 153,
   "metadata": {},
   "outputs": [],
   "source": [
    "import pandas as pd \n",
    "import numpy as np\n",
    "import sys"
   ]
  },
  {
   "cell_type": "code",
   "execution_count": 154,
   "metadata": {},
   "outputs": [
    {
     "data": {
      "text/html": [
       "<div>\n",
       "<style scoped>\n",
       "    .dataframe tbody tr th:only-of-type {\n",
       "        vertical-align: middle;\n",
       "    }\n",
       "\n",
       "    .dataframe tbody tr th {\n",
       "        vertical-align: top;\n",
       "    }\n",
       "\n",
       "    .dataframe thead th {\n",
       "        text-align: right;\n",
       "    }\n",
       "</style>\n",
       "<table border=\"1\" class=\"dataframe\">\n",
       "  <thead>\n",
       "    <tr style=\"text-align: right;\">\n",
       "      <th></th>\n",
       "      <th>Unnamed: 0</th>\n",
       "      <th>work_year</th>\n",
       "      <th>experience_level</th>\n",
       "      <th>employment_type</th>\n",
       "      <th>job_title</th>\n",
       "      <th>salary</th>\n",
       "      <th>salary_currency</th>\n",
       "      <th>salary_in_usd</th>\n",
       "      <th>employee_residence</th>\n",
       "      <th>remote_ratio</th>\n",
       "      <th>company_location</th>\n",
       "      <th>company_size</th>\n",
       "    </tr>\n",
       "  </thead>\n",
       "  <tbody>\n",
       "    <tr>\n",
       "      <th>0</th>\n",
       "      <td>0</td>\n",
       "      <td>2020</td>\n",
       "      <td>MI</td>\n",
       "      <td>FT</td>\n",
       "      <td>Data Scientist</td>\n",
       "      <td>70000</td>\n",
       "      <td>EUR</td>\n",
       "      <td>79833</td>\n",
       "      <td>DE</td>\n",
       "      <td>0</td>\n",
       "      <td>DE</td>\n",
       "      <td>L</td>\n",
       "    </tr>\n",
       "    <tr>\n",
       "      <th>1</th>\n",
       "      <td>1</td>\n",
       "      <td>2020</td>\n",
       "      <td>SE</td>\n",
       "      <td>FT</td>\n",
       "      <td>Machine Learning Scientist</td>\n",
       "      <td>260000</td>\n",
       "      <td>USD</td>\n",
       "      <td>260000</td>\n",
       "      <td>JP</td>\n",
       "      <td>0</td>\n",
       "      <td>JP</td>\n",
       "      <td>S</td>\n",
       "    </tr>\n",
       "  </tbody>\n",
       "</table>\n",
       "</div>"
      ],
      "text/plain": [
       "   Unnamed: 0  work_year experience_level employment_type  \\\n",
       "0           0       2020               MI              FT   \n",
       "1           1       2020               SE              FT   \n",
       "\n",
       "                    job_title  salary salary_currency  salary_in_usd  \\\n",
       "0              Data Scientist   70000             EUR          79833   \n",
       "1  Machine Learning Scientist  260000             USD         260000   \n",
       "\n",
       "  employee_residence  remote_ratio company_location company_size  \n",
       "0                 DE             0               DE            L  \n",
       "1                 JP             0               JP            S  "
      ]
     },
     "execution_count": 154,
     "metadata": {},
     "output_type": "execute_result"
    }
   ],
   "source": [
    "data = pd.read_csv('./ds_salaries.csv')\n",
    "data.head(2)"
   ]
  },
  {
   "cell_type": "markdown",
   "metadata": {},
   "source": [
    "2) se elimina la variable Unnamed:0, se tomara los salarios menores a 400000 "
   ]
  },
  {
   "cell_type": "code",
   "execution_count": 155,
   "metadata": {},
   "outputs": [
    {
     "data": {
      "text/html": [
       "<div>\n",
       "<style scoped>\n",
       "    .dataframe tbody tr th:only-of-type {\n",
       "        vertical-align: middle;\n",
       "    }\n",
       "\n",
       "    .dataframe tbody tr th {\n",
       "        vertical-align: top;\n",
       "    }\n",
       "\n",
       "    .dataframe thead th {\n",
       "        text-align: right;\n",
       "    }\n",
       "</style>\n",
       "<table border=\"1\" class=\"dataframe\">\n",
       "  <thead>\n",
       "    <tr style=\"text-align: right;\">\n",
       "      <th></th>\n",
       "      <th>work_year</th>\n",
       "      <th>experience_level</th>\n",
       "      <th>employment_type</th>\n",
       "      <th>job_title</th>\n",
       "      <th>salary</th>\n",
       "      <th>salary_currency</th>\n",
       "      <th>salary_in_usd</th>\n",
       "      <th>employee_residence</th>\n",
       "      <th>remote_ratio</th>\n",
       "      <th>company_location</th>\n",
       "      <th>company_size</th>\n",
       "    </tr>\n",
       "  </thead>\n",
       "  <tbody>\n",
       "    <tr>\n",
       "      <th>0</th>\n",
       "      <td>2020</td>\n",
       "      <td>MI</td>\n",
       "      <td>FT</td>\n",
       "      <td>Data Scientist</td>\n",
       "      <td>70000</td>\n",
       "      <td>EUR</td>\n",
       "      <td>79833</td>\n",
       "      <td>DE</td>\n",
       "      <td>0</td>\n",
       "      <td>DE</td>\n",
       "      <td>L</td>\n",
       "    </tr>\n",
       "    <tr>\n",
       "      <th>1</th>\n",
       "      <td>2020</td>\n",
       "      <td>SE</td>\n",
       "      <td>FT</td>\n",
       "      <td>Machine Learning Scientist</td>\n",
       "      <td>260000</td>\n",
       "      <td>USD</td>\n",
       "      <td>260000</td>\n",
       "      <td>JP</td>\n",
       "      <td>0</td>\n",
       "      <td>JP</td>\n",
       "      <td>S</td>\n",
       "    </tr>\n",
       "  </tbody>\n",
       "</table>\n",
       "</div>"
      ],
      "text/plain": [
       "   work_year experience_level employment_type                   job_title  \\\n",
       "0       2020               MI              FT              Data Scientist   \n",
       "1       2020               SE              FT  Machine Learning Scientist   \n",
       "\n",
       "   salary salary_currency  salary_in_usd employee_residence  remote_ratio  \\\n",
       "0   70000             EUR          79833                 DE             0   \n",
       "1  260000             USD         260000                 JP             0   \n",
       "\n",
       "  company_location company_size  \n",
       "0               DE            L  \n",
       "1               JP            S  "
      ]
     },
     "execution_count": 155,
     "metadata": {},
     "output_type": "execute_result"
    }
   ],
   "source": [
    "data1= data.drop(['Unnamed: 0'], axis=1)\n",
    "data2= data1[data1['salary_in_usd']<400000]\n",
    "data2.head(2)"
   ]
  },
  {
   "cell_type": "markdown",
   "metadata": {},
   "source": [
    "3) traducir las varibales al espanol, leer la informacion de las variables"
   ]
  },
  {
   "cell_type": "code",
   "execution_count": 156,
   "metadata": {},
   "outputs": [
    {
     "data": {
      "text/html": [
       "<div>\n",
       "<style scoped>\n",
       "    .dataframe tbody tr th:only-of-type {\n",
       "        vertical-align: middle;\n",
       "    }\n",
       "\n",
       "    .dataframe tbody tr th {\n",
       "        vertical-align: top;\n",
       "    }\n",
       "\n",
       "    .dataframe thead th {\n",
       "        text-align: right;\n",
       "    }\n",
       "</style>\n",
       "<table border=\"1\" class=\"dataframe\">\n",
       "  <thead>\n",
       "    <tr style=\"text-align: right;\">\n",
       "      <th></th>\n",
       "      <th>work_year</th>\n",
       "      <th>experience_level</th>\n",
       "      <th>employment_type</th>\n",
       "      <th>Puesto Laboral</th>\n",
       "      <th>salary</th>\n",
       "      <th>salary_currency</th>\n",
       "      <th>Salario en USD</th>\n",
       "      <th>employee_residence</th>\n",
       "      <th>remote_ratio</th>\n",
       "      <th>Ubicacion</th>\n",
       "      <th>company_size</th>\n",
       "    </tr>\n",
       "  </thead>\n",
       "  <tbody>\n",
       "    <tr>\n",
       "      <th>0</th>\n",
       "      <td>2020</td>\n",
       "      <td>MI</td>\n",
       "      <td>FT</td>\n",
       "      <td>Data Scientist</td>\n",
       "      <td>70000</td>\n",
       "      <td>EUR</td>\n",
       "      <td>79833</td>\n",
       "      <td>DE</td>\n",
       "      <td>0</td>\n",
       "      <td>DE</td>\n",
       "      <td>L</td>\n",
       "    </tr>\n",
       "    <tr>\n",
       "      <th>1</th>\n",
       "      <td>2020</td>\n",
       "      <td>SE</td>\n",
       "      <td>FT</td>\n",
       "      <td>Machine Learning Scientist</td>\n",
       "      <td>260000</td>\n",
       "      <td>USD</td>\n",
       "      <td>260000</td>\n",
       "      <td>JP</td>\n",
       "      <td>0</td>\n",
       "      <td>JP</td>\n",
       "      <td>S</td>\n",
       "    </tr>\n",
       "  </tbody>\n",
       "</table>\n",
       "</div>"
      ],
      "text/plain": [
       "   work_year experience_level employment_type              Puesto Laboral  \\\n",
       "0       2020               MI              FT              Data Scientist   \n",
       "1       2020               SE              FT  Machine Learning Scientist   \n",
       "\n",
       "   salary salary_currency  Salario en USD employee_residence  remote_ratio  \\\n",
       "0   70000             EUR           79833                 DE             0   \n",
       "1  260000             USD          260000                 JP             0   \n",
       "\n",
       "  Ubicacion company_size  \n",
       "0        DE            L  \n",
       "1        JP            S  "
      ]
     },
     "execution_count": 156,
     "metadata": {},
     "output_type": "execute_result"
    }
   ],
   "source": [
    "data2 = data2.rename(columns = {\"job_title\":\"Puesto Laboral\"})\n",
    "data2 = data2.rename(columns = {\"salary_in_usd\":\"Salario en USD\"})\n",
    "data2 = data2.rename(columns = {\"company_location\":\"Ubicacion\"})\n",
    "data2.head(2)"
   ]
  },
  {
   "cell_type": "code",
   "execution_count": 157,
   "metadata": {},
   "outputs": [
    {
     "name": "stdout",
     "output_type": "stream",
     "text": [
      "<class 'pandas.core.frame.DataFrame'>\n",
      "Int64Index: 600 entries, 0 to 606\n",
      "Data columns (total 11 columns):\n",
      " #   Column              Non-Null Count  Dtype \n",
      "---  ------              --------------  ----- \n",
      " 0   work_year           600 non-null    int64 \n",
      " 1   experience_level    600 non-null    object\n",
      " 2   employment_type     600 non-null    object\n",
      " 3   Puesto Laboral      600 non-null    object\n",
      " 4   salary              600 non-null    int64 \n",
      " 5   salary_currency     600 non-null    object\n",
      " 6   Salario en USD      600 non-null    int64 \n",
      " 7   employee_residence  600 non-null    object\n",
      " 8   remote_ratio        600 non-null    int64 \n",
      " 9   Ubicacion           600 non-null    object\n",
      " 10  company_size        600 non-null    object\n",
      "dtypes: int64(4), object(7)\n",
      "memory usage: 56.2+ KB\n"
     ]
    }
   ],
   "source": [
    "data2.info()"
   ]
  },
  {
   "cell_type": "markdown",
   "metadata": {},
   "source": [
    "se puede observar que el remote ratio tiene valores tipo int, se va transforma a tipo str para reemplazar por nombres 'remote, on site y hybrid'"
   ]
  },
  {
   "cell_type": "code",
   "execution_count": 158,
   "metadata": {},
   "outputs": [],
   "source": [
    "data2['remote_ratio']=data2['remote_ratio'].astype('str')\n",
    "data2['remote_ratio']=data2['remote_ratio'].replace(['0'],'On site')\n",
    "data2['remote_ratio']=data2['remote_ratio'].replace(['50'],'On Hybrid')\n",
    "data2['remote_ratio']=data2['remote_ratio'].replace(['100'],'Remote')"
   ]
  },
  {
   "cell_type": "code",
   "execution_count": 159,
   "metadata": {},
   "outputs": [
    {
     "data": {
      "text/plain": [
       "Remote       376\n",
       "On site      126\n",
       "On Hybrid     98\n",
       "Name: remote_ratio, dtype: int64"
      ]
     },
     "execution_count": 159,
     "metadata": {},
     "output_type": "execute_result"
    }
   ],
   "source": [
    "data2['remote_ratio'].value_counts()"
   ]
  },
  {
   "cell_type": "markdown",
   "metadata": {},
   "source": [
    "<p style=\"font-family: Arial; font-size:1.5em;color:black;\"> Importar las siguientes librerias para visualizar </p>\n"
   ]
  },
  {
   "cell_type": "code",
   "execution_count": 160,
   "metadata": {},
   "outputs": [],
   "source": [
    "import matplotlib.pyplot as plt\n",
    "import seaborn as sns\n",
    "import plotly.express as px\n",
    "import plotly.figure_factory as ff\n",
    "import plotly.graph_objects as go\n",
    "from plotly.subplots import make_subplots\n"
   ]
  },
  {
   "cell_type": "markdown",
   "metadata": {},
   "source": [
    "4) transformaciones en los datos para ser trazados"
   ]
  },
  {
   "cell_type": "code",
   "execution_count": 180,
   "metadata": {},
   "outputs": [
    {
     "data": {
      "application/vnd.plotly.v1+json": {
       "config": {
        "plotlyServerURL": "https://plot.ly"
       },
       "data": [
        {
         "domain": {
          "x": [
           0,
           0.45
          ],
          "y": [
           0.575,
           1
          ]
         },
         "hole": 0.6,
         "hoverinfo": "label+value",
         "labels": [
          "EN",
          "EX",
          "MI",
          "SE"
         ],
         "marker": {
          "colors": [
           "#315cd9",
           "#2ab221",
           "#14A073",
           "#bcf53d",
           "#B3A89F"
          ],
          "line": {
           "color": "#EEEEEE",
           "width": 2
          }
         },
         "textfont": {
          "size": 12
         },
         "textinfo": "label+percent",
         "title": {
          "font": {
           "size": 20
          },
          "text": "Nivel de Experiencia"
         },
         "type": "pie",
         "values": [
          88,
          24,
          210,
          278
         ]
        },
        {
         "domain": {
          "x": [
           0.55,
           1
          ],
          "y": [
           0.575,
           1
          ]
         },
         "hole": 0.6,
         "hoverinfo": "label+value",
         "labels": [
          "L",
          "M",
          "S"
         ],
         "marker": {
          "colors": [
           "#315cd9",
           "#2ab221",
           "#14A073",
           "#bcf53d",
           "#B3A89F"
          ],
          "line": {
           "color": "#EEEEEE",
           "width": 2
          }
         },
         "textfont": {
          "size": 12
         },
         "textinfo": "label+percent",
         "title": {
          "font": {
           "size": 20
          },
          "text": "Tamaño de compañía"
         },
         "type": "pie",
         "values": [
          193,
          325,
          82
         ]
        },
        {
         "domain": {
          "x": [
           0,
           0.45
          ],
          "y": [
           0,
           0.425
          ]
         },
         "hole": 0.6,
         "hoverinfo": "label+value",
         "labels": [
          2020,
          2021,
          2022
         ],
         "marker": {
          "colors": [
           "#315cd9",
           "#2ab221",
           "#14A073",
           "#bcf53d",
           "#B3A89F"
          ],
          "line": {
           "color": "#EEEEEE",
           "width": 2
          }
         },
         "textfont": {
          "size": 12
         },
         "textinfo": "label+percent",
         "title": {
          "font": {
           "size": 20
          },
          "text": "Año de trabajo"
         },
         "type": "pie",
         "values": [
          70,
          213,
          317
         ]
        },
        {
         "domain": {
          "x": [
           0.55,
           1
          ],
          "y": [
           0,
           0.425
          ]
         },
         "hole": 0.6,
         "hoverinfo": "label+value",
         "labels": [
          "CT",
          "FL",
          "FT",
          "PT"
         ],
         "marker": {
          "colors": [
           "#315cd9",
           "#2ab221",
           "#14A073",
           "#bcf53d",
           "#B3A89F"
          ],
          "line": {
           "color": "#EEEEEE",
           "width": 2
          }
         },
         "textfont": {
          "size": 12
         },
         "textinfo": "label+percent",
         "title": {
          "font": {
           "size": 20
          },
          "text": "Tipo de contracto"
         },
         "type": "pie",
         "values": [
          4,
          4,
          582,
          10
         ]
        }
       ],
       "layout": {
        "height": 800,
        "showlegend": false,
        "template": {
         "data": {
          "bar": [
           {
            "error_x": {
             "color": "#2a3f5f"
            },
            "error_y": {
             "color": "#2a3f5f"
            },
            "marker": {
             "line": {
              "color": "white",
              "width": 0.5
             },
             "pattern": {
              "fillmode": "overlay",
              "size": 10,
              "solidity": 0.2
             }
            },
            "type": "bar"
           }
          ],
          "barpolar": [
           {
            "marker": {
             "line": {
              "color": "white",
              "width": 0.5
             },
             "pattern": {
              "fillmode": "overlay",
              "size": 10,
              "solidity": 0.2
             }
            },
            "type": "barpolar"
           }
          ],
          "carpet": [
           {
            "aaxis": {
             "endlinecolor": "#2a3f5f",
             "gridcolor": "#C8D4E3",
             "linecolor": "#C8D4E3",
             "minorgridcolor": "#C8D4E3",
             "startlinecolor": "#2a3f5f"
            },
            "baxis": {
             "endlinecolor": "#2a3f5f",
             "gridcolor": "#C8D4E3",
             "linecolor": "#C8D4E3",
             "minorgridcolor": "#C8D4E3",
             "startlinecolor": "#2a3f5f"
            },
            "type": "carpet"
           }
          ],
          "choropleth": [
           {
            "colorbar": {
             "outlinewidth": 0,
             "ticks": ""
            },
            "type": "choropleth"
           }
          ],
          "contour": [
           {
            "colorbar": {
             "outlinewidth": 0,
             "ticks": ""
            },
            "colorscale": [
             [
              0,
              "#0d0887"
             ],
             [
              0.1111111111111111,
              "#46039f"
             ],
             [
              0.2222222222222222,
              "#7201a8"
             ],
             [
              0.3333333333333333,
              "#9c179e"
             ],
             [
              0.4444444444444444,
              "#bd3786"
             ],
             [
              0.5555555555555556,
              "#d8576b"
             ],
             [
              0.6666666666666666,
              "#ed7953"
             ],
             [
              0.7777777777777778,
              "#fb9f3a"
             ],
             [
              0.8888888888888888,
              "#fdca26"
             ],
             [
              1,
              "#f0f921"
             ]
            ],
            "type": "contour"
           }
          ],
          "contourcarpet": [
           {
            "colorbar": {
             "outlinewidth": 0,
             "ticks": ""
            },
            "type": "contourcarpet"
           }
          ],
          "heatmap": [
           {
            "colorbar": {
             "outlinewidth": 0,
             "ticks": ""
            },
            "colorscale": [
             [
              0,
              "#0d0887"
             ],
             [
              0.1111111111111111,
              "#46039f"
             ],
             [
              0.2222222222222222,
              "#7201a8"
             ],
             [
              0.3333333333333333,
              "#9c179e"
             ],
             [
              0.4444444444444444,
              "#bd3786"
             ],
             [
              0.5555555555555556,
              "#d8576b"
             ],
             [
              0.6666666666666666,
              "#ed7953"
             ],
             [
              0.7777777777777778,
              "#fb9f3a"
             ],
             [
              0.8888888888888888,
              "#fdca26"
             ],
             [
              1,
              "#f0f921"
             ]
            ],
            "type": "heatmap"
           }
          ],
          "heatmapgl": [
           {
            "colorbar": {
             "outlinewidth": 0,
             "ticks": ""
            },
            "colorscale": [
             [
              0,
              "#0d0887"
             ],
             [
              0.1111111111111111,
              "#46039f"
             ],
             [
              0.2222222222222222,
              "#7201a8"
             ],
             [
              0.3333333333333333,
              "#9c179e"
             ],
             [
              0.4444444444444444,
              "#bd3786"
             ],
             [
              0.5555555555555556,
              "#d8576b"
             ],
             [
              0.6666666666666666,
              "#ed7953"
             ],
             [
              0.7777777777777778,
              "#fb9f3a"
             ],
             [
              0.8888888888888888,
              "#fdca26"
             ],
             [
              1,
              "#f0f921"
             ]
            ],
            "type": "heatmapgl"
           }
          ],
          "histogram": [
           {
            "marker": {
             "pattern": {
              "fillmode": "overlay",
              "size": 10,
              "solidity": 0.2
             }
            },
            "type": "histogram"
           }
          ],
          "histogram2d": [
           {
            "colorbar": {
             "outlinewidth": 0,
             "ticks": ""
            },
            "colorscale": [
             [
              0,
              "#0d0887"
             ],
             [
              0.1111111111111111,
              "#46039f"
             ],
             [
              0.2222222222222222,
              "#7201a8"
             ],
             [
              0.3333333333333333,
              "#9c179e"
             ],
             [
              0.4444444444444444,
              "#bd3786"
             ],
             [
              0.5555555555555556,
              "#d8576b"
             ],
             [
              0.6666666666666666,
              "#ed7953"
             ],
             [
              0.7777777777777778,
              "#fb9f3a"
             ],
             [
              0.8888888888888888,
              "#fdca26"
             ],
             [
              1,
              "#f0f921"
             ]
            ],
            "type": "histogram2d"
           }
          ],
          "histogram2dcontour": [
           {
            "colorbar": {
             "outlinewidth": 0,
             "ticks": ""
            },
            "colorscale": [
             [
              0,
              "#0d0887"
             ],
             [
              0.1111111111111111,
              "#46039f"
             ],
             [
              0.2222222222222222,
              "#7201a8"
             ],
             [
              0.3333333333333333,
              "#9c179e"
             ],
             [
              0.4444444444444444,
              "#bd3786"
             ],
             [
              0.5555555555555556,
              "#d8576b"
             ],
             [
              0.6666666666666666,
              "#ed7953"
             ],
             [
              0.7777777777777778,
              "#fb9f3a"
             ],
             [
              0.8888888888888888,
              "#fdca26"
             ],
             [
              1,
              "#f0f921"
             ]
            ],
            "type": "histogram2dcontour"
           }
          ],
          "mesh3d": [
           {
            "colorbar": {
             "outlinewidth": 0,
             "ticks": ""
            },
            "type": "mesh3d"
           }
          ],
          "parcoords": [
           {
            "line": {
             "colorbar": {
              "outlinewidth": 0,
              "ticks": ""
             }
            },
            "type": "parcoords"
           }
          ],
          "pie": [
           {
            "automargin": true,
            "type": "pie"
           }
          ],
          "scatter": [
           {
            "fillpattern": {
             "fillmode": "overlay",
             "size": 10,
             "solidity": 0.2
            },
            "type": "scatter"
           }
          ],
          "scatter3d": [
           {
            "line": {
             "colorbar": {
              "outlinewidth": 0,
              "ticks": ""
             }
            },
            "marker": {
             "colorbar": {
              "outlinewidth": 0,
              "ticks": ""
             }
            },
            "type": "scatter3d"
           }
          ],
          "scattercarpet": [
           {
            "marker": {
             "colorbar": {
              "outlinewidth": 0,
              "ticks": ""
             }
            },
            "type": "scattercarpet"
           }
          ],
          "scattergeo": [
           {
            "marker": {
             "colorbar": {
              "outlinewidth": 0,
              "ticks": ""
             }
            },
            "type": "scattergeo"
           }
          ],
          "scattergl": [
           {
            "marker": {
             "colorbar": {
              "outlinewidth": 0,
              "ticks": ""
             }
            },
            "type": "scattergl"
           }
          ],
          "scattermapbox": [
           {
            "marker": {
             "colorbar": {
              "outlinewidth": 0,
              "ticks": ""
             }
            },
            "type": "scattermapbox"
           }
          ],
          "scatterpolar": [
           {
            "marker": {
             "colorbar": {
              "outlinewidth": 0,
              "ticks": ""
             }
            },
            "type": "scatterpolar"
           }
          ],
          "scatterpolargl": [
           {
            "marker": {
             "colorbar": {
              "outlinewidth": 0,
              "ticks": ""
             }
            },
            "type": "scatterpolargl"
           }
          ],
          "scatterternary": [
           {
            "marker": {
             "colorbar": {
              "outlinewidth": 0,
              "ticks": ""
             }
            },
            "type": "scatterternary"
           }
          ],
          "surface": [
           {
            "colorbar": {
             "outlinewidth": 0,
             "ticks": ""
            },
            "colorscale": [
             [
              0,
              "#0d0887"
             ],
             [
              0.1111111111111111,
              "#46039f"
             ],
             [
              0.2222222222222222,
              "#7201a8"
             ],
             [
              0.3333333333333333,
              "#9c179e"
             ],
             [
              0.4444444444444444,
              "#bd3786"
             ],
             [
              0.5555555555555556,
              "#d8576b"
             ],
             [
              0.6666666666666666,
              "#ed7953"
             ],
             [
              0.7777777777777778,
              "#fb9f3a"
             ],
             [
              0.8888888888888888,
              "#fdca26"
             ],
             [
              1,
              "#f0f921"
             ]
            ],
            "type": "surface"
           }
          ],
          "table": [
           {
            "cells": {
             "fill": {
              "color": "#EBF0F8"
             },
             "line": {
              "color": "white"
             }
            },
            "header": {
             "fill": {
              "color": "#C8D4E3"
             },
             "line": {
              "color": "white"
             }
            },
            "type": "table"
           }
          ]
         },
         "layout": {
          "annotationdefaults": {
           "arrowcolor": "#2a3f5f",
           "arrowhead": 0,
           "arrowwidth": 1
          },
          "autotypenumbers": "strict",
          "coloraxis": {
           "colorbar": {
            "outlinewidth": 0,
            "ticks": ""
           }
          },
          "colorscale": {
           "diverging": [
            [
             0,
             "#8e0152"
            ],
            [
             0.1,
             "#c51b7d"
            ],
            [
             0.2,
             "#de77ae"
            ],
            [
             0.3,
             "#f1b6da"
            ],
            [
             0.4,
             "#fde0ef"
            ],
            [
             0.5,
             "#f7f7f7"
            ],
            [
             0.6,
             "#e6f5d0"
            ],
            [
             0.7,
             "#b8e186"
            ],
            [
             0.8,
             "#7fbc41"
            ],
            [
             0.9,
             "#4d9221"
            ],
            [
             1,
             "#276419"
            ]
           ],
           "sequential": [
            [
             0,
             "#0d0887"
            ],
            [
             0.1111111111111111,
             "#46039f"
            ],
            [
             0.2222222222222222,
             "#7201a8"
            ],
            [
             0.3333333333333333,
             "#9c179e"
            ],
            [
             0.4444444444444444,
             "#bd3786"
            ],
            [
             0.5555555555555556,
             "#d8576b"
            ],
            [
             0.6666666666666666,
             "#ed7953"
            ],
            [
             0.7777777777777778,
             "#fb9f3a"
            ],
            [
             0.8888888888888888,
             "#fdca26"
            ],
            [
             1,
             "#f0f921"
            ]
           ],
           "sequentialminus": [
            [
             0,
             "#0d0887"
            ],
            [
             0.1111111111111111,
             "#46039f"
            ],
            [
             0.2222222222222222,
             "#7201a8"
            ],
            [
             0.3333333333333333,
             "#9c179e"
            ],
            [
             0.4444444444444444,
             "#bd3786"
            ],
            [
             0.5555555555555556,
             "#d8576b"
            ],
            [
             0.6666666666666666,
             "#ed7953"
            ],
            [
             0.7777777777777778,
             "#fb9f3a"
            ],
            [
             0.8888888888888888,
             "#fdca26"
            ],
            [
             1,
             "#f0f921"
            ]
           ]
          },
          "colorway": [
           "#636efa",
           "#EF553B",
           "#00cc96",
           "#ab63fa",
           "#FFA15A",
           "#19d3f3",
           "#FF6692",
           "#B6E880",
           "#FF97FF",
           "#FECB52"
          ],
          "font": {
           "color": "#2a3f5f"
          },
          "geo": {
           "bgcolor": "white",
           "lakecolor": "white",
           "landcolor": "white",
           "showlakes": true,
           "showland": true,
           "subunitcolor": "#C8D4E3"
          },
          "hoverlabel": {
           "align": "left"
          },
          "hovermode": "closest",
          "mapbox": {
           "style": "light"
          },
          "paper_bgcolor": "white",
          "plot_bgcolor": "white",
          "polar": {
           "angularaxis": {
            "gridcolor": "#EBF0F8",
            "linecolor": "#EBF0F8",
            "ticks": ""
           },
           "bgcolor": "white",
           "radialaxis": {
            "gridcolor": "#EBF0F8",
            "linecolor": "#EBF0F8",
            "ticks": ""
           }
          },
          "scene": {
           "xaxis": {
            "backgroundcolor": "white",
            "gridcolor": "#DFE8F3",
            "gridwidth": 2,
            "linecolor": "#EBF0F8",
            "showbackground": true,
            "ticks": "",
            "zerolinecolor": "#EBF0F8"
           },
           "yaxis": {
            "backgroundcolor": "white",
            "gridcolor": "#DFE8F3",
            "gridwidth": 2,
            "linecolor": "#EBF0F8",
            "showbackground": true,
            "ticks": "",
            "zerolinecolor": "#EBF0F8"
           },
           "zaxis": {
            "backgroundcolor": "white",
            "gridcolor": "#DFE8F3",
            "gridwidth": 2,
            "linecolor": "#EBF0F8",
            "showbackground": true,
            "ticks": "",
            "zerolinecolor": "#EBF0F8"
           }
          },
          "shapedefaults": {
           "line": {
            "color": "#2a3f5f"
           }
          },
          "ternary": {
           "aaxis": {
            "gridcolor": "#DFE8F3",
            "linecolor": "#A2B1C6",
            "ticks": ""
           },
           "baxis": {
            "gridcolor": "#DFE8F3",
            "linecolor": "#A2B1C6",
            "ticks": ""
           },
           "bgcolor": "white",
           "caxis": {
            "gridcolor": "#DFE8F3",
            "linecolor": "#A2B1C6",
            "ticks": ""
           }
          },
          "title": {
           "x": 0.05
          },
          "xaxis": {
           "automargin": true,
           "gridcolor": "#EBF0F8",
           "linecolor": "#EBF0F8",
           "ticks": "",
           "title": {
            "standoff": 15
           },
           "zerolinecolor": "#EBF0F8",
           "zerolinewidth": 2
          },
          "yaxis": {
           "automargin": true,
           "gridcolor": "#EBF0F8",
           "linecolor": "#EBF0F8",
           "ticks": "",
           "title": {
            "standoff": 15
           },
           "zerolinecolor": "#EBF0F8",
           "zerolinewidth": 2
          }
         }
        },
        "title": {
         "font": {
          "family": "Castellar",
          "size": 28
         },
         "text": "<b> Caracteristicas de las variables <b>",
         "x": 0.5
        },
        "width": 800
       }
      },
      "text/html": [
       "<div>                            <div id=\"86554b5c-570c-4c69-b734-98655d44a6ac\" class=\"plotly-graph-div\" style=\"height:800px; width:800px;\"></div>            <script type=\"text/javascript\">                require([\"plotly\"], function(Plotly) {                    window.PLOTLYENV=window.PLOTLYENV || {};                                    if (document.getElementById(\"86554b5c-570c-4c69-b734-98655d44a6ac\")) {                    Plotly.newPlot(                        \"86554b5c-570c-4c69-b734-98655d44a6ac\",                        [{\"hole\":0.6,\"labels\":[\"EN\",\"EX\",\"MI\",\"SE\"],\"title\":{\"font\":{\"size\":20},\"text\":\"Nivel de Experiencia\"},\"values\":[88,24,210,278],\"type\":\"pie\",\"domain\":{\"x\":[0.0,0.45],\"y\":[0.575,1.0]},\"textfont\":{\"size\":12},\"marker\":{\"line\":{\"color\":\"#EEEEEE\",\"width\":2},\"colors\":[\"#315cd9\",\"#2ab221\",\"#14A073\",\"#bcf53d\",\"#B3A89F\"]},\"hoverinfo\":\"label+value\",\"textinfo\":\"label+percent\"},{\"hole\":0.6,\"labels\":[\"L\",\"M\",\"S\"],\"title\":{\"font\":{\"size\":20},\"text\":\"Tama\\u00f1o de compa\\u00f1\\u00eda\"},\"values\":[193,325,82],\"type\":\"pie\",\"domain\":{\"x\":[0.55,1.0],\"y\":[0.575,1.0]},\"textfont\":{\"size\":12},\"marker\":{\"line\":{\"color\":\"#EEEEEE\",\"width\":2},\"colors\":[\"#315cd9\",\"#2ab221\",\"#14A073\",\"#bcf53d\",\"#B3A89F\"]},\"hoverinfo\":\"label+value\",\"textinfo\":\"label+percent\"},{\"hole\":0.6,\"labels\":[2020,2021,2022],\"title\":{\"font\":{\"size\":20},\"text\":\"A\\u00f1o de trabajo\"},\"values\":[70,213,317],\"type\":\"pie\",\"domain\":{\"x\":[0.0,0.45],\"y\":[0.0,0.425]},\"textfont\":{\"size\":12},\"marker\":{\"line\":{\"color\":\"#EEEEEE\",\"width\":2},\"colors\":[\"#315cd9\",\"#2ab221\",\"#14A073\",\"#bcf53d\",\"#B3A89F\"]},\"hoverinfo\":\"label+value\",\"textinfo\":\"label+percent\"},{\"hole\":0.6,\"labels\":[\"CT\",\"FL\",\"FT\",\"PT\"],\"title\":{\"font\":{\"size\":20},\"text\":\"Tipo de contracto\"},\"values\":[4,4,582,10],\"type\":\"pie\",\"domain\":{\"x\":[0.55,1.0],\"y\":[0.0,0.425]},\"textfont\":{\"size\":12},\"marker\":{\"line\":{\"color\":\"#EEEEEE\",\"width\":2},\"colors\":[\"#315cd9\",\"#2ab221\",\"#14A073\",\"#bcf53d\",\"#B3A89F\"]},\"hoverinfo\":\"label+value\",\"textinfo\":\"label+percent\"}],                        {\"template\":{\"data\":{\"barpolar\":[{\"marker\":{\"line\":{\"color\":\"white\",\"width\":0.5},\"pattern\":{\"fillmode\":\"overlay\",\"size\":10,\"solidity\":0.2}},\"type\":\"barpolar\"}],\"bar\":[{\"error_x\":{\"color\":\"#2a3f5f\"},\"error_y\":{\"color\":\"#2a3f5f\"},\"marker\":{\"line\":{\"color\":\"white\",\"width\":0.5},\"pattern\":{\"fillmode\":\"overlay\",\"size\":10,\"solidity\":0.2}},\"type\":\"bar\"}],\"carpet\":[{\"aaxis\":{\"endlinecolor\":\"#2a3f5f\",\"gridcolor\":\"#C8D4E3\",\"linecolor\":\"#C8D4E3\",\"minorgridcolor\":\"#C8D4E3\",\"startlinecolor\":\"#2a3f5f\"},\"baxis\":{\"endlinecolor\":\"#2a3f5f\",\"gridcolor\":\"#C8D4E3\",\"linecolor\":\"#C8D4E3\",\"minorgridcolor\":\"#C8D4E3\",\"startlinecolor\":\"#2a3f5f\"},\"type\":\"carpet\"}],\"choropleth\":[{\"colorbar\":{\"outlinewidth\":0,\"ticks\":\"\"},\"type\":\"choropleth\"}],\"contourcarpet\":[{\"colorbar\":{\"outlinewidth\":0,\"ticks\":\"\"},\"type\":\"contourcarpet\"}],\"contour\":[{\"colorbar\":{\"outlinewidth\":0,\"ticks\":\"\"},\"colorscale\":[[0.0,\"#0d0887\"],[0.1111111111111111,\"#46039f\"],[0.2222222222222222,\"#7201a8\"],[0.3333333333333333,\"#9c179e\"],[0.4444444444444444,\"#bd3786\"],[0.5555555555555556,\"#d8576b\"],[0.6666666666666666,\"#ed7953\"],[0.7777777777777778,\"#fb9f3a\"],[0.8888888888888888,\"#fdca26\"],[1.0,\"#f0f921\"]],\"type\":\"contour\"}],\"heatmapgl\":[{\"colorbar\":{\"outlinewidth\":0,\"ticks\":\"\"},\"colorscale\":[[0.0,\"#0d0887\"],[0.1111111111111111,\"#46039f\"],[0.2222222222222222,\"#7201a8\"],[0.3333333333333333,\"#9c179e\"],[0.4444444444444444,\"#bd3786\"],[0.5555555555555556,\"#d8576b\"],[0.6666666666666666,\"#ed7953\"],[0.7777777777777778,\"#fb9f3a\"],[0.8888888888888888,\"#fdca26\"],[1.0,\"#f0f921\"]],\"type\":\"heatmapgl\"}],\"heatmap\":[{\"colorbar\":{\"outlinewidth\":0,\"ticks\":\"\"},\"colorscale\":[[0.0,\"#0d0887\"],[0.1111111111111111,\"#46039f\"],[0.2222222222222222,\"#7201a8\"],[0.3333333333333333,\"#9c179e\"],[0.4444444444444444,\"#bd3786\"],[0.5555555555555556,\"#d8576b\"],[0.6666666666666666,\"#ed7953\"],[0.7777777777777778,\"#fb9f3a\"],[0.8888888888888888,\"#fdca26\"],[1.0,\"#f0f921\"]],\"type\":\"heatmap\"}],\"histogram2dcontour\":[{\"colorbar\":{\"outlinewidth\":0,\"ticks\":\"\"},\"colorscale\":[[0.0,\"#0d0887\"],[0.1111111111111111,\"#46039f\"],[0.2222222222222222,\"#7201a8\"],[0.3333333333333333,\"#9c179e\"],[0.4444444444444444,\"#bd3786\"],[0.5555555555555556,\"#d8576b\"],[0.6666666666666666,\"#ed7953\"],[0.7777777777777778,\"#fb9f3a\"],[0.8888888888888888,\"#fdca26\"],[1.0,\"#f0f921\"]],\"type\":\"histogram2dcontour\"}],\"histogram2d\":[{\"colorbar\":{\"outlinewidth\":0,\"ticks\":\"\"},\"colorscale\":[[0.0,\"#0d0887\"],[0.1111111111111111,\"#46039f\"],[0.2222222222222222,\"#7201a8\"],[0.3333333333333333,\"#9c179e\"],[0.4444444444444444,\"#bd3786\"],[0.5555555555555556,\"#d8576b\"],[0.6666666666666666,\"#ed7953\"],[0.7777777777777778,\"#fb9f3a\"],[0.8888888888888888,\"#fdca26\"],[1.0,\"#f0f921\"]],\"type\":\"histogram2d\"}],\"histogram\":[{\"marker\":{\"pattern\":{\"fillmode\":\"overlay\",\"size\":10,\"solidity\":0.2}},\"type\":\"histogram\"}],\"mesh3d\":[{\"colorbar\":{\"outlinewidth\":0,\"ticks\":\"\"},\"type\":\"mesh3d\"}],\"parcoords\":[{\"line\":{\"colorbar\":{\"outlinewidth\":0,\"ticks\":\"\"}},\"type\":\"parcoords\"}],\"pie\":[{\"automargin\":true,\"type\":\"pie\"}],\"scatter3d\":[{\"line\":{\"colorbar\":{\"outlinewidth\":0,\"ticks\":\"\"}},\"marker\":{\"colorbar\":{\"outlinewidth\":0,\"ticks\":\"\"}},\"type\":\"scatter3d\"}],\"scattercarpet\":[{\"marker\":{\"colorbar\":{\"outlinewidth\":0,\"ticks\":\"\"}},\"type\":\"scattercarpet\"}],\"scattergeo\":[{\"marker\":{\"colorbar\":{\"outlinewidth\":0,\"ticks\":\"\"}},\"type\":\"scattergeo\"}],\"scattergl\":[{\"marker\":{\"colorbar\":{\"outlinewidth\":0,\"ticks\":\"\"}},\"type\":\"scattergl\"}],\"scattermapbox\":[{\"marker\":{\"colorbar\":{\"outlinewidth\":0,\"ticks\":\"\"}},\"type\":\"scattermapbox\"}],\"scatterpolargl\":[{\"marker\":{\"colorbar\":{\"outlinewidth\":0,\"ticks\":\"\"}},\"type\":\"scatterpolargl\"}],\"scatterpolar\":[{\"marker\":{\"colorbar\":{\"outlinewidth\":0,\"ticks\":\"\"}},\"type\":\"scatterpolar\"}],\"scatter\":[{\"fillpattern\":{\"fillmode\":\"overlay\",\"size\":10,\"solidity\":0.2},\"type\":\"scatter\"}],\"scatterternary\":[{\"marker\":{\"colorbar\":{\"outlinewidth\":0,\"ticks\":\"\"}},\"type\":\"scatterternary\"}],\"surface\":[{\"colorbar\":{\"outlinewidth\":0,\"ticks\":\"\"},\"colorscale\":[[0.0,\"#0d0887\"],[0.1111111111111111,\"#46039f\"],[0.2222222222222222,\"#7201a8\"],[0.3333333333333333,\"#9c179e\"],[0.4444444444444444,\"#bd3786\"],[0.5555555555555556,\"#d8576b\"],[0.6666666666666666,\"#ed7953\"],[0.7777777777777778,\"#fb9f3a\"],[0.8888888888888888,\"#fdca26\"],[1.0,\"#f0f921\"]],\"type\":\"surface\"}],\"table\":[{\"cells\":{\"fill\":{\"color\":\"#EBF0F8\"},\"line\":{\"color\":\"white\"}},\"header\":{\"fill\":{\"color\":\"#C8D4E3\"},\"line\":{\"color\":\"white\"}},\"type\":\"table\"}]},\"layout\":{\"annotationdefaults\":{\"arrowcolor\":\"#2a3f5f\",\"arrowhead\":0,\"arrowwidth\":1},\"autotypenumbers\":\"strict\",\"coloraxis\":{\"colorbar\":{\"outlinewidth\":0,\"ticks\":\"\"}},\"colorscale\":{\"diverging\":[[0,\"#8e0152\"],[0.1,\"#c51b7d\"],[0.2,\"#de77ae\"],[0.3,\"#f1b6da\"],[0.4,\"#fde0ef\"],[0.5,\"#f7f7f7\"],[0.6,\"#e6f5d0\"],[0.7,\"#b8e186\"],[0.8,\"#7fbc41\"],[0.9,\"#4d9221\"],[1,\"#276419\"]],\"sequential\":[[0.0,\"#0d0887\"],[0.1111111111111111,\"#46039f\"],[0.2222222222222222,\"#7201a8\"],[0.3333333333333333,\"#9c179e\"],[0.4444444444444444,\"#bd3786\"],[0.5555555555555556,\"#d8576b\"],[0.6666666666666666,\"#ed7953\"],[0.7777777777777778,\"#fb9f3a\"],[0.8888888888888888,\"#fdca26\"],[1.0,\"#f0f921\"]],\"sequentialminus\":[[0.0,\"#0d0887\"],[0.1111111111111111,\"#46039f\"],[0.2222222222222222,\"#7201a8\"],[0.3333333333333333,\"#9c179e\"],[0.4444444444444444,\"#bd3786\"],[0.5555555555555556,\"#d8576b\"],[0.6666666666666666,\"#ed7953\"],[0.7777777777777778,\"#fb9f3a\"],[0.8888888888888888,\"#fdca26\"],[1.0,\"#f0f921\"]]},\"colorway\":[\"#636efa\",\"#EF553B\",\"#00cc96\",\"#ab63fa\",\"#FFA15A\",\"#19d3f3\",\"#FF6692\",\"#B6E880\",\"#FF97FF\",\"#FECB52\"],\"font\":{\"color\":\"#2a3f5f\"},\"geo\":{\"bgcolor\":\"white\",\"lakecolor\":\"white\",\"landcolor\":\"white\",\"showlakes\":true,\"showland\":true,\"subunitcolor\":\"#C8D4E3\"},\"hoverlabel\":{\"align\":\"left\"},\"hovermode\":\"closest\",\"mapbox\":{\"style\":\"light\"},\"paper_bgcolor\":\"white\",\"plot_bgcolor\":\"white\",\"polar\":{\"angularaxis\":{\"gridcolor\":\"#EBF0F8\",\"linecolor\":\"#EBF0F8\",\"ticks\":\"\"},\"bgcolor\":\"white\",\"radialaxis\":{\"gridcolor\":\"#EBF0F8\",\"linecolor\":\"#EBF0F8\",\"ticks\":\"\"}},\"scene\":{\"xaxis\":{\"backgroundcolor\":\"white\",\"gridcolor\":\"#DFE8F3\",\"gridwidth\":2,\"linecolor\":\"#EBF0F8\",\"showbackground\":true,\"ticks\":\"\",\"zerolinecolor\":\"#EBF0F8\"},\"yaxis\":{\"backgroundcolor\":\"white\",\"gridcolor\":\"#DFE8F3\",\"gridwidth\":2,\"linecolor\":\"#EBF0F8\",\"showbackground\":true,\"ticks\":\"\",\"zerolinecolor\":\"#EBF0F8\"},\"zaxis\":{\"backgroundcolor\":\"white\",\"gridcolor\":\"#DFE8F3\",\"gridwidth\":2,\"linecolor\":\"#EBF0F8\",\"showbackground\":true,\"ticks\":\"\",\"zerolinecolor\":\"#EBF0F8\"}},\"shapedefaults\":{\"line\":{\"color\":\"#2a3f5f\"}},\"ternary\":{\"aaxis\":{\"gridcolor\":\"#DFE8F3\",\"linecolor\":\"#A2B1C6\",\"ticks\":\"\"},\"baxis\":{\"gridcolor\":\"#DFE8F3\",\"linecolor\":\"#A2B1C6\",\"ticks\":\"\"},\"bgcolor\":\"white\",\"caxis\":{\"gridcolor\":\"#DFE8F3\",\"linecolor\":\"#A2B1C6\",\"ticks\":\"\"}},\"title\":{\"x\":0.05},\"xaxis\":{\"automargin\":true,\"gridcolor\":\"#EBF0F8\",\"linecolor\":\"#EBF0F8\",\"ticks\":\"\",\"title\":{\"standoff\":15},\"zerolinecolor\":\"#EBF0F8\",\"zerolinewidth\":2},\"yaxis\":{\"automargin\":true,\"gridcolor\":\"#EBF0F8\",\"linecolor\":\"#EBF0F8\",\"ticks\":\"\",\"title\":{\"standoff\":15},\"zerolinecolor\":\"#EBF0F8\",\"zerolinewidth\":2}}},\"title\":{\"text\":\"<b> Caracteristicas de las variables <b>\",\"font\":{\"size\":28,\"family\":\"Castellar\"},\"x\":0.5},\"showlegend\":false,\"height\":800,\"width\":800},                        {\"responsive\": true}                    ).then(function(){\n",
       "                            \n",
       "var gd = document.getElementById('86554b5c-570c-4c69-b734-98655d44a6ac');\n",
       "var x = new MutationObserver(function (mutations, observer) {{\n",
       "        var display = window.getComputedStyle(gd).display;\n",
       "        if (!display || display === 'none') {{\n",
       "            console.log([gd, 'removed!']);\n",
       "            Plotly.purge(gd);\n",
       "            observer.disconnect();\n",
       "        }}\n",
       "}});\n",
       "\n",
       "// Listen for the removal of the full notebook cells\n",
       "var notebookContainer = gd.closest('#notebook-container');\n",
       "if (notebookContainer) {{\n",
       "    x.observe(notebookContainer, {childList: true});\n",
       "}}\n",
       "\n",
       "// Listen for the clearing of the current output cell\n",
       "var outputEl = gd.closest('.output');\n",
       "if (outputEl) {{\n",
       "    x.observe(outputEl, {childList: true});\n",
       "}}\n",
       "\n",
       "                        })                };                });            </script>        </div>"
      ]
     },
     "metadata": {},
     "output_type": "display_data"
    }
   ],
   "source": [
    "# se toma como referencia 3 variables de la data2 que son el experience_level, company size, work_year\n",
    "#se aplica group a  la nueva variable para dividir en los datos en grupos de acuerdo a los paramentros \n",
    "experience_level_group = data2.groupby(['experience_level']).size().reset_index().rename(columns={0: 'count'})\n",
    "company_size_group = data2.groupby(['company_size']).size().reset_index().rename(columns={0: 'count'})\n",
    "work_year_group = data2.groupby(['work_year']).size().reset_index().rename(columns={0: 'count'})\n",
    "remote_ratio_group = data2.groupby(['remote_ratio']).size().reset_index().rename(columns={0: 'count'})\n",
    "Puesto_group = data2.groupby(['employment_type']).size().reset_index().rename(columns={0: 'count'})\n",
    "#normalmento matplotlib y seaborn nos permite visualizar los datos de una forma estatica\n",
    "#con plotly podremos trazar diagramas interactivos\n",
    "fig = make_subplots(rows=2, cols=2,specs=[[{'type':'domain'}, {'type':'domain'}],[{'type':'domain'}, {'type':'domain'}]])\n",
    "\n",
    "# se agreaga las variables agrupadas a la grafica con el metodo new traces(add_trace)\n",
    "# se agrega parametros para ver los cantidad de valores que tiene las variables (values)\n",
    "fig.add_trace(go.Pie(labels=experience_level_group['experience_level'],values=experience_level_group['count'],hole=.6,title='Nivel de Experiencia',titlefont={'color':None, 'size': 20},),row=1,col=1)\n",
    "\n",
    "fig.add_trace(go.Pie(labels=company_size_group['company_size'],values=company_size_group['count'],hole=.6,title='Tamaño de compañía', titlefont={'color':None, 'size': 20}, ),row=1,col=2)\n",
    "\n",
    "fig.add_trace(go.Pie(labels=work_year_group['work_year'],values=work_year_group['count'],hole=.6,title='Año de trabajo',titlefont={'color':None, 'size': 20},), row=2,col=1)\n",
    "fig.add_trace(go.Pie(labels=Puesto_group['employment_type'],values=Puesto_group['count'],hole=.6,title='Tipo de contracto',titlefont={'color':None, 'size': 20},), row=2,col=2)\n",
    "#la paleta de colores para la grafica\n",
    "theme_colors = ['#315cd9', '#2ab221', '#14A073', '#bcf53d', '#B3A89F']\n",
    "\n",
    "#para actualizar los trazos con un  selector se\n",
    "#aplica el metodo de update_traces siempre; siempre y cuando las propiedades \n",
    "#coincidan con el selector\n",
    "\n",
    "fig.update_traces(hoverinfo='label+value',textinfo='label+percent',textfont_size=12,marker=dict(colors=theme_colors,line=dict(color='#EEEEEE',width=2)))\n",
    "\n",
    "\n",
    "fig.layout.update(title=\"<b> Caracteristicas de las variables <b>\",titlefont={'color':None, 'size': 28, 'family': 'Castellar'},showlegend=False,height=800, width=800,template='plotly_white',title_x=0.5)\n",
    "\n",
    "fig.show()\n"
   ]
  },
  {
   "cell_type": "markdown",
   "metadata": {},
   "source": [
    "<p style=\"font-family: Arial; font-size:1.5em;color:grey;\">Tipo de contracto; </p>\n",
    "medio tiempo(PT), tiempo completo(FT), contracto temporal(CT),independiente(FL) "
   ]
  },
  {
   "cell_type": "markdown",
   "metadata": {},
   "source": [
    "<p style=\"font-family: Arial; font-size:1.5em;color:grey;\">Tamaño de compañía;  </p>\n",
    "Tamaño de compañía; menor de 50 personas pequeño(s), 50 y 200 personas mediana(M), mayor de 200(L)"
   ]
  },
  {
   "cell_type": "markdown",
   "metadata": {},
   "source": [
    "<p style=\"font-family: Arial; font-size:1.5em;color:grey;\">Nivel de experiencia:</p> Nivel de experiencia: nivel basico(EN),junior(MI),intermedio(SE),experto(EX)"
   ]
  },
  {
   "cell_type": "markdown",
   "metadata": {},
   "source": [
    "5)Extracion de informacion de la varible de ubicacion, para crear dos tablas para graficar, se seleciona los paises que mas empresas tienen, adicional se agrega una segunda base de datos que contiene informacion de la India"
   ]
  },
  {
   "cell_type": "code",
   "execution_count": 162,
   "metadata": {},
   "outputs": [
    {
     "data": {
      "text/plain": [
       "US    348\n",
       "GB     47\n",
       "CA     30\n",
       "DE     28\n",
       "IN     24\n",
       "Name: Ubicacion, dtype: int64"
      ]
     },
     "execution_count": 162,
     "metadata": {},
     "output_type": "execute_result"
    }
   ],
   "source": [
    "data2['Ubicacion'].value_counts().head()"
   ]
  },
  {
   "cell_type": "code",
   "execution_count": 170,
   "metadata": {},
   "outputs": [
    {
     "data": {
      "text/html": [
       "<div>\n",
       "<style scoped>\n",
       "    .dataframe tbody tr th:only-of-type {\n",
       "        vertical-align: middle;\n",
       "    }\n",
       "\n",
       "    .dataframe tbody tr th {\n",
       "        vertical-align: top;\n",
       "    }\n",
       "\n",
       "    .dataframe thead th {\n",
       "        text-align: right;\n",
       "    }\n",
       "</style>\n",
       "<table border=\"1\" class=\"dataframe\">\n",
       "  <thead>\n",
       "    <tr style=\"text-align: right;\">\n",
       "      <th></th>\n",
       "      <th>work_year</th>\n",
       "      <th>experience_level</th>\n",
       "      <th>employment_type</th>\n",
       "      <th>Puesto Laboral</th>\n",
       "      <th>salary</th>\n",
       "      <th>salary_currency</th>\n",
       "      <th>Salario en USD</th>\n",
       "      <th>employee_residence</th>\n",
       "      <th>remote_ratio</th>\n",
       "      <th>Ubicacion</th>\n",
       "      <th>company_size</th>\n",
       "    </tr>\n",
       "  </thead>\n",
       "  <tbody>\n",
       "    <tr>\n",
       "      <th>4</th>\n",
       "      <td>2020</td>\n",
       "      <td>SE</td>\n",
       "      <td>FT</td>\n",
       "      <td>Machine Learning Engineer</td>\n",
       "      <td>150000</td>\n",
       "      <td>USD</td>\n",
       "      <td>150000</td>\n",
       "      <td>US</td>\n",
       "      <td>On Hybrid</td>\n",
       "      <td>US</td>\n",
       "      <td>L</td>\n",
       "    </tr>\n",
       "  </tbody>\n",
       "</table>\n",
       "</div>"
      ],
      "text/plain": [
       "   work_year experience_level employment_type             Puesto Laboral  \\\n",
       "4       2020               SE              FT  Machine Learning Engineer   \n",
       "\n",
       "   salary salary_currency  Salario en USD employee_residence remote_ratio  \\\n",
       "4  150000             USD          150000                 US    On Hybrid   \n",
       "\n",
       "  Ubicacion company_size  \n",
       "4        US            L  "
      ]
     },
     "execution_count": 170,
     "metadata": {},
     "output_type": "execute_result"
    }
   ],
   "source": [
    "Datos_USA = data2[data2['Ubicacion'] == 'US']\n",
    "Datos_USA.head(1)"
   ]
  },
  {
   "cell_type": "code",
   "execution_count": 171,
   "metadata": {},
   "outputs": [],
   "source": [
    "Datos_GBR= data2[data2['Ubicacion'] == 'GB']\n"
   ]
  },
  {
   "cell_type": "code",
   "execution_count": 172,
   "metadata": {
    "scrolled": true
   },
   "outputs": [
    {
     "data": {
      "text/html": [
       "<div>\n",
       "<style scoped>\n",
       "    .dataframe tbody tr th:only-of-type {\n",
       "        vertical-align: middle;\n",
       "    }\n",
       "\n",
       "    .dataframe tbody tr th {\n",
       "        vertical-align: top;\n",
       "    }\n",
       "\n",
       "    .dataframe thead th {\n",
       "        text-align: right;\n",
       "    }\n",
       "</style>\n",
       "<table border=\"1\" class=\"dataframe\">\n",
       "  <thead>\n",
       "    <tr style=\"text-align: right;\">\n",
       "      <th></th>\n",
       "      <th>company_name</th>\n",
       "      <th>job_title</th>\n",
       "      <th>min_experience</th>\n",
       "      <th>avg_salary</th>\n",
       "      <th>min_salary</th>\n",
       "      <th>max_salary</th>\n",
       "      <th>num_of_salaries</th>\n",
       "    </tr>\n",
       "  </thead>\n",
       "  <tbody>\n",
       "    <tr>\n",
       "      <th>0</th>\n",
       "      <td>TCS</td>\n",
       "      <td>Data Scientist</td>\n",
       "      <td>2</td>\n",
       "      <td>7.8L</td>\n",
       "      <td>4.5L</td>\n",
       "      <td>16.0L</td>\n",
       "      <td>841</td>\n",
       "    </tr>\n",
       "    <tr>\n",
       "      <th>1</th>\n",
       "      <td>Accenture</td>\n",
       "      <td>Data Scientist</td>\n",
       "      <td>2</td>\n",
       "      <td>12.8L</td>\n",
       "      <td>5.8L</td>\n",
       "      <td>23.0L</td>\n",
       "      <td>501</td>\n",
       "    </tr>\n",
       "    <tr>\n",
       "      <th>2</th>\n",
       "      <td>IBM</td>\n",
       "      <td>Data Scientist</td>\n",
       "      <td>2</td>\n",
       "      <td>13.4L</td>\n",
       "      <td>5.3L</td>\n",
       "      <td>25.0L</td>\n",
       "      <td>394</td>\n",
       "    </tr>\n",
       "    <tr>\n",
       "      <th>3</th>\n",
       "      <td>Cognizant</td>\n",
       "      <td>Data Scientist</td>\n",
       "      <td>2</td>\n",
       "      <td>9.8L</td>\n",
       "      <td>5.0L</td>\n",
       "      <td>18.0L</td>\n",
       "      <td>318</td>\n",
       "    </tr>\n",
       "    <tr>\n",
       "      <th>4</th>\n",
       "      <td>Capgemini</td>\n",
       "      <td>Data Scientist</td>\n",
       "      <td>2</td>\n",
       "      <td>8.6L</td>\n",
       "      <td>4.8L</td>\n",
       "      <td>14.6L</td>\n",
       "      <td>300</td>\n",
       "    </tr>\n",
       "  </tbody>\n",
       "</table>\n",
       "</div>"
      ],
      "text/plain": [
       "  company_name       job_title  min_experience avg_salary min_salary  \\\n",
       "0          TCS  Data Scientist               2       7.8L       4.5L   \n",
       "1    Accenture  Data Scientist               2      12.8L       5.8L   \n",
       "2          IBM  Data Scientist               2      13.4L       5.3L   \n",
       "3    Cognizant  Data Scientist               2       9.8L       5.0L   \n",
       "4    Capgemini  Data Scientist               2       8.6L       4.8L   \n",
       "\n",
       "  max_salary  num_of_salaries  \n",
       "0      16.0L              841  \n",
       "1      23.0L              501  \n",
       "2      25.0L              394  \n",
       "3      18.0L              318  \n",
       "4      14.6L              300  "
      ]
     },
     "execution_count": 172,
     "metadata": {},
     "output_type": "execute_result"
    }
   ],
   "source": [
    "Datos_IN= pd.read_csv('./Data_Science_Jobs_in_India.csv')\n",
    "Datos_IN= Datos_IN.drop(['Unnamed: 0'], axis=1)\n",
    "Datos_IN.head()"
   ]
  },
  {
   "cell_type": "markdown",
   "metadata": {},
   "source": [
    "6) transformar la variable de salarios promedios(avg_salary)"
   ]
  },
  {
   "cell_type": "code",
   "execution_count": 173,
   "metadata": {},
   "outputs": [],
   "source": [
    "#se elemina el las L(ruppes-moneda oficial de india) y el punto\n",
    "Datos_IN['avg_salary'] = Datos_IN['avg_salary'].str.replace(\"L\", \"\", regex=True)\n",
    "Datos_IN['avg_salary'] = Datos_IN['avg_salary'].str.replace(\".\", \"\", regex=True)\n",
    "#tipo de variable a float type\n",
    "Datos_IN['avg_salary'] = Datos_IN['avg_salary'].astype('float')\n",
    "#se convierte a USD \n",
    "Datos_IN['avg_salary'] = Datos_IN['avg_salary'] * 120\n",
    "Datos_IN['avg_salary'] = Datos_IN['avg_salary'].astype('int')\n",
    "Datos_IN = Datos_IN[['company_name', 'job_title', 'min_experience', 'avg_salary']]"
   ]
  },
  {
   "cell_type": "code",
   "execution_count": 174,
   "metadata": {},
   "outputs": [
    {
     "data": {
      "text/html": [
       "<div>\n",
       "<style scoped>\n",
       "    .dataframe tbody tr th:only-of-type {\n",
       "        vertical-align: middle;\n",
       "    }\n",
       "\n",
       "    .dataframe tbody tr th {\n",
       "        vertical-align: top;\n",
       "    }\n",
       "\n",
       "    .dataframe thead th {\n",
       "        text-align: right;\n",
       "    }\n",
       "</style>\n",
       "<table border=\"1\" class=\"dataframe\">\n",
       "  <thead>\n",
       "    <tr style=\"text-align: right;\">\n",
       "      <th></th>\n",
       "      <th>company_name</th>\n",
       "      <th>job_title</th>\n",
       "      <th>min_experience</th>\n",
       "      <th>avg_salary</th>\n",
       "    </tr>\n",
       "  </thead>\n",
       "  <tbody>\n",
       "    <tr>\n",
       "      <th>0</th>\n",
       "      <td>TCS</td>\n",
       "      <td>Data Scientist</td>\n",
       "      <td>2</td>\n",
       "      <td>9360</td>\n",
       "    </tr>\n",
       "    <tr>\n",
       "      <th>1</th>\n",
       "      <td>Accenture</td>\n",
       "      <td>Data Scientist</td>\n",
       "      <td>2</td>\n",
       "      <td>15360</td>\n",
       "    </tr>\n",
       "    <tr>\n",
       "      <th>2</th>\n",
       "      <td>IBM</td>\n",
       "      <td>Data Scientist</td>\n",
       "      <td>2</td>\n",
       "      <td>16080</td>\n",
       "    </tr>\n",
       "  </tbody>\n",
       "</table>\n",
       "</div>"
      ],
      "text/plain": [
       "  company_name       job_title  min_experience  avg_salary\n",
       "0          TCS  Data Scientist               2        9360\n",
       "1    Accenture  Data Scientist               2       15360\n",
       "2          IBM  Data Scientist               2       16080"
      ]
     },
     "execution_count": 174,
     "metadata": {},
     "output_type": "execute_result"
    }
   ],
   "source": [
    "Datos_IN.head(3)"
   ]
  },
  {
   "cell_type": "code",
   "execution_count": 179,
   "metadata": {},
   "outputs": [
    {
     "data": {
      "application/vnd.plotly.v1+json": {
       "config": {
        "plotlyServerURL": "https://plot.ly"
       },
       "data": [
        {
         "name": "GLOBAL",
         "type": "histogram",
         "x": [
          79833,
          260000,
          109024,
          20000,
          150000,
          72000,
          190000,
          35735,
          135000,
          125000,
          51321,
          40481,
          39916,
          87000,
          85000,
          8000,
          41689,
          114047,
          5707,
          56000,
          43331,
          6072,
          47899,
          98000,
          115000,
          325000,
          42000,
          33511,
          100000,
          117104,
          59303,
          70000,
          68428,
          46759,
          74130,
          103000,
          250000,
          10000,
          138000,
          45760,
          79833,
          50180,
          106000,
          112872,
          15966,
          76958,
          188000,
          105000,
          70139,
          6072,
          91000,
          45896,
          54742,
          60000,
          148261,
          38776,
          118000,
          120000,
          138350,
          110000,
          130800,
          21669,
          45618,
          62726,
          49268,
          190200,
          105000,
          91237,
          62726,
          42197,
          82528,
          150000,
          235000,
          53192,
          100000,
          5409,
          270000,
          80000,
          79197,
          140000,
          54238,
          47282,
          153667,
          28476,
          59102,
          110000,
          170000,
          80000,
          88654,
          76833,
          19609,
          276000,
          29751,
          89294,
          12000,
          70000,
          95746,
          75000,
          150000,
          36259,
          62000,
          73000,
          51519,
          187442,
          115000,
          150000,
          30428,
          94564,
          113476,
          103160,
          12000,
          45391,
          225000,
          50000,
          40189,
          90000,
          200000,
          60000,
          200000,
          50000,
          110037,
          10354,
          151000,
          120000,
          9466,
          20000,
          40570,
          100000,
          49646,
          38400,
          24000,
          100000,
          90000,
          63711,
          77364,
          220000,
          80000,
          135000,
          240000,
          150000,
          82500,
          100000,
          82744,
          62649,
          90000,
          153000,
          160000,
          168000,
          150000,
          75774,
          13400,
          144000,
          127221,
          119059,
          120000,
          125000,
          230000,
          85000,
          28369,
          63831,
          130026,
          165000,
          80000,
          250000,
          55000,
          150000,
          170000,
          82528,
          60000,
          235000,
          60757,
          174000,
          2859,
          40038,
          81000,
          5679,
          22611,
          90734,
          26005,
          61896,
          12000,
          4000,
          50000,
          69741,
          76833,
          74000,
          152000,
          21844,
          18000,
          174000,
          96113,
          147000,
          9272,
          24342,
          54094,
          90000,
          61467,
          195000,
          37825,
          50000,
          160000,
          12901,
          200000,
          165000,
          20000,
          120000,
          24823,
          56738,
          66022,
          5882,
          24823,
          185000,
          28609,
          90734,
          88654,
          140000,
          46597,
          116914,
          33808,
          56256,
          225000,
          87738,
          88654,
          135000,
          71786,
          16228,
          256000,
          200000,
          200000,
          180000,
          110000,
          63810,
          46809,
          4000,
          21637,
          103691,
          80000,
          110000,
          165000,
          18053,
          72212,
          36643,
          12103,
          96282,
          170000,
          115000,
          90000,
          28399,
          93000,
          99703,
          200000,
          173762,
          185000,
          141846,
          130000,
          63831,
          16904,
          66265,
          25532,
          160000,
          93150,
          111775,
          28016,
          65013,
          72500,
          18907,
          76833,
          85000,
          77684,
          100000,
          58000,
          55000,
          20171,
          59102,
          112000,
          100000,
          69741,
          105000,
          69999,
          94665,
          102839,
          109000,
          51064,
          135000,
          155000,
          120600,
          130000,
          90000,
          170000,
          150000,
          102100,
          84900,
          136620,
          99360,
          117789,
          104702,
          146000,
          123000,
          52351,
          99000,
          116000,
          106260,
          126500,
          242000,
          200000,
          65438,
          39263,
          78526,
          52351,
          165220,
          45807,
          120160,
          90320,
          181940,
          132320,
          220110,
          160080,
          180000,
          120000,
          124190,
          130000,
          110000,
          170000,
          115500,
          112900,
          90320,
          112900,
          90320,
          165400,
          132320,
          167000,
          243900,
          136600,
          109280,
          128875,
          93700,
          224000,
          167875,
          175000,
          156600,
          108800,
          95550,
          113000,
          135000,
          161342,
          137141,
          167000,
          123000,
          78526,
          65438,
          150000,
          211500,
          192400,
          90700,
          130000,
          61300,
          130000,
          61300,
          160000,
          138600,
          136000,
          58000,
          135000,
          170000,
          123000,
          189650,
          164996,
          54957,
          54957,
          118187,
          132000,
          165400,
          208775,
          147800,
          136994,
          101570,
          128875,
          93700,
          79039,
          132320,
          37300,
          164000,
          155000,
          124333,
          98158,
          120000,
          112900,
          90320,
          145000,
          105400,
          87932,
          117789,
          215300,
          158200,
          209100,
          154600,
          115934,
          81666,
          175000,
          98158,
          58000,
          183600,
          52351,
          180000,
          71982,
          45807,
          65949,
          49461,
          78526,
          58894,
          260000,
          60000,
          63900,
          160000,
          112300,
          241000,
          159000,
          180000,
          80000,
          82900,
          100800,
          49461,
          140400,
          39263,
          43966,
          32974,
          87932,
          76940,
          104702,
          91614,
          65949,
          87932,
          189650,
          164996,
          43966,
          32974,
          98158,
          78526,
          215300,
          76940,
          209100,
          154600,
          180000,
          21983,
          80000,
          78791,
          196979,
          120000,
          125000,
          37236,
          105000,
          87932,
          18442,
          31615,
          58255,
          100000,
          54957,
          18442,
          162674,
          120000,
          144000,
          104890,
          100000,
          140000,
          135000,
          50000,
          220000,
          140000,
          183228,
          91614,
          185100,
          220000,
          200000,
          120000,
          120000,
          65000,
          324000,
          216000,
          210000,
          120000,
          230000,
          100000,
          100000,
          31875,
          200000,
          75000,
          35590,
          78791,
          100000,
          153000,
          58035,
          165000,
          93427,
          52396,
          62651,
          32974,
          40000,
          87425,
          115000,
          86703,
          75000,
          64849,
          120000,
          157000,
          150000,
          70912,
          65000,
          71444,
          20000,
          48000,
          152500,
          68147,
          122346,
          380000,
          69336,
          10000,
          20000,
          135000,
          177000,
          78000,
          135000,
          100000,
          90320,
          85000,
          75000,
          214000,
          192600,
          266400,
          213120,
          112900,
          155000,
          141300,
          102100,
          115934,
          81666,
          206699,
          99100,
          130000,
          115000,
          110500,
          130000,
          99050,
          160000,
          205300,
          140400,
          176000,
          144000,
          200100,
          160000,
          145000,
          70500,
          205300,
          140400,
          205300,
          184700,
          175100,
          140250,
          116150,
          54000,
          170000,
          65438,
          80000,
          140000,
          210000,
          140000,
          100000,
          69000,
          210000,
          140000,
          210000,
          150075,
          100000,
          25000,
          126500,
          106260,
          220110,
          160080,
          105000,
          110925,
          45807,
          140000,
          99000,
          60000,
          192564,
          144854,
          230000,
          150000,
          150260,
          109280,
          210000,
          170000,
          160000,
          130000,
          67000,
          52000,
          154000,
          126000,
          129000,
          150000,
          200000
         ],
         "xaxis": "x",
         "yaxis": "y"
        },
        {
         "name": "USA",
         "type": "histogram",
         "x": [
          150000,
          72000,
          190000,
          135000,
          87000,
          85000,
          56000,
          98000,
          325000,
          100000,
          70000,
          68428,
          103000,
          250000,
          138000,
          45760,
          106000,
          188000,
          105000,
          91000,
          60000,
          118000,
          120000,
          138350,
          110000,
          130800,
          190200,
          105000,
          150000,
          235000,
          100000,
          270000,
          80000,
          140000,
          110000,
          170000,
          80000,
          276000,
          12000,
          70000,
          95746,
          75000,
          150000,
          36259,
          62000,
          73000,
          115000,
          150000,
          12000,
          225000,
          90000,
          200000,
          200000,
          50000,
          151000,
          120000,
          38400,
          100000,
          90000,
          220000,
          80000,
          135000,
          240000,
          150000,
          82500,
          100000,
          90000,
          153000,
          160000,
          150000,
          144000,
          120000,
          125000,
          165000,
          80000,
          250000,
          55000,
          150000,
          170000,
          60000,
          235000,
          174000,
          81000,
          5679,
          26005,
          174000,
          147000,
          54094,
          90000,
          195000,
          50000,
          160000,
          200000,
          165000,
          20000,
          120000,
          185000,
          140000,
          135000,
          256000,
          200000,
          200000,
          180000,
          110000,
          80000,
          110000,
          165000,
          170000,
          115000,
          90000,
          93000,
          200000,
          185000,
          130000,
          160000,
          93150,
          111775,
          72500,
          100000,
          58000,
          112000,
          105000,
          109000,
          135000,
          155000,
          120600,
          130000,
          90000,
          170000,
          150000,
          102100,
          84900,
          136620,
          99360,
          146000,
          123000,
          99000,
          116000,
          106260,
          126500,
          242000,
          200000,
          165220,
          120160,
          90320,
          181940,
          132320,
          220110,
          160080,
          180000,
          120000,
          124190,
          130000,
          110000,
          170000,
          115500,
          112900,
          90320,
          112900,
          90320,
          165400,
          132320,
          167000,
          243900,
          136600,
          109280,
          128875,
          93700,
          224000,
          167875,
          175000,
          156600,
          108800,
          95550,
          113000,
          135000,
          161342,
          137141,
          167000,
          123000,
          150000,
          211500,
          160000,
          138600,
          136000,
          58000,
          135000,
          170000,
          123000,
          189650,
          164996,
          132000,
          165400,
          208775,
          147800,
          136994,
          101570,
          128875,
          93700,
          132320,
          164000,
          155000,
          120000,
          112900,
          90320,
          145000,
          105400,
          215300,
          158200,
          209100,
          154600,
          115934,
          81666,
          175000,
          58000,
          183600,
          180000,
          260000,
          63900,
          160000,
          112300,
          241000,
          159000,
          180000,
          80000,
          82900,
          100800,
          140400,
          189650,
          164996,
          215300,
          209100,
          154600,
          180000,
          80000,
          120000,
          125000,
          37236,
          105000,
          100000,
          120000,
          144000,
          104890,
          100000,
          140000,
          135000,
          50000,
          220000,
          140000,
          185100,
          220000,
          200000,
          120000,
          324000,
          216000,
          210000,
          120000,
          230000,
          100000,
          200000,
          100000,
          153000,
          165000,
          115000,
          75000,
          120000,
          157000,
          65000,
          48000,
          152500,
          380000,
          135000,
          177000,
          78000,
          135000,
          100000,
          90320,
          214000,
          192600,
          266400,
          213120,
          112900,
          155000,
          141300,
          102100,
          115934,
          81666,
          206699,
          99100,
          130000,
          115000,
          110500,
          130000,
          99050,
          160000,
          205300,
          140400,
          176000,
          144000,
          200100,
          160000,
          145000,
          70500,
          205300,
          140400,
          205300,
          184700,
          175100,
          140250,
          116150,
          54000,
          170000,
          80000,
          140000,
          210000,
          140000,
          100000,
          69000,
          210000,
          140000,
          210000,
          150075,
          100000,
          25000,
          126500,
          106260,
          220110,
          160080,
          105000,
          110925,
          140000,
          99000,
          60000,
          192564,
          144854,
          230000,
          150000,
          150260,
          109280,
          210000,
          170000,
          160000,
          130000,
          154000,
          126000,
          129000,
          150000,
          200000
         ],
         "xaxis": "x2",
         "yaxis": "y2"
        },
        {
         "name": "INDIA",
         "type": "histogram",
         "x": [
          9360,
          15360,
          16080,
          11760,
          10320,
          11160,
          11640,
          9120,
          19080,
          17040,
          17520,
          11760,
          33720,
          17760,
          8880,
          24720,
          13920,
          17760,
          19920,
          14880,
          12720,
          33960,
          12000,
          38520,
          14640,
          19920,
          17280,
          18720,
          17040,
          13680,
          25080,
          33240,
          24600,
          16800,
          21240,
          16080,
          18360,
          11160,
          12480,
          20280,
          19560,
          26280,
          12600,
          15120,
          20880,
          17160,
          10800,
          12840,
          27840,
          5400,
          16920,
          9240,
          16920,
          21840,
          10680,
          16920,
          5880,
          19200,
          23040,
          13680,
          11640,
          12600,
          18480,
          16920,
          11160,
          17160,
          12480,
          14520,
          8520,
          22800,
          14280,
          20400,
          15480,
          18120,
          10800,
          17880,
          17040,
          23040,
          16200,
          23520,
          14280,
          15000,
          9600,
          15600,
          20280,
          28320,
          9720,
          11280,
          11280,
          6120,
          17280,
          13800,
          19440,
          11760,
          9840,
          27360,
          14040,
          15120,
          11640,
          13080,
          11760,
          12960,
          12480,
          15360,
          14280,
          12240,
          10200,
          8280,
          5640,
          10920,
          9840,
          13080,
          9240,
          20760,
          17520,
          15600,
          11160,
          6240,
          9960,
          5640,
          21480,
          15600,
          10200,
          7920,
          8400,
          13800,
          12600,
          16800,
          24720,
          16800,
          19680,
          11520,
          24360,
          17520,
          25080,
          21840,
          9480,
          10320,
          11640,
          28080,
          16680,
          10440,
          35280,
          12480,
          17520,
          23280,
          22080,
          11160,
          11280,
          16920,
          14520,
          9000,
          19920,
          8040,
          16320,
          27840,
          11760,
          10440,
          20880,
          22200,
          18720,
          18000,
          9720,
          14640,
          36600,
          17160,
          14520,
          18240,
          11760,
          10200,
          40320,
          17640,
          9480,
          13440,
          33240,
          10320,
          14520,
          19080,
          16560,
          7680,
          17400,
          13320,
          12240,
          21720,
          20040,
          26280,
          19200,
          20280,
          8280,
          8400,
          7680,
          10320,
          10320,
          9360,
          7920,
          7800,
          10680,
          9960,
          9240,
          9120,
          9960,
          10920,
          16200,
          7440,
          13560,
          14520,
          8040,
          14880,
          12840,
          11640,
          23400,
          14760,
          8280,
          6600,
          14520,
          7320,
          12960,
          9480,
          13800,
          11640,
          10560,
          18240,
          8040,
          5760,
          10680,
          22440,
          12240,
          11760,
          12000,
          7560,
          11400,
          11160,
          8760,
          12000,
          10560,
          14400,
          9960,
          7200,
          7680,
          14400,
          8280,
          12720,
          9840,
          9000,
          18720,
          12840,
          13320,
          14760,
          14040,
          10200,
          10320,
          13560,
          17400,
          13200,
          12240,
          9960,
          2760,
          9120,
          8280,
          12000,
          9120,
          15000,
          9360,
          10920,
          8400,
          9240,
          7320,
          9840,
          13920,
          8040,
          9600,
          15840,
          7680,
          13440,
          15240,
          11520,
          6480,
          8160,
          11400,
          9960,
          11880,
          7320,
          9840,
          5760,
          5400,
          8160,
          12240,
          9960,
          15000,
          7680,
          20040,
          19320,
          16320,
          5400,
          5280,
          16800,
          8400,
          20400,
          17400,
          7080,
          7920,
          8280,
          8160,
          11160,
          16680,
          4440,
          8160,
          9960,
          6360,
          13320,
          9240,
          11880,
          6600,
          7320,
          2040,
          12600,
          9240,
          16920,
          9360,
          3480,
          13560,
          14760,
          9600,
          10560,
          9960,
          7200,
          11640,
          10680,
          4080,
          6480,
          15000,
          9240,
          8520,
          19680,
          9720,
          10200,
          17520,
          8160,
          7560,
          17520,
          13320,
          17040,
          8400,
          13920,
          9720,
          7920,
          10800,
          6360,
          17640,
          13920,
          8400,
          7080,
          11640,
          18480,
          15960,
          9840,
          3600,
          10680,
          4800,
          8400,
          10200,
          14400,
          8520,
          6000,
          7080,
          17880,
          9720,
          5160,
          6960,
          4800,
          6600,
          10800,
          11640,
          9360,
          10800,
          4560,
          5640,
          6600,
          6240,
          5520,
          5760,
          3000,
          5520,
          6240,
          6840,
          5400,
          3000,
          9120,
          6960,
          7080,
          5640,
          15360,
          4680,
          9120,
          3720,
          3000,
          2040,
          12840,
          2400,
          5160,
          11040,
          2880,
          6720,
          6960,
          2160,
          10560,
          4080,
          3240,
          9600,
          6480,
          3600,
          7560,
          7560,
          6000,
          8040,
          6240,
          11520,
          8760,
          5520,
          5520,
          5880,
          16680,
          12000,
          5040,
          5280,
          10560,
          7920,
          4800,
          14640,
          4320,
          6240,
          7920,
          2520,
          3120,
          5520,
          3960,
          6960,
          5280,
          6840,
          2280,
          13800,
          2640,
          6960,
          6960,
          18600,
          5280,
          1920,
          6720,
          6120,
          12360,
          3960,
          7800,
          3720,
          6000,
          3120,
          4920,
          6960,
          3960,
          4200,
          11400,
          7800,
          2640,
          9360,
          4200,
          7200,
          2880,
          11280,
          1680,
          3720,
          6000,
          13440,
          12360,
          4080,
          5040,
          2640,
          9840,
          4440,
          5040,
          5520,
          4680,
          7560,
          12480,
          4080,
          5640,
          11520,
          3240,
          4920,
          8880,
          5520,
          10800,
          10800,
          5160,
          2040,
          15960,
          7200,
          6000,
          3000,
          6000,
          4440,
          4560,
          6960,
          6600,
          11520,
          6480,
          9480,
          12720,
          15600,
          3600,
          2520,
          4560,
          7680,
          7200,
          11880,
          4560,
          8400,
          2160,
          5040,
          11880,
          4440,
          9240,
          3120,
          3000,
          3120,
          5760,
          6120,
          3480,
          3480,
          12240,
          7080,
          7440,
          8400,
          8400,
          4440,
          5760,
          6360,
          6720,
          13680,
          18360,
          9480,
          4440,
          8880,
          7200,
          2280,
          2400,
          6600,
          11280,
          14280,
          7560,
          4800,
          4920,
          4680,
          8760,
          2760,
          16680,
          2520,
          1800,
          10560,
          20640,
          3840,
          11760,
          5040,
          6600,
          2520,
          6960,
          12480,
          6840,
          10800,
          9000,
          2520,
          8880,
          6600,
          14160,
          7920,
          26400,
          12480,
          7800,
          7200,
          7920,
          14160,
          26520,
          13320,
          20640,
          10800,
          11400,
          16800,
          16320,
          15120,
          15360,
          20400,
          12360,
          8160,
          25920,
          11400,
          7680,
          12720,
          15360,
          15480,
          9240,
          14040,
          10080,
          9840,
          16200,
          6960,
          22440,
          20160,
          13080,
          4800,
          18120,
          12120,
          6600,
          12480,
          12000,
          14760,
          11760,
          10800,
          16320,
          28320,
          14520,
          19800,
          15360,
          10680,
          6600,
          30120,
          9840,
          6600,
          11640,
          11640,
          24480,
          11640,
          14640,
          9240,
          18240,
          12360,
          22200,
          23160,
          18480,
          12360,
          16680,
          5040,
          7920,
          15480,
          14760,
          12600,
          8760,
          6120,
          15720,
          8640,
          16440,
          28440,
          23880,
          11400,
          8160,
          18000,
          12960,
          13440,
          14040,
          15720,
          8040,
          12600,
          4920,
          19800,
          12600,
          11160,
          8760,
          9720,
          13320,
          54360,
          15360,
          11160,
          10680,
          18120,
          24600,
          12120,
          21000,
          11760,
          4440,
          15480,
          10080,
          33120,
          7080,
          27600,
          12840,
          8280,
          10200,
          7320,
          12120,
          13920,
          8160,
          21480,
          13800,
          9480,
          25560,
          15360,
          14760,
          15960,
          19560,
          13680,
          2520,
          11880,
          8880,
          22080,
          12720,
          12600,
          15720,
          14400,
          11640,
          8520,
          13680,
          34440,
          9600,
          11640,
          6360,
          15120,
          27720,
          15960,
          9840,
          14160,
          2760,
          31800,
          3960,
          13800,
          30000,
          4800,
          15720,
          13320,
          20760,
          14760,
          12840,
          20640,
          16200,
          15960,
          17520,
          21720,
          13680,
          12840,
          6000,
          20760,
          15600,
          12240,
          9000,
          18000,
          13440,
          12600,
          4920,
          18840,
          14280,
          17760,
          9600,
          18000,
          14880,
          10800,
          22680,
          20040,
          21480,
          30720,
          33600,
          19320,
          25440,
          51600,
          49800,
          27600,
          25680,
          31440,
          16080,
          22680,
          29280,
          28560,
          21720,
          17640,
          36240,
          67680,
          23160,
          20160,
          18480,
          17160,
          19680,
          11880,
          28440,
          19200,
          24000,
          36000,
          25320,
          18000,
          30000,
          37920,
          28920,
          11880,
          30240,
          19680,
          20520,
          48840,
          27360,
          22320,
          21120,
          22080,
          18360,
          27720,
          25440,
          23400,
          21600,
          21360,
          27720,
          29040,
          14040,
          33240,
          30600,
          33600,
          27000,
          18360,
          17280,
          21120,
          17760,
          25440,
          27840,
          14760,
          23640,
          24840,
          22080,
          14520,
          25320,
          36600,
          27240,
          21600,
          32520,
          21360,
          32880,
          26640,
          27840,
          24720,
          21960,
          37080,
          27000,
          32160,
          19800,
          26520,
          27600,
          25680,
          21600,
          15960,
          10440,
          17400,
          20280,
          22080,
          32760,
          27120,
          24720,
          24240,
          30120,
          24000,
          22680,
          22320,
          25800,
          32040,
          35760,
          21840,
          21840,
          12360,
          27720,
          28920,
          34680,
          33960,
          16680,
          18240,
          27960,
          18360,
          17400,
          27840,
          17160,
          37920,
          33960,
          30000,
          21720,
          37200,
          38520,
          21360,
          43920,
          19440,
          10200,
          14280,
          25560,
          22680,
          12000,
          23640,
          38040,
          26880,
          24960,
          22080,
          14400,
          32760,
          27360,
          29280,
          18720,
          22560,
          47640,
          41280,
          25440,
          33120,
          98400,
          17880,
          22800,
          28320,
          32880,
          38040,
          17880,
          30240,
          24240,
          29520,
          20160,
          14760,
          24240,
          47520,
          26040,
          21600,
          27240,
          35400,
          21840,
          19920,
          14160,
          36480,
          53280,
          29520,
          38640,
          34800,
          27360,
          21000,
          46080,
          15360,
          48000,
          16920,
          26640,
          30120,
          13800,
          24480,
          33600,
          38160,
          32280,
          9240,
          12360,
          11760,
          16680,
          14280,
          11880,
          10560,
          15360,
          18000,
          12840,
          14040,
          20520,
          13920,
          13320,
          14880,
          18000,
          13440,
          10560,
          15840,
          17760,
          15480,
          11040,
          13800,
          14400,
          16920,
          10800,
          17520,
          22200,
          14520,
          15240,
          13920,
          14760,
          15000,
          18960,
          13080,
          24480,
          12240,
          8400,
          18240,
          13320,
          14280,
          11640,
          24120,
          26280,
          8640,
          10440,
          17520,
          24600,
          33600,
          20040,
          9600,
          12960,
          19560,
          16560,
          15600,
          18000,
          18600,
          30720,
          21120,
          12360,
          12960,
          14400,
          15120,
          15120,
          16080,
          18840,
          15960,
          17040,
          21240,
          17400,
          11040,
          21600,
          4440,
          7440,
          9480,
          7800,
          5040,
          23400,
          19440,
          19080,
          11520,
          18840,
          9360,
          15000,
          15240,
          11880,
          10440,
          18960,
          16080,
          16080,
          17280,
          7200,
          18360,
          22080,
          14040,
          18840,
          12000,
          10200,
          10320,
          23160,
          22440,
          12600,
          5160,
          17520,
          21600,
          14760,
          15960,
          22440,
          21120,
          16680,
          14040,
          22080,
          11760,
          17880,
          15360,
          13080,
          24480,
          6120,
          8520,
          14760,
          8880,
          6600,
          16080,
          21000,
          15120,
          3600,
          16080,
          15000,
          20280,
          18720,
          14160,
          14040,
          26400,
          21840,
          22440,
          16440,
          16080,
          20640,
          12600,
          11760,
          7440,
          24840,
          16560,
          9480,
          20520,
          15840,
          33960,
          26760,
          3960,
          12000,
          17160,
          27000,
          17280,
          24120,
          9840,
          14520,
          7320,
          8040,
          19560,
          18240,
          16080,
          16320,
          20400,
          19080,
          12000,
          27480,
          18840,
          21600,
          13560,
          6840,
          16800,
          21000,
          20160,
          10320,
          17040,
          24240,
          18720,
          15600,
          12840,
          10800,
          11880,
          20280,
          11160,
          10920,
          11280,
          16320,
          17760,
          11880,
          5640,
          7200,
          3840,
          7440,
          5160,
          5520,
          11400,
          14160,
          8520,
          8520,
          7440,
          7800,
          7320,
          19440,
          18240,
          4200,
          11880,
          13560,
          20640,
          13320,
          4320,
          4560,
          12240,
          20880,
          6000,
          23640,
          14040,
          34800,
          8880,
          13320,
          19920,
          14640,
          16440,
          11880,
          5160,
          17520,
          4200,
          5880,
          12960,
          11520,
          17280,
          19320,
          12000,
          8520,
          5760,
          24840,
          10320,
          18000,
          9600,
          9600,
          9600,
          9120,
          16800,
          6480,
          9600,
          7560,
          11520,
          7320,
          7440,
          8640,
          8880,
          14280,
          9000,
          7200,
          2280,
          15360,
          10560,
          13320,
          18720,
          20880,
          17040,
          16560,
          3480,
          14400,
          7560,
          9120,
          9240,
          6120,
          6120,
          10680,
          15360,
          7320,
          23040,
          7080,
          4320,
          3600,
          5640,
          10560,
          8280,
          9000,
          8520,
          7920,
          20880,
          5520,
          17640,
          9240,
          6960,
          3720,
          8040,
          6000,
          2280,
          10680,
          17400,
          12480,
          14880,
          16440,
          11280,
          23640,
          5520,
          9840,
          6840,
          10440,
          8400,
          16680,
          21120,
          13680,
          8280,
          21240,
          17880,
          15240,
          7440,
          12360,
          4080,
          12240,
          14880,
          4320,
          18000,
          15360,
          8880,
          6960,
          3600,
          6840,
          11400,
          7080,
          11640,
          12600,
          8520,
          9120,
          22200,
          15600,
          18840,
          7680,
          10920,
          21480,
          17280,
          8400,
          12360,
          15120,
          20040,
          5040,
          9000,
          5400,
          14640,
          18360,
          18600,
          5880,
          8400,
          6360,
          5160,
          11280,
          6000,
          8160,
          14520,
          17160,
          5880,
          7440,
          12600,
          14280,
          16680,
          7200,
          17880,
          14640,
          30240,
          20400,
          10920,
          10200,
          10080,
          17880,
          7920,
          8040,
          13680,
          5160,
          6600,
          7320,
          12000,
          12480,
          13200,
          18000,
          20280,
          25320,
          19800,
          17160,
          15960,
          26280,
          18240,
          18360,
          18120,
          23280,
          26160,
          18960,
          42840,
          27960,
          19320,
          15720,
          12480,
          8040,
          19680,
          16200,
          32760,
          22200,
          6480,
          21600,
          22680,
          18600,
          26520,
          17160,
          19560,
          38400,
          17640,
          26520,
          21360,
          34560,
          27720,
          18000,
          23160,
          28200,
          28920,
          37200,
          23760,
          21000,
          17400,
          14160,
          20520,
          19560,
          29640,
          10440,
          26760,
          21000,
          32520,
          20280,
          15840,
          20520,
          16560,
          25800,
          38040,
          31080,
          12840,
          35040,
          16200,
          9720,
          35040,
          16800,
          15840,
          13320,
          21120,
          16320,
          29880,
          17280,
          31680,
          18120,
          22440,
          20880,
          22320,
          23880,
          35400,
          20400,
          31920,
          18840,
          19680,
          22200,
          24480,
          19320,
          34320,
          24120,
          16560,
          18240,
          31680,
          19800,
          22680,
          28440,
          23760,
          20160,
          20760,
          23400,
          31080,
          27720,
          9240,
          19680,
          19320,
          16800,
          12000,
          18480,
          14400,
          19560,
          9840,
          16200,
          30480,
          15960,
          20160,
          26640,
          25680,
          46800,
          41760,
          17400,
          28800,
          24240,
          21600,
          24000,
          29400,
          20280,
          10200,
          25440,
          19200,
          23520,
          22320,
          27840,
          27000,
          20760,
          81960,
          23400,
          18600,
          14040,
          24000,
          4080,
          20280,
          22440,
          26640,
          35880,
          18240,
          16440,
          14400,
          26280,
          16560,
          23280,
          19320,
          31440,
          10680,
          15000,
          79560,
          13440,
          20280,
          24000,
          18240,
          23160,
          33840,
          12360,
          23880,
          17040,
          22680,
          22440,
          30840,
          33120,
          18480,
          28560,
          24600,
          15240,
          17160,
          23400,
          26160,
          24000,
          12360,
          39720,
          24120,
          11880,
          17160,
          22080,
          21840,
          28920,
          24360,
          6960,
          13440,
          11880,
          7080,
          16320,
          7560,
          8040,
          9600,
          9960,
          8760,
          11160,
          16440,
          15000,
          23280,
          6720,
          6360,
          6120,
          14160,
          20880,
          8760,
          8040,
          11040,
          11160,
          5400,
          11280,
          20280,
          6120,
          13080,
          11520,
          6360,
          4440,
          4320,
          6960,
          24840,
          20160,
          7320,
          4320,
          5640,
          14520,
          23280,
          14280,
          8880,
          7560,
          5760,
          10920,
          7920,
          14040,
          23280,
          4440,
          6120,
          5280,
          29760,
          15120,
          19320,
          13080,
          27960,
          6120,
          12000,
          17280,
          29520,
          23880,
          13440,
          23520,
          23520,
          24240,
          25440,
          27120,
          20760,
          27720,
          32160,
          39120,
          28680,
          23760,
          42120,
          31320,
          28200,
          33120,
          40320,
          30600,
          23760,
          27360,
          27000,
          36480,
          21000,
          30960,
          34320,
          15000,
          24600,
          25080,
          25920,
          33120,
          42840,
          60720,
          22800,
          14400,
          39720,
          30600,
          29760,
          35760,
          43800,
          33960,
          35760,
          34800,
          26160,
          20400,
          32520,
          48000,
          20040,
          39960
         ],
         "xaxis": "x3",
         "yaxis": "y3"
        },
        {
         "name": "Reino Unido",
         "type": "histogram",
         "x": [
          109024,
          114047,
          112872,
          76958,
          82528,
          51519,
          113476,
          103160,
          110037,
          82528,
          61896,
          50000,
          76833,
          66022,
          116914,
          56256,
          72212,
          96282,
          117789,
          104702,
          52351,
          65438,
          39263,
          78526,
          52351,
          45807,
          78526,
          65438,
          37300,
          124333,
          98158,
          117789,
          98158,
          52351,
          71982,
          45807,
          78526,
          58894,
          39263,
          104702,
          91614,
          98158,
          78526,
          183228,
          91614,
          65438,
          45807
         ],
         "xaxis": "x4",
         "yaxis": "y4"
        }
       ],
       "layout": {
        "annotations": [
         {
          "font": {
           "size": 16
          },
          "showarrow": false,
          "text": "<i>Salarios a nivel global",
          "x": 0.5,
          "xanchor": "center",
          "xref": "paper",
          "y": 1,
          "yanchor": "bottom",
          "yref": "paper"
         },
         {
          "font": {
           "size": 16
          },
          "showarrow": false,
          "text": "<i>Salarios en USA",
          "x": 0.5,
          "xanchor": "center",
          "xref": "paper",
          "y": 0.71875,
          "yanchor": "bottom",
          "yref": "paper"
         },
         {
          "font": {
           "size": 16
          },
          "showarrow": false,
          "text": "<i>Salarios en IN",
          "x": 0.5,
          "xanchor": "center",
          "xref": "paper",
          "y": 0.4375,
          "yanchor": "bottom",
          "yref": "paper"
         },
         {
          "font": {
           "size": 16
          },
          "showarrow": false,
          "text": "<i>Salarios en GBR",
          "x": 0.5,
          "xanchor": "center",
          "xref": "paper",
          "y": 0.15625,
          "yanchor": "bottom",
          "yref": "paper"
         }
        ],
        "font": {
         "family": "Courier New",
         "size": 20
        },
        "height": 600,
        "showlegend": false,
        "template": {
         "data": {
          "bar": [
           {
            "error_x": {
             "color": "#2a3f5f"
            },
            "error_y": {
             "color": "#2a3f5f"
            },
            "marker": {
             "line": {
              "color": "#E5ECF6",
              "width": 0.5
             },
             "pattern": {
              "fillmode": "overlay",
              "size": 10,
              "solidity": 0.2
             }
            },
            "type": "bar"
           }
          ],
          "barpolar": [
           {
            "marker": {
             "line": {
              "color": "#E5ECF6",
              "width": 0.5
             },
             "pattern": {
              "fillmode": "overlay",
              "size": 10,
              "solidity": 0.2
             }
            },
            "type": "barpolar"
           }
          ],
          "carpet": [
           {
            "aaxis": {
             "endlinecolor": "#2a3f5f",
             "gridcolor": "white",
             "linecolor": "white",
             "minorgridcolor": "white",
             "startlinecolor": "#2a3f5f"
            },
            "baxis": {
             "endlinecolor": "#2a3f5f",
             "gridcolor": "white",
             "linecolor": "white",
             "minorgridcolor": "white",
             "startlinecolor": "#2a3f5f"
            },
            "type": "carpet"
           }
          ],
          "choropleth": [
           {
            "colorbar": {
             "outlinewidth": 0,
             "ticks": ""
            },
            "type": "choropleth"
           }
          ],
          "contour": [
           {
            "colorbar": {
             "outlinewidth": 0,
             "ticks": ""
            },
            "colorscale": [
             [
              0,
              "#0d0887"
             ],
             [
              0.1111111111111111,
              "#46039f"
             ],
             [
              0.2222222222222222,
              "#7201a8"
             ],
             [
              0.3333333333333333,
              "#9c179e"
             ],
             [
              0.4444444444444444,
              "#bd3786"
             ],
             [
              0.5555555555555556,
              "#d8576b"
             ],
             [
              0.6666666666666666,
              "#ed7953"
             ],
             [
              0.7777777777777778,
              "#fb9f3a"
             ],
             [
              0.8888888888888888,
              "#fdca26"
             ],
             [
              1,
              "#f0f921"
             ]
            ],
            "type": "contour"
           }
          ],
          "contourcarpet": [
           {
            "colorbar": {
             "outlinewidth": 0,
             "ticks": ""
            },
            "type": "contourcarpet"
           }
          ],
          "heatmap": [
           {
            "colorbar": {
             "outlinewidth": 0,
             "ticks": ""
            },
            "colorscale": [
             [
              0,
              "#0d0887"
             ],
             [
              0.1111111111111111,
              "#46039f"
             ],
             [
              0.2222222222222222,
              "#7201a8"
             ],
             [
              0.3333333333333333,
              "#9c179e"
             ],
             [
              0.4444444444444444,
              "#bd3786"
             ],
             [
              0.5555555555555556,
              "#d8576b"
             ],
             [
              0.6666666666666666,
              "#ed7953"
             ],
             [
              0.7777777777777778,
              "#fb9f3a"
             ],
             [
              0.8888888888888888,
              "#fdca26"
             ],
             [
              1,
              "#f0f921"
             ]
            ],
            "type": "heatmap"
           }
          ],
          "heatmapgl": [
           {
            "colorbar": {
             "outlinewidth": 0,
             "ticks": ""
            },
            "colorscale": [
             [
              0,
              "#0d0887"
             ],
             [
              0.1111111111111111,
              "#46039f"
             ],
             [
              0.2222222222222222,
              "#7201a8"
             ],
             [
              0.3333333333333333,
              "#9c179e"
             ],
             [
              0.4444444444444444,
              "#bd3786"
             ],
             [
              0.5555555555555556,
              "#d8576b"
             ],
             [
              0.6666666666666666,
              "#ed7953"
             ],
             [
              0.7777777777777778,
              "#fb9f3a"
             ],
             [
              0.8888888888888888,
              "#fdca26"
             ],
             [
              1,
              "#f0f921"
             ]
            ],
            "type": "heatmapgl"
           }
          ],
          "histogram": [
           {
            "marker": {
             "pattern": {
              "fillmode": "overlay",
              "size": 10,
              "solidity": 0.2
             }
            },
            "type": "histogram"
           }
          ],
          "histogram2d": [
           {
            "colorbar": {
             "outlinewidth": 0,
             "ticks": ""
            },
            "colorscale": [
             [
              0,
              "#0d0887"
             ],
             [
              0.1111111111111111,
              "#46039f"
             ],
             [
              0.2222222222222222,
              "#7201a8"
             ],
             [
              0.3333333333333333,
              "#9c179e"
             ],
             [
              0.4444444444444444,
              "#bd3786"
             ],
             [
              0.5555555555555556,
              "#d8576b"
             ],
             [
              0.6666666666666666,
              "#ed7953"
             ],
             [
              0.7777777777777778,
              "#fb9f3a"
             ],
             [
              0.8888888888888888,
              "#fdca26"
             ],
             [
              1,
              "#f0f921"
             ]
            ],
            "type": "histogram2d"
           }
          ],
          "histogram2dcontour": [
           {
            "colorbar": {
             "outlinewidth": 0,
             "ticks": ""
            },
            "colorscale": [
             [
              0,
              "#0d0887"
             ],
             [
              0.1111111111111111,
              "#46039f"
             ],
             [
              0.2222222222222222,
              "#7201a8"
             ],
             [
              0.3333333333333333,
              "#9c179e"
             ],
             [
              0.4444444444444444,
              "#bd3786"
             ],
             [
              0.5555555555555556,
              "#d8576b"
             ],
             [
              0.6666666666666666,
              "#ed7953"
             ],
             [
              0.7777777777777778,
              "#fb9f3a"
             ],
             [
              0.8888888888888888,
              "#fdca26"
             ],
             [
              1,
              "#f0f921"
             ]
            ],
            "type": "histogram2dcontour"
           }
          ],
          "mesh3d": [
           {
            "colorbar": {
             "outlinewidth": 0,
             "ticks": ""
            },
            "type": "mesh3d"
           }
          ],
          "parcoords": [
           {
            "line": {
             "colorbar": {
              "outlinewidth": 0,
              "ticks": ""
             }
            },
            "type": "parcoords"
           }
          ],
          "pie": [
           {
            "automargin": true,
            "type": "pie"
           }
          ],
          "scatter": [
           {
            "fillpattern": {
             "fillmode": "overlay",
             "size": 10,
             "solidity": 0.2
            },
            "type": "scatter"
           }
          ],
          "scatter3d": [
           {
            "line": {
             "colorbar": {
              "outlinewidth": 0,
              "ticks": ""
             }
            },
            "marker": {
             "colorbar": {
              "outlinewidth": 0,
              "ticks": ""
             }
            },
            "type": "scatter3d"
           }
          ],
          "scattercarpet": [
           {
            "marker": {
             "colorbar": {
              "outlinewidth": 0,
              "ticks": ""
             }
            },
            "type": "scattercarpet"
           }
          ],
          "scattergeo": [
           {
            "marker": {
             "colorbar": {
              "outlinewidth": 0,
              "ticks": ""
             }
            },
            "type": "scattergeo"
           }
          ],
          "scattergl": [
           {
            "marker": {
             "colorbar": {
              "outlinewidth": 0,
              "ticks": ""
             }
            },
            "type": "scattergl"
           }
          ],
          "scattermapbox": [
           {
            "marker": {
             "colorbar": {
              "outlinewidth": 0,
              "ticks": ""
             }
            },
            "type": "scattermapbox"
           }
          ],
          "scatterpolar": [
           {
            "marker": {
             "colorbar": {
              "outlinewidth": 0,
              "ticks": ""
             }
            },
            "type": "scatterpolar"
           }
          ],
          "scatterpolargl": [
           {
            "marker": {
             "colorbar": {
              "outlinewidth": 0,
              "ticks": ""
             }
            },
            "type": "scatterpolargl"
           }
          ],
          "scatterternary": [
           {
            "marker": {
             "colorbar": {
              "outlinewidth": 0,
              "ticks": ""
             }
            },
            "type": "scatterternary"
           }
          ],
          "surface": [
           {
            "colorbar": {
             "outlinewidth": 0,
             "ticks": ""
            },
            "colorscale": [
             [
              0,
              "#0d0887"
             ],
             [
              0.1111111111111111,
              "#46039f"
             ],
             [
              0.2222222222222222,
              "#7201a8"
             ],
             [
              0.3333333333333333,
              "#9c179e"
             ],
             [
              0.4444444444444444,
              "#bd3786"
             ],
             [
              0.5555555555555556,
              "#d8576b"
             ],
             [
              0.6666666666666666,
              "#ed7953"
             ],
             [
              0.7777777777777778,
              "#fb9f3a"
             ],
             [
              0.8888888888888888,
              "#fdca26"
             ],
             [
              1,
              "#f0f921"
             ]
            ],
            "type": "surface"
           }
          ],
          "table": [
           {
            "cells": {
             "fill": {
              "color": "#EBF0F8"
             },
             "line": {
              "color": "white"
             }
            },
            "header": {
             "fill": {
              "color": "#C8D4E3"
             },
             "line": {
              "color": "white"
             }
            },
            "type": "table"
           }
          ]
         },
         "layout": {
          "annotationdefaults": {
           "arrowcolor": "#2a3f5f",
           "arrowhead": 0,
           "arrowwidth": 1
          },
          "autotypenumbers": "strict",
          "coloraxis": {
           "colorbar": {
            "outlinewidth": 0,
            "ticks": ""
           }
          },
          "colorscale": {
           "diverging": [
            [
             0,
             "#8e0152"
            ],
            [
             0.1,
             "#c51b7d"
            ],
            [
             0.2,
             "#de77ae"
            ],
            [
             0.3,
             "#f1b6da"
            ],
            [
             0.4,
             "#fde0ef"
            ],
            [
             0.5,
             "#f7f7f7"
            ],
            [
             0.6,
             "#e6f5d0"
            ],
            [
             0.7,
             "#b8e186"
            ],
            [
             0.8,
             "#7fbc41"
            ],
            [
             0.9,
             "#4d9221"
            ],
            [
             1,
             "#276419"
            ]
           ],
           "sequential": [
            [
             0,
             "#0d0887"
            ],
            [
             0.1111111111111111,
             "#46039f"
            ],
            [
             0.2222222222222222,
             "#7201a8"
            ],
            [
             0.3333333333333333,
             "#9c179e"
            ],
            [
             0.4444444444444444,
             "#bd3786"
            ],
            [
             0.5555555555555556,
             "#d8576b"
            ],
            [
             0.6666666666666666,
             "#ed7953"
            ],
            [
             0.7777777777777778,
             "#fb9f3a"
            ],
            [
             0.8888888888888888,
             "#fdca26"
            ],
            [
             1,
             "#f0f921"
            ]
           ],
           "sequentialminus": [
            [
             0,
             "#0d0887"
            ],
            [
             0.1111111111111111,
             "#46039f"
            ],
            [
             0.2222222222222222,
             "#7201a8"
            ],
            [
             0.3333333333333333,
             "#9c179e"
            ],
            [
             0.4444444444444444,
             "#bd3786"
            ],
            [
             0.5555555555555556,
             "#d8576b"
            ],
            [
             0.6666666666666666,
             "#ed7953"
            ],
            [
             0.7777777777777778,
             "#fb9f3a"
            ],
            [
             0.8888888888888888,
             "#fdca26"
            ],
            [
             1,
             "#f0f921"
            ]
           ]
          },
          "colorway": [
           "#636efa",
           "#EF553B",
           "#00cc96",
           "#ab63fa",
           "#FFA15A",
           "#19d3f3",
           "#FF6692",
           "#B6E880",
           "#FF97FF",
           "#FECB52"
          ],
          "font": {
           "color": "#2a3f5f"
          },
          "geo": {
           "bgcolor": "white",
           "lakecolor": "white",
           "landcolor": "#E5ECF6",
           "showlakes": true,
           "showland": true,
           "subunitcolor": "white"
          },
          "hoverlabel": {
           "align": "left"
          },
          "hovermode": "closest",
          "mapbox": {
           "style": "light"
          },
          "paper_bgcolor": "white",
          "plot_bgcolor": "#E5ECF6",
          "polar": {
           "angularaxis": {
            "gridcolor": "white",
            "linecolor": "white",
            "ticks": ""
           },
           "bgcolor": "#E5ECF6",
           "radialaxis": {
            "gridcolor": "white",
            "linecolor": "white",
            "ticks": ""
           }
          },
          "scene": {
           "xaxis": {
            "backgroundcolor": "#E5ECF6",
            "gridcolor": "white",
            "gridwidth": 2,
            "linecolor": "white",
            "showbackground": true,
            "ticks": "",
            "zerolinecolor": "white"
           },
           "yaxis": {
            "backgroundcolor": "#E5ECF6",
            "gridcolor": "white",
            "gridwidth": 2,
            "linecolor": "white",
            "showbackground": true,
            "ticks": "",
            "zerolinecolor": "white"
           },
           "zaxis": {
            "backgroundcolor": "#E5ECF6",
            "gridcolor": "white",
            "gridwidth": 2,
            "linecolor": "white",
            "showbackground": true,
            "ticks": "",
            "zerolinecolor": "white"
           }
          },
          "shapedefaults": {
           "line": {
            "color": "#2a3f5f"
           }
          },
          "ternary": {
           "aaxis": {
            "gridcolor": "white",
            "linecolor": "white",
            "ticks": ""
           },
           "baxis": {
            "gridcolor": "white",
            "linecolor": "white",
            "ticks": ""
           },
           "bgcolor": "#E5ECF6",
           "caxis": {
            "gridcolor": "white",
            "linecolor": "white",
            "ticks": ""
           }
          },
          "title": {
           "x": 0.05
          },
          "xaxis": {
           "automargin": true,
           "gridcolor": "white",
           "linecolor": "white",
           "ticks": "",
           "title": {
            "standoff": 15
           },
           "zerolinecolor": "white",
           "zerolinewidth": 2
          },
          "yaxis": {
           "automargin": true,
           "gridcolor": "white",
           "linecolor": "white",
           "ticks": "",
           "title": {
            "standoff": 15
           },
           "zerolinecolor": "white",
           "zerolinewidth": 2
          }
         }
        },
        "title": {
         "text": "<b>Comparacion de Salarios",
         "x": 0.5
        },
        "width": 800,
        "xaxis": {
         "anchor": "y",
         "domain": [
          0,
          1
         ]
        },
        "xaxis2": {
         "anchor": "y2",
         "domain": [
          0,
          1
         ]
        },
        "xaxis3": {
         "anchor": "y3",
         "domain": [
          0,
          1
         ]
        },
        "xaxis4": {
         "anchor": "y4",
         "domain": [
          0,
          1
         ]
        },
        "yaxis": {
         "anchor": "x",
         "domain": [
          0.84375,
          1
         ]
        },
        "yaxis2": {
         "anchor": "x2",
         "domain": [
          0.5625,
          0.71875
         ]
        },
        "yaxis3": {
         "anchor": "x3",
         "domain": [
          0.28125,
          0.4375
         ]
        },
        "yaxis4": {
         "anchor": "x4",
         "domain": [
          0,
          0.15625
         ]
        }
       }
      },
      "text/html": [
       "<div>                            <div id=\"c1a45797-2f30-4f64-80e0-054fdf3b94d3\" class=\"plotly-graph-div\" style=\"height:600px; width:800px;\"></div>            <script type=\"text/javascript\">                require([\"plotly\"], function(Plotly) {                    window.PLOTLYENV=window.PLOTLYENV || {};                                    if (document.getElementById(\"c1a45797-2f30-4f64-80e0-054fdf3b94d3\")) {                    Plotly.newPlot(                        \"c1a45797-2f30-4f64-80e0-054fdf3b94d3\",                        [{\"name\":\"GLOBAL\",\"x\":[79833,260000,109024,20000,150000,72000,190000,35735,135000,125000,51321,40481,39916,87000,85000,8000,41689,114047,5707,56000,43331,6072,47899,98000,115000,325000,42000,33511,100000,117104,59303,70000,68428,46759,74130,103000,250000,10000,138000,45760,79833,50180,106000,112872,15966,76958,188000,105000,70139,6072,91000,45896,54742,60000,148261,38776,118000,120000,138350,110000,130800,21669,45618,62726,49268,190200,105000,91237,62726,42197,82528,150000,235000,53192,100000,5409,270000,80000,79197,140000,54238,47282,153667,28476,59102,110000,170000,80000,88654,76833,19609,276000,29751,89294,12000,70000,95746,75000,150000,36259,62000,73000,51519,187442,115000,150000,30428,94564,113476,103160,12000,45391,225000,50000,40189,90000,200000,60000,200000,50000,110037,10354,151000,120000,9466,20000,40570,100000,49646,38400,24000,100000,90000,63711,77364,220000,80000,135000,240000,150000,82500,100000,82744,62649,90000,153000,160000,168000,150000,75774,13400,144000,127221,119059,120000,125000,230000,85000,28369,63831,130026,165000,80000,250000,55000,150000,170000,82528,60000,235000,60757,174000,2859,40038,81000,5679,22611,90734,26005,61896,12000,4000,50000,69741,76833,74000,152000,21844,18000,174000,96113,147000,9272,24342,54094,90000,61467,195000,37825,50000,160000,12901,200000,165000,20000,120000,24823,56738,66022,5882,24823,185000,28609,90734,88654,140000,46597,116914,33808,56256,225000,87738,88654,135000,71786,16228,256000,200000,200000,180000,110000,63810,46809,4000,21637,103691,80000,110000,165000,18053,72212,36643,12103,96282,170000,115000,90000,28399,93000,99703,200000,173762,185000,141846,130000,63831,16904,66265,25532,160000,93150,111775,28016,65013,72500,18907,76833,85000,77684,100000,58000,55000,20171,59102,112000,100000,69741,105000,69999,94665,102839,109000,51064,135000,155000,120600,130000,90000,170000,150000,102100,84900,136620,99360,117789,104702,146000,123000,52351,99000,116000,106260,126500,242000,200000,65438,39263,78526,52351,165220,45807,120160,90320,181940,132320,220110,160080,180000,120000,124190,130000,110000,170000,115500,112900,90320,112900,90320,165400,132320,167000,243900,136600,109280,128875,93700,224000,167875,175000,156600,108800,95550,113000,135000,161342,137141,167000,123000,78526,65438,150000,211500,192400,90700,130000,61300,130000,61300,160000,138600,136000,58000,135000,170000,123000,189650,164996,54957,54957,118187,132000,165400,208775,147800,136994,101570,128875,93700,79039,132320,37300,164000,155000,124333,98158,120000,112900,90320,145000,105400,87932,117789,215300,158200,209100,154600,115934,81666,175000,98158,58000,183600,52351,180000,71982,45807,65949,49461,78526,58894,260000,60000,63900,160000,112300,241000,159000,180000,80000,82900,100800,49461,140400,39263,43966,32974,87932,76940,104702,91614,65949,87932,189650,164996,43966,32974,98158,78526,215300,76940,209100,154600,180000,21983,80000,78791,196979,120000,125000,37236,105000,87932,18442,31615,58255,100000,54957,18442,162674,120000,144000,104890,100000,140000,135000,50000,220000,140000,183228,91614,185100,220000,200000,120000,120000,65000,324000,216000,210000,120000,230000,100000,100000,31875,200000,75000,35590,78791,100000,153000,58035,165000,93427,52396,62651,32974,40000,87425,115000,86703,75000,64849,120000,157000,150000,70912,65000,71444,20000,48000,152500,68147,122346,380000,69336,10000,20000,135000,177000,78000,135000,100000,90320,85000,75000,214000,192600,266400,213120,112900,155000,141300,102100,115934,81666,206699,99100,130000,115000,110500,130000,99050,160000,205300,140400,176000,144000,200100,160000,145000,70500,205300,140400,205300,184700,175100,140250,116150,54000,170000,65438,80000,140000,210000,140000,100000,69000,210000,140000,210000,150075,100000,25000,126500,106260,220110,160080,105000,110925,45807,140000,99000,60000,192564,144854,230000,150000,150260,109280,210000,170000,160000,130000,67000,52000,154000,126000,129000,150000,200000],\"type\":\"histogram\",\"xaxis\":\"x\",\"yaxis\":\"y\"},{\"name\":\"USA\",\"x\":[150000,72000,190000,135000,87000,85000,56000,98000,325000,100000,70000,68428,103000,250000,138000,45760,106000,188000,105000,91000,60000,118000,120000,138350,110000,130800,190200,105000,150000,235000,100000,270000,80000,140000,110000,170000,80000,276000,12000,70000,95746,75000,150000,36259,62000,73000,115000,150000,12000,225000,90000,200000,200000,50000,151000,120000,38400,100000,90000,220000,80000,135000,240000,150000,82500,100000,90000,153000,160000,150000,144000,120000,125000,165000,80000,250000,55000,150000,170000,60000,235000,174000,81000,5679,26005,174000,147000,54094,90000,195000,50000,160000,200000,165000,20000,120000,185000,140000,135000,256000,200000,200000,180000,110000,80000,110000,165000,170000,115000,90000,93000,200000,185000,130000,160000,93150,111775,72500,100000,58000,112000,105000,109000,135000,155000,120600,130000,90000,170000,150000,102100,84900,136620,99360,146000,123000,99000,116000,106260,126500,242000,200000,165220,120160,90320,181940,132320,220110,160080,180000,120000,124190,130000,110000,170000,115500,112900,90320,112900,90320,165400,132320,167000,243900,136600,109280,128875,93700,224000,167875,175000,156600,108800,95550,113000,135000,161342,137141,167000,123000,150000,211500,160000,138600,136000,58000,135000,170000,123000,189650,164996,132000,165400,208775,147800,136994,101570,128875,93700,132320,164000,155000,120000,112900,90320,145000,105400,215300,158200,209100,154600,115934,81666,175000,58000,183600,180000,260000,63900,160000,112300,241000,159000,180000,80000,82900,100800,140400,189650,164996,215300,209100,154600,180000,80000,120000,125000,37236,105000,100000,120000,144000,104890,100000,140000,135000,50000,220000,140000,185100,220000,200000,120000,324000,216000,210000,120000,230000,100000,200000,100000,153000,165000,115000,75000,120000,157000,65000,48000,152500,380000,135000,177000,78000,135000,100000,90320,214000,192600,266400,213120,112900,155000,141300,102100,115934,81666,206699,99100,130000,115000,110500,130000,99050,160000,205300,140400,176000,144000,200100,160000,145000,70500,205300,140400,205300,184700,175100,140250,116150,54000,170000,80000,140000,210000,140000,100000,69000,210000,140000,210000,150075,100000,25000,126500,106260,220110,160080,105000,110925,140000,99000,60000,192564,144854,230000,150000,150260,109280,210000,170000,160000,130000,154000,126000,129000,150000,200000],\"type\":\"histogram\",\"xaxis\":\"x2\",\"yaxis\":\"y2\"},{\"name\":\"INDIA\",\"x\":[9360,15360,16080,11760,10320,11160,11640,9120,19080,17040,17520,11760,33720,17760,8880,24720,13920,17760,19920,14880,12720,33960,12000,38520,14640,19920,17280,18720,17040,13680,25080,33240,24600,16800,21240,16080,18360,11160,12480,20280,19560,26280,12600,15120,20880,17160,10800,12840,27840,5400,16920,9240,16920,21840,10680,16920,5880,19200,23040,13680,11640,12600,18480,16920,11160,17160,12480,14520,8520,22800,14280,20400,15480,18120,10800,17880,17040,23040,16200,23520,14280,15000,9600,15600,20280,28320,9720,11280,11280,6120,17280,13800,19440,11760,9840,27360,14040,15120,11640,13080,11760,12960,12480,15360,14280,12240,10200,8280,5640,10920,9840,13080,9240,20760,17520,15600,11160,6240,9960,5640,21480,15600,10200,7920,8400,13800,12600,16800,24720,16800,19680,11520,24360,17520,25080,21840,9480,10320,11640,28080,16680,10440,35280,12480,17520,23280,22080,11160,11280,16920,14520,9000,19920,8040,16320,27840,11760,10440,20880,22200,18720,18000,9720,14640,36600,17160,14520,18240,11760,10200,40320,17640,9480,13440,33240,10320,14520,19080,16560,7680,17400,13320,12240,21720,20040,26280,19200,20280,8280,8400,7680,10320,10320,9360,7920,7800,10680,9960,9240,9120,9960,10920,16200,7440,13560,14520,8040,14880,12840,11640,23400,14760,8280,6600,14520,7320,12960,9480,13800,11640,10560,18240,8040,5760,10680,22440,12240,11760,12000,7560,11400,11160,8760,12000,10560,14400,9960,7200,7680,14400,8280,12720,9840,9000,18720,12840,13320,14760,14040,10200,10320,13560,17400,13200,12240,9960,2760,9120,8280,12000,9120,15000,9360,10920,8400,9240,7320,9840,13920,8040,9600,15840,7680,13440,15240,11520,6480,8160,11400,9960,11880,7320,9840,5760,5400,8160,12240,9960,15000,7680,20040,19320,16320,5400,5280,16800,8400,20400,17400,7080,7920,8280,8160,11160,16680,4440,8160,9960,6360,13320,9240,11880,6600,7320,2040,12600,9240,16920,9360,3480,13560,14760,9600,10560,9960,7200,11640,10680,4080,6480,15000,9240,8520,19680,9720,10200,17520,8160,7560,17520,13320,17040,8400,13920,9720,7920,10800,6360,17640,13920,8400,7080,11640,18480,15960,9840,3600,10680,4800,8400,10200,14400,8520,6000,7080,17880,9720,5160,6960,4800,6600,10800,11640,9360,10800,4560,5640,6600,6240,5520,5760,3000,5520,6240,6840,5400,3000,9120,6960,7080,5640,15360,4680,9120,3720,3000,2040,12840,2400,5160,11040,2880,6720,6960,2160,10560,4080,3240,9600,6480,3600,7560,7560,6000,8040,6240,11520,8760,5520,5520,5880,16680,12000,5040,5280,10560,7920,4800,14640,4320,6240,7920,2520,3120,5520,3960,6960,5280,6840,2280,13800,2640,6960,6960,18600,5280,1920,6720,6120,12360,3960,7800,3720,6000,3120,4920,6960,3960,4200,11400,7800,2640,9360,4200,7200,2880,11280,1680,3720,6000,13440,12360,4080,5040,2640,9840,4440,5040,5520,4680,7560,12480,4080,5640,11520,3240,4920,8880,5520,10800,10800,5160,2040,15960,7200,6000,3000,6000,4440,4560,6960,6600,11520,6480,9480,12720,15600,3600,2520,4560,7680,7200,11880,4560,8400,2160,5040,11880,4440,9240,3120,3000,3120,5760,6120,3480,3480,12240,7080,7440,8400,8400,4440,5760,6360,6720,13680,18360,9480,4440,8880,7200,2280,2400,6600,11280,14280,7560,4800,4920,4680,8760,2760,16680,2520,1800,10560,20640,3840,11760,5040,6600,2520,6960,12480,6840,10800,9000,2520,8880,6600,14160,7920,26400,12480,7800,7200,7920,14160,26520,13320,20640,10800,11400,16800,16320,15120,15360,20400,12360,8160,25920,11400,7680,12720,15360,15480,9240,14040,10080,9840,16200,6960,22440,20160,13080,4800,18120,12120,6600,12480,12000,14760,11760,10800,16320,28320,14520,19800,15360,10680,6600,30120,9840,6600,11640,11640,24480,11640,14640,9240,18240,12360,22200,23160,18480,12360,16680,5040,7920,15480,14760,12600,8760,6120,15720,8640,16440,28440,23880,11400,8160,18000,12960,13440,14040,15720,8040,12600,4920,19800,12600,11160,8760,9720,13320,54360,15360,11160,10680,18120,24600,12120,21000,11760,4440,15480,10080,33120,7080,27600,12840,8280,10200,7320,12120,13920,8160,21480,13800,9480,25560,15360,14760,15960,19560,13680,2520,11880,8880,22080,12720,12600,15720,14400,11640,8520,13680,34440,9600,11640,6360,15120,27720,15960,9840,14160,2760,31800,3960,13800,30000,4800,15720,13320,20760,14760,12840,20640,16200,15960,17520,21720,13680,12840,6000,20760,15600,12240,9000,18000,13440,12600,4920,18840,14280,17760,9600,18000,14880,10800,22680,20040,21480,30720,33600,19320,25440,51600,49800,27600,25680,31440,16080,22680,29280,28560,21720,17640,36240,67680,23160,20160,18480,17160,19680,11880,28440,19200,24000,36000,25320,18000,30000,37920,28920,11880,30240,19680,20520,48840,27360,22320,21120,22080,18360,27720,25440,23400,21600,21360,27720,29040,14040,33240,30600,33600,27000,18360,17280,21120,17760,25440,27840,14760,23640,24840,22080,14520,25320,36600,27240,21600,32520,21360,32880,26640,27840,24720,21960,37080,27000,32160,19800,26520,27600,25680,21600,15960,10440,17400,20280,22080,32760,27120,24720,24240,30120,24000,22680,22320,25800,32040,35760,21840,21840,12360,27720,28920,34680,33960,16680,18240,27960,18360,17400,27840,17160,37920,33960,30000,21720,37200,38520,21360,43920,19440,10200,14280,25560,22680,12000,23640,38040,26880,24960,22080,14400,32760,27360,29280,18720,22560,47640,41280,25440,33120,98400,17880,22800,28320,32880,38040,17880,30240,24240,29520,20160,14760,24240,47520,26040,21600,27240,35400,21840,19920,14160,36480,53280,29520,38640,34800,27360,21000,46080,15360,48000,16920,26640,30120,13800,24480,33600,38160,32280,9240,12360,11760,16680,14280,11880,10560,15360,18000,12840,14040,20520,13920,13320,14880,18000,13440,10560,15840,17760,15480,11040,13800,14400,16920,10800,17520,22200,14520,15240,13920,14760,15000,18960,13080,24480,12240,8400,18240,13320,14280,11640,24120,26280,8640,10440,17520,24600,33600,20040,9600,12960,19560,16560,15600,18000,18600,30720,21120,12360,12960,14400,15120,15120,16080,18840,15960,17040,21240,17400,11040,21600,4440,7440,9480,7800,5040,23400,19440,19080,11520,18840,9360,15000,15240,11880,10440,18960,16080,16080,17280,7200,18360,22080,14040,18840,12000,10200,10320,23160,22440,12600,5160,17520,21600,14760,15960,22440,21120,16680,14040,22080,11760,17880,15360,13080,24480,6120,8520,14760,8880,6600,16080,21000,15120,3600,16080,15000,20280,18720,14160,14040,26400,21840,22440,16440,16080,20640,12600,11760,7440,24840,16560,9480,20520,15840,33960,26760,3960,12000,17160,27000,17280,24120,9840,14520,7320,8040,19560,18240,16080,16320,20400,19080,12000,27480,18840,21600,13560,6840,16800,21000,20160,10320,17040,24240,18720,15600,12840,10800,11880,20280,11160,10920,11280,16320,17760,11880,5640,7200,3840,7440,5160,5520,11400,14160,8520,8520,7440,7800,7320,19440,18240,4200,11880,13560,20640,13320,4320,4560,12240,20880,6000,23640,14040,34800,8880,13320,19920,14640,16440,11880,5160,17520,4200,5880,12960,11520,17280,19320,12000,8520,5760,24840,10320,18000,9600,9600,9600,9120,16800,6480,9600,7560,11520,7320,7440,8640,8880,14280,9000,7200,2280,15360,10560,13320,18720,20880,17040,16560,3480,14400,7560,9120,9240,6120,6120,10680,15360,7320,23040,7080,4320,3600,5640,10560,8280,9000,8520,7920,20880,5520,17640,9240,6960,3720,8040,6000,2280,10680,17400,12480,14880,16440,11280,23640,5520,9840,6840,10440,8400,16680,21120,13680,8280,21240,17880,15240,7440,12360,4080,12240,14880,4320,18000,15360,8880,6960,3600,6840,11400,7080,11640,12600,8520,9120,22200,15600,18840,7680,10920,21480,17280,8400,12360,15120,20040,5040,9000,5400,14640,18360,18600,5880,8400,6360,5160,11280,6000,8160,14520,17160,5880,7440,12600,14280,16680,7200,17880,14640,30240,20400,10920,10200,10080,17880,7920,8040,13680,5160,6600,7320,12000,12480,13200,18000,20280,25320,19800,17160,15960,26280,18240,18360,18120,23280,26160,18960,42840,27960,19320,15720,12480,8040,19680,16200,32760,22200,6480,21600,22680,18600,26520,17160,19560,38400,17640,26520,21360,34560,27720,18000,23160,28200,28920,37200,23760,21000,17400,14160,20520,19560,29640,10440,26760,21000,32520,20280,15840,20520,16560,25800,38040,31080,12840,35040,16200,9720,35040,16800,15840,13320,21120,16320,29880,17280,31680,18120,22440,20880,22320,23880,35400,20400,31920,18840,19680,22200,24480,19320,34320,24120,16560,18240,31680,19800,22680,28440,23760,20160,20760,23400,31080,27720,9240,19680,19320,16800,12000,18480,14400,19560,9840,16200,30480,15960,20160,26640,25680,46800,41760,17400,28800,24240,21600,24000,29400,20280,10200,25440,19200,23520,22320,27840,27000,20760,81960,23400,18600,14040,24000,4080,20280,22440,26640,35880,18240,16440,14400,26280,16560,23280,19320,31440,10680,15000,79560,13440,20280,24000,18240,23160,33840,12360,23880,17040,22680,22440,30840,33120,18480,28560,24600,15240,17160,23400,26160,24000,12360,39720,24120,11880,17160,22080,21840,28920,24360,6960,13440,11880,7080,16320,7560,8040,9600,9960,8760,11160,16440,15000,23280,6720,6360,6120,14160,20880,8760,8040,11040,11160,5400,11280,20280,6120,13080,11520,6360,4440,4320,6960,24840,20160,7320,4320,5640,14520,23280,14280,8880,7560,5760,10920,7920,14040,23280,4440,6120,5280,29760,15120,19320,13080,27960,6120,12000,17280,29520,23880,13440,23520,23520,24240,25440,27120,20760,27720,32160,39120,28680,23760,42120,31320,28200,33120,40320,30600,23760,27360,27000,36480,21000,30960,34320,15000,24600,25080,25920,33120,42840,60720,22800,14400,39720,30600,29760,35760,43800,33960,35760,34800,26160,20400,32520,48000,20040,39960],\"type\":\"histogram\",\"xaxis\":\"x3\",\"yaxis\":\"y3\"},{\"name\":\"Reino Unido\",\"x\":[109024,114047,112872,76958,82528,51519,113476,103160,110037,82528,61896,50000,76833,66022,116914,56256,72212,96282,117789,104702,52351,65438,39263,78526,52351,45807,78526,65438,37300,124333,98158,117789,98158,52351,71982,45807,78526,58894,39263,104702,91614,98158,78526,183228,91614,65438,45807],\"type\":\"histogram\",\"xaxis\":\"x4\",\"yaxis\":\"y4\"}],                        {\"template\":{\"data\":{\"histogram2dcontour\":[{\"type\":\"histogram2dcontour\",\"colorbar\":{\"outlinewidth\":0,\"ticks\":\"\"},\"colorscale\":[[0.0,\"#0d0887\"],[0.1111111111111111,\"#46039f\"],[0.2222222222222222,\"#7201a8\"],[0.3333333333333333,\"#9c179e\"],[0.4444444444444444,\"#bd3786\"],[0.5555555555555556,\"#d8576b\"],[0.6666666666666666,\"#ed7953\"],[0.7777777777777778,\"#fb9f3a\"],[0.8888888888888888,\"#fdca26\"],[1.0,\"#f0f921\"]]}],\"choropleth\":[{\"type\":\"choropleth\",\"colorbar\":{\"outlinewidth\":0,\"ticks\":\"\"}}],\"histogram2d\":[{\"type\":\"histogram2d\",\"colorbar\":{\"outlinewidth\":0,\"ticks\":\"\"},\"colorscale\":[[0.0,\"#0d0887\"],[0.1111111111111111,\"#46039f\"],[0.2222222222222222,\"#7201a8\"],[0.3333333333333333,\"#9c179e\"],[0.4444444444444444,\"#bd3786\"],[0.5555555555555556,\"#d8576b\"],[0.6666666666666666,\"#ed7953\"],[0.7777777777777778,\"#fb9f3a\"],[0.8888888888888888,\"#fdca26\"],[1.0,\"#f0f921\"]]}],\"heatmap\":[{\"type\":\"heatmap\",\"colorbar\":{\"outlinewidth\":0,\"ticks\":\"\"},\"colorscale\":[[0.0,\"#0d0887\"],[0.1111111111111111,\"#46039f\"],[0.2222222222222222,\"#7201a8\"],[0.3333333333333333,\"#9c179e\"],[0.4444444444444444,\"#bd3786\"],[0.5555555555555556,\"#d8576b\"],[0.6666666666666666,\"#ed7953\"],[0.7777777777777778,\"#fb9f3a\"],[0.8888888888888888,\"#fdca26\"],[1.0,\"#f0f921\"]]}],\"heatmapgl\":[{\"type\":\"heatmapgl\",\"colorbar\":{\"outlinewidth\":0,\"ticks\":\"\"},\"colorscale\":[[0.0,\"#0d0887\"],[0.1111111111111111,\"#46039f\"],[0.2222222222222222,\"#7201a8\"],[0.3333333333333333,\"#9c179e\"],[0.4444444444444444,\"#bd3786\"],[0.5555555555555556,\"#d8576b\"],[0.6666666666666666,\"#ed7953\"],[0.7777777777777778,\"#fb9f3a\"],[0.8888888888888888,\"#fdca26\"],[1.0,\"#f0f921\"]]}],\"contourcarpet\":[{\"type\":\"contourcarpet\",\"colorbar\":{\"outlinewidth\":0,\"ticks\":\"\"}}],\"contour\":[{\"type\":\"contour\",\"colorbar\":{\"outlinewidth\":0,\"ticks\":\"\"},\"colorscale\":[[0.0,\"#0d0887\"],[0.1111111111111111,\"#46039f\"],[0.2222222222222222,\"#7201a8\"],[0.3333333333333333,\"#9c179e\"],[0.4444444444444444,\"#bd3786\"],[0.5555555555555556,\"#d8576b\"],[0.6666666666666666,\"#ed7953\"],[0.7777777777777778,\"#fb9f3a\"],[0.8888888888888888,\"#fdca26\"],[1.0,\"#f0f921\"]]}],\"surface\":[{\"type\":\"surface\",\"colorbar\":{\"outlinewidth\":0,\"ticks\":\"\"},\"colorscale\":[[0.0,\"#0d0887\"],[0.1111111111111111,\"#46039f\"],[0.2222222222222222,\"#7201a8\"],[0.3333333333333333,\"#9c179e\"],[0.4444444444444444,\"#bd3786\"],[0.5555555555555556,\"#d8576b\"],[0.6666666666666666,\"#ed7953\"],[0.7777777777777778,\"#fb9f3a\"],[0.8888888888888888,\"#fdca26\"],[1.0,\"#f0f921\"]]}],\"mesh3d\":[{\"type\":\"mesh3d\",\"colorbar\":{\"outlinewidth\":0,\"ticks\":\"\"}}],\"scatter\":[{\"fillpattern\":{\"fillmode\":\"overlay\",\"size\":10,\"solidity\":0.2},\"type\":\"scatter\"}],\"parcoords\":[{\"type\":\"parcoords\",\"line\":{\"colorbar\":{\"outlinewidth\":0,\"ticks\":\"\"}}}],\"scatterpolargl\":[{\"type\":\"scatterpolargl\",\"marker\":{\"colorbar\":{\"outlinewidth\":0,\"ticks\":\"\"}}}],\"bar\":[{\"error_x\":{\"color\":\"#2a3f5f\"},\"error_y\":{\"color\":\"#2a3f5f\"},\"marker\":{\"line\":{\"color\":\"#E5ECF6\",\"width\":0.5},\"pattern\":{\"fillmode\":\"overlay\",\"size\":10,\"solidity\":0.2}},\"type\":\"bar\"}],\"scattergeo\":[{\"type\":\"scattergeo\",\"marker\":{\"colorbar\":{\"outlinewidth\":0,\"ticks\":\"\"}}}],\"scatterpolar\":[{\"type\":\"scatterpolar\",\"marker\":{\"colorbar\":{\"outlinewidth\":0,\"ticks\":\"\"}}}],\"histogram\":[{\"marker\":{\"pattern\":{\"fillmode\":\"overlay\",\"size\":10,\"solidity\":0.2}},\"type\":\"histogram\"}],\"scattergl\":[{\"type\":\"scattergl\",\"marker\":{\"colorbar\":{\"outlinewidth\":0,\"ticks\":\"\"}}}],\"scatter3d\":[{\"type\":\"scatter3d\",\"line\":{\"colorbar\":{\"outlinewidth\":0,\"ticks\":\"\"}},\"marker\":{\"colorbar\":{\"outlinewidth\":0,\"ticks\":\"\"}}}],\"scattermapbox\":[{\"type\":\"scattermapbox\",\"marker\":{\"colorbar\":{\"outlinewidth\":0,\"ticks\":\"\"}}}],\"scatterternary\":[{\"type\":\"scatterternary\",\"marker\":{\"colorbar\":{\"outlinewidth\":0,\"ticks\":\"\"}}}],\"scattercarpet\":[{\"type\":\"scattercarpet\",\"marker\":{\"colorbar\":{\"outlinewidth\":0,\"ticks\":\"\"}}}],\"carpet\":[{\"aaxis\":{\"endlinecolor\":\"#2a3f5f\",\"gridcolor\":\"white\",\"linecolor\":\"white\",\"minorgridcolor\":\"white\",\"startlinecolor\":\"#2a3f5f\"},\"baxis\":{\"endlinecolor\":\"#2a3f5f\",\"gridcolor\":\"white\",\"linecolor\":\"white\",\"minorgridcolor\":\"white\",\"startlinecolor\":\"#2a3f5f\"},\"type\":\"carpet\"}],\"table\":[{\"cells\":{\"fill\":{\"color\":\"#EBF0F8\"},\"line\":{\"color\":\"white\"}},\"header\":{\"fill\":{\"color\":\"#C8D4E3\"},\"line\":{\"color\":\"white\"}},\"type\":\"table\"}],\"barpolar\":[{\"marker\":{\"line\":{\"color\":\"#E5ECF6\",\"width\":0.5},\"pattern\":{\"fillmode\":\"overlay\",\"size\":10,\"solidity\":0.2}},\"type\":\"barpolar\"}],\"pie\":[{\"automargin\":true,\"type\":\"pie\"}]},\"layout\":{\"autotypenumbers\":\"strict\",\"colorway\":[\"#636efa\",\"#EF553B\",\"#00cc96\",\"#ab63fa\",\"#FFA15A\",\"#19d3f3\",\"#FF6692\",\"#B6E880\",\"#FF97FF\",\"#FECB52\"],\"font\":{\"color\":\"#2a3f5f\"},\"hovermode\":\"closest\",\"hoverlabel\":{\"align\":\"left\"},\"paper_bgcolor\":\"white\",\"plot_bgcolor\":\"#E5ECF6\",\"polar\":{\"bgcolor\":\"#E5ECF6\",\"angularaxis\":{\"gridcolor\":\"white\",\"linecolor\":\"white\",\"ticks\":\"\"},\"radialaxis\":{\"gridcolor\":\"white\",\"linecolor\":\"white\",\"ticks\":\"\"}},\"ternary\":{\"bgcolor\":\"#E5ECF6\",\"aaxis\":{\"gridcolor\":\"white\",\"linecolor\":\"white\",\"ticks\":\"\"},\"baxis\":{\"gridcolor\":\"white\",\"linecolor\":\"white\",\"ticks\":\"\"},\"caxis\":{\"gridcolor\":\"white\",\"linecolor\":\"white\",\"ticks\":\"\"}},\"coloraxis\":{\"colorbar\":{\"outlinewidth\":0,\"ticks\":\"\"}},\"colorscale\":{\"sequential\":[[0.0,\"#0d0887\"],[0.1111111111111111,\"#46039f\"],[0.2222222222222222,\"#7201a8\"],[0.3333333333333333,\"#9c179e\"],[0.4444444444444444,\"#bd3786\"],[0.5555555555555556,\"#d8576b\"],[0.6666666666666666,\"#ed7953\"],[0.7777777777777778,\"#fb9f3a\"],[0.8888888888888888,\"#fdca26\"],[1.0,\"#f0f921\"]],\"sequentialminus\":[[0.0,\"#0d0887\"],[0.1111111111111111,\"#46039f\"],[0.2222222222222222,\"#7201a8\"],[0.3333333333333333,\"#9c179e\"],[0.4444444444444444,\"#bd3786\"],[0.5555555555555556,\"#d8576b\"],[0.6666666666666666,\"#ed7953\"],[0.7777777777777778,\"#fb9f3a\"],[0.8888888888888888,\"#fdca26\"],[1.0,\"#f0f921\"]],\"diverging\":[[0,\"#8e0152\"],[0.1,\"#c51b7d\"],[0.2,\"#de77ae\"],[0.3,\"#f1b6da\"],[0.4,\"#fde0ef\"],[0.5,\"#f7f7f7\"],[0.6,\"#e6f5d0\"],[0.7,\"#b8e186\"],[0.8,\"#7fbc41\"],[0.9,\"#4d9221\"],[1,\"#276419\"]]},\"xaxis\":{\"gridcolor\":\"white\",\"linecolor\":\"white\",\"ticks\":\"\",\"title\":{\"standoff\":15},\"zerolinecolor\":\"white\",\"automargin\":true,\"zerolinewidth\":2},\"yaxis\":{\"gridcolor\":\"white\",\"linecolor\":\"white\",\"ticks\":\"\",\"title\":{\"standoff\":15},\"zerolinecolor\":\"white\",\"automargin\":true,\"zerolinewidth\":2},\"scene\":{\"xaxis\":{\"backgroundcolor\":\"#E5ECF6\",\"gridcolor\":\"white\",\"linecolor\":\"white\",\"showbackground\":true,\"ticks\":\"\",\"zerolinecolor\":\"white\",\"gridwidth\":2},\"yaxis\":{\"backgroundcolor\":\"#E5ECF6\",\"gridcolor\":\"white\",\"linecolor\":\"white\",\"showbackground\":true,\"ticks\":\"\",\"zerolinecolor\":\"white\",\"gridwidth\":2},\"zaxis\":{\"backgroundcolor\":\"#E5ECF6\",\"gridcolor\":\"white\",\"linecolor\":\"white\",\"showbackground\":true,\"ticks\":\"\",\"zerolinecolor\":\"white\",\"gridwidth\":2}},\"shapedefaults\":{\"line\":{\"color\":\"#2a3f5f\"}},\"annotationdefaults\":{\"arrowcolor\":\"#2a3f5f\",\"arrowhead\":0,\"arrowwidth\":1},\"geo\":{\"bgcolor\":\"white\",\"landcolor\":\"#E5ECF6\",\"subunitcolor\":\"white\",\"showland\":true,\"showlakes\":true,\"lakecolor\":\"white\"},\"title\":{\"x\":0.05},\"mapbox\":{\"style\":\"light\"}}},\"xaxis\":{\"anchor\":\"y\",\"domain\":[0.0,1.0]},\"yaxis\":{\"anchor\":\"x\",\"domain\":[0.84375,1.0]},\"xaxis2\":{\"anchor\":\"y2\",\"domain\":[0.0,1.0]},\"yaxis2\":{\"anchor\":\"x2\",\"domain\":[0.5625,0.71875]},\"xaxis3\":{\"anchor\":\"y3\",\"domain\":[0.0,1.0]},\"yaxis3\":{\"anchor\":\"x3\",\"domain\":[0.28125,0.4375]},\"xaxis4\":{\"anchor\":\"y4\",\"domain\":[0.0,1.0]},\"yaxis4\":{\"anchor\":\"x4\",\"domain\":[0.0,0.15625]},\"annotations\":[{\"font\":{\"size\":16},\"showarrow\":false,\"text\":\"<i>Salarios a nivel global\",\"x\":0.5,\"xanchor\":\"center\",\"xref\":\"paper\",\"y\":1.0,\"yanchor\":\"bottom\",\"yref\":\"paper\"},{\"font\":{\"size\":16},\"showarrow\":false,\"text\":\"<i>Salarios en USA\",\"x\":0.5,\"xanchor\":\"center\",\"xref\":\"paper\",\"y\":0.71875,\"yanchor\":\"bottom\",\"yref\":\"paper\"},{\"font\":{\"size\":16},\"showarrow\":false,\"text\":\"<i>Salarios en IN\",\"x\":0.5,\"xanchor\":\"center\",\"xref\":\"paper\",\"y\":0.4375,\"yanchor\":\"bottom\",\"yref\":\"paper\"},{\"font\":{\"size\":16},\"showarrow\":false,\"text\":\"<i>Salarios en GBR\",\"x\":0.5,\"xanchor\":\"center\",\"xref\":\"paper\",\"y\":0.15625,\"yanchor\":\"bottom\",\"yref\":\"paper\"}],\"title\":{\"text\":\"<b>Comparacion de Salarios\",\"x\":0.5},\"font\":{\"size\":20,\"family\":\"Courier New\"},\"height\":600,\"width\":800,\"showlegend\":false},                        {\"responsive\": true}                    ).then(function(){\n",
       "                            \n",
       "var gd = document.getElementById('c1a45797-2f30-4f64-80e0-054fdf3b94d3');\n",
       "var x = new MutationObserver(function (mutations, observer) {{\n",
       "        var display = window.getComputedStyle(gd).display;\n",
       "        if (!display || display === 'none') {{\n",
       "            console.log([gd, 'removed!']);\n",
       "            Plotly.purge(gd);\n",
       "            observer.disconnect();\n",
       "        }}\n",
       "}});\n",
       "\n",
       "// Listen for the removal of the full notebook cells\n",
       "var notebookContainer = gd.closest('#notebook-container');\n",
       "if (notebookContainer) {{\n",
       "    x.observe(notebookContainer, {childList: true});\n",
       "}}\n",
       "\n",
       "// Listen for the clearing of the current output cell\n",
       "var outputEl = gd.closest('.output');\n",
       "if (outputEl) {{\n",
       "    x.observe(outputEl, {childList: true});\n",
       "}}\n",
       "\n",
       "                        })                };                });            </script>        </div>"
      ]
     },
     "metadata": {},
     "output_type": "display_data"
    }
   ],
   "source": [
    "# se hace el formato de la grafica de 4 columnas y 1 fila, se agrega los subtitulos de las variables\n",
    "fig=make_subplots(rows=4,cols=1,subplot_titles=('<i>Salarios a nivel global', '<i>Salarios en USA', '<i>Salarios en IN','<i>Salarios en GBR'))\n",
    "#se agrega las variables que se quiere observar al formato de la grafica\n",
    "fig.add_trace(go.Histogram(x=data2['Salario en USD'],name='GLOBAL'),row=1,col=1)\n",
    "fig.add_trace(go.Histogram(x=Datos_USA['Salario en USD'],name='USA'),row=2,col=1)\n",
    "fig.add_trace(go.Histogram(x=Datos_IN['avg_salary'],name='INDIA'),row=3,col=1)\n",
    "fig.add_trace(go.Histogram(x= Datos_GBR['Salario en USD'],name='Reino Unido'),row=4,col=1)\n",
    "# se define el diseno del formato\n",
    "fig.update_layout(height=600, width=800, title_text='<b>Comparacion de Salarios', font_size=20)\n",
    "fig.update_layout(template='plotly', title_x=0.5, font_family='Courier New', showlegend=False)"
   ]
  },
  {
   "cell_type": "markdown",
   "metadata": {},
   "source": [
    "<p style=\"font-family: Arial; font-size:1.5em;color:black;\"> Box Plots </p>\n",
    "7)Metodo sencillo para visualizar de forma grupal los datos atraves de sus cuartiles."
   ]
  },
  {
   "cell_type": "code",
   "execution_count": 177,
   "metadata": {},
   "outputs": [
    {
     "data": {
      "application/vnd.plotly.v1+json": {
       "config": {
        "plotlyServerURL": "https://plot.ly"
       },
       "data": [
        {
         "boxpoints": "all",
         "type": "box",
         "x": [
          "MI",
          "SE",
          "SE",
          "MI",
          "SE",
          "EN",
          "SE",
          "MI",
          "MI",
          "SE",
          "EN",
          "MI",
          "EN",
          "MI",
          "MI",
          "MI",
          "EN",
          "SE",
          "EN",
          "MI",
          "MI",
          "MI",
          "SE",
          "MI",
          "MI",
          "EX",
          "EN",
          "SE",
          "EN",
          "SE",
          "MI",
          "EN",
          "SE",
          "MI",
          "MI",
          "MI",
          "EN",
          "EN",
          "EN",
          "MI",
          "EX",
          "MI",
          "MI",
          "MI",
          "EN",
          "MI",
          "SE",
          "MI",
          "MI",
          "EN",
          "EN",
          "EN",
          "EN",
          "SE",
          "SE",
          "MI",
          "MI",
          "SE",
          "MI",
          "MI",
          "MI",
          "EN",
          "SE",
          "EN",
          "EN",
          "SE",
          "EN",
          "SE",
          "MI",
          "MI",
          "EN",
          "EX",
          "EX",
          "SE",
          "MI",
          "MI",
          "MI",
          "EN",
          "SE",
          "MI",
          "MI",
          "MI",
          "EX",
          "MI",
          "EN",
          "MI",
          "SE",
          "SE",
          "SE",
          "EN",
          "MI",
          "SE",
          "EN",
          "MI",
          "EN",
          "EN",
          "MI",
          "MI",
          "SE",
          "MI",
          "MI",
          "MI",
          "MI",
          "MI",
          "SE",
          "SE",
          "EN",
          "SE",
          "SE",
          "SE",
          "EN",
          "MI",
          "EN",
          "MI",
          "MI",
          "EN",
          "MI",
          "MI",
          "SE",
          "EN",
          "EN",
          "EN",
          "MI",
          "SE",
          "MI",
          "EN",
          "SE",
          "EN",
          "EN",
          "MI",
          "SE",
          "EN",
          "MI",
          "MI",
          "MI",
          "SE",
          "EN",
          "MI",
          "SE",
          "SE",
          "MI",
          "MI",
          "SE",
          "MI",
          "MI",
          "SE",
          "SE",
          "SE",
          "MI",
          "MI",
          "EN",
          "SE",
          "SE",
          "MI",
          "SE",
          "EN",
          "EX",
          "EX",
          "MI",
          "EN",
          "EX",
          "SE",
          "EN",
          "EX",
          "EN",
          "MI",
          "MI",
          "MI",
          "EN",
          "SE",
          "SE",
          "SE",
          "MI",
          "MI",
          "EN",
          "MI",
          "MI",
          "MI",
          "MI",
          "SE",
          "MI",
          "MI",
          "SE",
          "EX",
          "SE",
          "MI",
          "SE",
          "EN",
          "MI",
          "SE",
          "SE",
          "MI",
          "EN",
          "SE",
          "SE",
          "EN",
          "MI",
          "SE",
          "MI",
          "SE",
          "MI",
          "MI",
          "SE",
          "SE",
          "MI",
          "SE",
          "MI",
          "MI",
          "MI",
          "EN",
          "EN",
          "SE",
          "EN",
          "MI",
          "MI",
          "SE",
          "MI",
          "MI",
          "MI",
          "MI",
          "SE",
          "SE",
          "MI",
          "SE",
          "SE",
          "EN",
          "SE",
          "SE",
          "SE",
          "MI",
          "MI",
          "MI",
          "MI",
          "EN",
          "EN",
          "SE",
          "MI",
          "MI",
          "SE",
          "EN",
          "MI",
          "EN",
          "MI",
          "SE",
          "SE",
          "MI",
          "EN",
          "EN",
          "MI",
          "SE",
          "MI",
          "SE",
          "SE",
          "EX",
          "MI",
          "SE",
          "MI",
          "SE",
          "MI",
          "SE",
          "MI",
          "MI",
          "MI",
          "EN",
          "EN",
          "SE",
          "EN",
          "EN",
          "SE",
          "EN",
          "EN",
          "SE",
          "SE",
          "EN",
          "MI",
          "EN",
          "MI",
          "SE",
          "MI",
          "SE",
          "SE",
          "MI",
          "MI",
          "SE",
          "SE",
          "SE",
          "MI",
          "MI",
          "MI",
          "MI",
          "SE",
          "SE",
          "SE",
          "SE",
          "SE",
          "SE",
          "SE",
          "SE",
          "EN",
          "SE",
          "SE",
          "MI",
          "MI",
          "EX",
          "EX",
          "MI",
          "MI",
          "MI",
          "MI",
          "SE",
          "EN",
          "SE",
          "SE",
          "SE",
          "SE",
          "SE",
          "SE",
          "SE",
          "SE",
          "SE",
          "EX",
          "EX",
          "SE",
          "MI",
          "SE",
          "SE",
          "SE",
          "SE",
          "SE",
          "SE",
          "MI",
          "SE",
          "SE",
          "SE",
          "SE",
          "SE",
          "EX",
          "EX",
          "EX",
          "SE",
          "SE",
          "SE",
          "SE",
          "SE",
          "SE",
          "SE",
          "SE",
          "SE",
          "SE",
          "SE",
          "SE",
          "SE",
          "SE",
          "SE",
          "SE",
          "SE",
          "SE",
          "SE",
          "SE",
          "SE",
          "SE",
          "MI",
          "EX",
          "SE",
          "SE",
          "SE",
          "SE",
          "MI",
          "MI",
          "EX",
          "SE",
          "SE",
          "SE",
          "SE",
          "SE",
          "SE",
          "SE",
          "SE",
          "EX",
          "SE",
          "EN",
          "SE",
          "SE",
          "MI",
          "MI",
          "MI",
          "SE",
          "SE",
          "SE",
          "SE",
          "MI",
          "MI",
          "SE",
          "SE",
          "SE",
          "SE",
          "SE",
          "SE",
          "SE",
          "MI",
          "MI",
          "SE",
          "MI",
          "SE",
          "MI",
          "MI",
          "MI",
          "MI",
          "MI",
          "MI",
          "SE",
          "SE",
          "MI",
          "MI",
          "MI",
          "MI",
          "MI",
          "SE",
          "SE",
          "MI",
          "SE",
          "MI",
          "SE",
          "MI",
          "MI",
          "MI",
          "MI",
          "MI",
          "MI",
          "MI",
          "MI",
          "MI",
          "SE",
          "SE",
          "MI",
          "MI",
          "MI",
          "MI",
          "SE",
          "MI",
          "SE",
          "SE",
          "SE",
          "EN",
          "SE",
          "MI",
          "EX",
          "MI",
          "EN",
          "MI",
          "SE",
          "SE",
          "MI",
          "MI",
          "MI",
          "EN",
          "MI",
          "EN",
          "SE",
          "EN",
          "SE",
          "SE",
          "SE",
          "SE",
          "MI",
          "MI",
          "SE",
          "SE",
          "MI",
          "MI",
          "SE",
          "SE",
          "MI",
          "MI",
          "SE",
          "SE",
          "EX",
          "EX",
          "SE",
          "SE",
          "SE",
          "EN",
          "MI",
          "EN",
          "SE",
          "MI",
          "MI",
          "SE",
          "SE",
          "MI",
          "EN",
          "SE",
          "SE",
          "EN",
          "SE",
          "MI",
          "EN",
          "MI",
          "SE",
          "EN",
          "MI",
          "MI",
          "EN",
          "MI",
          "EN",
          "MI",
          "EN",
          "SE",
          "EN",
          "MI",
          "SE",
          "MI",
          "MI",
          "SE",
          "MI",
          "EN",
          "MI",
          "MI",
          "SE",
          "MI",
          "SE",
          "SE",
          "SE",
          "MI",
          "MI",
          "SE",
          "SE",
          "SE",
          "SE",
          "SE",
          "SE",
          "MI",
          "MI",
          "SE",
          "SE",
          "MI",
          "MI",
          "SE",
          "SE",
          "SE",
          "SE",
          "SE",
          "SE",
          "SE",
          "SE",
          "SE",
          "SE",
          "SE",
          "SE",
          "SE",
          "SE",
          "SE",
          "SE",
          "SE",
          "SE",
          "SE",
          "SE",
          "SE",
          "SE",
          "SE",
          "MI",
          "SE",
          "SE",
          "SE",
          "SE",
          "SE",
          "SE",
          "SE",
          "SE",
          "SE",
          "SE",
          "SE",
          "SE",
          "SE",
          "SE",
          "SE",
          "SE",
          "SE",
          "SE",
          "MI",
          "SE",
          "SE",
          "SE",
          "SE",
          "SE",
          "SE",
          "SE",
          "SE",
          "SE",
          "SE",
          "SE",
          "MI",
          "MI",
          "EN",
          "EN",
          "SE",
          "SE",
          "SE",
          "SE",
          "MI"
         ],
         "xaxis": "x",
         "y": [
          79833,
          260000,
          109024,
          20000,
          150000,
          72000,
          190000,
          35735,
          135000,
          125000,
          51321,
          40481,
          39916,
          87000,
          85000,
          8000,
          41689,
          114047,
          5707,
          56000,
          43331,
          6072,
          47899,
          98000,
          115000,
          325000,
          42000,
          33511,
          100000,
          117104,
          59303,
          70000,
          68428,
          46759,
          74130,
          103000,
          250000,
          10000,
          138000,
          45760,
          79833,
          50180,
          106000,
          112872,
          15966,
          76958,
          188000,
          105000,
          70139,
          6072,
          91000,
          45896,
          54742,
          60000,
          148261,
          38776,
          118000,
          120000,
          138350,
          110000,
          130800,
          21669,
          45618,
          62726,
          49268,
          190200,
          105000,
          91237,
          62726,
          42197,
          82528,
          150000,
          235000,
          53192,
          100000,
          5409,
          270000,
          80000,
          79197,
          140000,
          54238,
          47282,
          153667,
          28476,
          59102,
          110000,
          170000,
          80000,
          88654,
          76833,
          19609,
          276000,
          29751,
          89294,
          12000,
          70000,
          95746,
          75000,
          150000,
          36259,
          62000,
          73000,
          51519,
          187442,
          115000,
          150000,
          30428,
          94564,
          113476,
          103160,
          12000,
          45391,
          225000,
          50000,
          40189,
          90000,
          200000,
          60000,
          200000,
          50000,
          110037,
          10354,
          151000,
          120000,
          9466,
          20000,
          40570,
          100000,
          49646,
          38400,
          24000,
          100000,
          90000,
          63711,
          77364,
          220000,
          80000,
          135000,
          240000,
          150000,
          82500,
          100000,
          82744,
          62649,
          90000,
          153000,
          160000,
          168000,
          150000,
          75774,
          13400,
          144000,
          127221,
          119059,
          120000,
          125000,
          230000,
          85000,
          28369,
          63831,
          130026,
          165000,
          80000,
          250000,
          55000,
          150000,
          170000,
          82528,
          60000,
          235000,
          60757,
          174000,
          2859,
          40038,
          81000,
          5679,
          22611,
          90734,
          26005,
          61896,
          12000,
          4000,
          50000,
          69741,
          76833,
          74000,
          152000,
          21844,
          18000,
          174000,
          96113,
          147000,
          9272,
          24342,
          54094,
          90000,
          61467,
          195000,
          37825,
          50000,
          160000,
          12901,
          200000,
          165000,
          20000,
          120000,
          24823,
          56738,
          66022,
          5882,
          24823,
          185000,
          28609,
          90734,
          88654,
          140000,
          46597,
          116914,
          33808,
          56256,
          225000,
          87738,
          88654,
          135000,
          71786,
          16228,
          256000,
          200000,
          200000,
          180000,
          110000,
          63810,
          46809,
          4000,
          21637,
          103691,
          80000,
          110000,
          165000,
          18053,
          72212,
          36643,
          12103,
          96282,
          170000,
          115000,
          90000,
          28399,
          93000,
          99703,
          200000,
          173762,
          185000,
          141846,
          130000,
          63831,
          16904,
          66265,
          25532,
          160000,
          93150,
          111775,
          28016,
          65013,
          72500,
          18907,
          76833,
          85000,
          77684,
          100000,
          58000,
          55000,
          20171,
          59102,
          112000,
          100000,
          69741,
          105000,
          69999,
          94665,
          102839,
          109000,
          51064,
          135000,
          155000,
          120600,
          130000,
          90000,
          170000,
          150000,
          102100,
          84900,
          136620,
          99360,
          117789,
          104702,
          146000,
          123000,
          52351,
          99000,
          116000,
          106260,
          126500,
          242000,
          200000,
          65438,
          39263,
          78526,
          52351,
          165220,
          45807,
          120160,
          90320,
          181940,
          132320,
          220110,
          160080,
          180000,
          120000,
          124190,
          130000,
          110000,
          170000,
          115500,
          112900,
          90320,
          112900,
          90320,
          165400,
          132320,
          167000,
          243900,
          136600,
          109280,
          128875,
          93700,
          224000,
          167875,
          175000,
          156600,
          108800,
          95550,
          113000,
          135000,
          161342,
          137141,
          167000,
          123000,
          78526,
          65438,
          150000,
          211500,
          192400,
          90700,
          130000,
          61300,
          130000,
          61300,
          160000,
          138600,
          136000,
          58000,
          135000,
          170000,
          123000,
          189650,
          164996,
          54957,
          54957,
          118187,
          132000,
          165400,
          208775,
          147800,
          136994,
          101570,
          128875,
          93700,
          79039,
          132320,
          37300,
          164000,
          155000,
          124333,
          98158,
          120000,
          112900,
          90320,
          145000,
          105400,
          87932,
          117789,
          215300,
          158200,
          209100,
          154600,
          115934,
          81666,
          175000,
          98158,
          58000,
          183600,
          52351,
          180000,
          71982,
          45807,
          65949,
          49461,
          78526,
          58894,
          260000,
          60000,
          63900,
          160000,
          112300,
          241000,
          159000,
          180000,
          80000,
          82900,
          100800,
          49461,
          140400,
          39263,
          43966,
          32974,
          87932,
          76940,
          104702,
          91614,
          65949,
          87932,
          189650,
          164996,
          43966,
          32974,
          98158,
          78526,
          215300,
          76940,
          209100,
          154600,
          180000,
          21983,
          80000,
          78791,
          196979,
          120000,
          125000,
          37236,
          105000,
          87932,
          18442,
          31615,
          58255,
          100000,
          54957,
          18442,
          162674,
          120000,
          144000,
          104890,
          100000,
          140000,
          135000,
          50000,
          220000,
          140000,
          183228,
          91614,
          185100,
          220000,
          200000,
          120000,
          120000,
          65000,
          324000,
          216000,
          210000,
          120000,
          230000,
          100000,
          100000,
          31875,
          200000,
          75000,
          35590,
          78791,
          100000,
          153000,
          58035,
          165000,
          93427,
          52396,
          62651,
          32974,
          40000,
          87425,
          115000,
          86703,
          75000,
          64849,
          120000,
          157000,
          150000,
          70912,
          65000,
          71444,
          20000,
          48000,
          152500,
          68147,
          122346,
          380000,
          69336,
          10000,
          20000,
          135000,
          177000,
          78000,
          135000,
          100000,
          90320,
          85000,
          75000,
          214000,
          192600,
          266400,
          213120,
          112900,
          155000,
          141300,
          102100,
          115934,
          81666,
          206699,
          99100,
          130000,
          115000,
          110500,
          130000,
          99050,
          160000,
          205300,
          140400,
          176000,
          144000,
          200100,
          160000,
          145000,
          70500,
          205300,
          140400,
          205300,
          184700,
          175100,
          140250,
          116150,
          54000,
          170000,
          65438,
          80000,
          140000,
          210000,
          140000,
          100000,
          69000,
          210000,
          140000,
          210000,
          150075,
          100000,
          25000,
          126500,
          106260,
          220110,
          160080,
          105000,
          110925,
          45807,
          140000,
          99000,
          60000,
          192564,
          144854,
          230000,
          150000,
          150260,
          109280,
          210000,
          170000,
          160000,
          130000,
          67000,
          52000,
          154000,
          126000,
          129000,
          150000,
          200000
         ],
         "yaxis": "y"
        },
        {
         "boxpoints": "all",
         "type": "box",
         "x": [
          "On site",
          "On site",
          "On Hybrid",
          "On site",
          "On Hybrid",
          "Remote",
          "Remote",
          "On Hybrid",
          "Remote",
          "On Hybrid",
          "On site",
          "On site",
          "On site",
          "Remote",
          "Remote",
          "On Hybrid",
          "Remote",
          "Remote",
          "On Hybrid",
          "Remote",
          "On site",
          "Remote",
          "On Hybrid",
          "On site",
          "On site",
          "Remote",
          "On Hybrid",
          "On site",
          "Remote",
          "On Hybrid",
          "Remote",
          "Remote",
          "Remote",
          "On Hybrid",
          "On Hybrid",
          "Remote",
          "On Hybrid",
          "Remote",
          "Remote",
          "Remote",
          "On Hybrid",
          "On site",
          "Remote",
          "On Hybrid",
          "Remote",
          "Remote",
          "Remote",
          "Remote",
          "On Hybrid",
          "On site",
          "Remote",
          "On Hybrid",
          "Remote",
          "Remote",
          "Remote",
          "Remote",
          "Remote",
          "On Hybrid",
          "Remote",
          "Remote",
          "Remote",
          "On Hybrid",
          "Remote",
          "On Hybrid",
          "On site",
          "Remote",
          "Remote",
          "On site",
          "On Hybrid",
          "On Hybrid",
          "On Hybrid",
          "Remote",
          "Remote",
          "On Hybrid",
          "Remote",
          "On Hybrid",
          "Remote",
          "Remote",
          "Remote",
          "Remote",
          "On Hybrid",
          "Remote",
          "Remote",
          "Remote",
          "On Hybrid",
          "Remote",
          "Remote",
          "Remote",
          "Remote",
          "Remote",
          "Remote",
          "On site",
          "On Hybrid",
          "On Hybrid",
          "Remote",
          "Remote",
          "Remote",
          "On site",
          "Remote",
          "On Hybrid",
          "On site",
          "On site",
          "On Hybrid",
          "Remote",
          "Remote",
          "Remote",
          "Remote",
          "On Hybrid",
          "Remote",
          "Remote",
          "Remote",
          "Remote",
          "Remote",
          "Remote",
          "Remote",
          "Remote",
          "Remote",
          "On Hybrid",
          "Remote",
          "Remote",
          "On site",
          "On Hybrid",
          "Remote",
          "On Hybrid",
          "On site",
          "Remote",
          "On Hybrid",
          "On Hybrid",
          "On Hybrid",
          "Remote",
          "Remote",
          "On site",
          "Remote",
          "On Hybrid",
          "On Hybrid",
          "On site",
          "Remote",
          "Remote",
          "On site",
          "On site",
          "Remote",
          "Remote",
          "On Hybrid",
          "On Hybrid",
          "Remote",
          "Remote",
          "Remote",
          "On site",
          "Remote",
          "Remote",
          "Remote",
          "Remote",
          "On Hybrid",
          "Remote",
          "Remote",
          "Remote",
          "On Hybrid",
          "On site",
          "On Hybrid",
          "On Hybrid",
          "On Hybrid",
          "Remote",
          "Remote",
          "On site",
          "On Hybrid",
          "Remote",
          "Remote",
          "Remote",
          "Remote",
          "Remote",
          "On Hybrid",
          "Remote",
          "On site",
          "Remote",
          "On Hybrid",
          "Remote",
          "On site",
          "On Hybrid",
          "On site",
          "On Hybrid",
          "On Hybrid",
          "Remote",
          "Remote",
          "Remote",
          "On Hybrid",
          "On Hybrid",
          "Remote",
          "On Hybrid",
          "On site",
          "Remote",
          "On Hybrid",
          "On Hybrid",
          "Remote",
          "Remote",
          "On Hybrid",
          "Remote",
          "On Hybrid",
          "Remote",
          "Remote",
          "Remote",
          "Remote",
          "On site",
          "Remote",
          "On site",
          "On site",
          "On site",
          "On Hybrid",
          "On Hybrid",
          "On Hybrid",
          "On site",
          "On Hybrid",
          "Remote",
          "On Hybrid",
          "On Hybrid",
          "Remote",
          "Remote",
          "Remote",
          "On Hybrid",
          "On site",
          "On Hybrid",
          "Remote",
          "Remote",
          "On Hybrid",
          "On site",
          "Remote",
          "Remote",
          "Remote",
          "Remote",
          "Remote",
          "Remote",
          "On site",
          "Remote",
          "Remote",
          "On site",
          "On Hybrid",
          "Remote",
          "Remote",
          "Remote",
          "Remote",
          "Remote",
          "On Hybrid",
          "On Hybrid",
          "On site",
          "On Hybrid",
          "Remote",
          "On Hybrid",
          "Remote",
          "Remote",
          "Remote",
          "On Hybrid",
          "Remote",
          "Remote",
          "On Hybrid",
          "On site",
          "On Hybrid",
          "On Hybrid",
          "Remote",
          "On site",
          "Remote",
          "On Hybrid",
          "On site",
          "On site",
          "Remote",
          "On Hybrid",
          "Remote",
          "On site",
          "On site",
          "Remote",
          "On Hybrid",
          "Remote",
          "On Hybrid",
          "Remote",
          "On Hybrid",
          "Remote",
          "Remote",
          "On site",
          "Remote",
          "Remote",
          "On Hybrid",
          "On Hybrid",
          "Remote",
          "On Hybrid",
          "On Hybrid",
          "Remote",
          "Remote",
          "Remote",
          "On site",
          "On site",
          "Remote",
          "Remote",
          "Remote",
          "Remote",
          "Remote",
          "Remote",
          "On site",
          "On site",
          "Remote",
          "Remote",
          "Remote",
          "On site",
          "On site",
          "On site",
          "On site",
          "Remote",
          "Remote",
          "On site",
          "On site",
          "On site",
          "On site",
          "Remote",
          "Remote",
          "Remote",
          "Remote",
          "On site",
          "On site",
          "On site",
          "On site",
          "On site",
          "On site",
          "Remote",
          "Remote",
          "Remote",
          "Remote",
          "Remote",
          "Remote",
          "Remote",
          "Remote",
          "Remote",
          "Remote",
          "Remote",
          "Remote",
          "Remote",
          "Remote",
          "Remote",
          "Remote",
          "Remote",
          "Remote",
          "Remote",
          "Remote",
          "Remote",
          "On site",
          "On site",
          "On site",
          "Remote",
          "Remote",
          "Remote",
          "Remote",
          "Remote",
          "On site",
          "On site",
          "On site",
          "Remote",
          "Remote",
          "Remote",
          "Remote",
          "Remote",
          "Remote",
          "Remote",
          "On site",
          "Remote",
          "On site",
          "On site",
          "Remote",
          "Remote",
          "Remote",
          "On site",
          "On site",
          "On site",
          "On site",
          "Remote",
          "On site",
          "Remote",
          "Remote",
          "Remote",
          "Remote",
          "Remote",
          "Remote",
          "Remote",
          "On Hybrid",
          "Remote",
          "Remote",
          "On site",
          "Remote",
          "On site",
          "On site",
          "On site",
          "Remote",
          "Remote",
          "Remote",
          "Remote",
          "Remote",
          "On site",
          "Remote",
          "Remote",
          "Remote",
          "Remote",
          "On site",
          "On site",
          "Remote",
          "On site",
          "On site",
          "Remote",
          "Remote",
          "Remote",
          "On site",
          "On site",
          "Remote",
          "Remote",
          "Remote",
          "Remote",
          "Remote",
          "Remote",
          "On site",
          "Remote",
          "Remote",
          "Remote",
          "Remote",
          "On site",
          "On site",
          "On site",
          "Remote",
          "Remote",
          "On site",
          "Remote",
          "Remote",
          "Remote",
          "Remote",
          "Remote",
          "Remote",
          "Remote",
          "Remote",
          "Remote",
          "On site",
          "On site",
          "Remote",
          "Remote",
          "Remote",
          "Remote",
          "On site",
          "Remote",
          "Remote",
          "Remote",
          "Remote",
          "Remote",
          "Remote",
          "Remote",
          "On Hybrid",
          "Remote",
          "On site",
          "On Hybrid",
          "Remote",
          "On site",
          "Remote",
          "Remote",
          "On Hybrid",
          "On Hybrid",
          "On Hybrid",
          "Remote",
          "Remote",
          "Remote",
          "On Hybrid",
          "Remote",
          "Remote",
          "Remote",
          "Remote",
          "Remote",
          "Remote",
          "Remote",
          "On site",
          "On site",
          "Remote",
          "Remote",
          "Remote",
          "Remote",
          "Remote",
          "Remote",
          "Remote",
          "Remote",
          "Remote",
          "Remote",
          "Remote",
          "On Hybrid",
          "Remote",
          "Remote",
          "Remote",
          "Remote",
          "Remote",
          "Remote",
          "Remote",
          "On Hybrid",
          "Remote",
          "Remote",
          "On Hybrid",
          "Remote",
          "Remote",
          "Remote",
          "Remote",
          "Remote",
          "Remote",
          "On Hybrid",
          "Remote",
          "On site",
          "Remote",
          "Remote",
          "Remote",
          "On Hybrid",
          "Remote",
          "Remote",
          "On site",
          "Remote",
          "Remote",
          "Remote",
          "On site",
          "Remote",
          "Remote",
          "Remote",
          "Remote",
          "Remote",
          "Remote",
          "Remote",
          "Remote",
          "Remote",
          "Remote",
          "On site",
          "On site",
          "Remote",
          "Remote",
          "Remote",
          "Remote",
          "Remote",
          "Remote",
          "On site",
          "On site",
          "Remote",
          "Remote",
          "On site",
          "On site",
          "Remote",
          "Remote",
          "Remote",
          "Remote",
          "Remote",
          "Remote",
          "On site",
          "On site",
          "Remote",
          "Remote",
          "Remote",
          "Remote",
          "Remote",
          "On site",
          "On site",
          "On site",
          "On site",
          "On site",
          "Remote",
          "Remote",
          "Remote",
          "On site",
          "Remote",
          "On site",
          "Remote",
          "Remote",
          "Remote",
          "Remote",
          "Remote",
          "Remote",
          "Remote",
          "Remote",
          "Remote",
          "Remote",
          "Remote",
          "Remote",
          "Remote",
          "Remote",
          "Remote",
          "Remote",
          "Remote",
          "Remote",
          "On site",
          "Remote",
          "On site",
          "Remote",
          "Remote",
          "Remote",
          "Remote",
          "Remote",
          "Remote",
          "Remote",
          "Remote",
          "Remote",
          "Remote",
          "Remote",
          "On site",
          "On site",
          "Remote",
          "Remote",
          "On site",
          "Remote",
          "Remote"
         ],
         "xaxis": "x2",
         "y": [
          79833,
          260000,
          109024,
          20000,
          150000,
          72000,
          190000,
          35735,
          135000,
          125000,
          51321,
          40481,
          39916,
          87000,
          85000,
          8000,
          41689,
          114047,
          5707,
          56000,
          43331,
          6072,
          47899,
          98000,
          115000,
          325000,
          42000,
          33511,
          100000,
          117104,
          59303,
          70000,
          68428,
          46759,
          74130,
          103000,
          250000,
          10000,
          138000,
          45760,
          79833,
          50180,
          106000,
          112872,
          15966,
          76958,
          188000,
          105000,
          70139,
          6072,
          91000,
          45896,
          54742,
          60000,
          148261,
          38776,
          118000,
          120000,
          138350,
          110000,
          130800,
          21669,
          45618,
          62726,
          49268,
          190200,
          105000,
          91237,
          62726,
          42197,
          82528,
          150000,
          235000,
          53192,
          100000,
          5409,
          270000,
          80000,
          79197,
          140000,
          54238,
          47282,
          153667,
          28476,
          59102,
          110000,
          170000,
          80000,
          88654,
          76833,
          19609,
          276000,
          29751,
          89294,
          12000,
          70000,
          95746,
          75000,
          150000,
          36259,
          62000,
          73000,
          51519,
          187442,
          115000,
          150000,
          30428,
          94564,
          113476,
          103160,
          12000,
          45391,
          225000,
          50000,
          40189,
          90000,
          200000,
          60000,
          200000,
          50000,
          110037,
          10354,
          151000,
          120000,
          9466,
          20000,
          40570,
          100000,
          49646,
          38400,
          24000,
          100000,
          90000,
          63711,
          77364,
          220000,
          80000,
          135000,
          240000,
          150000,
          82500,
          100000,
          82744,
          62649,
          90000,
          153000,
          160000,
          168000,
          150000,
          75774,
          13400,
          144000,
          127221,
          119059,
          120000,
          125000,
          230000,
          85000,
          28369,
          63831,
          130026,
          165000,
          80000,
          250000,
          55000,
          150000,
          170000,
          82528,
          60000,
          235000,
          60757,
          174000,
          2859,
          40038,
          81000,
          5679,
          22611,
          90734,
          26005,
          61896,
          12000,
          4000,
          50000,
          69741,
          76833,
          74000,
          152000,
          21844,
          18000,
          174000,
          96113,
          147000,
          9272,
          24342,
          54094,
          90000,
          61467,
          195000,
          37825,
          50000,
          160000,
          12901,
          200000,
          165000,
          20000,
          120000,
          24823,
          56738,
          66022,
          5882,
          24823,
          185000,
          28609,
          90734,
          88654,
          140000,
          46597,
          116914,
          33808,
          56256,
          225000,
          87738,
          88654,
          135000,
          71786,
          16228,
          256000,
          200000,
          200000,
          180000,
          110000,
          63810,
          46809,
          4000,
          21637,
          103691,
          80000,
          110000,
          165000,
          18053,
          72212,
          36643,
          12103,
          96282,
          170000,
          115000,
          90000,
          28399,
          93000,
          99703,
          200000,
          173762,
          185000,
          141846,
          130000,
          63831,
          16904,
          66265,
          25532,
          160000,
          93150,
          111775,
          28016,
          65013,
          72500,
          18907,
          76833,
          85000,
          77684,
          100000,
          58000,
          55000,
          20171,
          59102,
          112000,
          100000,
          69741,
          105000,
          69999,
          94665,
          102839,
          109000,
          51064,
          135000,
          155000,
          120600,
          130000,
          90000,
          170000,
          150000,
          102100,
          84900,
          136620,
          99360,
          117789,
          104702,
          146000,
          123000,
          52351,
          99000,
          116000,
          106260,
          126500,
          242000,
          200000,
          65438,
          39263,
          78526,
          52351,
          165220,
          45807,
          120160,
          90320,
          181940,
          132320,
          220110,
          160080,
          180000,
          120000,
          124190,
          130000,
          110000,
          170000,
          115500,
          112900,
          90320,
          112900,
          90320,
          165400,
          132320,
          167000,
          243900,
          136600,
          109280,
          128875,
          93700,
          224000,
          167875,
          175000,
          156600,
          108800,
          95550,
          113000,
          135000,
          161342,
          137141,
          167000,
          123000,
          78526,
          65438,
          150000,
          211500,
          192400,
          90700,
          130000,
          61300,
          130000,
          61300,
          160000,
          138600,
          136000,
          58000,
          135000,
          170000,
          123000,
          189650,
          164996,
          54957,
          54957,
          118187,
          132000,
          165400,
          208775,
          147800,
          136994,
          101570,
          128875,
          93700,
          79039,
          132320,
          37300,
          164000,
          155000,
          124333,
          98158,
          120000,
          112900,
          90320,
          145000,
          105400,
          87932,
          117789,
          215300,
          158200,
          209100,
          154600,
          115934,
          81666,
          175000,
          98158,
          58000,
          183600,
          52351,
          180000,
          71982,
          45807,
          65949,
          49461,
          78526,
          58894,
          260000,
          60000,
          63900,
          160000,
          112300,
          241000,
          159000,
          180000,
          80000,
          82900,
          100800,
          49461,
          140400,
          39263,
          43966,
          32974,
          87932,
          76940,
          104702,
          91614,
          65949,
          87932,
          189650,
          164996,
          43966,
          32974,
          98158,
          78526,
          215300,
          76940,
          209100,
          154600,
          180000,
          21983,
          80000,
          78791,
          196979,
          120000,
          125000,
          37236,
          105000,
          87932,
          18442,
          31615,
          58255,
          100000,
          54957,
          18442,
          162674,
          120000,
          144000,
          104890,
          100000,
          140000,
          135000,
          50000,
          220000,
          140000,
          183228,
          91614,
          185100,
          220000,
          200000,
          120000,
          120000,
          65000,
          324000,
          216000,
          210000,
          120000,
          230000,
          100000,
          100000,
          31875,
          200000,
          75000,
          35590,
          78791,
          100000,
          153000,
          58035,
          165000,
          93427,
          52396,
          62651,
          32974,
          40000,
          87425,
          115000,
          86703,
          75000,
          64849,
          120000,
          157000,
          150000,
          70912,
          65000,
          71444,
          20000,
          48000,
          152500,
          68147,
          122346,
          380000,
          69336,
          10000,
          20000,
          135000,
          177000,
          78000,
          135000,
          100000,
          90320,
          85000,
          75000,
          214000,
          192600,
          266400,
          213120,
          112900,
          155000,
          141300,
          102100,
          115934,
          81666,
          206699,
          99100,
          130000,
          115000,
          110500,
          130000,
          99050,
          160000,
          205300,
          140400,
          176000,
          144000,
          200100,
          160000,
          145000,
          70500,
          205300,
          140400,
          205300,
          184700,
          175100,
          140250,
          116150,
          54000,
          170000,
          65438,
          80000,
          140000,
          210000,
          140000,
          100000,
          69000,
          210000,
          140000,
          210000,
          150075,
          100000,
          25000,
          126500,
          106260,
          220110,
          160080,
          105000,
          110925,
          45807,
          140000,
          99000,
          60000,
          192564,
          144854,
          230000,
          150000,
          150260,
          109280,
          210000,
          170000,
          160000,
          130000,
          67000,
          52000,
          154000,
          126000,
          129000,
          150000,
          200000
         ],
         "yaxis": "y2"
        },
        {
         "boxpoints": "all",
         "type": "box",
         "x": [
          "L",
          "S",
          "M",
          "S",
          "L",
          "L",
          "S",
          "L",
          "L",
          "S",
          "S",
          "L",
          "M",
          "L",
          "L",
          "L",
          "S",
          "S",
          "M",
          "M",
          "M",
          "L",
          "L",
          "M",
          "L",
          "L",
          "L",
          "S",
          "L",
          "L",
          "S",
          "L",
          "L",
          "L",
          "L",
          "L",
          "L",
          "S",
          "S",
          "S",
          "L",
          "M",
          "L",
          "L",
          "S",
          "S",
          "L",
          "L",
          "L",
          "S",
          "L",
          "S",
          "L",
          "S",
          "M",
          "M",
          "M",
          "L",
          "M",
          "L",
          "M",
          "S",
          "S",
          "S",
          "S",
          "M",
          "S",
          "S",
          "S",
          "S",
          "L",
          "L",
          "L",
          "L",
          "M",
          "M",
          "L",
          "M",
          "L",
          "L",
          "L",
          "S",
          "L",
          "L",
          "M",
          "L",
          "L",
          "S",
          "L",
          "S",
          "L",
          "L",
          "L",
          "L",
          "S",
          "M",
          "S",
          "L",
          "L",
          "L",
          "L",
          "L",
          "L",
          "L",
          "S",
          "M",
          "L",
          "L",
          "M",
          "S",
          "M",
          "L",
          "L",
          "L",
          "M",
          "S",
          "L",
          "M",
          "M",
          "M",
          "L",
          "M",
          "L",
          "S",
          "S",
          "S",
          "L",
          "S",
          "M",
          "M",
          "M",
          "S",
          "M",
          "S",
          "S",
          "L",
          "M",
          "L",
          "L",
          "L",
          "S",
          "L",
          "M",
          "M",
          "L",
          "L",
          "S",
          "S",
          "M",
          "L",
          "L",
          "L",
          "L",
          "M",
          "M",
          "S",
          "L",
          "M",
          "L",
          "L",
          "M",
          "L",
          "L",
          "L",
          "S",
          "L",
          "L",
          "L",
          "S",
          "L",
          "L",
          "L",
          "S",
          "L",
          "S",
          "S",
          "L",
          "L",
          "L",
          "L",
          "M",
          "M",
          "M",
          "S",
          "S",
          "S",
          "L",
          "M",
          "S",
          "L",
          "L",
          "L",
          "S",
          "L",
          "L",
          "S",
          "M",
          "M",
          "L",
          "S",
          "L",
          "S",
          "L",
          "M",
          "L",
          "L",
          "L",
          "S",
          "S",
          "L",
          "M",
          "L",
          "S",
          "L",
          "M",
          "L",
          "L",
          "L",
          "M",
          "L",
          "L",
          "S",
          "L",
          "L",
          "M",
          "L",
          "S",
          "L",
          "L",
          "L",
          "S",
          "M",
          "M",
          "M",
          "M",
          "L",
          "L",
          "L",
          "L",
          "S",
          "L",
          "L",
          "M",
          "L",
          "M",
          "L",
          "S",
          "M",
          "L",
          "M",
          "L",
          "M",
          "L",
          "L",
          "L",
          "L",
          "S",
          "L",
          "S",
          "S",
          "M",
          "M",
          "M",
          "M",
          "L",
          "M",
          "L",
          "S",
          "M",
          "M",
          "L",
          "L",
          "L",
          "L",
          "L",
          "L",
          "L",
          "M",
          "L",
          "L",
          "L",
          "L",
          "L",
          "M",
          "M",
          "M",
          "M",
          "M",
          "M",
          "M",
          "M",
          "M",
          "M",
          "M",
          "M",
          "M",
          "M",
          "M",
          "M",
          "M",
          "M",
          "M",
          "M",
          "M",
          "M",
          "M",
          "M",
          "M",
          "M",
          "M",
          "M",
          "M",
          "M",
          "M",
          "M",
          "M",
          "M",
          "L",
          "L",
          "M",
          "M",
          "M",
          "M",
          "M",
          "M",
          "M",
          "M",
          "M",
          "M",
          "M",
          "M",
          "M",
          "M",
          "M",
          "M",
          "M",
          "M",
          "M",
          "M",
          "M",
          "M",
          "M",
          "L",
          "M",
          "M",
          "M",
          "M",
          "M",
          "M",
          "M",
          "M",
          "M",
          "M",
          "M",
          "M",
          "M",
          "M",
          "M",
          "L",
          "M",
          "M",
          "S",
          "M",
          "M",
          "M",
          "M",
          "M",
          "M",
          "M",
          "S",
          "M",
          "M",
          "M",
          "M",
          "M",
          "M",
          "M",
          "M",
          "L",
          "M",
          "L",
          "M",
          "M",
          "M",
          "M",
          "M",
          "M",
          "M",
          "M",
          "M",
          "M",
          "M",
          "L",
          "L",
          "L",
          "L",
          "M",
          "M",
          "M",
          "M",
          "S",
          "L",
          "M",
          "M",
          "M",
          "M",
          "M",
          "M",
          "M",
          "M",
          "M",
          "L",
          "M",
          "L",
          "L",
          "M",
          "M",
          "M",
          "M",
          "M",
          "L",
          "M",
          "L",
          "M",
          "M",
          "M",
          "M",
          "M",
          "M",
          "M",
          "M",
          "M",
          "M",
          "M",
          "M",
          "M",
          "M",
          "M",
          "L",
          "M",
          "L",
          "L",
          "M",
          "L",
          "M",
          "M",
          "L",
          "S",
          "M",
          "L",
          "M",
          "M",
          "M",
          "L",
          "L",
          "L",
          "L",
          "M",
          "M",
          "M",
          "L",
          "M",
          "M",
          "M",
          "M",
          "M",
          "M",
          "M",
          "M",
          "M",
          "M",
          "M",
          "M",
          "M",
          "S",
          "S",
          "M",
          "M",
          "M",
          "M",
          "M",
          "M",
          "M",
          "M",
          "M",
          "S",
          "L",
          "M",
          "M",
          "M",
          "M",
          "M",
          "L",
          "L",
          "L",
          "S",
          "L",
          "L",
          "M",
          "M",
          "L",
          "L",
          "L",
          "L",
          "S",
          "L",
          "S",
          "S",
          "M",
          "S",
          "M",
          "M",
          "L",
          "L",
          "M",
          "M",
          "S",
          "L",
          "L",
          "M",
          "M",
          "M",
          "M",
          "M",
          "M",
          "M",
          "M",
          "M",
          "M",
          "M",
          "M",
          "M",
          "M",
          "M",
          "M",
          "M",
          "M",
          "M",
          "M",
          "M",
          "M",
          "M",
          "M",
          "L",
          "L",
          "M",
          "M",
          "M",
          "M",
          "M",
          "M",
          "M",
          "M",
          "M",
          "M",
          "M",
          "M",
          "M",
          "M",
          "M",
          "M",
          "M",
          "M",
          "M",
          "M",
          "M",
          "M",
          "M",
          "M",
          "M",
          "M",
          "M",
          "M",
          "M",
          "M",
          "M",
          "M",
          "M",
          "M",
          "M",
          "M",
          "M",
          "M",
          "M",
          "M",
          "M",
          "M",
          "M",
          "M",
          "M",
          "M",
          "M",
          "M",
          "M",
          "M",
          "M",
          "M",
          "M",
          "M",
          "L"
         ],
         "xaxis": "x3",
         "y": [
          79833,
          260000,
          109024,
          20000,
          150000,
          72000,
          190000,
          35735,
          135000,
          125000,
          51321,
          40481,
          39916,
          87000,
          85000,
          8000,
          41689,
          114047,
          5707,
          56000,
          43331,
          6072,
          47899,
          98000,
          115000,
          325000,
          42000,
          33511,
          100000,
          117104,
          59303,
          70000,
          68428,
          46759,
          74130,
          103000,
          250000,
          10000,
          138000,
          45760,
          79833,
          50180,
          106000,
          112872,
          15966,
          76958,
          188000,
          105000,
          70139,
          6072,
          91000,
          45896,
          54742,
          60000,
          148261,
          38776,
          118000,
          120000,
          138350,
          110000,
          130800,
          21669,
          45618,
          62726,
          49268,
          190200,
          105000,
          91237,
          62726,
          42197,
          82528,
          150000,
          235000,
          53192,
          100000,
          5409,
          270000,
          80000,
          79197,
          140000,
          54238,
          47282,
          153667,
          28476,
          59102,
          110000,
          170000,
          80000,
          88654,
          76833,
          19609,
          276000,
          29751,
          89294,
          12000,
          70000,
          95746,
          75000,
          150000,
          36259,
          62000,
          73000,
          51519,
          187442,
          115000,
          150000,
          30428,
          94564,
          113476,
          103160,
          12000,
          45391,
          225000,
          50000,
          40189,
          90000,
          200000,
          60000,
          200000,
          50000,
          110037,
          10354,
          151000,
          120000,
          9466,
          20000,
          40570,
          100000,
          49646,
          38400,
          24000,
          100000,
          90000,
          63711,
          77364,
          220000,
          80000,
          135000,
          240000,
          150000,
          82500,
          100000,
          82744,
          62649,
          90000,
          153000,
          160000,
          168000,
          150000,
          75774,
          13400,
          144000,
          127221,
          119059,
          120000,
          125000,
          230000,
          85000,
          28369,
          63831,
          130026,
          165000,
          80000,
          250000,
          55000,
          150000,
          170000,
          82528,
          60000,
          235000,
          60757,
          174000,
          2859,
          40038,
          81000,
          5679,
          22611,
          90734,
          26005,
          61896,
          12000,
          4000,
          50000,
          69741,
          76833,
          74000,
          152000,
          21844,
          18000,
          174000,
          96113,
          147000,
          9272,
          24342,
          54094,
          90000,
          61467,
          195000,
          37825,
          50000,
          160000,
          12901,
          200000,
          165000,
          20000,
          120000,
          24823,
          56738,
          66022,
          5882,
          24823,
          185000,
          28609,
          90734,
          88654,
          140000,
          46597,
          116914,
          33808,
          56256,
          225000,
          87738,
          88654,
          135000,
          71786,
          16228,
          256000,
          200000,
          200000,
          180000,
          110000,
          63810,
          46809,
          4000,
          21637,
          103691,
          80000,
          110000,
          165000,
          18053,
          72212,
          36643,
          12103,
          96282,
          170000,
          115000,
          90000,
          28399,
          93000,
          99703,
          200000,
          173762,
          185000,
          141846,
          130000,
          63831,
          16904,
          66265,
          25532,
          160000,
          93150,
          111775,
          28016,
          65013,
          72500,
          18907,
          76833,
          85000,
          77684,
          100000,
          58000,
          55000,
          20171,
          59102,
          112000,
          100000,
          69741,
          105000,
          69999,
          94665,
          102839,
          109000,
          51064,
          135000,
          155000,
          120600,
          130000,
          90000,
          170000,
          150000,
          102100,
          84900,
          136620,
          99360,
          117789,
          104702,
          146000,
          123000,
          52351,
          99000,
          116000,
          106260,
          126500,
          242000,
          200000,
          65438,
          39263,
          78526,
          52351,
          165220,
          45807,
          120160,
          90320,
          181940,
          132320,
          220110,
          160080,
          180000,
          120000,
          124190,
          130000,
          110000,
          170000,
          115500,
          112900,
          90320,
          112900,
          90320,
          165400,
          132320,
          167000,
          243900,
          136600,
          109280,
          128875,
          93700,
          224000,
          167875,
          175000,
          156600,
          108800,
          95550,
          113000,
          135000,
          161342,
          137141,
          167000,
          123000,
          78526,
          65438,
          150000,
          211500,
          192400,
          90700,
          130000,
          61300,
          130000,
          61300,
          160000,
          138600,
          136000,
          58000,
          135000,
          170000,
          123000,
          189650,
          164996,
          54957,
          54957,
          118187,
          132000,
          165400,
          208775,
          147800,
          136994,
          101570,
          128875,
          93700,
          79039,
          132320,
          37300,
          164000,
          155000,
          124333,
          98158,
          120000,
          112900,
          90320,
          145000,
          105400,
          87932,
          117789,
          215300,
          158200,
          209100,
          154600,
          115934,
          81666,
          175000,
          98158,
          58000,
          183600,
          52351,
          180000,
          71982,
          45807,
          65949,
          49461,
          78526,
          58894,
          260000,
          60000,
          63900,
          160000,
          112300,
          241000,
          159000,
          180000,
          80000,
          82900,
          100800,
          49461,
          140400,
          39263,
          43966,
          32974,
          87932,
          76940,
          104702,
          91614,
          65949,
          87932,
          189650,
          164996,
          43966,
          32974,
          98158,
          78526,
          215300,
          76940,
          209100,
          154600,
          180000,
          21983,
          80000,
          78791,
          196979,
          120000,
          125000,
          37236,
          105000,
          87932,
          18442,
          31615,
          58255,
          100000,
          54957,
          18442,
          162674,
          120000,
          144000,
          104890,
          100000,
          140000,
          135000,
          50000,
          220000,
          140000,
          183228,
          91614,
          185100,
          220000,
          200000,
          120000,
          120000,
          65000,
          324000,
          216000,
          210000,
          120000,
          230000,
          100000,
          100000,
          31875,
          200000,
          75000,
          35590,
          78791,
          100000,
          153000,
          58035,
          165000,
          93427,
          52396,
          62651,
          32974,
          40000,
          87425,
          115000,
          86703,
          75000,
          64849,
          120000,
          157000,
          150000,
          70912,
          65000,
          71444,
          20000,
          48000,
          152500,
          68147,
          122346,
          380000,
          69336,
          10000,
          20000,
          135000,
          177000,
          78000,
          135000,
          100000,
          90320,
          85000,
          75000,
          214000,
          192600,
          266400,
          213120,
          112900,
          155000,
          141300,
          102100,
          115934,
          81666,
          206699,
          99100,
          130000,
          115000,
          110500,
          130000,
          99050,
          160000,
          205300,
          140400,
          176000,
          144000,
          200100,
          160000,
          145000,
          70500,
          205300,
          140400,
          205300,
          184700,
          175100,
          140250,
          116150,
          54000,
          170000,
          65438,
          80000,
          140000,
          210000,
          140000,
          100000,
          69000,
          210000,
          140000,
          210000,
          150075,
          100000,
          25000,
          126500,
          106260,
          220110,
          160080,
          105000,
          110925,
          45807,
          140000,
          99000,
          60000,
          192564,
          144854,
          230000,
          150000,
          150260,
          109280,
          210000,
          170000,
          160000,
          130000,
          67000,
          52000,
          154000,
          126000,
          129000,
          150000,
          200000
         ],
         "yaxis": "y3"
        },
        {
         "boxpoints": "all",
         "type": "box",
         "x": [
          2020,
          2020,
          2020,
          2020,
          2020,
          2020,
          2020,
          2020,
          2020,
          2020,
          2020,
          2020,
          2020,
          2020,
          2020,
          2020,
          2020,
          2020,
          2020,
          2020,
          2020,
          2020,
          2020,
          2020,
          2020,
          2020,
          2020,
          2020,
          2020,
          2020,
          2020,
          2020,
          2020,
          2020,
          2020,
          2020,
          2020,
          2020,
          2020,
          2020,
          2020,
          2020,
          2020,
          2020,
          2020,
          2020,
          2020,
          2020,
          2020,
          2020,
          2020,
          2020,
          2020,
          2020,
          2020,
          2020,
          2020,
          2020,
          2020,
          2020,
          2020,
          2020,
          2020,
          2020,
          2020,
          2020,
          2020,
          2020,
          2020,
          2020,
          2021,
          2021,
          2021,
          2021,
          2021,
          2021,
          2021,
          2021,
          2021,
          2021,
          2021,
          2021,
          2021,
          2021,
          2021,
          2021,
          2021,
          2021,
          2021,
          2021,
          2021,
          2021,
          2021,
          2021,
          2021,
          2021,
          2021,
          2021,
          2021,
          2021,
          2021,
          2021,
          2021,
          2021,
          2021,
          2021,
          2021,
          2021,
          2021,
          2021,
          2021,
          2021,
          2021,
          2021,
          2021,
          2021,
          2021,
          2021,
          2021,
          2021,
          2021,
          2021,
          2021,
          2021,
          2021,
          2021,
          2021,
          2021,
          2021,
          2021,
          2021,
          2021,
          2021,
          2021,
          2021,
          2021,
          2021,
          2021,
          2021,
          2021,
          2021,
          2021,
          2021,
          2021,
          2021,
          2021,
          2021,
          2021,
          2021,
          2021,
          2021,
          2021,
          2021,
          2021,
          2021,
          2021,
          2021,
          2021,
          2021,
          2021,
          2021,
          2021,
          2021,
          2021,
          2021,
          2021,
          2021,
          2021,
          2021,
          2021,
          2021,
          2021,
          2021,
          2021,
          2021,
          2021,
          2021,
          2021,
          2021,
          2021,
          2021,
          2021,
          2021,
          2021,
          2021,
          2021,
          2021,
          2021,
          2021,
          2021,
          2021,
          2021,
          2021,
          2021,
          2021,
          2021,
          2021,
          2021,
          2021,
          2021,
          2021,
          2021,
          2021,
          2021,
          2021,
          2021,
          2021,
          2021,
          2021,
          2021,
          2021,
          2021,
          2021,
          2021,
          2021,
          2021,
          2021,
          2021,
          2021,
          2021,
          2021,
          2021,
          2021,
          2021,
          2021,
          2021,
          2021,
          2021,
          2021,
          2021,
          2021,
          2021,
          2021,
          2021,
          2021,
          2021,
          2021,
          2021,
          2021,
          2021,
          2021,
          2021,
          2021,
          2021,
          2021,
          2021,
          2021,
          2021,
          2021,
          2021,
          2021,
          2021,
          2021,
          2021,
          2021,
          2021,
          2021,
          2021,
          2021,
          2021,
          2021,
          2021,
          2021,
          2021,
          2021,
          2021,
          2021,
          2021,
          2021,
          2021,
          2021,
          2021,
          2021,
          2021,
          2021,
          2021,
          2021,
          2021,
          2021,
          2021,
          2021,
          2021,
          2021,
          2022,
          2022,
          2022,
          2022,
          2022,
          2022,
          2022,
          2022,
          2022,
          2022,
          2022,
          2022,
          2022,
          2022,
          2022,
          2022,
          2022,
          2022,
          2022,
          2022,
          2022,
          2022,
          2022,
          2022,
          2022,
          2022,
          2022,
          2022,
          2022,
          2022,
          2022,
          2022,
          2022,
          2022,
          2022,
          2022,
          2022,
          2022,
          2022,
          2022,
          2022,
          2022,
          2022,
          2022,
          2022,
          2022,
          2022,
          2022,
          2022,
          2022,
          2022,
          2022,
          2022,
          2022,
          2022,
          2022,
          2022,
          2022,
          2022,
          2022,
          2022,
          2022,
          2022,
          2022,
          2022,
          2022,
          2022,
          2022,
          2022,
          2022,
          2022,
          2022,
          2022,
          2022,
          2022,
          2022,
          2022,
          2022,
          2022,
          2022,
          2022,
          2022,
          2022,
          2022,
          2022,
          2022,
          2022,
          2022,
          2022,
          2022,
          2022,
          2022,
          2022,
          2022,
          2022,
          2022,
          2022,
          2022,
          2022,
          2022,
          2022,
          2022,
          2022,
          2022,
          2022,
          2022,
          2022,
          2022,
          2022,
          2022,
          2022,
          2022,
          2022,
          2022,
          2022,
          2022,
          2022,
          2022,
          2022,
          2022,
          2022,
          2022,
          2022,
          2022,
          2022,
          2022,
          2022,
          2022,
          2022,
          2022,
          2022,
          2022,
          2022,
          2022,
          2022,
          2022,
          2022,
          2022,
          2022,
          2022,
          2022,
          2022,
          2022,
          2022,
          2022,
          2022,
          2022,
          2022,
          2022,
          2022,
          2022,
          2022,
          2022,
          2022,
          2022,
          2022,
          2022,
          2022,
          2022,
          2022,
          2022,
          2022,
          2022,
          2022,
          2022,
          2022,
          2022,
          2022,
          2022,
          2022,
          2022,
          2022,
          2022,
          2022,
          2022,
          2022,
          2022,
          2022,
          2022,
          2022,
          2022,
          2022,
          2022,
          2022,
          2022,
          2022,
          2022,
          2022,
          2022,
          2022,
          2022,
          2022,
          2022,
          2022,
          2022,
          2022,
          2022,
          2022,
          2022,
          2022,
          2022,
          2022,
          2022,
          2022,
          2022,
          2022,
          2022,
          2022,
          2022,
          2022,
          2022,
          2022,
          2022,
          2022,
          2022,
          2022,
          2022,
          2022,
          2022,
          2022,
          2022,
          2022,
          2022,
          2022,
          2022,
          2022,
          2022,
          2022,
          2022,
          2022,
          2022,
          2022,
          2022,
          2022,
          2022,
          2022,
          2022,
          2022,
          2022,
          2022,
          2022,
          2022,
          2022,
          2022,
          2022,
          2022,
          2022,
          2022,
          2022,
          2022,
          2022,
          2022,
          2022,
          2022,
          2022,
          2022,
          2022,
          2022,
          2022,
          2022,
          2022,
          2022,
          2022,
          2022,
          2022,
          2022,
          2022,
          2022,
          2022,
          2022,
          2022,
          2022,
          2022,
          2022,
          2022,
          2022,
          2022,
          2022,
          2022,
          2022,
          2022,
          2022,
          2022,
          2022,
          2022,
          2022,
          2022,
          2022,
          2022,
          2022,
          2022,
          2022,
          2022,
          2022,
          2022,
          2022,
          2022,
          2022,
          2022,
          2022,
          2022,
          2022,
          2022,
          2022,
          2022,
          2022,
          2022,
          2022,
          2022,
          2022,
          2022,
          2022,
          2022,
          2022,
          2022,
          2022,
          2022
         ],
         "xaxis": "x4",
         "y": [
          79833,
          260000,
          109024,
          20000,
          150000,
          72000,
          190000,
          35735,
          135000,
          125000,
          51321,
          40481,
          39916,
          87000,
          85000,
          8000,
          41689,
          114047,
          5707,
          56000,
          43331,
          6072,
          47899,
          98000,
          115000,
          325000,
          42000,
          33511,
          100000,
          117104,
          59303,
          70000,
          68428,
          46759,
          74130,
          103000,
          250000,
          10000,
          138000,
          45760,
          79833,
          50180,
          106000,
          112872,
          15966,
          76958,
          188000,
          105000,
          70139,
          6072,
          91000,
          45896,
          54742,
          60000,
          148261,
          38776,
          118000,
          120000,
          138350,
          110000,
          130800,
          21669,
          45618,
          62726,
          49268,
          190200,
          105000,
          91237,
          62726,
          42197,
          82528,
          150000,
          235000,
          53192,
          100000,
          5409,
          270000,
          80000,
          79197,
          140000,
          54238,
          47282,
          153667,
          28476,
          59102,
          110000,
          170000,
          80000,
          88654,
          76833,
          19609,
          276000,
          29751,
          89294,
          12000,
          70000,
          95746,
          75000,
          150000,
          36259,
          62000,
          73000,
          51519,
          187442,
          115000,
          150000,
          30428,
          94564,
          113476,
          103160,
          12000,
          45391,
          225000,
          50000,
          40189,
          90000,
          200000,
          60000,
          200000,
          50000,
          110037,
          10354,
          151000,
          120000,
          9466,
          20000,
          40570,
          100000,
          49646,
          38400,
          24000,
          100000,
          90000,
          63711,
          77364,
          220000,
          80000,
          135000,
          240000,
          150000,
          82500,
          100000,
          82744,
          62649,
          90000,
          153000,
          160000,
          168000,
          150000,
          75774,
          13400,
          144000,
          127221,
          119059,
          120000,
          125000,
          230000,
          85000,
          28369,
          63831,
          130026,
          165000,
          80000,
          250000,
          55000,
          150000,
          170000,
          82528,
          60000,
          235000,
          60757,
          174000,
          2859,
          40038,
          81000,
          5679,
          22611,
          90734,
          26005,
          61896,
          12000,
          4000,
          50000,
          69741,
          76833,
          74000,
          152000,
          21844,
          18000,
          174000,
          96113,
          147000,
          9272,
          24342,
          54094,
          90000,
          61467,
          195000,
          37825,
          50000,
          160000,
          12901,
          200000,
          165000,
          20000,
          120000,
          24823,
          56738,
          66022,
          5882,
          24823,
          185000,
          28609,
          90734,
          88654,
          140000,
          46597,
          116914,
          33808,
          56256,
          225000,
          87738,
          88654,
          135000,
          71786,
          16228,
          256000,
          200000,
          200000,
          180000,
          110000,
          63810,
          46809,
          4000,
          21637,
          103691,
          80000,
          110000,
          165000,
          18053,
          72212,
          36643,
          12103,
          96282,
          170000,
          115000,
          90000,
          28399,
          93000,
          99703,
          200000,
          173762,
          185000,
          141846,
          130000,
          63831,
          16904,
          66265,
          25532,
          160000,
          93150,
          111775,
          28016,
          65013,
          72500,
          18907,
          76833,
          85000,
          77684,
          100000,
          58000,
          55000,
          20171,
          59102,
          112000,
          100000,
          69741,
          105000,
          69999,
          94665,
          102839,
          109000,
          51064,
          135000,
          155000,
          120600,
          130000,
          90000,
          170000,
          150000,
          102100,
          84900,
          136620,
          99360,
          117789,
          104702,
          146000,
          123000,
          52351,
          99000,
          116000,
          106260,
          126500,
          242000,
          200000,
          65438,
          39263,
          78526,
          52351,
          165220,
          45807,
          120160,
          90320,
          181940,
          132320,
          220110,
          160080,
          180000,
          120000,
          124190,
          130000,
          110000,
          170000,
          115500,
          112900,
          90320,
          112900,
          90320,
          165400,
          132320,
          167000,
          243900,
          136600,
          109280,
          128875,
          93700,
          224000,
          167875,
          175000,
          156600,
          108800,
          95550,
          113000,
          135000,
          161342,
          137141,
          167000,
          123000,
          78526,
          65438,
          150000,
          211500,
          192400,
          90700,
          130000,
          61300,
          130000,
          61300,
          160000,
          138600,
          136000,
          58000,
          135000,
          170000,
          123000,
          189650,
          164996,
          54957,
          54957,
          118187,
          132000,
          165400,
          208775,
          147800,
          136994,
          101570,
          128875,
          93700,
          79039,
          132320,
          37300,
          164000,
          155000,
          124333,
          98158,
          120000,
          112900,
          90320,
          145000,
          105400,
          87932,
          117789,
          215300,
          158200,
          209100,
          154600,
          115934,
          81666,
          175000,
          98158,
          58000,
          183600,
          52351,
          180000,
          71982,
          45807,
          65949,
          49461,
          78526,
          58894,
          260000,
          60000,
          63900,
          160000,
          112300,
          241000,
          159000,
          180000,
          80000,
          82900,
          100800,
          49461,
          140400,
          39263,
          43966,
          32974,
          87932,
          76940,
          104702,
          91614,
          65949,
          87932,
          189650,
          164996,
          43966,
          32974,
          98158,
          78526,
          215300,
          76940,
          209100,
          154600,
          180000,
          21983,
          80000,
          78791,
          196979,
          120000,
          125000,
          37236,
          105000,
          87932,
          18442,
          31615,
          58255,
          100000,
          54957,
          18442,
          162674,
          120000,
          144000,
          104890,
          100000,
          140000,
          135000,
          50000,
          220000,
          140000,
          183228,
          91614,
          185100,
          220000,
          200000,
          120000,
          120000,
          65000,
          324000,
          216000,
          210000,
          120000,
          230000,
          100000,
          100000,
          31875,
          200000,
          75000,
          35590,
          78791,
          100000,
          153000,
          58035,
          165000,
          93427,
          52396,
          62651,
          32974,
          40000,
          87425,
          115000,
          86703,
          75000,
          64849,
          120000,
          157000,
          150000,
          70912,
          65000,
          71444,
          20000,
          48000,
          152500,
          68147,
          122346,
          380000,
          69336,
          10000,
          20000,
          135000,
          177000,
          78000,
          135000,
          100000,
          90320,
          85000,
          75000,
          214000,
          192600,
          266400,
          213120,
          112900,
          155000,
          141300,
          102100,
          115934,
          81666,
          206699,
          99100,
          130000,
          115000,
          110500,
          130000,
          99050,
          160000,
          205300,
          140400,
          176000,
          144000,
          200100,
          160000,
          145000,
          70500,
          205300,
          140400,
          205300,
          184700,
          175100,
          140250,
          116150,
          54000,
          170000,
          65438,
          80000,
          140000,
          210000,
          140000,
          100000,
          69000,
          210000,
          140000,
          210000,
          150075,
          100000,
          25000,
          126500,
          106260,
          220110,
          160080,
          105000,
          110925,
          45807,
          140000,
          99000,
          60000,
          192564,
          144854,
          230000,
          150000,
          150260,
          109280,
          210000,
          170000,
          160000,
          130000,
          67000,
          52000,
          154000,
          126000,
          129000,
          150000,
          200000
         ],
         "yaxis": "y4"
        }
       ],
       "layout": {
        "annotations": [
         {
          "font": {
           "size": 16
          },
          "showarrow": false,
          "text": "<i>Nivel de experiencia",
          "x": 0.5,
          "xanchor": "center",
          "xref": "paper",
          "y": 1,
          "yanchor": "bottom",
          "yref": "paper"
         },
         {
          "font": {
           "size": 16
          },
          "showarrow": false,
          "text": "<i>Tipo de trabajo",
          "x": 0.5,
          "xanchor": "center",
          "xref": "paper",
          "y": 0.71875,
          "yanchor": "bottom",
          "yref": "paper"
         },
         {
          "font": {
           "size": 16
          },
          "showarrow": false,
          "text": "<i>Tamaño de compañía",
          "x": 0.5,
          "xanchor": "center",
          "xref": "paper",
          "y": 0.4375,
          "yanchor": "bottom",
          "yref": "paper"
         },
         {
          "font": {
           "size": 16
          },
          "showarrow": false,
          "text": "<i>Año",
          "x": 0.5,
          "xanchor": "center",
          "xref": "paper",
          "y": 0.15625,
          "yanchor": "bottom",
          "yref": "paper"
         }
        ],
        "font": {
         "family": "Courier New",
         "size": 30
        },
        "height": 1000,
        "showlegend": false,
        "template": {
         "data": {
          "bar": [
           {
            "error_x": {
             "color": "#2a3f5f"
            },
            "error_y": {
             "color": "#2a3f5f"
            },
            "marker": {
             "line": {
              "color": "white",
              "width": 0.5
             },
             "pattern": {
              "fillmode": "overlay",
              "size": 10,
              "solidity": 0.2
             }
            },
            "type": "bar"
           }
          ],
          "barpolar": [
           {
            "marker": {
             "line": {
              "color": "white",
              "width": 0.5
             },
             "pattern": {
              "fillmode": "overlay",
              "size": 10,
              "solidity": 0.2
             }
            },
            "type": "barpolar"
           }
          ],
          "carpet": [
           {
            "aaxis": {
             "endlinecolor": "#2a3f5f",
             "gridcolor": "#C8D4E3",
             "linecolor": "#C8D4E3",
             "minorgridcolor": "#C8D4E3",
             "startlinecolor": "#2a3f5f"
            },
            "baxis": {
             "endlinecolor": "#2a3f5f",
             "gridcolor": "#C8D4E3",
             "linecolor": "#C8D4E3",
             "minorgridcolor": "#C8D4E3",
             "startlinecolor": "#2a3f5f"
            },
            "type": "carpet"
           }
          ],
          "choropleth": [
           {
            "colorbar": {
             "outlinewidth": 0,
             "ticks": ""
            },
            "type": "choropleth"
           }
          ],
          "contour": [
           {
            "colorbar": {
             "outlinewidth": 0,
             "ticks": ""
            },
            "colorscale": [
             [
              0,
              "#0d0887"
             ],
             [
              0.1111111111111111,
              "#46039f"
             ],
             [
              0.2222222222222222,
              "#7201a8"
             ],
             [
              0.3333333333333333,
              "#9c179e"
             ],
             [
              0.4444444444444444,
              "#bd3786"
             ],
             [
              0.5555555555555556,
              "#d8576b"
             ],
             [
              0.6666666666666666,
              "#ed7953"
             ],
             [
              0.7777777777777778,
              "#fb9f3a"
             ],
             [
              0.8888888888888888,
              "#fdca26"
             ],
             [
              1,
              "#f0f921"
             ]
            ],
            "type": "contour"
           }
          ],
          "contourcarpet": [
           {
            "colorbar": {
             "outlinewidth": 0,
             "ticks": ""
            },
            "type": "contourcarpet"
           }
          ],
          "heatmap": [
           {
            "colorbar": {
             "outlinewidth": 0,
             "ticks": ""
            },
            "colorscale": [
             [
              0,
              "#0d0887"
             ],
             [
              0.1111111111111111,
              "#46039f"
             ],
             [
              0.2222222222222222,
              "#7201a8"
             ],
             [
              0.3333333333333333,
              "#9c179e"
             ],
             [
              0.4444444444444444,
              "#bd3786"
             ],
             [
              0.5555555555555556,
              "#d8576b"
             ],
             [
              0.6666666666666666,
              "#ed7953"
             ],
             [
              0.7777777777777778,
              "#fb9f3a"
             ],
             [
              0.8888888888888888,
              "#fdca26"
             ],
             [
              1,
              "#f0f921"
             ]
            ],
            "type": "heatmap"
           }
          ],
          "heatmapgl": [
           {
            "colorbar": {
             "outlinewidth": 0,
             "ticks": ""
            },
            "colorscale": [
             [
              0,
              "#0d0887"
             ],
             [
              0.1111111111111111,
              "#46039f"
             ],
             [
              0.2222222222222222,
              "#7201a8"
             ],
             [
              0.3333333333333333,
              "#9c179e"
             ],
             [
              0.4444444444444444,
              "#bd3786"
             ],
             [
              0.5555555555555556,
              "#d8576b"
             ],
             [
              0.6666666666666666,
              "#ed7953"
             ],
             [
              0.7777777777777778,
              "#fb9f3a"
             ],
             [
              0.8888888888888888,
              "#fdca26"
             ],
             [
              1,
              "#f0f921"
             ]
            ],
            "type": "heatmapgl"
           }
          ],
          "histogram": [
           {
            "marker": {
             "pattern": {
              "fillmode": "overlay",
              "size": 10,
              "solidity": 0.2
             }
            },
            "type": "histogram"
           }
          ],
          "histogram2d": [
           {
            "colorbar": {
             "outlinewidth": 0,
             "ticks": ""
            },
            "colorscale": [
             [
              0,
              "#0d0887"
             ],
             [
              0.1111111111111111,
              "#46039f"
             ],
             [
              0.2222222222222222,
              "#7201a8"
             ],
             [
              0.3333333333333333,
              "#9c179e"
             ],
             [
              0.4444444444444444,
              "#bd3786"
             ],
             [
              0.5555555555555556,
              "#d8576b"
             ],
             [
              0.6666666666666666,
              "#ed7953"
             ],
             [
              0.7777777777777778,
              "#fb9f3a"
             ],
             [
              0.8888888888888888,
              "#fdca26"
             ],
             [
              1,
              "#f0f921"
             ]
            ],
            "type": "histogram2d"
           }
          ],
          "histogram2dcontour": [
           {
            "colorbar": {
             "outlinewidth": 0,
             "ticks": ""
            },
            "colorscale": [
             [
              0,
              "#0d0887"
             ],
             [
              0.1111111111111111,
              "#46039f"
             ],
             [
              0.2222222222222222,
              "#7201a8"
             ],
             [
              0.3333333333333333,
              "#9c179e"
             ],
             [
              0.4444444444444444,
              "#bd3786"
             ],
             [
              0.5555555555555556,
              "#d8576b"
             ],
             [
              0.6666666666666666,
              "#ed7953"
             ],
             [
              0.7777777777777778,
              "#fb9f3a"
             ],
             [
              0.8888888888888888,
              "#fdca26"
             ],
             [
              1,
              "#f0f921"
             ]
            ],
            "type": "histogram2dcontour"
           }
          ],
          "mesh3d": [
           {
            "colorbar": {
             "outlinewidth": 0,
             "ticks": ""
            },
            "type": "mesh3d"
           }
          ],
          "parcoords": [
           {
            "line": {
             "colorbar": {
              "outlinewidth": 0,
              "ticks": ""
             }
            },
            "type": "parcoords"
           }
          ],
          "pie": [
           {
            "automargin": true,
            "type": "pie"
           }
          ],
          "scatter": [
           {
            "fillpattern": {
             "fillmode": "overlay",
             "size": 10,
             "solidity": 0.2
            },
            "type": "scatter"
           }
          ],
          "scatter3d": [
           {
            "line": {
             "colorbar": {
              "outlinewidth": 0,
              "ticks": ""
             }
            },
            "marker": {
             "colorbar": {
              "outlinewidth": 0,
              "ticks": ""
             }
            },
            "type": "scatter3d"
           }
          ],
          "scattercarpet": [
           {
            "marker": {
             "colorbar": {
              "outlinewidth": 0,
              "ticks": ""
             }
            },
            "type": "scattercarpet"
           }
          ],
          "scattergeo": [
           {
            "marker": {
             "colorbar": {
              "outlinewidth": 0,
              "ticks": ""
             }
            },
            "type": "scattergeo"
           }
          ],
          "scattergl": [
           {
            "marker": {
             "colorbar": {
              "outlinewidth": 0,
              "ticks": ""
             }
            },
            "type": "scattergl"
           }
          ],
          "scattermapbox": [
           {
            "marker": {
             "colorbar": {
              "outlinewidth": 0,
              "ticks": ""
             }
            },
            "type": "scattermapbox"
           }
          ],
          "scatterpolar": [
           {
            "marker": {
             "colorbar": {
              "outlinewidth": 0,
              "ticks": ""
             }
            },
            "type": "scatterpolar"
           }
          ],
          "scatterpolargl": [
           {
            "marker": {
             "colorbar": {
              "outlinewidth": 0,
              "ticks": ""
             }
            },
            "type": "scatterpolargl"
           }
          ],
          "scatterternary": [
           {
            "marker": {
             "colorbar": {
              "outlinewidth": 0,
              "ticks": ""
             }
            },
            "type": "scatterternary"
           }
          ],
          "surface": [
           {
            "colorbar": {
             "outlinewidth": 0,
             "ticks": ""
            },
            "colorscale": [
             [
              0,
              "#0d0887"
             ],
             [
              0.1111111111111111,
              "#46039f"
             ],
             [
              0.2222222222222222,
              "#7201a8"
             ],
             [
              0.3333333333333333,
              "#9c179e"
             ],
             [
              0.4444444444444444,
              "#bd3786"
             ],
             [
              0.5555555555555556,
              "#d8576b"
             ],
             [
              0.6666666666666666,
              "#ed7953"
             ],
             [
              0.7777777777777778,
              "#fb9f3a"
             ],
             [
              0.8888888888888888,
              "#fdca26"
             ],
             [
              1,
              "#f0f921"
             ]
            ],
            "type": "surface"
           }
          ],
          "table": [
           {
            "cells": {
             "fill": {
              "color": "#EBF0F8"
             },
             "line": {
              "color": "white"
             }
            },
            "header": {
             "fill": {
              "color": "#C8D4E3"
             },
             "line": {
              "color": "white"
             }
            },
            "type": "table"
           }
          ]
         },
         "layout": {
          "annotationdefaults": {
           "arrowcolor": "#2a3f5f",
           "arrowhead": 0,
           "arrowwidth": 1
          },
          "autotypenumbers": "strict",
          "coloraxis": {
           "colorbar": {
            "outlinewidth": 0,
            "ticks": ""
           }
          },
          "colorscale": {
           "diverging": [
            [
             0,
             "#8e0152"
            ],
            [
             0.1,
             "#c51b7d"
            ],
            [
             0.2,
             "#de77ae"
            ],
            [
             0.3,
             "#f1b6da"
            ],
            [
             0.4,
             "#fde0ef"
            ],
            [
             0.5,
             "#f7f7f7"
            ],
            [
             0.6,
             "#e6f5d0"
            ],
            [
             0.7,
             "#b8e186"
            ],
            [
             0.8,
             "#7fbc41"
            ],
            [
             0.9,
             "#4d9221"
            ],
            [
             1,
             "#276419"
            ]
           ],
           "sequential": [
            [
             0,
             "#0d0887"
            ],
            [
             0.1111111111111111,
             "#46039f"
            ],
            [
             0.2222222222222222,
             "#7201a8"
            ],
            [
             0.3333333333333333,
             "#9c179e"
            ],
            [
             0.4444444444444444,
             "#bd3786"
            ],
            [
             0.5555555555555556,
             "#d8576b"
            ],
            [
             0.6666666666666666,
             "#ed7953"
            ],
            [
             0.7777777777777778,
             "#fb9f3a"
            ],
            [
             0.8888888888888888,
             "#fdca26"
            ],
            [
             1,
             "#f0f921"
            ]
           ],
           "sequentialminus": [
            [
             0,
             "#0d0887"
            ],
            [
             0.1111111111111111,
             "#46039f"
            ],
            [
             0.2222222222222222,
             "#7201a8"
            ],
            [
             0.3333333333333333,
             "#9c179e"
            ],
            [
             0.4444444444444444,
             "#bd3786"
            ],
            [
             0.5555555555555556,
             "#d8576b"
            ],
            [
             0.6666666666666666,
             "#ed7953"
            ],
            [
             0.7777777777777778,
             "#fb9f3a"
            ],
            [
             0.8888888888888888,
             "#fdca26"
            ],
            [
             1,
             "#f0f921"
            ]
           ]
          },
          "colorway": [
           "#636efa",
           "#EF553B",
           "#00cc96",
           "#ab63fa",
           "#FFA15A",
           "#19d3f3",
           "#FF6692",
           "#B6E880",
           "#FF97FF",
           "#FECB52"
          ],
          "font": {
           "color": "#2a3f5f"
          },
          "geo": {
           "bgcolor": "white",
           "lakecolor": "white",
           "landcolor": "white",
           "showlakes": true,
           "showland": true,
           "subunitcolor": "#C8D4E3"
          },
          "hoverlabel": {
           "align": "left"
          },
          "hovermode": "closest",
          "mapbox": {
           "style": "light"
          },
          "paper_bgcolor": "white",
          "plot_bgcolor": "white",
          "polar": {
           "angularaxis": {
            "gridcolor": "#EBF0F8",
            "linecolor": "#EBF0F8",
            "ticks": ""
           },
           "bgcolor": "white",
           "radialaxis": {
            "gridcolor": "#EBF0F8",
            "linecolor": "#EBF0F8",
            "ticks": ""
           }
          },
          "scene": {
           "xaxis": {
            "backgroundcolor": "white",
            "gridcolor": "#DFE8F3",
            "gridwidth": 2,
            "linecolor": "#EBF0F8",
            "showbackground": true,
            "ticks": "",
            "zerolinecolor": "#EBF0F8"
           },
           "yaxis": {
            "backgroundcolor": "white",
            "gridcolor": "#DFE8F3",
            "gridwidth": 2,
            "linecolor": "#EBF0F8",
            "showbackground": true,
            "ticks": "",
            "zerolinecolor": "#EBF0F8"
           },
           "zaxis": {
            "backgroundcolor": "white",
            "gridcolor": "#DFE8F3",
            "gridwidth": 2,
            "linecolor": "#EBF0F8",
            "showbackground": true,
            "ticks": "",
            "zerolinecolor": "#EBF0F8"
           }
          },
          "shapedefaults": {
           "line": {
            "color": "#2a3f5f"
           }
          },
          "ternary": {
           "aaxis": {
            "gridcolor": "#DFE8F3",
            "linecolor": "#A2B1C6",
            "ticks": ""
           },
           "baxis": {
            "gridcolor": "#DFE8F3",
            "linecolor": "#A2B1C6",
            "ticks": ""
           },
           "bgcolor": "white",
           "caxis": {
            "gridcolor": "#DFE8F3",
            "linecolor": "#A2B1C6",
            "ticks": ""
           }
          },
          "title": {
           "x": 0.05
          },
          "xaxis": {
           "automargin": true,
           "gridcolor": "#EBF0F8",
           "linecolor": "#EBF0F8",
           "ticks": "",
           "title": {
            "standoff": 15
           },
           "zerolinecolor": "#EBF0F8",
           "zerolinewidth": 2
          },
          "yaxis": {
           "automargin": true,
           "gridcolor": "#EBF0F8",
           "linecolor": "#EBF0F8",
           "ticks": "",
           "title": {
            "standoff": 15
           },
           "zerolinecolor": "#EBF0F8",
           "zerolinewidth": 2
          }
         }
        },
        "title": {
         "text": "<b>Categorias de Salarios",
         "x": 0.5
        },
        "width": 800,
        "xaxis": {
         "anchor": "y",
         "domain": [
          0,
          1
         ]
        },
        "xaxis2": {
         "anchor": "y2",
         "domain": [
          0,
          1
         ]
        },
        "xaxis3": {
         "anchor": "y3",
         "domain": [
          0,
          1
         ]
        },
        "xaxis4": {
         "anchor": "y4",
         "domain": [
          0,
          1
         ]
        },
        "yaxis": {
         "anchor": "x",
         "domain": [
          0.84375,
          1
         ]
        },
        "yaxis2": {
         "anchor": "x2",
         "domain": [
          0.5625,
          0.71875
         ]
        },
        "yaxis3": {
         "anchor": "x3",
         "domain": [
          0.28125,
          0.4375
         ]
        },
        "yaxis4": {
         "anchor": "x4",
         "domain": [
          0,
          0.15625
         ]
        }
       }
      },
      "text/html": [
       "<div>                            <div id=\"75170cfa-1019-401e-998c-baecc323aaff\" class=\"plotly-graph-div\" style=\"height:1000px; width:800px;\"></div>            <script type=\"text/javascript\">                require([\"plotly\"], function(Plotly) {                    window.PLOTLYENV=window.PLOTLYENV || {};                                    if (document.getElementById(\"75170cfa-1019-401e-998c-baecc323aaff\")) {                    Plotly.newPlot(                        \"75170cfa-1019-401e-998c-baecc323aaff\",                        [{\"boxpoints\":\"all\",\"x\":[\"MI\",\"SE\",\"SE\",\"MI\",\"SE\",\"EN\",\"SE\",\"MI\",\"MI\",\"SE\",\"EN\",\"MI\",\"EN\",\"MI\",\"MI\",\"MI\",\"EN\",\"SE\",\"EN\",\"MI\",\"MI\",\"MI\",\"SE\",\"MI\",\"MI\",\"EX\",\"EN\",\"SE\",\"EN\",\"SE\",\"MI\",\"EN\",\"SE\",\"MI\",\"MI\",\"MI\",\"EN\",\"EN\",\"EN\",\"MI\",\"EX\",\"MI\",\"MI\",\"MI\",\"EN\",\"MI\",\"SE\",\"MI\",\"MI\",\"EN\",\"EN\",\"EN\",\"EN\",\"SE\",\"SE\",\"MI\",\"MI\",\"SE\",\"MI\",\"MI\",\"MI\",\"EN\",\"SE\",\"EN\",\"EN\",\"SE\",\"EN\",\"SE\",\"MI\",\"MI\",\"EN\",\"EX\",\"EX\",\"SE\",\"MI\",\"MI\",\"MI\",\"EN\",\"SE\",\"MI\",\"MI\",\"MI\",\"EX\",\"MI\",\"EN\",\"MI\",\"SE\",\"SE\",\"SE\",\"EN\",\"MI\",\"SE\",\"EN\",\"MI\",\"EN\",\"EN\",\"MI\",\"MI\",\"SE\",\"MI\",\"MI\",\"MI\",\"MI\",\"MI\",\"SE\",\"SE\",\"EN\",\"SE\",\"SE\",\"SE\",\"EN\",\"MI\",\"EN\",\"MI\",\"MI\",\"EN\",\"MI\",\"MI\",\"SE\",\"EN\",\"EN\",\"EN\",\"MI\",\"SE\",\"MI\",\"EN\",\"SE\",\"EN\",\"EN\",\"MI\",\"SE\",\"EN\",\"MI\",\"MI\",\"MI\",\"SE\",\"EN\",\"MI\",\"SE\",\"SE\",\"MI\",\"MI\",\"SE\",\"MI\",\"MI\",\"SE\",\"SE\",\"SE\",\"MI\",\"MI\",\"EN\",\"SE\",\"SE\",\"MI\",\"SE\",\"EN\",\"EX\",\"EX\",\"MI\",\"EN\",\"EX\",\"SE\",\"EN\",\"EX\",\"EN\",\"MI\",\"MI\",\"MI\",\"EN\",\"SE\",\"SE\",\"SE\",\"MI\",\"MI\",\"EN\",\"MI\",\"MI\",\"MI\",\"MI\",\"SE\",\"MI\",\"MI\",\"SE\",\"EX\",\"SE\",\"MI\",\"SE\",\"EN\",\"MI\",\"SE\",\"SE\",\"MI\",\"EN\",\"SE\",\"SE\",\"EN\",\"MI\",\"SE\",\"MI\",\"SE\",\"MI\",\"MI\",\"SE\",\"SE\",\"MI\",\"SE\",\"MI\",\"MI\",\"MI\",\"EN\",\"EN\",\"SE\",\"EN\",\"MI\",\"MI\",\"SE\",\"MI\",\"MI\",\"MI\",\"MI\",\"SE\",\"SE\",\"MI\",\"SE\",\"SE\",\"EN\",\"SE\",\"SE\",\"SE\",\"MI\",\"MI\",\"MI\",\"MI\",\"EN\",\"EN\",\"SE\",\"MI\",\"MI\",\"SE\",\"EN\",\"MI\",\"EN\",\"MI\",\"SE\",\"SE\",\"MI\",\"EN\",\"EN\",\"MI\",\"SE\",\"MI\",\"SE\",\"SE\",\"EX\",\"MI\",\"SE\",\"MI\",\"SE\",\"MI\",\"SE\",\"MI\",\"MI\",\"MI\",\"EN\",\"EN\",\"SE\",\"EN\",\"EN\",\"SE\",\"EN\",\"EN\",\"SE\",\"SE\",\"EN\",\"MI\",\"EN\",\"MI\",\"SE\",\"MI\",\"SE\",\"SE\",\"MI\",\"MI\",\"SE\",\"SE\",\"SE\",\"MI\",\"MI\",\"MI\",\"MI\",\"SE\",\"SE\",\"SE\",\"SE\",\"SE\",\"SE\",\"SE\",\"SE\",\"EN\",\"SE\",\"SE\",\"MI\",\"MI\",\"EX\",\"EX\",\"MI\",\"MI\",\"MI\",\"MI\",\"SE\",\"EN\",\"SE\",\"SE\",\"SE\",\"SE\",\"SE\",\"SE\",\"SE\",\"SE\",\"SE\",\"EX\",\"EX\",\"SE\",\"MI\",\"SE\",\"SE\",\"SE\",\"SE\",\"SE\",\"SE\",\"MI\",\"SE\",\"SE\",\"SE\",\"SE\",\"SE\",\"EX\",\"EX\",\"EX\",\"SE\",\"SE\",\"SE\",\"SE\",\"SE\",\"SE\",\"SE\",\"SE\",\"SE\",\"SE\",\"SE\",\"SE\",\"SE\",\"SE\",\"SE\",\"SE\",\"SE\",\"SE\",\"SE\",\"SE\",\"SE\",\"SE\",\"MI\",\"EX\",\"SE\",\"SE\",\"SE\",\"SE\",\"MI\",\"MI\",\"EX\",\"SE\",\"SE\",\"SE\",\"SE\",\"SE\",\"SE\",\"SE\",\"SE\",\"EX\",\"SE\",\"EN\",\"SE\",\"SE\",\"MI\",\"MI\",\"MI\",\"SE\",\"SE\",\"SE\",\"SE\",\"MI\",\"MI\",\"SE\",\"SE\",\"SE\",\"SE\",\"SE\",\"SE\",\"SE\",\"MI\",\"MI\",\"SE\",\"MI\",\"SE\",\"MI\",\"MI\",\"MI\",\"MI\",\"MI\",\"MI\",\"SE\",\"SE\",\"MI\",\"MI\",\"MI\",\"MI\",\"MI\",\"SE\",\"SE\",\"MI\",\"SE\",\"MI\",\"SE\",\"MI\",\"MI\",\"MI\",\"MI\",\"MI\",\"MI\",\"MI\",\"MI\",\"MI\",\"SE\",\"SE\",\"MI\",\"MI\",\"MI\",\"MI\",\"SE\",\"MI\",\"SE\",\"SE\",\"SE\",\"EN\",\"SE\",\"MI\",\"EX\",\"MI\",\"EN\",\"MI\",\"SE\",\"SE\",\"MI\",\"MI\",\"MI\",\"EN\",\"MI\",\"EN\",\"SE\",\"EN\",\"SE\",\"SE\",\"SE\",\"SE\",\"MI\",\"MI\",\"SE\",\"SE\",\"MI\",\"MI\",\"SE\",\"SE\",\"MI\",\"MI\",\"SE\",\"SE\",\"EX\",\"EX\",\"SE\",\"SE\",\"SE\",\"EN\",\"MI\",\"EN\",\"SE\",\"MI\",\"MI\",\"SE\",\"SE\",\"MI\",\"EN\",\"SE\",\"SE\",\"EN\",\"SE\",\"MI\",\"EN\",\"MI\",\"SE\",\"EN\",\"MI\",\"MI\",\"EN\",\"MI\",\"EN\",\"MI\",\"EN\",\"SE\",\"EN\",\"MI\",\"SE\",\"MI\",\"MI\",\"SE\",\"MI\",\"EN\",\"MI\",\"MI\",\"SE\",\"MI\",\"SE\",\"SE\",\"SE\",\"MI\",\"MI\",\"SE\",\"SE\",\"SE\",\"SE\",\"SE\",\"SE\",\"MI\",\"MI\",\"SE\",\"SE\",\"MI\",\"MI\",\"SE\",\"SE\",\"SE\",\"SE\",\"SE\",\"SE\",\"SE\",\"SE\",\"SE\",\"SE\",\"SE\",\"SE\",\"SE\",\"SE\",\"SE\",\"SE\",\"SE\",\"SE\",\"SE\",\"SE\",\"SE\",\"SE\",\"SE\",\"MI\",\"SE\",\"SE\",\"SE\",\"SE\",\"SE\",\"SE\",\"SE\",\"SE\",\"SE\",\"SE\",\"SE\",\"SE\",\"SE\",\"SE\",\"SE\",\"SE\",\"SE\",\"SE\",\"MI\",\"SE\",\"SE\",\"SE\",\"SE\",\"SE\",\"SE\",\"SE\",\"SE\",\"SE\",\"SE\",\"SE\",\"MI\",\"MI\",\"EN\",\"EN\",\"SE\",\"SE\",\"SE\",\"SE\",\"MI\"],\"y\":[79833,260000,109024,20000,150000,72000,190000,35735,135000,125000,51321,40481,39916,87000,85000,8000,41689,114047,5707,56000,43331,6072,47899,98000,115000,325000,42000,33511,100000,117104,59303,70000,68428,46759,74130,103000,250000,10000,138000,45760,79833,50180,106000,112872,15966,76958,188000,105000,70139,6072,91000,45896,54742,60000,148261,38776,118000,120000,138350,110000,130800,21669,45618,62726,49268,190200,105000,91237,62726,42197,82528,150000,235000,53192,100000,5409,270000,80000,79197,140000,54238,47282,153667,28476,59102,110000,170000,80000,88654,76833,19609,276000,29751,89294,12000,70000,95746,75000,150000,36259,62000,73000,51519,187442,115000,150000,30428,94564,113476,103160,12000,45391,225000,50000,40189,90000,200000,60000,200000,50000,110037,10354,151000,120000,9466,20000,40570,100000,49646,38400,24000,100000,90000,63711,77364,220000,80000,135000,240000,150000,82500,100000,82744,62649,90000,153000,160000,168000,150000,75774,13400,144000,127221,119059,120000,125000,230000,85000,28369,63831,130026,165000,80000,250000,55000,150000,170000,82528,60000,235000,60757,174000,2859,40038,81000,5679,22611,90734,26005,61896,12000,4000,50000,69741,76833,74000,152000,21844,18000,174000,96113,147000,9272,24342,54094,90000,61467,195000,37825,50000,160000,12901,200000,165000,20000,120000,24823,56738,66022,5882,24823,185000,28609,90734,88654,140000,46597,116914,33808,56256,225000,87738,88654,135000,71786,16228,256000,200000,200000,180000,110000,63810,46809,4000,21637,103691,80000,110000,165000,18053,72212,36643,12103,96282,170000,115000,90000,28399,93000,99703,200000,173762,185000,141846,130000,63831,16904,66265,25532,160000,93150,111775,28016,65013,72500,18907,76833,85000,77684,100000,58000,55000,20171,59102,112000,100000,69741,105000,69999,94665,102839,109000,51064,135000,155000,120600,130000,90000,170000,150000,102100,84900,136620,99360,117789,104702,146000,123000,52351,99000,116000,106260,126500,242000,200000,65438,39263,78526,52351,165220,45807,120160,90320,181940,132320,220110,160080,180000,120000,124190,130000,110000,170000,115500,112900,90320,112900,90320,165400,132320,167000,243900,136600,109280,128875,93700,224000,167875,175000,156600,108800,95550,113000,135000,161342,137141,167000,123000,78526,65438,150000,211500,192400,90700,130000,61300,130000,61300,160000,138600,136000,58000,135000,170000,123000,189650,164996,54957,54957,118187,132000,165400,208775,147800,136994,101570,128875,93700,79039,132320,37300,164000,155000,124333,98158,120000,112900,90320,145000,105400,87932,117789,215300,158200,209100,154600,115934,81666,175000,98158,58000,183600,52351,180000,71982,45807,65949,49461,78526,58894,260000,60000,63900,160000,112300,241000,159000,180000,80000,82900,100800,49461,140400,39263,43966,32974,87932,76940,104702,91614,65949,87932,189650,164996,43966,32974,98158,78526,215300,76940,209100,154600,180000,21983,80000,78791,196979,120000,125000,37236,105000,87932,18442,31615,58255,100000,54957,18442,162674,120000,144000,104890,100000,140000,135000,50000,220000,140000,183228,91614,185100,220000,200000,120000,120000,65000,324000,216000,210000,120000,230000,100000,100000,31875,200000,75000,35590,78791,100000,153000,58035,165000,93427,52396,62651,32974,40000,87425,115000,86703,75000,64849,120000,157000,150000,70912,65000,71444,20000,48000,152500,68147,122346,380000,69336,10000,20000,135000,177000,78000,135000,100000,90320,85000,75000,214000,192600,266400,213120,112900,155000,141300,102100,115934,81666,206699,99100,130000,115000,110500,130000,99050,160000,205300,140400,176000,144000,200100,160000,145000,70500,205300,140400,205300,184700,175100,140250,116150,54000,170000,65438,80000,140000,210000,140000,100000,69000,210000,140000,210000,150075,100000,25000,126500,106260,220110,160080,105000,110925,45807,140000,99000,60000,192564,144854,230000,150000,150260,109280,210000,170000,160000,130000,67000,52000,154000,126000,129000,150000,200000],\"type\":\"box\",\"xaxis\":\"x\",\"yaxis\":\"y\"},{\"boxpoints\":\"all\",\"x\":[\"On site\",\"On site\",\"On Hybrid\",\"On site\",\"On Hybrid\",\"Remote\",\"Remote\",\"On Hybrid\",\"Remote\",\"On Hybrid\",\"On site\",\"On site\",\"On site\",\"Remote\",\"Remote\",\"On Hybrid\",\"Remote\",\"Remote\",\"On Hybrid\",\"Remote\",\"On site\",\"Remote\",\"On Hybrid\",\"On site\",\"On site\",\"Remote\",\"On Hybrid\",\"On site\",\"Remote\",\"On Hybrid\",\"Remote\",\"Remote\",\"Remote\",\"On Hybrid\",\"On Hybrid\",\"Remote\",\"On Hybrid\",\"Remote\",\"Remote\",\"Remote\",\"On Hybrid\",\"On site\",\"Remote\",\"On Hybrid\",\"Remote\",\"Remote\",\"Remote\",\"Remote\",\"On Hybrid\",\"On site\",\"Remote\",\"On Hybrid\",\"Remote\",\"Remote\",\"Remote\",\"Remote\",\"Remote\",\"On Hybrid\",\"Remote\",\"Remote\",\"Remote\",\"On Hybrid\",\"Remote\",\"On Hybrid\",\"On site\",\"Remote\",\"Remote\",\"On site\",\"On Hybrid\",\"On Hybrid\",\"On Hybrid\",\"Remote\",\"Remote\",\"On Hybrid\",\"Remote\",\"On Hybrid\",\"Remote\",\"Remote\",\"Remote\",\"Remote\",\"On Hybrid\",\"Remote\",\"Remote\",\"Remote\",\"On Hybrid\",\"Remote\",\"Remote\",\"Remote\",\"Remote\",\"Remote\",\"Remote\",\"On site\",\"On Hybrid\",\"On Hybrid\",\"Remote\",\"Remote\",\"Remote\",\"On site\",\"Remote\",\"On Hybrid\",\"On site\",\"On site\",\"On Hybrid\",\"Remote\",\"Remote\",\"Remote\",\"Remote\",\"On Hybrid\",\"Remote\",\"Remote\",\"Remote\",\"Remote\",\"Remote\",\"Remote\",\"Remote\",\"Remote\",\"Remote\",\"On Hybrid\",\"Remote\",\"Remote\",\"On site\",\"On Hybrid\",\"Remote\",\"On Hybrid\",\"On site\",\"Remote\",\"On Hybrid\",\"On Hybrid\",\"On Hybrid\",\"Remote\",\"Remote\",\"On site\",\"Remote\",\"On Hybrid\",\"On Hybrid\",\"On site\",\"Remote\",\"Remote\",\"On site\",\"On site\",\"Remote\",\"Remote\",\"On Hybrid\",\"On Hybrid\",\"Remote\",\"Remote\",\"Remote\",\"On site\",\"Remote\",\"Remote\",\"Remote\",\"Remote\",\"On Hybrid\",\"Remote\",\"Remote\",\"Remote\",\"On Hybrid\",\"On site\",\"On Hybrid\",\"On Hybrid\",\"On Hybrid\",\"Remote\",\"Remote\",\"On site\",\"On Hybrid\",\"Remote\",\"Remote\",\"Remote\",\"Remote\",\"Remote\",\"On Hybrid\",\"Remote\",\"On site\",\"Remote\",\"On Hybrid\",\"Remote\",\"On site\",\"On Hybrid\",\"On site\",\"On Hybrid\",\"On Hybrid\",\"Remote\",\"Remote\",\"Remote\",\"On Hybrid\",\"On Hybrid\",\"Remote\",\"On Hybrid\",\"On site\",\"Remote\",\"On Hybrid\",\"On Hybrid\",\"Remote\",\"Remote\",\"On Hybrid\",\"Remote\",\"On Hybrid\",\"Remote\",\"Remote\",\"Remote\",\"Remote\",\"On site\",\"Remote\",\"On site\",\"On site\",\"On site\",\"On Hybrid\",\"On Hybrid\",\"On Hybrid\",\"On site\",\"On Hybrid\",\"Remote\",\"On Hybrid\",\"On Hybrid\",\"Remote\",\"Remote\",\"Remote\",\"On Hybrid\",\"On site\",\"On Hybrid\",\"Remote\",\"Remote\",\"On Hybrid\",\"On site\",\"Remote\",\"Remote\",\"Remote\",\"Remote\",\"Remote\",\"Remote\",\"On site\",\"Remote\",\"Remote\",\"On site\",\"On Hybrid\",\"Remote\",\"Remote\",\"Remote\",\"Remote\",\"Remote\",\"On Hybrid\",\"On Hybrid\",\"On site\",\"On Hybrid\",\"Remote\",\"On Hybrid\",\"Remote\",\"Remote\",\"Remote\",\"On Hybrid\",\"Remote\",\"Remote\",\"On Hybrid\",\"On site\",\"On Hybrid\",\"On Hybrid\",\"Remote\",\"On site\",\"Remote\",\"On Hybrid\",\"On site\",\"On site\",\"Remote\",\"On Hybrid\",\"Remote\",\"On site\",\"On site\",\"Remote\",\"On Hybrid\",\"Remote\",\"On Hybrid\",\"Remote\",\"On Hybrid\",\"Remote\",\"Remote\",\"On site\",\"Remote\",\"Remote\",\"On Hybrid\",\"On Hybrid\",\"Remote\",\"On Hybrid\",\"On Hybrid\",\"Remote\",\"Remote\",\"Remote\",\"On site\",\"On site\",\"Remote\",\"Remote\",\"Remote\",\"Remote\",\"Remote\",\"Remote\",\"On site\",\"On site\",\"Remote\",\"Remote\",\"Remote\",\"On site\",\"On site\",\"On site\",\"On site\",\"Remote\",\"Remote\",\"On site\",\"On site\",\"On site\",\"On site\",\"Remote\",\"Remote\",\"Remote\",\"Remote\",\"On site\",\"On site\",\"On site\",\"On site\",\"On site\",\"On site\",\"Remote\",\"Remote\",\"Remote\",\"Remote\",\"Remote\",\"Remote\",\"Remote\",\"Remote\",\"Remote\",\"Remote\",\"Remote\",\"Remote\",\"Remote\",\"Remote\",\"Remote\",\"Remote\",\"Remote\",\"Remote\",\"Remote\",\"Remote\",\"Remote\",\"On site\",\"On site\",\"On site\",\"Remote\",\"Remote\",\"Remote\",\"Remote\",\"Remote\",\"On site\",\"On site\",\"On site\",\"Remote\",\"Remote\",\"Remote\",\"Remote\",\"Remote\",\"Remote\",\"Remote\",\"On site\",\"Remote\",\"On site\",\"On site\",\"Remote\",\"Remote\",\"Remote\",\"On site\",\"On site\",\"On site\",\"On site\",\"Remote\",\"On site\",\"Remote\",\"Remote\",\"Remote\",\"Remote\",\"Remote\",\"Remote\",\"Remote\",\"On Hybrid\",\"Remote\",\"Remote\",\"On site\",\"Remote\",\"On site\",\"On site\",\"On site\",\"Remote\",\"Remote\",\"Remote\",\"Remote\",\"Remote\",\"On site\",\"Remote\",\"Remote\",\"Remote\",\"Remote\",\"On site\",\"On site\",\"Remote\",\"On site\",\"On site\",\"Remote\",\"Remote\",\"Remote\",\"On site\",\"On site\",\"Remote\",\"Remote\",\"Remote\",\"Remote\",\"Remote\",\"Remote\",\"On site\",\"Remote\",\"Remote\",\"Remote\",\"Remote\",\"On site\",\"On site\",\"On site\",\"Remote\",\"Remote\",\"On site\",\"Remote\",\"Remote\",\"Remote\",\"Remote\",\"Remote\",\"Remote\",\"Remote\",\"Remote\",\"Remote\",\"On site\",\"On site\",\"Remote\",\"Remote\",\"Remote\",\"Remote\",\"On site\",\"Remote\",\"Remote\",\"Remote\",\"Remote\",\"Remote\",\"Remote\",\"Remote\",\"On Hybrid\",\"Remote\",\"On site\",\"On Hybrid\",\"Remote\",\"On site\",\"Remote\",\"Remote\",\"On Hybrid\",\"On Hybrid\",\"On Hybrid\",\"Remote\",\"Remote\",\"Remote\",\"On Hybrid\",\"Remote\",\"Remote\",\"Remote\",\"Remote\",\"Remote\",\"Remote\",\"Remote\",\"On site\",\"On site\",\"Remote\",\"Remote\",\"Remote\",\"Remote\",\"Remote\",\"Remote\",\"Remote\",\"Remote\",\"Remote\",\"Remote\",\"Remote\",\"On Hybrid\",\"Remote\",\"Remote\",\"Remote\",\"Remote\",\"Remote\",\"Remote\",\"Remote\",\"On Hybrid\",\"Remote\",\"Remote\",\"On Hybrid\",\"Remote\",\"Remote\",\"Remote\",\"Remote\",\"Remote\",\"Remote\",\"On Hybrid\",\"Remote\",\"On site\",\"Remote\",\"Remote\",\"Remote\",\"On Hybrid\",\"Remote\",\"Remote\",\"On site\",\"Remote\",\"Remote\",\"Remote\",\"On site\",\"Remote\",\"Remote\",\"Remote\",\"Remote\",\"Remote\",\"Remote\",\"Remote\",\"Remote\",\"Remote\",\"Remote\",\"On site\",\"On site\",\"Remote\",\"Remote\",\"Remote\",\"Remote\",\"Remote\",\"Remote\",\"On site\",\"On site\",\"Remote\",\"Remote\",\"On site\",\"On site\",\"Remote\",\"Remote\",\"Remote\",\"Remote\",\"Remote\",\"Remote\",\"On site\",\"On site\",\"Remote\",\"Remote\",\"Remote\",\"Remote\",\"Remote\",\"On site\",\"On site\",\"On site\",\"On site\",\"On site\",\"Remote\",\"Remote\",\"Remote\",\"On site\",\"Remote\",\"On site\",\"Remote\",\"Remote\",\"Remote\",\"Remote\",\"Remote\",\"Remote\",\"Remote\",\"Remote\",\"Remote\",\"Remote\",\"Remote\",\"Remote\",\"Remote\",\"Remote\",\"Remote\",\"Remote\",\"Remote\",\"Remote\",\"On site\",\"Remote\",\"On site\",\"Remote\",\"Remote\",\"Remote\",\"Remote\",\"Remote\",\"Remote\",\"Remote\",\"Remote\",\"Remote\",\"Remote\",\"Remote\",\"On site\",\"On site\",\"Remote\",\"Remote\",\"On site\",\"Remote\",\"Remote\"],\"y\":[79833,260000,109024,20000,150000,72000,190000,35735,135000,125000,51321,40481,39916,87000,85000,8000,41689,114047,5707,56000,43331,6072,47899,98000,115000,325000,42000,33511,100000,117104,59303,70000,68428,46759,74130,103000,250000,10000,138000,45760,79833,50180,106000,112872,15966,76958,188000,105000,70139,6072,91000,45896,54742,60000,148261,38776,118000,120000,138350,110000,130800,21669,45618,62726,49268,190200,105000,91237,62726,42197,82528,150000,235000,53192,100000,5409,270000,80000,79197,140000,54238,47282,153667,28476,59102,110000,170000,80000,88654,76833,19609,276000,29751,89294,12000,70000,95746,75000,150000,36259,62000,73000,51519,187442,115000,150000,30428,94564,113476,103160,12000,45391,225000,50000,40189,90000,200000,60000,200000,50000,110037,10354,151000,120000,9466,20000,40570,100000,49646,38400,24000,100000,90000,63711,77364,220000,80000,135000,240000,150000,82500,100000,82744,62649,90000,153000,160000,168000,150000,75774,13400,144000,127221,119059,120000,125000,230000,85000,28369,63831,130026,165000,80000,250000,55000,150000,170000,82528,60000,235000,60757,174000,2859,40038,81000,5679,22611,90734,26005,61896,12000,4000,50000,69741,76833,74000,152000,21844,18000,174000,96113,147000,9272,24342,54094,90000,61467,195000,37825,50000,160000,12901,200000,165000,20000,120000,24823,56738,66022,5882,24823,185000,28609,90734,88654,140000,46597,116914,33808,56256,225000,87738,88654,135000,71786,16228,256000,200000,200000,180000,110000,63810,46809,4000,21637,103691,80000,110000,165000,18053,72212,36643,12103,96282,170000,115000,90000,28399,93000,99703,200000,173762,185000,141846,130000,63831,16904,66265,25532,160000,93150,111775,28016,65013,72500,18907,76833,85000,77684,100000,58000,55000,20171,59102,112000,100000,69741,105000,69999,94665,102839,109000,51064,135000,155000,120600,130000,90000,170000,150000,102100,84900,136620,99360,117789,104702,146000,123000,52351,99000,116000,106260,126500,242000,200000,65438,39263,78526,52351,165220,45807,120160,90320,181940,132320,220110,160080,180000,120000,124190,130000,110000,170000,115500,112900,90320,112900,90320,165400,132320,167000,243900,136600,109280,128875,93700,224000,167875,175000,156600,108800,95550,113000,135000,161342,137141,167000,123000,78526,65438,150000,211500,192400,90700,130000,61300,130000,61300,160000,138600,136000,58000,135000,170000,123000,189650,164996,54957,54957,118187,132000,165400,208775,147800,136994,101570,128875,93700,79039,132320,37300,164000,155000,124333,98158,120000,112900,90320,145000,105400,87932,117789,215300,158200,209100,154600,115934,81666,175000,98158,58000,183600,52351,180000,71982,45807,65949,49461,78526,58894,260000,60000,63900,160000,112300,241000,159000,180000,80000,82900,100800,49461,140400,39263,43966,32974,87932,76940,104702,91614,65949,87932,189650,164996,43966,32974,98158,78526,215300,76940,209100,154600,180000,21983,80000,78791,196979,120000,125000,37236,105000,87932,18442,31615,58255,100000,54957,18442,162674,120000,144000,104890,100000,140000,135000,50000,220000,140000,183228,91614,185100,220000,200000,120000,120000,65000,324000,216000,210000,120000,230000,100000,100000,31875,200000,75000,35590,78791,100000,153000,58035,165000,93427,52396,62651,32974,40000,87425,115000,86703,75000,64849,120000,157000,150000,70912,65000,71444,20000,48000,152500,68147,122346,380000,69336,10000,20000,135000,177000,78000,135000,100000,90320,85000,75000,214000,192600,266400,213120,112900,155000,141300,102100,115934,81666,206699,99100,130000,115000,110500,130000,99050,160000,205300,140400,176000,144000,200100,160000,145000,70500,205300,140400,205300,184700,175100,140250,116150,54000,170000,65438,80000,140000,210000,140000,100000,69000,210000,140000,210000,150075,100000,25000,126500,106260,220110,160080,105000,110925,45807,140000,99000,60000,192564,144854,230000,150000,150260,109280,210000,170000,160000,130000,67000,52000,154000,126000,129000,150000,200000],\"type\":\"box\",\"xaxis\":\"x2\",\"yaxis\":\"y2\"},{\"boxpoints\":\"all\",\"x\":[\"L\",\"S\",\"M\",\"S\",\"L\",\"L\",\"S\",\"L\",\"L\",\"S\",\"S\",\"L\",\"M\",\"L\",\"L\",\"L\",\"S\",\"S\",\"M\",\"M\",\"M\",\"L\",\"L\",\"M\",\"L\",\"L\",\"L\",\"S\",\"L\",\"L\",\"S\",\"L\",\"L\",\"L\",\"L\",\"L\",\"L\",\"S\",\"S\",\"S\",\"L\",\"M\",\"L\",\"L\",\"S\",\"S\",\"L\",\"L\",\"L\",\"S\",\"L\",\"S\",\"L\",\"S\",\"M\",\"M\",\"M\",\"L\",\"M\",\"L\",\"M\",\"S\",\"S\",\"S\",\"S\",\"M\",\"S\",\"S\",\"S\",\"S\",\"L\",\"L\",\"L\",\"L\",\"M\",\"M\",\"L\",\"M\",\"L\",\"L\",\"L\",\"S\",\"L\",\"L\",\"M\",\"L\",\"L\",\"S\",\"L\",\"S\",\"L\",\"L\",\"L\",\"L\",\"S\",\"M\",\"S\",\"L\",\"L\",\"L\",\"L\",\"L\",\"L\",\"L\",\"S\",\"M\",\"L\",\"L\",\"M\",\"S\",\"M\",\"L\",\"L\",\"L\",\"M\",\"S\",\"L\",\"M\",\"M\",\"M\",\"L\",\"M\",\"L\",\"S\",\"S\",\"S\",\"L\",\"S\",\"M\",\"M\",\"M\",\"S\",\"M\",\"S\",\"S\",\"L\",\"M\",\"L\",\"L\",\"L\",\"S\",\"L\",\"M\",\"M\",\"L\",\"L\",\"S\",\"S\",\"M\",\"L\",\"L\",\"L\",\"L\",\"M\",\"M\",\"S\",\"L\",\"M\",\"L\",\"L\",\"M\",\"L\",\"L\",\"L\",\"S\",\"L\",\"L\",\"L\",\"S\",\"L\",\"L\",\"L\",\"S\",\"L\",\"S\",\"S\",\"L\",\"L\",\"L\",\"L\",\"M\",\"M\",\"M\",\"S\",\"S\",\"S\",\"L\",\"M\",\"S\",\"L\",\"L\",\"L\",\"S\",\"L\",\"L\",\"S\",\"M\",\"M\",\"L\",\"S\",\"L\",\"S\",\"L\",\"M\",\"L\",\"L\",\"L\",\"S\",\"S\",\"L\",\"M\",\"L\",\"S\",\"L\",\"M\",\"L\",\"L\",\"L\",\"M\",\"L\",\"L\",\"S\",\"L\",\"L\",\"M\",\"L\",\"S\",\"L\",\"L\",\"L\",\"S\",\"M\",\"M\",\"M\",\"M\",\"L\",\"L\",\"L\",\"L\",\"S\",\"L\",\"L\",\"M\",\"L\",\"M\",\"L\",\"S\",\"M\",\"L\",\"M\",\"L\",\"M\",\"L\",\"L\",\"L\",\"L\",\"S\",\"L\",\"S\",\"S\",\"M\",\"M\",\"M\",\"M\",\"L\",\"M\",\"L\",\"S\",\"M\",\"M\",\"L\",\"L\",\"L\",\"L\",\"L\",\"L\",\"L\",\"M\",\"L\",\"L\",\"L\",\"L\",\"L\",\"M\",\"M\",\"M\",\"M\",\"M\",\"M\",\"M\",\"M\",\"M\",\"M\",\"M\",\"M\",\"M\",\"M\",\"M\",\"M\",\"M\",\"M\",\"M\",\"M\",\"M\",\"M\",\"M\",\"M\",\"M\",\"M\",\"M\",\"M\",\"M\",\"M\",\"M\",\"M\",\"M\",\"M\",\"L\",\"L\",\"M\",\"M\",\"M\",\"M\",\"M\",\"M\",\"M\",\"M\",\"M\",\"M\",\"M\",\"M\",\"M\",\"M\",\"M\",\"M\",\"M\",\"M\",\"M\",\"M\",\"M\",\"M\",\"M\",\"L\",\"M\",\"M\",\"M\",\"M\",\"M\",\"M\",\"M\",\"M\",\"M\",\"M\",\"M\",\"M\",\"M\",\"M\",\"M\",\"L\",\"M\",\"M\",\"S\",\"M\",\"M\",\"M\",\"M\",\"M\",\"M\",\"M\",\"S\",\"M\",\"M\",\"M\",\"M\",\"M\",\"M\",\"M\",\"M\",\"L\",\"M\",\"L\",\"M\",\"M\",\"M\",\"M\",\"M\",\"M\",\"M\",\"M\",\"M\",\"M\",\"M\",\"L\",\"L\",\"L\",\"L\",\"M\",\"M\",\"M\",\"M\",\"S\",\"L\",\"M\",\"M\",\"M\",\"M\",\"M\",\"M\",\"M\",\"M\",\"M\",\"L\",\"M\",\"L\",\"L\",\"M\",\"M\",\"M\",\"M\",\"M\",\"L\",\"M\",\"L\",\"M\",\"M\",\"M\",\"M\",\"M\",\"M\",\"M\",\"M\",\"M\",\"M\",\"M\",\"M\",\"M\",\"M\",\"M\",\"L\",\"M\",\"L\",\"L\",\"M\",\"L\",\"M\",\"M\",\"L\",\"S\",\"M\",\"L\",\"M\",\"M\",\"M\",\"L\",\"L\",\"L\",\"L\",\"M\",\"M\",\"M\",\"L\",\"M\",\"M\",\"M\",\"M\",\"M\",\"M\",\"M\",\"M\",\"M\",\"M\",\"M\",\"M\",\"M\",\"S\",\"S\",\"M\",\"M\",\"M\",\"M\",\"M\",\"M\",\"M\",\"M\",\"M\",\"S\",\"L\",\"M\",\"M\",\"M\",\"M\",\"M\",\"L\",\"L\",\"L\",\"S\",\"L\",\"L\",\"M\",\"M\",\"L\",\"L\",\"L\",\"L\",\"S\",\"L\",\"S\",\"S\",\"M\",\"S\",\"M\",\"M\",\"L\",\"L\",\"M\",\"M\",\"S\",\"L\",\"L\",\"M\",\"M\",\"M\",\"M\",\"M\",\"M\",\"M\",\"M\",\"M\",\"M\",\"M\",\"M\",\"M\",\"M\",\"M\",\"M\",\"M\",\"M\",\"M\",\"M\",\"M\",\"M\",\"M\",\"M\",\"L\",\"L\",\"M\",\"M\",\"M\",\"M\",\"M\",\"M\",\"M\",\"M\",\"M\",\"M\",\"M\",\"M\",\"M\",\"M\",\"M\",\"M\",\"M\",\"M\",\"M\",\"M\",\"M\",\"M\",\"M\",\"M\",\"M\",\"M\",\"M\",\"M\",\"M\",\"M\",\"M\",\"M\",\"M\",\"M\",\"M\",\"M\",\"M\",\"M\",\"M\",\"M\",\"M\",\"M\",\"M\",\"M\",\"M\",\"M\",\"M\",\"M\",\"M\",\"M\",\"M\",\"M\",\"M\",\"M\",\"L\"],\"y\":[79833,260000,109024,20000,150000,72000,190000,35735,135000,125000,51321,40481,39916,87000,85000,8000,41689,114047,5707,56000,43331,6072,47899,98000,115000,325000,42000,33511,100000,117104,59303,70000,68428,46759,74130,103000,250000,10000,138000,45760,79833,50180,106000,112872,15966,76958,188000,105000,70139,6072,91000,45896,54742,60000,148261,38776,118000,120000,138350,110000,130800,21669,45618,62726,49268,190200,105000,91237,62726,42197,82528,150000,235000,53192,100000,5409,270000,80000,79197,140000,54238,47282,153667,28476,59102,110000,170000,80000,88654,76833,19609,276000,29751,89294,12000,70000,95746,75000,150000,36259,62000,73000,51519,187442,115000,150000,30428,94564,113476,103160,12000,45391,225000,50000,40189,90000,200000,60000,200000,50000,110037,10354,151000,120000,9466,20000,40570,100000,49646,38400,24000,100000,90000,63711,77364,220000,80000,135000,240000,150000,82500,100000,82744,62649,90000,153000,160000,168000,150000,75774,13400,144000,127221,119059,120000,125000,230000,85000,28369,63831,130026,165000,80000,250000,55000,150000,170000,82528,60000,235000,60757,174000,2859,40038,81000,5679,22611,90734,26005,61896,12000,4000,50000,69741,76833,74000,152000,21844,18000,174000,96113,147000,9272,24342,54094,90000,61467,195000,37825,50000,160000,12901,200000,165000,20000,120000,24823,56738,66022,5882,24823,185000,28609,90734,88654,140000,46597,116914,33808,56256,225000,87738,88654,135000,71786,16228,256000,200000,200000,180000,110000,63810,46809,4000,21637,103691,80000,110000,165000,18053,72212,36643,12103,96282,170000,115000,90000,28399,93000,99703,200000,173762,185000,141846,130000,63831,16904,66265,25532,160000,93150,111775,28016,65013,72500,18907,76833,85000,77684,100000,58000,55000,20171,59102,112000,100000,69741,105000,69999,94665,102839,109000,51064,135000,155000,120600,130000,90000,170000,150000,102100,84900,136620,99360,117789,104702,146000,123000,52351,99000,116000,106260,126500,242000,200000,65438,39263,78526,52351,165220,45807,120160,90320,181940,132320,220110,160080,180000,120000,124190,130000,110000,170000,115500,112900,90320,112900,90320,165400,132320,167000,243900,136600,109280,128875,93700,224000,167875,175000,156600,108800,95550,113000,135000,161342,137141,167000,123000,78526,65438,150000,211500,192400,90700,130000,61300,130000,61300,160000,138600,136000,58000,135000,170000,123000,189650,164996,54957,54957,118187,132000,165400,208775,147800,136994,101570,128875,93700,79039,132320,37300,164000,155000,124333,98158,120000,112900,90320,145000,105400,87932,117789,215300,158200,209100,154600,115934,81666,175000,98158,58000,183600,52351,180000,71982,45807,65949,49461,78526,58894,260000,60000,63900,160000,112300,241000,159000,180000,80000,82900,100800,49461,140400,39263,43966,32974,87932,76940,104702,91614,65949,87932,189650,164996,43966,32974,98158,78526,215300,76940,209100,154600,180000,21983,80000,78791,196979,120000,125000,37236,105000,87932,18442,31615,58255,100000,54957,18442,162674,120000,144000,104890,100000,140000,135000,50000,220000,140000,183228,91614,185100,220000,200000,120000,120000,65000,324000,216000,210000,120000,230000,100000,100000,31875,200000,75000,35590,78791,100000,153000,58035,165000,93427,52396,62651,32974,40000,87425,115000,86703,75000,64849,120000,157000,150000,70912,65000,71444,20000,48000,152500,68147,122346,380000,69336,10000,20000,135000,177000,78000,135000,100000,90320,85000,75000,214000,192600,266400,213120,112900,155000,141300,102100,115934,81666,206699,99100,130000,115000,110500,130000,99050,160000,205300,140400,176000,144000,200100,160000,145000,70500,205300,140400,205300,184700,175100,140250,116150,54000,170000,65438,80000,140000,210000,140000,100000,69000,210000,140000,210000,150075,100000,25000,126500,106260,220110,160080,105000,110925,45807,140000,99000,60000,192564,144854,230000,150000,150260,109280,210000,170000,160000,130000,67000,52000,154000,126000,129000,150000,200000],\"type\":\"box\",\"xaxis\":\"x3\",\"yaxis\":\"y3\"},{\"boxpoints\":\"all\",\"x\":[2020,2020,2020,2020,2020,2020,2020,2020,2020,2020,2020,2020,2020,2020,2020,2020,2020,2020,2020,2020,2020,2020,2020,2020,2020,2020,2020,2020,2020,2020,2020,2020,2020,2020,2020,2020,2020,2020,2020,2020,2020,2020,2020,2020,2020,2020,2020,2020,2020,2020,2020,2020,2020,2020,2020,2020,2020,2020,2020,2020,2020,2020,2020,2020,2020,2020,2020,2020,2020,2020,2021,2021,2021,2021,2021,2021,2021,2021,2021,2021,2021,2021,2021,2021,2021,2021,2021,2021,2021,2021,2021,2021,2021,2021,2021,2021,2021,2021,2021,2021,2021,2021,2021,2021,2021,2021,2021,2021,2021,2021,2021,2021,2021,2021,2021,2021,2021,2021,2021,2021,2021,2021,2021,2021,2021,2021,2021,2021,2021,2021,2021,2021,2021,2021,2021,2021,2021,2021,2021,2021,2021,2021,2021,2021,2021,2021,2021,2021,2021,2021,2021,2021,2021,2021,2021,2021,2021,2021,2021,2021,2021,2021,2021,2021,2021,2021,2021,2021,2021,2021,2021,2021,2021,2021,2021,2021,2021,2021,2021,2021,2021,2021,2021,2021,2021,2021,2021,2021,2021,2021,2021,2021,2021,2021,2021,2021,2021,2021,2021,2021,2021,2021,2021,2021,2021,2021,2021,2021,2021,2021,2021,2021,2021,2021,2021,2021,2021,2021,2021,2021,2021,2021,2021,2021,2021,2021,2021,2021,2021,2021,2021,2021,2021,2021,2021,2021,2021,2021,2021,2021,2021,2021,2021,2021,2021,2021,2021,2021,2021,2021,2021,2021,2021,2021,2021,2021,2021,2021,2021,2021,2021,2021,2021,2021,2021,2021,2021,2021,2021,2021,2021,2021,2021,2021,2021,2021,2021,2021,2021,2021,2021,2021,2021,2022,2022,2022,2022,2022,2022,2022,2022,2022,2022,2022,2022,2022,2022,2022,2022,2022,2022,2022,2022,2022,2022,2022,2022,2022,2022,2022,2022,2022,2022,2022,2022,2022,2022,2022,2022,2022,2022,2022,2022,2022,2022,2022,2022,2022,2022,2022,2022,2022,2022,2022,2022,2022,2022,2022,2022,2022,2022,2022,2022,2022,2022,2022,2022,2022,2022,2022,2022,2022,2022,2022,2022,2022,2022,2022,2022,2022,2022,2022,2022,2022,2022,2022,2022,2022,2022,2022,2022,2022,2022,2022,2022,2022,2022,2022,2022,2022,2022,2022,2022,2022,2022,2022,2022,2022,2022,2022,2022,2022,2022,2022,2022,2022,2022,2022,2022,2022,2022,2022,2022,2022,2022,2022,2022,2022,2022,2022,2022,2022,2022,2022,2022,2022,2022,2022,2022,2022,2022,2022,2022,2022,2022,2022,2022,2022,2022,2022,2022,2022,2022,2022,2022,2022,2022,2022,2022,2022,2022,2022,2022,2022,2022,2022,2022,2022,2022,2022,2022,2022,2022,2022,2022,2022,2022,2022,2022,2022,2022,2022,2022,2022,2022,2022,2022,2022,2022,2022,2022,2022,2022,2022,2022,2022,2022,2022,2022,2022,2022,2022,2022,2022,2022,2022,2022,2022,2022,2022,2022,2022,2022,2022,2022,2022,2022,2022,2022,2022,2022,2022,2022,2022,2022,2022,2022,2022,2022,2022,2022,2022,2022,2022,2022,2022,2022,2022,2022,2022,2022,2022,2022,2022,2022,2022,2022,2022,2022,2022,2022,2022,2022,2022,2022,2022,2022,2022,2022,2022,2022,2022,2022,2022,2022,2022,2022,2022,2022,2022,2022,2022,2022,2022,2022,2022,2022,2022,2022,2022,2022,2022,2022,2022,2022,2022,2022,2022,2022,2022,2022,2022,2022,2022,2022,2022,2022,2022,2022,2022,2022,2022,2022,2022,2022,2022,2022,2022,2022,2022,2022,2022,2022,2022,2022,2022,2022,2022,2022,2022],\"y\":[79833,260000,109024,20000,150000,72000,190000,35735,135000,125000,51321,40481,39916,87000,85000,8000,41689,114047,5707,56000,43331,6072,47899,98000,115000,325000,42000,33511,100000,117104,59303,70000,68428,46759,74130,103000,250000,10000,138000,45760,79833,50180,106000,112872,15966,76958,188000,105000,70139,6072,91000,45896,54742,60000,148261,38776,118000,120000,138350,110000,130800,21669,45618,62726,49268,190200,105000,91237,62726,42197,82528,150000,235000,53192,100000,5409,270000,80000,79197,140000,54238,47282,153667,28476,59102,110000,170000,80000,88654,76833,19609,276000,29751,89294,12000,70000,95746,75000,150000,36259,62000,73000,51519,187442,115000,150000,30428,94564,113476,103160,12000,45391,225000,50000,40189,90000,200000,60000,200000,50000,110037,10354,151000,120000,9466,20000,40570,100000,49646,38400,24000,100000,90000,63711,77364,220000,80000,135000,240000,150000,82500,100000,82744,62649,90000,153000,160000,168000,150000,75774,13400,144000,127221,119059,120000,125000,230000,85000,28369,63831,130026,165000,80000,250000,55000,150000,170000,82528,60000,235000,60757,174000,2859,40038,81000,5679,22611,90734,26005,61896,12000,4000,50000,69741,76833,74000,152000,21844,18000,174000,96113,147000,9272,24342,54094,90000,61467,195000,37825,50000,160000,12901,200000,165000,20000,120000,24823,56738,66022,5882,24823,185000,28609,90734,88654,140000,46597,116914,33808,56256,225000,87738,88654,135000,71786,16228,256000,200000,200000,180000,110000,63810,46809,4000,21637,103691,80000,110000,165000,18053,72212,36643,12103,96282,170000,115000,90000,28399,93000,99703,200000,173762,185000,141846,130000,63831,16904,66265,25532,160000,93150,111775,28016,65013,72500,18907,76833,85000,77684,100000,58000,55000,20171,59102,112000,100000,69741,105000,69999,94665,102839,109000,51064,135000,155000,120600,130000,90000,170000,150000,102100,84900,136620,99360,117789,104702,146000,123000,52351,99000,116000,106260,126500,242000,200000,65438,39263,78526,52351,165220,45807,120160,90320,181940,132320,220110,160080,180000,120000,124190,130000,110000,170000,115500,112900,90320,112900,90320,165400,132320,167000,243900,136600,109280,128875,93700,224000,167875,175000,156600,108800,95550,113000,135000,161342,137141,167000,123000,78526,65438,150000,211500,192400,90700,130000,61300,130000,61300,160000,138600,136000,58000,135000,170000,123000,189650,164996,54957,54957,118187,132000,165400,208775,147800,136994,101570,128875,93700,79039,132320,37300,164000,155000,124333,98158,120000,112900,90320,145000,105400,87932,117789,215300,158200,209100,154600,115934,81666,175000,98158,58000,183600,52351,180000,71982,45807,65949,49461,78526,58894,260000,60000,63900,160000,112300,241000,159000,180000,80000,82900,100800,49461,140400,39263,43966,32974,87932,76940,104702,91614,65949,87932,189650,164996,43966,32974,98158,78526,215300,76940,209100,154600,180000,21983,80000,78791,196979,120000,125000,37236,105000,87932,18442,31615,58255,100000,54957,18442,162674,120000,144000,104890,100000,140000,135000,50000,220000,140000,183228,91614,185100,220000,200000,120000,120000,65000,324000,216000,210000,120000,230000,100000,100000,31875,200000,75000,35590,78791,100000,153000,58035,165000,93427,52396,62651,32974,40000,87425,115000,86703,75000,64849,120000,157000,150000,70912,65000,71444,20000,48000,152500,68147,122346,380000,69336,10000,20000,135000,177000,78000,135000,100000,90320,85000,75000,214000,192600,266400,213120,112900,155000,141300,102100,115934,81666,206699,99100,130000,115000,110500,130000,99050,160000,205300,140400,176000,144000,200100,160000,145000,70500,205300,140400,205300,184700,175100,140250,116150,54000,170000,65438,80000,140000,210000,140000,100000,69000,210000,140000,210000,150075,100000,25000,126500,106260,220110,160080,105000,110925,45807,140000,99000,60000,192564,144854,230000,150000,150260,109280,210000,170000,160000,130000,67000,52000,154000,126000,129000,150000,200000],\"type\":\"box\",\"xaxis\":\"x4\",\"yaxis\":\"y4\"}],                        {\"template\":{\"data\":{\"barpolar\":[{\"marker\":{\"line\":{\"color\":\"white\",\"width\":0.5},\"pattern\":{\"fillmode\":\"overlay\",\"size\":10,\"solidity\":0.2}},\"type\":\"barpolar\"}],\"bar\":[{\"error_x\":{\"color\":\"#2a3f5f\"},\"error_y\":{\"color\":\"#2a3f5f\"},\"marker\":{\"line\":{\"color\":\"white\",\"width\":0.5},\"pattern\":{\"fillmode\":\"overlay\",\"size\":10,\"solidity\":0.2}},\"type\":\"bar\"}],\"carpet\":[{\"aaxis\":{\"endlinecolor\":\"#2a3f5f\",\"gridcolor\":\"#C8D4E3\",\"linecolor\":\"#C8D4E3\",\"minorgridcolor\":\"#C8D4E3\",\"startlinecolor\":\"#2a3f5f\"},\"baxis\":{\"endlinecolor\":\"#2a3f5f\",\"gridcolor\":\"#C8D4E3\",\"linecolor\":\"#C8D4E3\",\"minorgridcolor\":\"#C8D4E3\",\"startlinecolor\":\"#2a3f5f\"},\"type\":\"carpet\"}],\"choropleth\":[{\"colorbar\":{\"outlinewidth\":0,\"ticks\":\"\"},\"type\":\"choropleth\"}],\"contourcarpet\":[{\"colorbar\":{\"outlinewidth\":0,\"ticks\":\"\"},\"type\":\"contourcarpet\"}],\"contour\":[{\"colorbar\":{\"outlinewidth\":0,\"ticks\":\"\"},\"colorscale\":[[0.0,\"#0d0887\"],[0.1111111111111111,\"#46039f\"],[0.2222222222222222,\"#7201a8\"],[0.3333333333333333,\"#9c179e\"],[0.4444444444444444,\"#bd3786\"],[0.5555555555555556,\"#d8576b\"],[0.6666666666666666,\"#ed7953\"],[0.7777777777777778,\"#fb9f3a\"],[0.8888888888888888,\"#fdca26\"],[1.0,\"#f0f921\"]],\"type\":\"contour\"}],\"heatmapgl\":[{\"colorbar\":{\"outlinewidth\":0,\"ticks\":\"\"},\"colorscale\":[[0.0,\"#0d0887\"],[0.1111111111111111,\"#46039f\"],[0.2222222222222222,\"#7201a8\"],[0.3333333333333333,\"#9c179e\"],[0.4444444444444444,\"#bd3786\"],[0.5555555555555556,\"#d8576b\"],[0.6666666666666666,\"#ed7953\"],[0.7777777777777778,\"#fb9f3a\"],[0.8888888888888888,\"#fdca26\"],[1.0,\"#f0f921\"]],\"type\":\"heatmapgl\"}],\"heatmap\":[{\"colorbar\":{\"outlinewidth\":0,\"ticks\":\"\"},\"colorscale\":[[0.0,\"#0d0887\"],[0.1111111111111111,\"#46039f\"],[0.2222222222222222,\"#7201a8\"],[0.3333333333333333,\"#9c179e\"],[0.4444444444444444,\"#bd3786\"],[0.5555555555555556,\"#d8576b\"],[0.6666666666666666,\"#ed7953\"],[0.7777777777777778,\"#fb9f3a\"],[0.8888888888888888,\"#fdca26\"],[1.0,\"#f0f921\"]],\"type\":\"heatmap\"}],\"histogram2dcontour\":[{\"colorbar\":{\"outlinewidth\":0,\"ticks\":\"\"},\"colorscale\":[[0.0,\"#0d0887\"],[0.1111111111111111,\"#46039f\"],[0.2222222222222222,\"#7201a8\"],[0.3333333333333333,\"#9c179e\"],[0.4444444444444444,\"#bd3786\"],[0.5555555555555556,\"#d8576b\"],[0.6666666666666666,\"#ed7953\"],[0.7777777777777778,\"#fb9f3a\"],[0.8888888888888888,\"#fdca26\"],[1.0,\"#f0f921\"]],\"type\":\"histogram2dcontour\"}],\"histogram2d\":[{\"colorbar\":{\"outlinewidth\":0,\"ticks\":\"\"},\"colorscale\":[[0.0,\"#0d0887\"],[0.1111111111111111,\"#46039f\"],[0.2222222222222222,\"#7201a8\"],[0.3333333333333333,\"#9c179e\"],[0.4444444444444444,\"#bd3786\"],[0.5555555555555556,\"#d8576b\"],[0.6666666666666666,\"#ed7953\"],[0.7777777777777778,\"#fb9f3a\"],[0.8888888888888888,\"#fdca26\"],[1.0,\"#f0f921\"]],\"type\":\"histogram2d\"}],\"histogram\":[{\"marker\":{\"pattern\":{\"fillmode\":\"overlay\",\"size\":10,\"solidity\":0.2}},\"type\":\"histogram\"}],\"mesh3d\":[{\"colorbar\":{\"outlinewidth\":0,\"ticks\":\"\"},\"type\":\"mesh3d\"}],\"parcoords\":[{\"line\":{\"colorbar\":{\"outlinewidth\":0,\"ticks\":\"\"}},\"type\":\"parcoords\"}],\"pie\":[{\"automargin\":true,\"type\":\"pie\"}],\"scatter3d\":[{\"line\":{\"colorbar\":{\"outlinewidth\":0,\"ticks\":\"\"}},\"marker\":{\"colorbar\":{\"outlinewidth\":0,\"ticks\":\"\"}},\"type\":\"scatter3d\"}],\"scattercarpet\":[{\"marker\":{\"colorbar\":{\"outlinewidth\":0,\"ticks\":\"\"}},\"type\":\"scattercarpet\"}],\"scattergeo\":[{\"marker\":{\"colorbar\":{\"outlinewidth\":0,\"ticks\":\"\"}},\"type\":\"scattergeo\"}],\"scattergl\":[{\"marker\":{\"colorbar\":{\"outlinewidth\":0,\"ticks\":\"\"}},\"type\":\"scattergl\"}],\"scattermapbox\":[{\"marker\":{\"colorbar\":{\"outlinewidth\":0,\"ticks\":\"\"}},\"type\":\"scattermapbox\"}],\"scatterpolargl\":[{\"marker\":{\"colorbar\":{\"outlinewidth\":0,\"ticks\":\"\"}},\"type\":\"scatterpolargl\"}],\"scatterpolar\":[{\"marker\":{\"colorbar\":{\"outlinewidth\":0,\"ticks\":\"\"}},\"type\":\"scatterpolar\"}],\"scatter\":[{\"fillpattern\":{\"fillmode\":\"overlay\",\"size\":10,\"solidity\":0.2},\"type\":\"scatter\"}],\"scatterternary\":[{\"marker\":{\"colorbar\":{\"outlinewidth\":0,\"ticks\":\"\"}},\"type\":\"scatterternary\"}],\"surface\":[{\"colorbar\":{\"outlinewidth\":0,\"ticks\":\"\"},\"colorscale\":[[0.0,\"#0d0887\"],[0.1111111111111111,\"#46039f\"],[0.2222222222222222,\"#7201a8\"],[0.3333333333333333,\"#9c179e\"],[0.4444444444444444,\"#bd3786\"],[0.5555555555555556,\"#d8576b\"],[0.6666666666666666,\"#ed7953\"],[0.7777777777777778,\"#fb9f3a\"],[0.8888888888888888,\"#fdca26\"],[1.0,\"#f0f921\"]],\"type\":\"surface\"}],\"table\":[{\"cells\":{\"fill\":{\"color\":\"#EBF0F8\"},\"line\":{\"color\":\"white\"}},\"header\":{\"fill\":{\"color\":\"#C8D4E3\"},\"line\":{\"color\":\"white\"}},\"type\":\"table\"}]},\"layout\":{\"annotationdefaults\":{\"arrowcolor\":\"#2a3f5f\",\"arrowhead\":0,\"arrowwidth\":1},\"autotypenumbers\":\"strict\",\"coloraxis\":{\"colorbar\":{\"outlinewidth\":0,\"ticks\":\"\"}},\"colorscale\":{\"diverging\":[[0,\"#8e0152\"],[0.1,\"#c51b7d\"],[0.2,\"#de77ae\"],[0.3,\"#f1b6da\"],[0.4,\"#fde0ef\"],[0.5,\"#f7f7f7\"],[0.6,\"#e6f5d0\"],[0.7,\"#b8e186\"],[0.8,\"#7fbc41\"],[0.9,\"#4d9221\"],[1,\"#276419\"]],\"sequential\":[[0.0,\"#0d0887\"],[0.1111111111111111,\"#46039f\"],[0.2222222222222222,\"#7201a8\"],[0.3333333333333333,\"#9c179e\"],[0.4444444444444444,\"#bd3786\"],[0.5555555555555556,\"#d8576b\"],[0.6666666666666666,\"#ed7953\"],[0.7777777777777778,\"#fb9f3a\"],[0.8888888888888888,\"#fdca26\"],[1.0,\"#f0f921\"]],\"sequentialminus\":[[0.0,\"#0d0887\"],[0.1111111111111111,\"#46039f\"],[0.2222222222222222,\"#7201a8\"],[0.3333333333333333,\"#9c179e\"],[0.4444444444444444,\"#bd3786\"],[0.5555555555555556,\"#d8576b\"],[0.6666666666666666,\"#ed7953\"],[0.7777777777777778,\"#fb9f3a\"],[0.8888888888888888,\"#fdca26\"],[1.0,\"#f0f921\"]]},\"colorway\":[\"#636efa\",\"#EF553B\",\"#00cc96\",\"#ab63fa\",\"#FFA15A\",\"#19d3f3\",\"#FF6692\",\"#B6E880\",\"#FF97FF\",\"#FECB52\"],\"font\":{\"color\":\"#2a3f5f\"},\"geo\":{\"bgcolor\":\"white\",\"lakecolor\":\"white\",\"landcolor\":\"white\",\"showlakes\":true,\"showland\":true,\"subunitcolor\":\"#C8D4E3\"},\"hoverlabel\":{\"align\":\"left\"},\"hovermode\":\"closest\",\"mapbox\":{\"style\":\"light\"},\"paper_bgcolor\":\"white\",\"plot_bgcolor\":\"white\",\"polar\":{\"angularaxis\":{\"gridcolor\":\"#EBF0F8\",\"linecolor\":\"#EBF0F8\",\"ticks\":\"\"},\"bgcolor\":\"white\",\"radialaxis\":{\"gridcolor\":\"#EBF0F8\",\"linecolor\":\"#EBF0F8\",\"ticks\":\"\"}},\"scene\":{\"xaxis\":{\"backgroundcolor\":\"white\",\"gridcolor\":\"#DFE8F3\",\"gridwidth\":2,\"linecolor\":\"#EBF0F8\",\"showbackground\":true,\"ticks\":\"\",\"zerolinecolor\":\"#EBF0F8\"},\"yaxis\":{\"backgroundcolor\":\"white\",\"gridcolor\":\"#DFE8F3\",\"gridwidth\":2,\"linecolor\":\"#EBF0F8\",\"showbackground\":true,\"ticks\":\"\",\"zerolinecolor\":\"#EBF0F8\"},\"zaxis\":{\"backgroundcolor\":\"white\",\"gridcolor\":\"#DFE8F3\",\"gridwidth\":2,\"linecolor\":\"#EBF0F8\",\"showbackground\":true,\"ticks\":\"\",\"zerolinecolor\":\"#EBF0F8\"}},\"shapedefaults\":{\"line\":{\"color\":\"#2a3f5f\"}},\"ternary\":{\"aaxis\":{\"gridcolor\":\"#DFE8F3\",\"linecolor\":\"#A2B1C6\",\"ticks\":\"\"},\"baxis\":{\"gridcolor\":\"#DFE8F3\",\"linecolor\":\"#A2B1C6\",\"ticks\":\"\"},\"bgcolor\":\"white\",\"caxis\":{\"gridcolor\":\"#DFE8F3\",\"linecolor\":\"#A2B1C6\",\"ticks\":\"\"}},\"title\":{\"x\":0.05},\"xaxis\":{\"automargin\":true,\"gridcolor\":\"#EBF0F8\",\"linecolor\":\"#EBF0F8\",\"ticks\":\"\",\"title\":{\"standoff\":15},\"zerolinecolor\":\"#EBF0F8\",\"zerolinewidth\":2},\"yaxis\":{\"automargin\":true,\"gridcolor\":\"#EBF0F8\",\"linecolor\":\"#EBF0F8\",\"ticks\":\"\",\"title\":{\"standoff\":15},\"zerolinecolor\":\"#EBF0F8\",\"zerolinewidth\":2}}},\"xaxis\":{\"anchor\":\"y\",\"domain\":[0.0,1.0]},\"yaxis\":{\"anchor\":\"x\",\"domain\":[0.84375,1.0]},\"xaxis2\":{\"anchor\":\"y2\",\"domain\":[0.0,1.0]},\"yaxis2\":{\"anchor\":\"x2\",\"domain\":[0.5625,0.71875]},\"xaxis3\":{\"anchor\":\"y3\",\"domain\":[0.0,1.0]},\"yaxis3\":{\"anchor\":\"x3\",\"domain\":[0.28125,0.4375]},\"xaxis4\":{\"anchor\":\"y4\",\"domain\":[0.0,1.0]},\"yaxis4\":{\"anchor\":\"x4\",\"domain\":[0.0,0.15625]},\"annotations\":[{\"font\":{\"size\":16},\"showarrow\":false,\"text\":\"<i>Nivel de experiencia\",\"x\":0.5,\"xanchor\":\"center\",\"xref\":\"paper\",\"y\":1.0,\"yanchor\":\"bottom\",\"yref\":\"paper\"},{\"font\":{\"size\":16},\"showarrow\":false,\"text\":\"<i>Tipo de trabajo\",\"x\":0.5,\"xanchor\":\"center\",\"xref\":\"paper\",\"y\":0.71875,\"yanchor\":\"bottom\",\"yref\":\"paper\"},{\"font\":{\"size\":16},\"showarrow\":false,\"text\":\"<i>Tama\\u00f1o de compa\\u00f1\\u00eda\",\"x\":0.5,\"xanchor\":\"center\",\"xref\":\"paper\",\"y\":0.4375,\"yanchor\":\"bottom\",\"yref\":\"paper\"},{\"font\":{\"size\":16},\"showarrow\":false,\"text\":\"<i>A\\u00f1o\",\"x\":0.5,\"xanchor\":\"center\",\"xref\":\"paper\",\"y\":0.15625,\"yanchor\":\"bottom\",\"yref\":\"paper\"}],\"title\":{\"text\":\"<b>Categorias de Salarios\",\"x\":0.5},\"font\":{\"size\":30,\"family\":\"Courier New\"},\"height\":1000,\"width\":800,\"showlegend\":false},                        {\"responsive\": true}                    ).then(function(){\n",
       "                            \n",
       "var gd = document.getElementById('75170cfa-1019-401e-998c-baecc323aaff');\n",
       "var x = new MutationObserver(function (mutations, observer) {{\n",
       "        var display = window.getComputedStyle(gd).display;\n",
       "        if (!display || display === 'none') {{\n",
       "            console.log([gd, 'removed!']);\n",
       "            Plotly.purge(gd);\n",
       "            observer.disconnect();\n",
       "        }}\n",
       "}});\n",
       "\n",
       "// Listen for the removal of the full notebook cells\n",
       "var notebookContainer = gd.closest('#notebook-container');\n",
       "if (notebookContainer) {{\n",
       "    x.observe(notebookContainer, {childList: true});\n",
       "}}\n",
       "\n",
       "// Listen for the clearing of the current output cell\n",
       "var outputEl = gd.closest('.output');\n",
       "if (outputEl) {{\n",
       "    x.observe(outputEl, {childList: true});\n",
       "}}\n",
       "\n",
       "                        })                };                });            </script>        </div>"
      ]
     },
     "metadata": {},
     "output_type": "display_data"
    }
   ],
   "source": [
    "fig=make_subplots(rows=4,cols=1,subplot_titles=('<i>Nivel de experiencia', '<i>Tipo de trabajo', '<i>Tamaño de compañía', '<i>Año'))\n",
    "fig.add_trace(go.Box(x=data2['experience_level'] ,y=data2['Salario en USD'], boxpoints='all'),row=1,col=1)\n",
    "fig.add_trace(go.Box(x=data2['remote_ratio'] ,y=data2['Salario en USD'], boxpoints='all'),row=2,col=1)\n",
    "fig.add_trace(go.Box(x=data2['company_size'] ,y=data2['Salario en USD'], boxpoints='all'),row=3,col=1)\n",
    "fig.add_trace(go.Box(x=data2['work_year'] ,y=data2['Salario en USD'], boxpoints='all'),row=4,col=1)\n",
    "\n",
    "fig.update_layout(height=1000, width=800, title_text='<b>Categorias de Salarios', font_size=30)\n",
    "fig.update_layout(template='plotly_white', title_x=0.5, font_family='Courier New', showlegend=False)"
   ]
  },
  {
   "cell_type": "markdown",
   "metadata": {},
   "source": [
    "8) Salarios con respecto al cargo que se desempena "
   ]
  },
  {
   "cell_type": "code",
   "execution_count": 194,
   "metadata": {},
   "outputs": [],
   "source": [
    "job_title_list = ['Data Scientist', 'Data Engineer', 'Data Analyst', 'Machine Learning Engineer',\n",
    "                 'Research Scientist', 'Data Science Manager', 'Data Architect', 'Big Data Engineer']\n",
    "\n",
    "temp_job_df = data2[data2['Puesto Laboral'].isin(job_title_list)]"
   ]
  },
  {
   "cell_type": "code",
   "execution_count": 198,
   "metadata": {},
   "outputs": [
    {
     "data": {
      "application/vnd.plotly.v1+json": {
       "config": {
        "plotlyServerURL": "https://plot.ly"
       },
       "data": [
        {
         "alignmentgroup": "True",
         "boxpoints": "all",
         "hovertemplate": "Puesto Laboral=%{x}<br>Salario en USD=%{y}<extra></extra>",
         "legendgroup": "Data Scientist",
         "marker": {
          "color": "#636efa"
         },
         "name": "Data Scientist",
         "notched": true,
         "offsetgroup": "Data Scientist",
         "orientation": "v",
         "showlegend": true,
         "type": "box",
         "x": [
          "Data Scientist",
          "Data Scientist",
          "Data Scientist",
          "Data Scientist",
          "Data Scientist",
          "Data Scientist",
          "Data Scientist",
          "Data Scientist",
          "Data Scientist",
          "Data Scientist",
          "Data Scientist",
          "Data Scientist",
          "Data Scientist",
          "Data Scientist",
          "Data Scientist",
          "Data Scientist",
          "Data Scientist",
          "Data Scientist",
          "Data Scientist",
          "Data Scientist",
          "Data Scientist",
          "Data Scientist",
          "Data Scientist",
          "Data Scientist",
          "Data Scientist",
          "Data Scientist",
          "Data Scientist",
          "Data Scientist",
          "Data Scientist",
          "Data Scientist",
          "Data Scientist",
          "Data Scientist",
          "Data Scientist",
          "Data Scientist",
          "Data Scientist",
          "Data Scientist",
          "Data Scientist",
          "Data Scientist",
          "Data Scientist",
          "Data Scientist",
          "Data Scientist",
          "Data Scientist",
          "Data Scientist",
          "Data Scientist",
          "Data Scientist",
          "Data Scientist",
          "Data Scientist",
          "Data Scientist",
          "Data Scientist",
          "Data Scientist",
          "Data Scientist",
          "Data Scientist",
          "Data Scientist",
          "Data Scientist",
          "Data Scientist",
          "Data Scientist",
          "Data Scientist",
          "Data Scientist",
          "Data Scientist",
          "Data Scientist",
          "Data Scientist",
          "Data Scientist",
          "Data Scientist",
          "Data Scientist",
          "Data Scientist",
          "Data Scientist",
          "Data Scientist",
          "Data Scientist",
          "Data Scientist",
          "Data Scientist",
          "Data Scientist",
          "Data Scientist",
          "Data Scientist",
          "Data Scientist",
          "Data Scientist",
          "Data Scientist",
          "Data Scientist",
          "Data Scientist",
          "Data Scientist",
          "Data Scientist",
          "Data Scientist",
          "Data Scientist",
          "Data Scientist",
          "Data Scientist",
          "Data Scientist",
          "Data Scientist",
          "Data Scientist",
          "Data Scientist",
          "Data Scientist",
          "Data Scientist",
          "Data Scientist",
          "Data Scientist",
          "Data Scientist",
          "Data Scientist",
          "Data Scientist",
          "Data Scientist",
          "Data Scientist",
          "Data Scientist",
          "Data Scientist",
          "Data Scientist",
          "Data Scientist",
          "Data Scientist",
          "Data Scientist",
          "Data Scientist",
          "Data Scientist",
          "Data Scientist",
          "Data Scientist",
          "Data Scientist",
          "Data Scientist",
          "Data Scientist",
          "Data Scientist",
          "Data Scientist",
          "Data Scientist",
          "Data Scientist",
          "Data Scientist",
          "Data Scientist",
          "Data Scientist",
          "Data Scientist",
          "Data Scientist",
          "Data Scientist",
          "Data Scientist",
          "Data Scientist",
          "Data Scientist",
          "Data Scientist",
          "Data Scientist",
          "Data Scientist",
          "Data Scientist",
          "Data Scientist",
          "Data Scientist",
          "Data Scientist",
          "Data Scientist",
          "Data Scientist",
          "Data Scientist",
          "Data Scientist",
          "Data Scientist",
          "Data Scientist",
          "Data Scientist",
          "Data Scientist",
          "Data Scientist",
          "Data Scientist",
          "Data Scientist",
          "Data Scientist"
         ],
         "x0": " ",
         "xaxis": "x",
         "y": [
          79833,
          35735,
          51321,
          40481,
          39916,
          68428,
          45760,
          76958,
          105000,
          38776,
          118000,
          120000,
          138350,
          21669,
          62726,
          49268,
          105000,
          91237,
          62726,
          42197,
          53192,
          29751,
          73000,
          50000,
          9466,
          49646,
          100000,
          80000,
          82500,
          150000,
          75774,
          13400,
          119059,
          2859,
          40038,
          5679,
          90734,
          147000,
          61467,
          37825,
          160000,
          12901,
          90734,
          116914,
          33808,
          56256,
          87738,
          88654,
          135000,
          46809,
          4000,
          103691,
          165000,
          36643,
          115000,
          90000,
          28399,
          130000,
          16904,
          25532,
          77684,
          100000,
          58000,
          20171,
          109000,
          130000,
          90000,
          136620,
          99360,
          117789,
          104702,
          146000,
          123000,
          65438,
          39263,
          165220,
          120160,
          180000,
          120000,
          95550,
          167000,
          123000,
          150000,
          211500,
          138600,
          170000,
          123000,
          215300,
          158200,
          180000,
          71982,
          45807,
          260000,
          180000,
          80000,
          140400,
          215300,
          31615,
          18442,
          104890,
          140000,
          220000,
          140000,
          183228,
          91614,
          185100,
          200000,
          120000,
          230000,
          100000,
          100000,
          35590,
          100000,
          165000,
          52396,
          40000,
          86703,
          48000,
          122346,
          69336,
          135000,
          78000,
          141300,
          102100,
          205300,
          140400,
          176000,
          144000,
          205300,
          140400,
          140000,
          210000,
          140000,
          210000,
          140000,
          210000,
          140000,
          230000,
          150000,
          210000,
          160000,
          130000
         ],
         "y0": " ",
         "yaxis": "y"
        },
        {
         "alignmentgroup": "True",
         "boxpoints": "all",
         "hovertemplate": "Puesto Laboral=%{x}<br>Salario en USD=%{y}<extra></extra>",
         "legendgroup": "Big Data Engineer",
         "marker": {
          "color": "#EF553B"
         },
         "name": "Big Data Engineer",
         "notched": true,
         "offsetgroup": "Big Data Engineer",
         "orientation": "v",
         "showlegend": true,
         "type": "box",
         "x": [
          "Big Data Engineer",
          "Big Data Engineer",
          "Big Data Engineer",
          "Big Data Engineer",
          "Big Data Engineer",
          "Big Data Engineer",
          "Big Data Engineer",
          "Big Data Engineer"
         ],
         "x0": " ",
         "xaxis": "x",
         "y": [
          109024,
          114047,
          70000,
          60000,
          22611,
          18000,
          5882,
          16228
         ],
         "y0": " ",
         "yaxis": "y"
        },
        {
         "alignmentgroup": "True",
         "boxpoints": "all",
         "hovertemplate": "Puesto Laboral=%{x}<br>Salario en USD=%{y}<extra></extra>",
         "legendgroup": "Machine Learning Engineer",
         "marker": {
          "color": "#00cc96"
         },
         "name": "Machine Learning Engineer",
         "notched": true,
         "offsetgroup": "Machine Learning Engineer",
         "orientation": "v",
         "showlegend": true,
         "type": "box",
         "x": [
          "Machine Learning Engineer",
          "Machine Learning Engineer",
          "Machine Learning Engineer",
          "Machine Learning Engineer",
          "Machine Learning Engineer",
          "Machine Learning Engineer",
          "Machine Learning Engineer",
          "Machine Learning Engineer",
          "Machine Learning Engineer",
          "Machine Learning Engineer",
          "Machine Learning Engineer",
          "Machine Learning Engineer",
          "Machine Learning Engineer",
          "Machine Learning Engineer",
          "Machine Learning Engineer",
          "Machine Learning Engineer",
          "Machine Learning Engineer",
          "Machine Learning Engineer",
          "Machine Learning Engineer",
          "Machine Learning Engineer",
          "Machine Learning Engineer",
          "Machine Learning Engineer",
          "Machine Learning Engineer",
          "Machine Learning Engineer",
          "Machine Learning Engineer",
          "Machine Learning Engineer",
          "Machine Learning Engineer",
          "Machine Learning Engineer",
          "Machine Learning Engineer",
          "Machine Learning Engineer",
          "Machine Learning Engineer",
          "Machine Learning Engineer",
          "Machine Learning Engineer",
          "Machine Learning Engineer",
          "Machine Learning Engineer",
          "Machine Learning Engineer",
          "Machine Learning Engineer",
          "Machine Learning Engineer",
          "Machine Learning Engineer",
          "Machine Learning Engineer",
          "Machine Learning Engineer"
         ],
         "x0": " ",
         "xaxis": "x",
         "y": [
          150000,
          43331,
          250000,
          138000,
          45618,
          47282,
          94564,
          20000,
          82744,
          125000,
          81000,
          74000,
          21844,
          24342,
          200000,
          24823,
          24823,
          88654,
          46597,
          185000,
          66265,
          85000,
          51064,
          189650,
          164996,
          37300,
          124333,
          98158,
          87932,
          189650,
          164996,
          120000,
          220000,
          120000,
          65000,
          120000,
          62651,
          87425,
          71444,
          214000,
          192600
         ],
         "y0": " ",
         "yaxis": "y"
        },
        {
         "alignmentgroup": "True",
         "boxpoints": "all",
         "hovertemplate": "Puesto Laboral=%{x}<br>Salario en USD=%{y}<extra></extra>",
         "legendgroup": "Data Analyst",
         "marker": {
          "color": "#ab63fa"
         },
         "name": "Data Analyst",
         "notched": true,
         "offsetgroup": "Data Analyst",
         "orientation": "v",
         "showlegend": true,
         "type": "box",
         "x": [
          "Data Analyst",
          "Data Analyst",
          "Data Analyst",
          "Data Analyst",
          "Data Analyst",
          "Data Analyst",
          "Data Analyst",
          "Data Analyst",
          "Data Analyst",
          "Data Analyst",
          "Data Analyst",
          "Data Analyst",
          "Data Analyst",
          "Data Analyst",
          "Data Analyst",
          "Data Analyst",
          "Data Analyst",
          "Data Analyst",
          "Data Analyst",
          "Data Analyst",
          "Data Analyst",
          "Data Analyst",
          "Data Analyst",
          "Data Analyst",
          "Data Analyst",
          "Data Analyst",
          "Data Analyst",
          "Data Analyst",
          "Data Analyst",
          "Data Analyst",
          "Data Analyst",
          "Data Analyst",
          "Data Analyst",
          "Data Analyst",
          "Data Analyst",
          "Data Analyst",
          "Data Analyst",
          "Data Analyst",
          "Data Analyst",
          "Data Analyst",
          "Data Analyst",
          "Data Analyst",
          "Data Analyst",
          "Data Analyst",
          "Data Analyst",
          "Data Analyst",
          "Data Analyst",
          "Data Analyst",
          "Data Analyst",
          "Data Analyst",
          "Data Analyst",
          "Data Analyst",
          "Data Analyst",
          "Data Analyst",
          "Data Analyst",
          "Data Analyst",
          "Data Analyst",
          "Data Analyst",
          "Data Analyst",
          "Data Analyst",
          "Data Analyst",
          "Data Analyst",
          "Data Analyst",
          "Data Analyst",
          "Data Analyst",
          "Data Analyst",
          "Data Analyst",
          "Data Analyst",
          "Data Analyst",
          "Data Analyst",
          "Data Analyst",
          "Data Analyst",
          "Data Analyst",
          "Data Analyst",
          "Data Analyst",
          "Data Analyst",
          "Data Analyst",
          "Data Analyst",
          "Data Analyst",
          "Data Analyst",
          "Data Analyst",
          "Data Analyst",
          "Data Analyst",
          "Data Analyst",
          "Data Analyst",
          "Data Analyst",
          "Data Analyst",
          "Data Analyst",
          "Data Analyst",
          "Data Analyst",
          "Data Analyst",
          "Data Analyst",
          "Data Analyst",
          "Data Analyst",
          "Data Analyst",
          "Data Analyst",
          "Data Analyst"
         ],
         "x0": " ",
         "xaxis": "x",
         "y": [
          72000,
          85000,
          8000,
          46759,
          10000,
          6072,
          91000,
          80000,
          59102,
          80000,
          75000,
          62000,
          51519,
          90000,
          50000,
          10354,
          90000,
          135000,
          60000,
          71786,
          200000,
          80000,
          93000,
          63831,
          155000,
          120600,
          102100,
          84900,
          99000,
          116000,
          106260,
          126500,
          90320,
          124190,
          130000,
          110000,
          170000,
          115500,
          112900,
          90320,
          112900,
          90320,
          167000,
          136600,
          109280,
          135000,
          130000,
          61300,
          130000,
          61300,
          58000,
          132000,
          128875,
          93700,
          164000,
          112900,
          90320,
          115934,
          81666,
          58000,
          52351,
          39263,
          43966,
          32974,
          43966,
          32974,
          135000,
          50000,
          20000,
          135000,
          100000,
          90320,
          85000,
          75000,
          112900,
          115934,
          81666,
          99050,
          116150,
          170000,
          65438,
          80000,
          100000,
          69000,
          150075,
          126500,
          106260,
          105000,
          110925,
          45807,
          99000,
          60000,
          170000,
          67000,
          52000,
          129000,
          150000
         ],
         "y0": " ",
         "yaxis": "y"
        },
        {
         "alignmentgroup": "True",
         "boxpoints": "all",
         "hovertemplate": "Puesto Laboral=%{x}<br>Salario en USD=%{y}<extra></extra>",
         "legendgroup": "Data Engineer",
         "marker": {
          "color": "#FFA15A"
         },
         "name": "Data Engineer",
         "notched": true,
         "offsetgroup": "Data Engineer",
         "orientation": "v",
         "showlegend": true,
         "type": "box",
         "x": [
          "Data Engineer",
          "Data Engineer",
          "Data Engineer",
          "Data Engineer",
          "Data Engineer",
          "Data Engineer",
          "Data Engineer",
          "Data Engineer",
          "Data Engineer",
          "Data Engineer",
          "Data Engineer",
          "Data Engineer",
          "Data Engineer",
          "Data Engineer",
          "Data Engineer",
          "Data Engineer",
          "Data Engineer",
          "Data Engineer",
          "Data Engineer",
          "Data Engineer",
          "Data Engineer",
          "Data Engineer",
          "Data Engineer",
          "Data Engineer",
          "Data Engineer",
          "Data Engineer",
          "Data Engineer",
          "Data Engineer",
          "Data Engineer",
          "Data Engineer",
          "Data Engineer",
          "Data Engineer",
          "Data Engineer",
          "Data Engineer",
          "Data Engineer",
          "Data Engineer",
          "Data Engineer",
          "Data Engineer",
          "Data Engineer",
          "Data Engineer",
          "Data Engineer",
          "Data Engineer",
          "Data Engineer",
          "Data Engineer",
          "Data Engineer",
          "Data Engineer",
          "Data Engineer",
          "Data Engineer",
          "Data Engineer",
          "Data Engineer",
          "Data Engineer",
          "Data Engineer",
          "Data Engineer",
          "Data Engineer",
          "Data Engineer",
          "Data Engineer",
          "Data Engineer",
          "Data Engineer",
          "Data Engineer",
          "Data Engineer",
          "Data Engineer",
          "Data Engineer",
          "Data Engineer",
          "Data Engineer",
          "Data Engineer",
          "Data Engineer",
          "Data Engineer",
          "Data Engineer",
          "Data Engineer",
          "Data Engineer",
          "Data Engineer",
          "Data Engineer",
          "Data Engineer",
          "Data Engineer",
          "Data Engineer",
          "Data Engineer",
          "Data Engineer",
          "Data Engineer",
          "Data Engineer",
          "Data Engineer",
          "Data Engineer",
          "Data Engineer",
          "Data Engineer",
          "Data Engineer",
          "Data Engineer",
          "Data Engineer",
          "Data Engineer",
          "Data Engineer",
          "Data Engineer",
          "Data Engineer",
          "Data Engineer",
          "Data Engineer",
          "Data Engineer",
          "Data Engineer",
          "Data Engineer",
          "Data Engineer",
          "Data Engineer",
          "Data Engineer",
          "Data Engineer",
          "Data Engineer",
          "Data Engineer",
          "Data Engineer",
          "Data Engineer",
          "Data Engineer",
          "Data Engineer",
          "Data Engineer",
          "Data Engineer",
          "Data Engineer",
          "Data Engineer",
          "Data Engineer",
          "Data Engineer",
          "Data Engineer",
          "Data Engineer",
          "Data Engineer",
          "Data Engineer",
          "Data Engineer",
          "Data Engineer",
          "Data Engineer",
          "Data Engineer",
          "Data Engineer",
          "Data Engineer",
          "Data Engineer",
          "Data Engineer",
          "Data Engineer",
          "Data Engineer",
          "Data Engineer",
          "Data Engineer",
          "Data Engineer",
          "Data Engineer",
          "Data Engineer",
          "Data Engineer",
          "Data Engineer"
         ],
         "x0": " ",
         "xaxis": "x",
         "y": [
          41689,
          47899,
          33511,
          74130,
          106000,
          112872,
          188000,
          70139,
          54742,
          110000,
          130800,
          140000,
          28476,
          150000,
          115000,
          150000,
          30428,
          45391,
          200000,
          100000,
          90000,
          28369,
          80000,
          82528,
          26005,
          4000,
          76833,
          165000,
          20000,
          66022,
          21637,
          110000,
          72212,
          12103,
          96282,
          200000,
          93150,
          111775,
          28016,
          65013,
          72500,
          112000,
          69741,
          135000,
          170000,
          150000,
          52351,
          242000,
          200000,
          78526,
          52351,
          45807,
          181940,
          132320,
          220110,
          160080,
          165400,
          132320,
          243900,
          128875,
          93700,
          156600,
          108800,
          113000,
          78526,
          65438,
          160000,
          136000,
          165400,
          136994,
          101570,
          132320,
          155000,
          117789,
          209100,
          154600,
          175000,
          98158,
          183600,
          65949,
          49461,
          78526,
          58894,
          63900,
          82900,
          100800,
          49461,
          87932,
          76940,
          104702,
          91614,
          65949,
          87932,
          98158,
          78526,
          76940,
          209100,
          154600,
          180000,
          80000,
          105000,
          54957,
          120000,
          100000,
          324000,
          216000,
          210000,
          58035,
          115000,
          65000,
          68147,
          155000,
          206699,
          99100,
          130000,
          115000,
          110500,
          130000,
          160000,
          200100,
          160000,
          145000,
          70500,
          175100,
          140250,
          54000,
          100000,
          25000,
          220110,
          160080,
          154000,
          126000
         ],
         "y0": " ",
         "yaxis": "y"
        },
        {
         "alignmentgroup": "True",
         "boxpoints": "all",
         "hovertemplate": "Puesto Laboral=%{x}<br>Salario en USD=%{y}<extra></extra>",
         "legendgroup": "Research Scientist",
         "marker": {
          "color": "#19d3f3"
         },
         "name": "Research Scientist",
         "notched": true,
         "offsetgroup": "Research Scientist",
         "orientation": "v",
         "showlegend": true,
         "type": "box",
         "x": [
          "Research Scientist",
          "Research Scientist",
          "Research Scientist",
          "Research Scientist",
          "Research Scientist",
          "Research Scientist",
          "Research Scientist",
          "Research Scientist",
          "Research Scientist",
          "Research Scientist",
          "Research Scientist",
          "Research Scientist",
          "Research Scientist",
          "Research Scientist",
          "Research Scientist"
         ],
         "x0": " ",
         "xaxis": "x",
         "y": [
          42000,
          82528,
          187442,
          62649,
          60757,
          96113,
          50000,
          56738,
          63810,
          100000,
          69999,
          144000,
          93427,
          64849,
          120000
         ],
         "y0": " ",
         "yaxis": "y"
        },
        {
         "alignmentgroup": "True",
         "boxpoints": "all",
         "hovertemplate": "Puesto Laboral=%{x}<br>Salario en USD=%{y}<extra></extra>",
         "legendgroup": "Data Science Manager",
         "marker": {
          "color": "#FF6692"
         },
         "name": "Data Science Manager",
         "notched": true,
         "offsetgroup": "Data Science Manager",
         "orientation": "v",
         "showlegend": true,
         "type": "box",
         "x": [
          "Data Science Manager",
          "Data Science Manager",
          "Data Science Manager",
          "Data Science Manager",
          "Data Science Manager",
          "Data Science Manager",
          "Data Science Manager",
          "Data Science Manager",
          "Data Science Manager",
          "Data Science Manager",
          "Data Science Manager",
          "Data Science Manager"
         ],
         "x0": " ",
         "xaxis": "x",
         "y": [
          190200,
          240000,
          144000,
          152000,
          174000,
          54094,
          94665,
          161342,
          137141,
          241000,
          159000,
          152500
         ],
         "y0": " ",
         "yaxis": "y"
        },
        {
         "alignmentgroup": "True",
         "boxpoints": "all",
         "hovertemplate": "Puesto Laboral=%{x}<br>Salario en USD=%{y}<extra></extra>",
         "legendgroup": "Data Architect",
         "marker": {
          "color": "#B6E880"
         },
         "name": "Data Architect",
         "notched": true,
         "offsetgroup": "Data Architect",
         "orientation": "v",
         "showlegend": true,
         "type": "box",
         "x": [
          "Data Architect",
          "Data Architect",
          "Data Architect",
          "Data Architect",
          "Data Architect",
          "Data Architect",
          "Data Architect",
          "Data Architect",
          "Data Architect",
          "Data Architect",
          "Data Architect"
         ],
         "x0": " ",
         "xaxis": "x",
         "y": [
          150000,
          170000,
          180000,
          192400,
          90700,
          208775,
          147800,
          266400,
          213120,
          192564,
          144854
         ],
         "y0": " ",
         "yaxis": "y"
        }
       ],
       "layout": {
        "boxmode": "overlay",
        "legend": {
         "title": {
          "text": "Puesto Laboral"
         },
         "tracegroupgap": 0
        },
        "template": {
         "data": {
          "bar": [
           {
            "error_x": {
             "color": "#2a3f5f"
            },
            "error_y": {
             "color": "#2a3f5f"
            },
            "marker": {
             "line": {
              "color": "white",
              "width": 0.5
             },
             "pattern": {
              "fillmode": "overlay",
              "size": 10,
              "solidity": 0.2
             }
            },
            "type": "bar"
           }
          ],
          "barpolar": [
           {
            "marker": {
             "line": {
              "color": "white",
              "width": 0.5
             },
             "pattern": {
              "fillmode": "overlay",
              "size": 10,
              "solidity": 0.2
             }
            },
            "type": "barpolar"
           }
          ],
          "carpet": [
           {
            "aaxis": {
             "endlinecolor": "#2a3f5f",
             "gridcolor": "#C8D4E3",
             "linecolor": "#C8D4E3",
             "minorgridcolor": "#C8D4E3",
             "startlinecolor": "#2a3f5f"
            },
            "baxis": {
             "endlinecolor": "#2a3f5f",
             "gridcolor": "#C8D4E3",
             "linecolor": "#C8D4E3",
             "minorgridcolor": "#C8D4E3",
             "startlinecolor": "#2a3f5f"
            },
            "type": "carpet"
           }
          ],
          "choropleth": [
           {
            "colorbar": {
             "outlinewidth": 0,
             "ticks": ""
            },
            "type": "choropleth"
           }
          ],
          "contour": [
           {
            "colorbar": {
             "outlinewidth": 0,
             "ticks": ""
            },
            "colorscale": [
             [
              0,
              "#0d0887"
             ],
             [
              0.1111111111111111,
              "#46039f"
             ],
             [
              0.2222222222222222,
              "#7201a8"
             ],
             [
              0.3333333333333333,
              "#9c179e"
             ],
             [
              0.4444444444444444,
              "#bd3786"
             ],
             [
              0.5555555555555556,
              "#d8576b"
             ],
             [
              0.6666666666666666,
              "#ed7953"
             ],
             [
              0.7777777777777778,
              "#fb9f3a"
             ],
             [
              0.8888888888888888,
              "#fdca26"
             ],
             [
              1,
              "#f0f921"
             ]
            ],
            "type": "contour"
           }
          ],
          "contourcarpet": [
           {
            "colorbar": {
             "outlinewidth": 0,
             "ticks": ""
            },
            "type": "contourcarpet"
           }
          ],
          "heatmap": [
           {
            "colorbar": {
             "outlinewidth": 0,
             "ticks": ""
            },
            "colorscale": [
             [
              0,
              "#0d0887"
             ],
             [
              0.1111111111111111,
              "#46039f"
             ],
             [
              0.2222222222222222,
              "#7201a8"
             ],
             [
              0.3333333333333333,
              "#9c179e"
             ],
             [
              0.4444444444444444,
              "#bd3786"
             ],
             [
              0.5555555555555556,
              "#d8576b"
             ],
             [
              0.6666666666666666,
              "#ed7953"
             ],
             [
              0.7777777777777778,
              "#fb9f3a"
             ],
             [
              0.8888888888888888,
              "#fdca26"
             ],
             [
              1,
              "#f0f921"
             ]
            ],
            "type": "heatmap"
           }
          ],
          "heatmapgl": [
           {
            "colorbar": {
             "outlinewidth": 0,
             "ticks": ""
            },
            "colorscale": [
             [
              0,
              "#0d0887"
             ],
             [
              0.1111111111111111,
              "#46039f"
             ],
             [
              0.2222222222222222,
              "#7201a8"
             ],
             [
              0.3333333333333333,
              "#9c179e"
             ],
             [
              0.4444444444444444,
              "#bd3786"
             ],
             [
              0.5555555555555556,
              "#d8576b"
             ],
             [
              0.6666666666666666,
              "#ed7953"
             ],
             [
              0.7777777777777778,
              "#fb9f3a"
             ],
             [
              0.8888888888888888,
              "#fdca26"
             ],
             [
              1,
              "#f0f921"
             ]
            ],
            "type": "heatmapgl"
           }
          ],
          "histogram": [
           {
            "marker": {
             "pattern": {
              "fillmode": "overlay",
              "size": 10,
              "solidity": 0.2
             }
            },
            "type": "histogram"
           }
          ],
          "histogram2d": [
           {
            "colorbar": {
             "outlinewidth": 0,
             "ticks": ""
            },
            "colorscale": [
             [
              0,
              "#0d0887"
             ],
             [
              0.1111111111111111,
              "#46039f"
             ],
             [
              0.2222222222222222,
              "#7201a8"
             ],
             [
              0.3333333333333333,
              "#9c179e"
             ],
             [
              0.4444444444444444,
              "#bd3786"
             ],
             [
              0.5555555555555556,
              "#d8576b"
             ],
             [
              0.6666666666666666,
              "#ed7953"
             ],
             [
              0.7777777777777778,
              "#fb9f3a"
             ],
             [
              0.8888888888888888,
              "#fdca26"
             ],
             [
              1,
              "#f0f921"
             ]
            ],
            "type": "histogram2d"
           }
          ],
          "histogram2dcontour": [
           {
            "colorbar": {
             "outlinewidth": 0,
             "ticks": ""
            },
            "colorscale": [
             [
              0,
              "#0d0887"
             ],
             [
              0.1111111111111111,
              "#46039f"
             ],
             [
              0.2222222222222222,
              "#7201a8"
             ],
             [
              0.3333333333333333,
              "#9c179e"
             ],
             [
              0.4444444444444444,
              "#bd3786"
             ],
             [
              0.5555555555555556,
              "#d8576b"
             ],
             [
              0.6666666666666666,
              "#ed7953"
             ],
             [
              0.7777777777777778,
              "#fb9f3a"
             ],
             [
              0.8888888888888888,
              "#fdca26"
             ],
             [
              1,
              "#f0f921"
             ]
            ],
            "type": "histogram2dcontour"
           }
          ],
          "mesh3d": [
           {
            "colorbar": {
             "outlinewidth": 0,
             "ticks": ""
            },
            "type": "mesh3d"
           }
          ],
          "parcoords": [
           {
            "line": {
             "colorbar": {
              "outlinewidth": 0,
              "ticks": ""
             }
            },
            "type": "parcoords"
           }
          ],
          "pie": [
           {
            "automargin": true,
            "type": "pie"
           }
          ],
          "scatter": [
           {
            "fillpattern": {
             "fillmode": "overlay",
             "size": 10,
             "solidity": 0.2
            },
            "type": "scatter"
           }
          ],
          "scatter3d": [
           {
            "line": {
             "colorbar": {
              "outlinewidth": 0,
              "ticks": ""
             }
            },
            "marker": {
             "colorbar": {
              "outlinewidth": 0,
              "ticks": ""
             }
            },
            "type": "scatter3d"
           }
          ],
          "scattercarpet": [
           {
            "marker": {
             "colorbar": {
              "outlinewidth": 0,
              "ticks": ""
             }
            },
            "type": "scattercarpet"
           }
          ],
          "scattergeo": [
           {
            "marker": {
             "colorbar": {
              "outlinewidth": 0,
              "ticks": ""
             }
            },
            "type": "scattergeo"
           }
          ],
          "scattergl": [
           {
            "marker": {
             "colorbar": {
              "outlinewidth": 0,
              "ticks": ""
             }
            },
            "type": "scattergl"
           }
          ],
          "scattermapbox": [
           {
            "marker": {
             "colorbar": {
              "outlinewidth": 0,
              "ticks": ""
             }
            },
            "type": "scattermapbox"
           }
          ],
          "scatterpolar": [
           {
            "marker": {
             "colorbar": {
              "outlinewidth": 0,
              "ticks": ""
             }
            },
            "type": "scatterpolar"
           }
          ],
          "scatterpolargl": [
           {
            "marker": {
             "colorbar": {
              "outlinewidth": 0,
              "ticks": ""
             }
            },
            "type": "scatterpolargl"
           }
          ],
          "scatterternary": [
           {
            "marker": {
             "colorbar": {
              "outlinewidth": 0,
              "ticks": ""
             }
            },
            "type": "scatterternary"
           }
          ],
          "surface": [
           {
            "colorbar": {
             "outlinewidth": 0,
             "ticks": ""
            },
            "colorscale": [
             [
              0,
              "#0d0887"
             ],
             [
              0.1111111111111111,
              "#46039f"
             ],
             [
              0.2222222222222222,
              "#7201a8"
             ],
             [
              0.3333333333333333,
              "#9c179e"
             ],
             [
              0.4444444444444444,
              "#bd3786"
             ],
             [
              0.5555555555555556,
              "#d8576b"
             ],
             [
              0.6666666666666666,
              "#ed7953"
             ],
             [
              0.7777777777777778,
              "#fb9f3a"
             ],
             [
              0.8888888888888888,
              "#fdca26"
             ],
             [
              1,
              "#f0f921"
             ]
            ],
            "type": "surface"
           }
          ],
          "table": [
           {
            "cells": {
             "fill": {
              "color": "#EBF0F8"
             },
             "line": {
              "color": "white"
             }
            },
            "header": {
             "fill": {
              "color": "#C8D4E3"
             },
             "line": {
              "color": "white"
             }
            },
            "type": "table"
           }
          ]
         },
         "layout": {
          "annotationdefaults": {
           "arrowcolor": "#2a3f5f",
           "arrowhead": 0,
           "arrowwidth": 1
          },
          "autotypenumbers": "strict",
          "coloraxis": {
           "colorbar": {
            "outlinewidth": 0,
            "ticks": ""
           }
          },
          "colorscale": {
           "diverging": [
            [
             0,
             "#8e0152"
            ],
            [
             0.1,
             "#c51b7d"
            ],
            [
             0.2,
             "#de77ae"
            ],
            [
             0.3,
             "#f1b6da"
            ],
            [
             0.4,
             "#fde0ef"
            ],
            [
             0.5,
             "#f7f7f7"
            ],
            [
             0.6,
             "#e6f5d0"
            ],
            [
             0.7,
             "#b8e186"
            ],
            [
             0.8,
             "#7fbc41"
            ],
            [
             0.9,
             "#4d9221"
            ],
            [
             1,
             "#276419"
            ]
           ],
           "sequential": [
            [
             0,
             "#0d0887"
            ],
            [
             0.1111111111111111,
             "#46039f"
            ],
            [
             0.2222222222222222,
             "#7201a8"
            ],
            [
             0.3333333333333333,
             "#9c179e"
            ],
            [
             0.4444444444444444,
             "#bd3786"
            ],
            [
             0.5555555555555556,
             "#d8576b"
            ],
            [
             0.6666666666666666,
             "#ed7953"
            ],
            [
             0.7777777777777778,
             "#fb9f3a"
            ],
            [
             0.8888888888888888,
             "#fdca26"
            ],
            [
             1,
             "#f0f921"
            ]
           ],
           "sequentialminus": [
            [
             0,
             "#0d0887"
            ],
            [
             0.1111111111111111,
             "#46039f"
            ],
            [
             0.2222222222222222,
             "#7201a8"
            ],
            [
             0.3333333333333333,
             "#9c179e"
            ],
            [
             0.4444444444444444,
             "#bd3786"
            ],
            [
             0.5555555555555556,
             "#d8576b"
            ],
            [
             0.6666666666666666,
             "#ed7953"
            ],
            [
             0.7777777777777778,
             "#fb9f3a"
            ],
            [
             0.8888888888888888,
             "#fdca26"
            ],
            [
             1,
             "#f0f921"
            ]
           ]
          },
          "colorway": [
           "#636efa",
           "#EF553B",
           "#00cc96",
           "#ab63fa",
           "#FFA15A",
           "#19d3f3",
           "#FF6692",
           "#B6E880",
           "#FF97FF",
           "#FECB52"
          ],
          "font": {
           "color": "#2a3f5f"
          },
          "geo": {
           "bgcolor": "white",
           "lakecolor": "white",
           "landcolor": "white",
           "showlakes": true,
           "showland": true,
           "subunitcolor": "#C8D4E3"
          },
          "hoverlabel": {
           "align": "left"
          },
          "hovermode": "closest",
          "mapbox": {
           "style": "light"
          },
          "paper_bgcolor": "white",
          "plot_bgcolor": "white",
          "polar": {
           "angularaxis": {
            "gridcolor": "#EBF0F8",
            "linecolor": "#EBF0F8",
            "ticks": ""
           },
           "bgcolor": "white",
           "radialaxis": {
            "gridcolor": "#EBF0F8",
            "linecolor": "#EBF0F8",
            "ticks": ""
           }
          },
          "scene": {
           "xaxis": {
            "backgroundcolor": "white",
            "gridcolor": "#DFE8F3",
            "gridwidth": 2,
            "linecolor": "#EBF0F8",
            "showbackground": true,
            "ticks": "",
            "zerolinecolor": "#EBF0F8"
           },
           "yaxis": {
            "backgroundcolor": "white",
            "gridcolor": "#DFE8F3",
            "gridwidth": 2,
            "linecolor": "#EBF0F8",
            "showbackground": true,
            "ticks": "",
            "zerolinecolor": "#EBF0F8"
           },
           "zaxis": {
            "backgroundcolor": "white",
            "gridcolor": "#DFE8F3",
            "gridwidth": 2,
            "linecolor": "#EBF0F8",
            "showbackground": true,
            "ticks": "",
            "zerolinecolor": "#EBF0F8"
           }
          },
          "shapedefaults": {
           "line": {
            "color": "#2a3f5f"
           }
          },
          "ternary": {
           "aaxis": {
            "gridcolor": "#DFE8F3",
            "linecolor": "#A2B1C6",
            "ticks": ""
           },
           "baxis": {
            "gridcolor": "#DFE8F3",
            "linecolor": "#A2B1C6",
            "ticks": ""
           },
           "bgcolor": "white",
           "caxis": {
            "gridcolor": "#DFE8F3",
            "linecolor": "#A2B1C6",
            "ticks": ""
           }
          },
          "title": {
           "x": 0.05
          },
          "xaxis": {
           "automargin": true,
           "gridcolor": "#EBF0F8",
           "linecolor": "#EBF0F8",
           "ticks": "",
           "title": {
            "standoff": 15
           },
           "zerolinecolor": "#EBF0F8",
           "zerolinewidth": 2
          },
          "yaxis": {
           "automargin": true,
           "gridcolor": "#EBF0F8",
           "linecolor": "#EBF0F8",
           "ticks": "",
           "title": {
            "standoff": 15
           },
           "zerolinecolor": "#EBF0F8",
           "zerolinewidth": 2
          }
         }
        },
        "title": {
         "text": "<b>Salario por Puesto"
        },
        "xaxis": {
         "anchor": "y",
         "categoryarray": [
          "Data Scientist",
          "Big Data Engineer",
          "Machine Learning Engineer",
          "Data Analyst",
          "Data Engineer",
          "Research Scientist",
          "Data Science Manager",
          "Data Architect"
         ],
         "categoryorder": "array",
         "domain": [
          0,
          1
         ],
         "title": {
          "text": "Puesto Laboral"
         }
        },
        "yaxis": {
         "anchor": "x",
         "domain": [
          0,
          1
         ],
         "title": {
          "text": "Salario en USD"
         }
        }
       }
      },
      "text/html": [
       "<div>                            <div id=\"8a9c6f42-cb90-413c-8782-76569a5bd3a9\" class=\"plotly-graph-div\" style=\"height:525px; width:100%;\"></div>            <script type=\"text/javascript\">                require([\"plotly\"], function(Plotly) {                    window.PLOTLYENV=window.PLOTLYENV || {};                                    if (document.getElementById(\"8a9c6f42-cb90-413c-8782-76569a5bd3a9\")) {                    Plotly.newPlot(                        \"8a9c6f42-cb90-413c-8782-76569a5bd3a9\",                        [{\"alignmentgroup\":\"True\",\"boxpoints\":\"all\",\"hovertemplate\":\"Puesto Laboral=%{x}<br>Salario en USD=%{y}<extra></extra>\",\"legendgroup\":\"Data Scientist\",\"marker\":{\"color\":\"#636efa\"},\"name\":\"Data Scientist\",\"notched\":true,\"offsetgroup\":\"Data Scientist\",\"orientation\":\"v\",\"showlegend\":true,\"x\":[\"Data Scientist\",\"Data Scientist\",\"Data Scientist\",\"Data Scientist\",\"Data Scientist\",\"Data Scientist\",\"Data Scientist\",\"Data Scientist\",\"Data Scientist\",\"Data Scientist\",\"Data Scientist\",\"Data Scientist\",\"Data Scientist\",\"Data Scientist\",\"Data Scientist\",\"Data Scientist\",\"Data Scientist\",\"Data Scientist\",\"Data Scientist\",\"Data Scientist\",\"Data Scientist\",\"Data Scientist\",\"Data Scientist\",\"Data Scientist\",\"Data Scientist\",\"Data Scientist\",\"Data Scientist\",\"Data Scientist\",\"Data Scientist\",\"Data Scientist\",\"Data Scientist\",\"Data Scientist\",\"Data Scientist\",\"Data Scientist\",\"Data Scientist\",\"Data Scientist\",\"Data Scientist\",\"Data Scientist\",\"Data Scientist\",\"Data Scientist\",\"Data Scientist\",\"Data Scientist\",\"Data Scientist\",\"Data Scientist\",\"Data Scientist\",\"Data Scientist\",\"Data Scientist\",\"Data Scientist\",\"Data Scientist\",\"Data Scientist\",\"Data Scientist\",\"Data Scientist\",\"Data Scientist\",\"Data Scientist\",\"Data Scientist\",\"Data Scientist\",\"Data Scientist\",\"Data Scientist\",\"Data Scientist\",\"Data Scientist\",\"Data Scientist\",\"Data Scientist\",\"Data Scientist\",\"Data Scientist\",\"Data Scientist\",\"Data Scientist\",\"Data Scientist\",\"Data Scientist\",\"Data Scientist\",\"Data Scientist\",\"Data Scientist\",\"Data Scientist\",\"Data Scientist\",\"Data Scientist\",\"Data Scientist\",\"Data Scientist\",\"Data Scientist\",\"Data Scientist\",\"Data Scientist\",\"Data Scientist\",\"Data Scientist\",\"Data Scientist\",\"Data Scientist\",\"Data Scientist\",\"Data Scientist\",\"Data Scientist\",\"Data Scientist\",\"Data Scientist\",\"Data Scientist\",\"Data Scientist\",\"Data Scientist\",\"Data Scientist\",\"Data Scientist\",\"Data Scientist\",\"Data Scientist\",\"Data Scientist\",\"Data Scientist\",\"Data Scientist\",\"Data Scientist\",\"Data Scientist\",\"Data Scientist\",\"Data Scientist\",\"Data Scientist\",\"Data Scientist\",\"Data Scientist\",\"Data Scientist\",\"Data Scientist\",\"Data Scientist\",\"Data Scientist\",\"Data Scientist\",\"Data Scientist\",\"Data Scientist\",\"Data Scientist\",\"Data Scientist\",\"Data Scientist\",\"Data Scientist\",\"Data Scientist\",\"Data Scientist\",\"Data Scientist\",\"Data Scientist\",\"Data Scientist\",\"Data Scientist\",\"Data Scientist\",\"Data Scientist\",\"Data Scientist\",\"Data Scientist\",\"Data Scientist\",\"Data Scientist\",\"Data Scientist\",\"Data Scientist\",\"Data Scientist\",\"Data Scientist\",\"Data Scientist\",\"Data Scientist\",\"Data Scientist\",\"Data Scientist\",\"Data Scientist\",\"Data Scientist\",\"Data Scientist\",\"Data Scientist\",\"Data Scientist\",\"Data Scientist\"],\"x0\":\" \",\"xaxis\":\"x\",\"y\":[79833,35735,51321,40481,39916,68428,45760,76958,105000,38776,118000,120000,138350,21669,62726,49268,105000,91237,62726,42197,53192,29751,73000,50000,9466,49646,100000,80000,82500,150000,75774,13400,119059,2859,40038,5679,90734,147000,61467,37825,160000,12901,90734,116914,33808,56256,87738,88654,135000,46809,4000,103691,165000,36643,115000,90000,28399,130000,16904,25532,77684,100000,58000,20171,109000,130000,90000,136620,99360,117789,104702,146000,123000,65438,39263,165220,120160,180000,120000,95550,167000,123000,150000,211500,138600,170000,123000,215300,158200,180000,71982,45807,260000,180000,80000,140400,215300,31615,18442,104890,140000,220000,140000,183228,91614,185100,200000,120000,230000,100000,100000,35590,100000,165000,52396,40000,86703,48000,122346,69336,135000,78000,141300,102100,205300,140400,176000,144000,205300,140400,140000,210000,140000,210000,140000,210000,140000,230000,150000,210000,160000,130000],\"y0\":\" \",\"yaxis\":\"y\",\"type\":\"box\"},{\"alignmentgroup\":\"True\",\"boxpoints\":\"all\",\"hovertemplate\":\"Puesto Laboral=%{x}<br>Salario en USD=%{y}<extra></extra>\",\"legendgroup\":\"Big Data Engineer\",\"marker\":{\"color\":\"#EF553B\"},\"name\":\"Big Data Engineer\",\"notched\":true,\"offsetgroup\":\"Big Data Engineer\",\"orientation\":\"v\",\"showlegend\":true,\"x\":[\"Big Data Engineer\",\"Big Data Engineer\",\"Big Data Engineer\",\"Big Data Engineer\",\"Big Data Engineer\",\"Big Data Engineer\",\"Big Data Engineer\",\"Big Data Engineer\"],\"x0\":\" \",\"xaxis\":\"x\",\"y\":[109024,114047,70000,60000,22611,18000,5882,16228],\"y0\":\" \",\"yaxis\":\"y\",\"type\":\"box\"},{\"alignmentgroup\":\"True\",\"boxpoints\":\"all\",\"hovertemplate\":\"Puesto Laboral=%{x}<br>Salario en USD=%{y}<extra></extra>\",\"legendgroup\":\"Machine Learning Engineer\",\"marker\":{\"color\":\"#00cc96\"},\"name\":\"Machine Learning Engineer\",\"notched\":true,\"offsetgroup\":\"Machine Learning Engineer\",\"orientation\":\"v\",\"showlegend\":true,\"x\":[\"Machine Learning Engineer\",\"Machine Learning Engineer\",\"Machine Learning Engineer\",\"Machine Learning Engineer\",\"Machine Learning Engineer\",\"Machine Learning Engineer\",\"Machine Learning Engineer\",\"Machine Learning Engineer\",\"Machine Learning Engineer\",\"Machine Learning Engineer\",\"Machine Learning Engineer\",\"Machine Learning Engineer\",\"Machine Learning Engineer\",\"Machine Learning Engineer\",\"Machine Learning Engineer\",\"Machine Learning Engineer\",\"Machine Learning Engineer\",\"Machine Learning Engineer\",\"Machine Learning Engineer\",\"Machine Learning Engineer\",\"Machine Learning Engineer\",\"Machine Learning Engineer\",\"Machine Learning Engineer\",\"Machine Learning Engineer\",\"Machine Learning Engineer\",\"Machine Learning Engineer\",\"Machine Learning Engineer\",\"Machine Learning Engineer\",\"Machine Learning Engineer\",\"Machine Learning Engineer\",\"Machine Learning Engineer\",\"Machine Learning Engineer\",\"Machine Learning Engineer\",\"Machine Learning Engineer\",\"Machine Learning Engineer\",\"Machine Learning Engineer\",\"Machine Learning Engineer\",\"Machine Learning Engineer\",\"Machine Learning Engineer\",\"Machine Learning Engineer\",\"Machine Learning Engineer\"],\"x0\":\" \",\"xaxis\":\"x\",\"y\":[150000,43331,250000,138000,45618,47282,94564,20000,82744,125000,81000,74000,21844,24342,200000,24823,24823,88654,46597,185000,66265,85000,51064,189650,164996,37300,124333,98158,87932,189650,164996,120000,220000,120000,65000,120000,62651,87425,71444,214000,192600],\"y0\":\" \",\"yaxis\":\"y\",\"type\":\"box\"},{\"alignmentgroup\":\"True\",\"boxpoints\":\"all\",\"hovertemplate\":\"Puesto Laboral=%{x}<br>Salario en USD=%{y}<extra></extra>\",\"legendgroup\":\"Data Analyst\",\"marker\":{\"color\":\"#ab63fa\"},\"name\":\"Data Analyst\",\"notched\":true,\"offsetgroup\":\"Data Analyst\",\"orientation\":\"v\",\"showlegend\":true,\"x\":[\"Data Analyst\",\"Data Analyst\",\"Data Analyst\",\"Data Analyst\",\"Data Analyst\",\"Data Analyst\",\"Data Analyst\",\"Data Analyst\",\"Data Analyst\",\"Data Analyst\",\"Data Analyst\",\"Data Analyst\",\"Data Analyst\",\"Data Analyst\",\"Data Analyst\",\"Data Analyst\",\"Data Analyst\",\"Data Analyst\",\"Data Analyst\",\"Data Analyst\",\"Data Analyst\",\"Data Analyst\",\"Data Analyst\",\"Data Analyst\",\"Data Analyst\",\"Data Analyst\",\"Data Analyst\",\"Data Analyst\",\"Data Analyst\",\"Data Analyst\",\"Data Analyst\",\"Data Analyst\",\"Data Analyst\",\"Data Analyst\",\"Data Analyst\",\"Data Analyst\",\"Data Analyst\",\"Data Analyst\",\"Data Analyst\",\"Data Analyst\",\"Data Analyst\",\"Data Analyst\",\"Data Analyst\",\"Data Analyst\",\"Data Analyst\",\"Data Analyst\",\"Data Analyst\",\"Data Analyst\",\"Data Analyst\",\"Data Analyst\",\"Data Analyst\",\"Data Analyst\",\"Data Analyst\",\"Data Analyst\",\"Data Analyst\",\"Data Analyst\",\"Data Analyst\",\"Data Analyst\",\"Data Analyst\",\"Data Analyst\",\"Data Analyst\",\"Data Analyst\",\"Data Analyst\",\"Data Analyst\",\"Data Analyst\",\"Data Analyst\",\"Data Analyst\",\"Data Analyst\",\"Data Analyst\",\"Data Analyst\",\"Data Analyst\",\"Data Analyst\",\"Data Analyst\",\"Data Analyst\",\"Data Analyst\",\"Data Analyst\",\"Data Analyst\",\"Data Analyst\",\"Data Analyst\",\"Data Analyst\",\"Data Analyst\",\"Data Analyst\",\"Data Analyst\",\"Data Analyst\",\"Data Analyst\",\"Data Analyst\",\"Data Analyst\",\"Data Analyst\",\"Data Analyst\",\"Data Analyst\",\"Data Analyst\",\"Data Analyst\",\"Data Analyst\",\"Data Analyst\",\"Data Analyst\",\"Data Analyst\",\"Data Analyst\"],\"x0\":\" \",\"xaxis\":\"x\",\"y\":[72000,85000,8000,46759,10000,6072,91000,80000,59102,80000,75000,62000,51519,90000,50000,10354,90000,135000,60000,71786,200000,80000,93000,63831,155000,120600,102100,84900,99000,116000,106260,126500,90320,124190,130000,110000,170000,115500,112900,90320,112900,90320,167000,136600,109280,135000,130000,61300,130000,61300,58000,132000,128875,93700,164000,112900,90320,115934,81666,58000,52351,39263,43966,32974,43966,32974,135000,50000,20000,135000,100000,90320,85000,75000,112900,115934,81666,99050,116150,170000,65438,80000,100000,69000,150075,126500,106260,105000,110925,45807,99000,60000,170000,67000,52000,129000,150000],\"y0\":\" \",\"yaxis\":\"y\",\"type\":\"box\"},{\"alignmentgroup\":\"True\",\"boxpoints\":\"all\",\"hovertemplate\":\"Puesto Laboral=%{x}<br>Salario en USD=%{y}<extra></extra>\",\"legendgroup\":\"Data Engineer\",\"marker\":{\"color\":\"#FFA15A\"},\"name\":\"Data Engineer\",\"notched\":true,\"offsetgroup\":\"Data Engineer\",\"orientation\":\"v\",\"showlegend\":true,\"x\":[\"Data Engineer\",\"Data Engineer\",\"Data Engineer\",\"Data Engineer\",\"Data Engineer\",\"Data Engineer\",\"Data Engineer\",\"Data Engineer\",\"Data Engineer\",\"Data Engineer\",\"Data Engineer\",\"Data Engineer\",\"Data Engineer\",\"Data Engineer\",\"Data Engineer\",\"Data Engineer\",\"Data Engineer\",\"Data Engineer\",\"Data Engineer\",\"Data Engineer\",\"Data Engineer\",\"Data Engineer\",\"Data Engineer\",\"Data Engineer\",\"Data Engineer\",\"Data Engineer\",\"Data Engineer\",\"Data Engineer\",\"Data Engineer\",\"Data Engineer\",\"Data Engineer\",\"Data Engineer\",\"Data Engineer\",\"Data Engineer\",\"Data Engineer\",\"Data Engineer\",\"Data Engineer\",\"Data Engineer\",\"Data Engineer\",\"Data Engineer\",\"Data Engineer\",\"Data Engineer\",\"Data Engineer\",\"Data Engineer\",\"Data Engineer\",\"Data Engineer\",\"Data Engineer\",\"Data Engineer\",\"Data Engineer\",\"Data Engineer\",\"Data Engineer\",\"Data Engineer\",\"Data Engineer\",\"Data Engineer\",\"Data Engineer\",\"Data Engineer\",\"Data Engineer\",\"Data Engineer\",\"Data Engineer\",\"Data Engineer\",\"Data Engineer\",\"Data Engineer\",\"Data Engineer\",\"Data Engineer\",\"Data Engineer\",\"Data Engineer\",\"Data Engineer\",\"Data Engineer\",\"Data Engineer\",\"Data Engineer\",\"Data Engineer\",\"Data Engineer\",\"Data Engineer\",\"Data Engineer\",\"Data Engineer\",\"Data Engineer\",\"Data Engineer\",\"Data Engineer\",\"Data Engineer\",\"Data Engineer\",\"Data Engineer\",\"Data Engineer\",\"Data Engineer\",\"Data Engineer\",\"Data Engineer\",\"Data Engineer\",\"Data Engineer\",\"Data Engineer\",\"Data Engineer\",\"Data Engineer\",\"Data Engineer\",\"Data Engineer\",\"Data Engineer\",\"Data Engineer\",\"Data Engineer\",\"Data Engineer\",\"Data Engineer\",\"Data Engineer\",\"Data Engineer\",\"Data Engineer\",\"Data Engineer\",\"Data Engineer\",\"Data Engineer\",\"Data Engineer\",\"Data Engineer\",\"Data Engineer\",\"Data Engineer\",\"Data Engineer\",\"Data Engineer\",\"Data Engineer\",\"Data Engineer\",\"Data Engineer\",\"Data Engineer\",\"Data Engineer\",\"Data Engineer\",\"Data Engineer\",\"Data Engineer\",\"Data Engineer\",\"Data Engineer\",\"Data Engineer\",\"Data Engineer\",\"Data Engineer\",\"Data Engineer\",\"Data Engineer\",\"Data Engineer\",\"Data Engineer\",\"Data Engineer\",\"Data Engineer\",\"Data Engineer\",\"Data Engineer\",\"Data Engineer\",\"Data Engineer\"],\"x0\":\" \",\"xaxis\":\"x\",\"y\":[41689,47899,33511,74130,106000,112872,188000,70139,54742,110000,130800,140000,28476,150000,115000,150000,30428,45391,200000,100000,90000,28369,80000,82528,26005,4000,76833,165000,20000,66022,21637,110000,72212,12103,96282,200000,93150,111775,28016,65013,72500,112000,69741,135000,170000,150000,52351,242000,200000,78526,52351,45807,181940,132320,220110,160080,165400,132320,243900,128875,93700,156600,108800,113000,78526,65438,160000,136000,165400,136994,101570,132320,155000,117789,209100,154600,175000,98158,183600,65949,49461,78526,58894,63900,82900,100800,49461,87932,76940,104702,91614,65949,87932,98158,78526,76940,209100,154600,180000,80000,105000,54957,120000,100000,324000,216000,210000,58035,115000,65000,68147,155000,206699,99100,130000,115000,110500,130000,160000,200100,160000,145000,70500,175100,140250,54000,100000,25000,220110,160080,154000,126000],\"y0\":\" \",\"yaxis\":\"y\",\"type\":\"box\"},{\"alignmentgroup\":\"True\",\"boxpoints\":\"all\",\"hovertemplate\":\"Puesto Laboral=%{x}<br>Salario en USD=%{y}<extra></extra>\",\"legendgroup\":\"Research Scientist\",\"marker\":{\"color\":\"#19d3f3\"},\"name\":\"Research Scientist\",\"notched\":true,\"offsetgroup\":\"Research Scientist\",\"orientation\":\"v\",\"showlegend\":true,\"x\":[\"Research Scientist\",\"Research Scientist\",\"Research Scientist\",\"Research Scientist\",\"Research Scientist\",\"Research Scientist\",\"Research Scientist\",\"Research Scientist\",\"Research Scientist\",\"Research Scientist\",\"Research Scientist\",\"Research Scientist\",\"Research Scientist\",\"Research Scientist\",\"Research Scientist\"],\"x0\":\" \",\"xaxis\":\"x\",\"y\":[42000,82528,187442,62649,60757,96113,50000,56738,63810,100000,69999,144000,93427,64849,120000],\"y0\":\" \",\"yaxis\":\"y\",\"type\":\"box\"},{\"alignmentgroup\":\"True\",\"boxpoints\":\"all\",\"hovertemplate\":\"Puesto Laboral=%{x}<br>Salario en USD=%{y}<extra></extra>\",\"legendgroup\":\"Data Science Manager\",\"marker\":{\"color\":\"#FF6692\"},\"name\":\"Data Science Manager\",\"notched\":true,\"offsetgroup\":\"Data Science Manager\",\"orientation\":\"v\",\"showlegend\":true,\"x\":[\"Data Science Manager\",\"Data Science Manager\",\"Data Science Manager\",\"Data Science Manager\",\"Data Science Manager\",\"Data Science Manager\",\"Data Science Manager\",\"Data Science Manager\",\"Data Science Manager\",\"Data Science Manager\",\"Data Science Manager\",\"Data Science Manager\"],\"x0\":\" \",\"xaxis\":\"x\",\"y\":[190200,240000,144000,152000,174000,54094,94665,161342,137141,241000,159000,152500],\"y0\":\" \",\"yaxis\":\"y\",\"type\":\"box\"},{\"alignmentgroup\":\"True\",\"boxpoints\":\"all\",\"hovertemplate\":\"Puesto Laboral=%{x}<br>Salario en USD=%{y}<extra></extra>\",\"legendgroup\":\"Data Architect\",\"marker\":{\"color\":\"#B6E880\"},\"name\":\"Data Architect\",\"notched\":true,\"offsetgroup\":\"Data Architect\",\"orientation\":\"v\",\"showlegend\":true,\"x\":[\"Data Architect\",\"Data Architect\",\"Data Architect\",\"Data Architect\",\"Data Architect\",\"Data Architect\",\"Data Architect\",\"Data Architect\",\"Data Architect\",\"Data Architect\",\"Data Architect\"],\"x0\":\" \",\"xaxis\":\"x\",\"y\":[150000,170000,180000,192400,90700,208775,147800,266400,213120,192564,144854],\"y0\":\" \",\"yaxis\":\"y\",\"type\":\"box\"}],                        {\"template\":{\"data\":{\"barpolar\":[{\"marker\":{\"line\":{\"color\":\"white\",\"width\":0.5},\"pattern\":{\"fillmode\":\"overlay\",\"size\":10,\"solidity\":0.2}},\"type\":\"barpolar\"}],\"bar\":[{\"error_x\":{\"color\":\"#2a3f5f\"},\"error_y\":{\"color\":\"#2a3f5f\"},\"marker\":{\"line\":{\"color\":\"white\",\"width\":0.5},\"pattern\":{\"fillmode\":\"overlay\",\"size\":10,\"solidity\":0.2}},\"type\":\"bar\"}],\"carpet\":[{\"aaxis\":{\"endlinecolor\":\"#2a3f5f\",\"gridcolor\":\"#C8D4E3\",\"linecolor\":\"#C8D4E3\",\"minorgridcolor\":\"#C8D4E3\",\"startlinecolor\":\"#2a3f5f\"},\"baxis\":{\"endlinecolor\":\"#2a3f5f\",\"gridcolor\":\"#C8D4E3\",\"linecolor\":\"#C8D4E3\",\"minorgridcolor\":\"#C8D4E3\",\"startlinecolor\":\"#2a3f5f\"},\"type\":\"carpet\"}],\"choropleth\":[{\"colorbar\":{\"outlinewidth\":0,\"ticks\":\"\"},\"type\":\"choropleth\"}],\"contourcarpet\":[{\"colorbar\":{\"outlinewidth\":0,\"ticks\":\"\"},\"type\":\"contourcarpet\"}],\"contour\":[{\"colorbar\":{\"outlinewidth\":0,\"ticks\":\"\"},\"colorscale\":[[0.0,\"#0d0887\"],[0.1111111111111111,\"#46039f\"],[0.2222222222222222,\"#7201a8\"],[0.3333333333333333,\"#9c179e\"],[0.4444444444444444,\"#bd3786\"],[0.5555555555555556,\"#d8576b\"],[0.6666666666666666,\"#ed7953\"],[0.7777777777777778,\"#fb9f3a\"],[0.8888888888888888,\"#fdca26\"],[1.0,\"#f0f921\"]],\"type\":\"contour\"}],\"heatmapgl\":[{\"colorbar\":{\"outlinewidth\":0,\"ticks\":\"\"},\"colorscale\":[[0.0,\"#0d0887\"],[0.1111111111111111,\"#46039f\"],[0.2222222222222222,\"#7201a8\"],[0.3333333333333333,\"#9c179e\"],[0.4444444444444444,\"#bd3786\"],[0.5555555555555556,\"#d8576b\"],[0.6666666666666666,\"#ed7953\"],[0.7777777777777778,\"#fb9f3a\"],[0.8888888888888888,\"#fdca26\"],[1.0,\"#f0f921\"]],\"type\":\"heatmapgl\"}],\"heatmap\":[{\"colorbar\":{\"outlinewidth\":0,\"ticks\":\"\"},\"colorscale\":[[0.0,\"#0d0887\"],[0.1111111111111111,\"#46039f\"],[0.2222222222222222,\"#7201a8\"],[0.3333333333333333,\"#9c179e\"],[0.4444444444444444,\"#bd3786\"],[0.5555555555555556,\"#d8576b\"],[0.6666666666666666,\"#ed7953\"],[0.7777777777777778,\"#fb9f3a\"],[0.8888888888888888,\"#fdca26\"],[1.0,\"#f0f921\"]],\"type\":\"heatmap\"}],\"histogram2dcontour\":[{\"colorbar\":{\"outlinewidth\":0,\"ticks\":\"\"},\"colorscale\":[[0.0,\"#0d0887\"],[0.1111111111111111,\"#46039f\"],[0.2222222222222222,\"#7201a8\"],[0.3333333333333333,\"#9c179e\"],[0.4444444444444444,\"#bd3786\"],[0.5555555555555556,\"#d8576b\"],[0.6666666666666666,\"#ed7953\"],[0.7777777777777778,\"#fb9f3a\"],[0.8888888888888888,\"#fdca26\"],[1.0,\"#f0f921\"]],\"type\":\"histogram2dcontour\"}],\"histogram2d\":[{\"colorbar\":{\"outlinewidth\":0,\"ticks\":\"\"},\"colorscale\":[[0.0,\"#0d0887\"],[0.1111111111111111,\"#46039f\"],[0.2222222222222222,\"#7201a8\"],[0.3333333333333333,\"#9c179e\"],[0.4444444444444444,\"#bd3786\"],[0.5555555555555556,\"#d8576b\"],[0.6666666666666666,\"#ed7953\"],[0.7777777777777778,\"#fb9f3a\"],[0.8888888888888888,\"#fdca26\"],[1.0,\"#f0f921\"]],\"type\":\"histogram2d\"}],\"histogram\":[{\"marker\":{\"pattern\":{\"fillmode\":\"overlay\",\"size\":10,\"solidity\":0.2}},\"type\":\"histogram\"}],\"mesh3d\":[{\"colorbar\":{\"outlinewidth\":0,\"ticks\":\"\"},\"type\":\"mesh3d\"}],\"parcoords\":[{\"line\":{\"colorbar\":{\"outlinewidth\":0,\"ticks\":\"\"}},\"type\":\"parcoords\"}],\"pie\":[{\"automargin\":true,\"type\":\"pie\"}],\"scatter3d\":[{\"line\":{\"colorbar\":{\"outlinewidth\":0,\"ticks\":\"\"}},\"marker\":{\"colorbar\":{\"outlinewidth\":0,\"ticks\":\"\"}},\"type\":\"scatter3d\"}],\"scattercarpet\":[{\"marker\":{\"colorbar\":{\"outlinewidth\":0,\"ticks\":\"\"}},\"type\":\"scattercarpet\"}],\"scattergeo\":[{\"marker\":{\"colorbar\":{\"outlinewidth\":0,\"ticks\":\"\"}},\"type\":\"scattergeo\"}],\"scattergl\":[{\"marker\":{\"colorbar\":{\"outlinewidth\":0,\"ticks\":\"\"}},\"type\":\"scattergl\"}],\"scattermapbox\":[{\"marker\":{\"colorbar\":{\"outlinewidth\":0,\"ticks\":\"\"}},\"type\":\"scattermapbox\"}],\"scatterpolargl\":[{\"marker\":{\"colorbar\":{\"outlinewidth\":0,\"ticks\":\"\"}},\"type\":\"scatterpolargl\"}],\"scatterpolar\":[{\"marker\":{\"colorbar\":{\"outlinewidth\":0,\"ticks\":\"\"}},\"type\":\"scatterpolar\"}],\"scatter\":[{\"fillpattern\":{\"fillmode\":\"overlay\",\"size\":10,\"solidity\":0.2},\"type\":\"scatter\"}],\"scatterternary\":[{\"marker\":{\"colorbar\":{\"outlinewidth\":0,\"ticks\":\"\"}},\"type\":\"scatterternary\"}],\"surface\":[{\"colorbar\":{\"outlinewidth\":0,\"ticks\":\"\"},\"colorscale\":[[0.0,\"#0d0887\"],[0.1111111111111111,\"#46039f\"],[0.2222222222222222,\"#7201a8\"],[0.3333333333333333,\"#9c179e\"],[0.4444444444444444,\"#bd3786\"],[0.5555555555555556,\"#d8576b\"],[0.6666666666666666,\"#ed7953\"],[0.7777777777777778,\"#fb9f3a\"],[0.8888888888888888,\"#fdca26\"],[1.0,\"#f0f921\"]],\"type\":\"surface\"}],\"table\":[{\"cells\":{\"fill\":{\"color\":\"#EBF0F8\"},\"line\":{\"color\":\"white\"}},\"header\":{\"fill\":{\"color\":\"#C8D4E3\"},\"line\":{\"color\":\"white\"}},\"type\":\"table\"}]},\"layout\":{\"annotationdefaults\":{\"arrowcolor\":\"#2a3f5f\",\"arrowhead\":0,\"arrowwidth\":1},\"autotypenumbers\":\"strict\",\"coloraxis\":{\"colorbar\":{\"outlinewidth\":0,\"ticks\":\"\"}},\"colorscale\":{\"diverging\":[[0,\"#8e0152\"],[0.1,\"#c51b7d\"],[0.2,\"#de77ae\"],[0.3,\"#f1b6da\"],[0.4,\"#fde0ef\"],[0.5,\"#f7f7f7\"],[0.6,\"#e6f5d0\"],[0.7,\"#b8e186\"],[0.8,\"#7fbc41\"],[0.9,\"#4d9221\"],[1,\"#276419\"]],\"sequential\":[[0.0,\"#0d0887\"],[0.1111111111111111,\"#46039f\"],[0.2222222222222222,\"#7201a8\"],[0.3333333333333333,\"#9c179e\"],[0.4444444444444444,\"#bd3786\"],[0.5555555555555556,\"#d8576b\"],[0.6666666666666666,\"#ed7953\"],[0.7777777777777778,\"#fb9f3a\"],[0.8888888888888888,\"#fdca26\"],[1.0,\"#f0f921\"]],\"sequentialminus\":[[0.0,\"#0d0887\"],[0.1111111111111111,\"#46039f\"],[0.2222222222222222,\"#7201a8\"],[0.3333333333333333,\"#9c179e\"],[0.4444444444444444,\"#bd3786\"],[0.5555555555555556,\"#d8576b\"],[0.6666666666666666,\"#ed7953\"],[0.7777777777777778,\"#fb9f3a\"],[0.8888888888888888,\"#fdca26\"],[1.0,\"#f0f921\"]]},\"colorway\":[\"#636efa\",\"#EF553B\",\"#00cc96\",\"#ab63fa\",\"#FFA15A\",\"#19d3f3\",\"#FF6692\",\"#B6E880\",\"#FF97FF\",\"#FECB52\"],\"font\":{\"color\":\"#2a3f5f\"},\"geo\":{\"bgcolor\":\"white\",\"lakecolor\":\"white\",\"landcolor\":\"white\",\"showlakes\":true,\"showland\":true,\"subunitcolor\":\"#C8D4E3\"},\"hoverlabel\":{\"align\":\"left\"},\"hovermode\":\"closest\",\"mapbox\":{\"style\":\"light\"},\"paper_bgcolor\":\"white\",\"plot_bgcolor\":\"white\",\"polar\":{\"angularaxis\":{\"gridcolor\":\"#EBF0F8\",\"linecolor\":\"#EBF0F8\",\"ticks\":\"\"},\"bgcolor\":\"white\",\"radialaxis\":{\"gridcolor\":\"#EBF0F8\",\"linecolor\":\"#EBF0F8\",\"ticks\":\"\"}},\"scene\":{\"xaxis\":{\"backgroundcolor\":\"white\",\"gridcolor\":\"#DFE8F3\",\"gridwidth\":2,\"linecolor\":\"#EBF0F8\",\"showbackground\":true,\"ticks\":\"\",\"zerolinecolor\":\"#EBF0F8\"},\"yaxis\":{\"backgroundcolor\":\"white\",\"gridcolor\":\"#DFE8F3\",\"gridwidth\":2,\"linecolor\":\"#EBF0F8\",\"showbackground\":true,\"ticks\":\"\",\"zerolinecolor\":\"#EBF0F8\"},\"zaxis\":{\"backgroundcolor\":\"white\",\"gridcolor\":\"#DFE8F3\",\"gridwidth\":2,\"linecolor\":\"#EBF0F8\",\"showbackground\":true,\"ticks\":\"\",\"zerolinecolor\":\"#EBF0F8\"}},\"shapedefaults\":{\"line\":{\"color\":\"#2a3f5f\"}},\"ternary\":{\"aaxis\":{\"gridcolor\":\"#DFE8F3\",\"linecolor\":\"#A2B1C6\",\"ticks\":\"\"},\"baxis\":{\"gridcolor\":\"#DFE8F3\",\"linecolor\":\"#A2B1C6\",\"ticks\":\"\"},\"bgcolor\":\"white\",\"caxis\":{\"gridcolor\":\"#DFE8F3\",\"linecolor\":\"#A2B1C6\",\"ticks\":\"\"}},\"title\":{\"x\":0.05},\"xaxis\":{\"automargin\":true,\"gridcolor\":\"#EBF0F8\",\"linecolor\":\"#EBF0F8\",\"ticks\":\"\",\"title\":{\"standoff\":15},\"zerolinecolor\":\"#EBF0F8\",\"zerolinewidth\":2},\"yaxis\":{\"automargin\":true,\"gridcolor\":\"#EBF0F8\",\"linecolor\":\"#EBF0F8\",\"ticks\":\"\",\"title\":{\"standoff\":15},\"zerolinecolor\":\"#EBF0F8\",\"zerolinewidth\":2}}},\"xaxis\":{\"anchor\":\"y\",\"domain\":[0.0,1.0],\"title\":{\"text\":\"Puesto Laboral\"},\"categoryorder\":\"array\",\"categoryarray\":[\"Data Scientist\",\"Big Data Engineer\",\"Machine Learning Engineer\",\"Data Analyst\",\"Data Engineer\",\"Research Scientist\",\"Data Science Manager\",\"Data Architect\"]},\"yaxis\":{\"anchor\":\"x\",\"domain\":[0.0,1.0],\"title\":{\"text\":\"Salario en USD\"}},\"legend\":{\"title\":{\"text\":\"Puesto Laboral\"},\"tracegroupgap\":0},\"title\":{\"text\":\"<b>Salario por Puesto\"},\"boxmode\":\"overlay\"},                        {\"responsive\": true}                    ).then(function(){\n",
       "                            \n",
       "var gd = document.getElementById('8a9c6f42-cb90-413c-8782-76569a5bd3a9');\n",
       "var x = new MutationObserver(function (mutations, observer) {{\n",
       "        var display = window.getComputedStyle(gd).display;\n",
       "        if (!display || display === 'none') {{\n",
       "            console.log([gd, 'removed!']);\n",
       "            Plotly.purge(gd);\n",
       "            observer.disconnect();\n",
       "        }}\n",
       "}});\n",
       "\n",
       "// Listen for the removal of the full notebook cells\n",
       "var notebookContainer = gd.closest('#notebook-container');\n",
       "if (notebookContainer) {{\n",
       "    x.observe(notebookContainer, {childList: true});\n",
       "}}\n",
       "\n",
       "// Listen for the clearing of the current output cell\n",
       "var outputEl = gd.closest('.output');\n",
       "if (outputEl) {{\n",
       "    x.observe(outputEl, {childList: true});\n",
       "}}\n",
       "\n",
       "                        })                };                });            </script>        </div>"
      ]
     },
     "metadata": {},
     "output_type": "display_data"
    }
   ],
   "source": [
    "fig = px.box(temp_job_df, x=\"Puesto Laboral\", y=\"Salario en USD\", color=\"Puesto Laboral\",notched=True, points='all',title=\"<b>Salario por Puesto\" ,hover_data=[\"Puesto Laboral\"], template='plotly_white')\n",
    "fig.show()"
   ]
  },
  {
   "cell_type": "markdown",
   "metadata": {},
   "source": [
    "Salario por pais que tiene mayor puesto de trabajos en la base de datos"
   ]
  },
  {
   "cell_type": "code",
   "execution_count": 201,
   "metadata": {},
   "outputs": [],
   "source": [
    "location_list = ['US', 'GB', 'CA', 'DE', 'IN', 'FR', 'ES', 'GR']\n",
    "\n",
    "temp_location = data2[data2['Ubicacion'].isin(location_list)]"
   ]
  },
  {
   "cell_type": "code",
   "execution_count": 202,
   "metadata": {},
   "outputs": [
    {
     "data": {
      "application/vnd.plotly.v1+json": {
       "config": {
        "plotlyServerURL": "https://plot.ly"
       },
       "data": [
        {
         "alignmentgroup": "True",
         "boxpoints": "all",
         "hovertemplate": "Ubicacion=%{x}<br>Salario en USD=%{y}<extra></extra>",
         "legendgroup": "DE",
         "marker": {
          "color": "#636efa"
         },
         "name": "DE",
         "notched": true,
         "offsetgroup": "DE",
         "orientation": "v",
         "showlegend": true,
         "type": "box",
         "x": [
          "DE",
          "DE",
          "DE",
          "DE",
          "DE",
          "DE",
          "DE",
          "DE",
          "DE",
          "DE",
          "DE",
          "DE",
          "DE",
          "DE",
          "DE",
          "DE",
          "DE",
          "DE",
          "DE",
          "DE",
          "DE",
          "DE",
          "DE",
          "DE",
          "DE",
          "DE",
          "DE",
          "DE"
         ],
         "x0": " ",
         "xaxis": "x",
         "y": [
          79833,
          59303,
          15966,
          54742,
          148261,
          62726,
          49268,
          79197,
          76833,
          94564,
          63831,
          130026,
          90734,
          24823,
          90734,
          88654,
          173762,
          141846,
          63831,
          25532,
          65013,
          76833,
          85000,
          87932,
          87932,
          54957,
          162674,
          58035
         ],
         "y0": " ",
         "yaxis": "y"
        },
        {
         "alignmentgroup": "True",
         "boxpoints": "all",
         "hovertemplate": "Ubicacion=%{x}<br>Salario en USD=%{y}<extra></extra>",
         "legendgroup": "GB",
         "marker": {
          "color": "#EF553B"
         },
         "name": "GB",
         "notched": true,
         "offsetgroup": "GB",
         "orientation": "v",
         "showlegend": true,
         "type": "box",
         "x": [
          "GB",
          "GB",
          "GB",
          "GB",
          "GB",
          "GB",
          "GB",
          "GB",
          "GB",
          "GB",
          "GB",
          "GB",
          "GB",
          "GB",
          "GB",
          "GB",
          "GB",
          "GB",
          "GB",
          "GB",
          "GB",
          "GB",
          "GB",
          "GB",
          "GB",
          "GB",
          "GB",
          "GB",
          "GB",
          "GB",
          "GB",
          "GB",
          "GB",
          "GB",
          "GB",
          "GB",
          "GB",
          "GB",
          "GB",
          "GB",
          "GB",
          "GB",
          "GB",
          "GB",
          "GB",
          "GB",
          "GB"
         ],
         "x0": " ",
         "xaxis": "x",
         "y": [
          109024,
          114047,
          112872,
          76958,
          82528,
          51519,
          113476,
          103160,
          110037,
          82528,
          61896,
          50000,
          76833,
          66022,
          116914,
          56256,
          72212,
          96282,
          117789,
          104702,
          52351,
          65438,
          39263,
          78526,
          52351,
          45807,
          78526,
          65438,
          37300,
          124333,
          98158,
          117789,
          98158,
          52351,
          71982,
          45807,
          78526,
          58894,
          39263,
          104702,
          91614,
          98158,
          78526,
          183228,
          91614,
          65438,
          45807
         ],
         "y0": " ",
         "yaxis": "y"
        },
        {
         "alignmentgroup": "True",
         "boxpoints": "all",
         "hovertemplate": "Ubicacion=%{x}<br>Salario en USD=%{y}<extra></extra>",
         "legendgroup": "US",
         "marker": {
          "color": "#00cc96"
         },
         "name": "US",
         "notched": true,
         "offsetgroup": "US",
         "orientation": "v",
         "showlegend": true,
         "type": "box",
         "x": [
          "US",
          "US",
          "US",
          "US",
          "US",
          "US",
          "US",
          "US",
          "US",
          "US",
          "US",
          "US",
          "US",
          "US",
          "US",
          "US",
          "US",
          "US",
          "US",
          "US",
          "US",
          "US",
          "US",
          "US",
          "US",
          "US",
          "US",
          "US",
          "US",
          "US",
          "US",
          "US",
          "US",
          "US",
          "US",
          "US",
          "US",
          "US",
          "US",
          "US",
          "US",
          "US",
          "US",
          "US",
          "US",
          "US",
          "US",
          "US",
          "US",
          "US",
          "US",
          "US",
          "US",
          "US",
          "US",
          "US",
          "US",
          "US",
          "US",
          "US",
          "US",
          "US",
          "US",
          "US",
          "US",
          "US",
          "US",
          "US",
          "US",
          "US",
          "US",
          "US",
          "US",
          "US",
          "US",
          "US",
          "US",
          "US",
          "US",
          "US",
          "US",
          "US",
          "US",
          "US",
          "US",
          "US",
          "US",
          "US",
          "US",
          "US",
          "US",
          "US",
          "US",
          "US",
          "US",
          "US",
          "US",
          "US",
          "US",
          "US",
          "US",
          "US",
          "US",
          "US",
          "US",
          "US",
          "US",
          "US",
          "US",
          "US",
          "US",
          "US",
          "US",
          "US",
          "US",
          "US",
          "US",
          "US",
          "US",
          "US",
          "US",
          "US",
          "US",
          "US",
          "US",
          "US",
          "US",
          "US",
          "US",
          "US",
          "US",
          "US",
          "US",
          "US",
          "US",
          "US",
          "US",
          "US",
          "US",
          "US",
          "US",
          "US",
          "US",
          "US",
          "US",
          "US",
          "US",
          "US",
          "US",
          "US",
          "US",
          "US",
          "US",
          "US",
          "US",
          "US",
          "US",
          "US",
          "US",
          "US",
          "US",
          "US",
          "US",
          "US",
          "US",
          "US",
          "US",
          "US",
          "US",
          "US",
          "US",
          "US",
          "US",
          "US",
          "US",
          "US",
          "US",
          "US",
          "US",
          "US",
          "US",
          "US",
          "US",
          "US",
          "US",
          "US",
          "US",
          "US",
          "US",
          "US",
          "US",
          "US",
          "US",
          "US",
          "US",
          "US",
          "US",
          "US",
          "US",
          "US",
          "US",
          "US",
          "US",
          "US",
          "US",
          "US",
          "US",
          "US",
          "US",
          "US",
          "US",
          "US",
          "US",
          "US",
          "US",
          "US",
          "US",
          "US",
          "US",
          "US",
          "US",
          "US",
          "US",
          "US",
          "US",
          "US",
          "US",
          "US",
          "US",
          "US",
          "US",
          "US",
          "US",
          "US",
          "US",
          "US",
          "US",
          "US",
          "US",
          "US",
          "US",
          "US",
          "US",
          "US",
          "US",
          "US",
          "US",
          "US",
          "US",
          "US",
          "US",
          "US",
          "US",
          "US",
          "US",
          "US",
          "US",
          "US",
          "US",
          "US",
          "US",
          "US",
          "US",
          "US",
          "US",
          "US",
          "US",
          "US",
          "US",
          "US",
          "US",
          "US",
          "US",
          "US",
          "US",
          "US",
          "US",
          "US",
          "US",
          "US",
          "US",
          "US",
          "US",
          "US",
          "US",
          "US",
          "US",
          "US",
          "US",
          "US",
          "US",
          "US",
          "US",
          "US",
          "US",
          "US",
          "US",
          "US",
          "US",
          "US",
          "US",
          "US",
          "US",
          "US",
          "US",
          "US",
          "US",
          "US",
          "US",
          "US",
          "US",
          "US",
          "US",
          "US",
          "US",
          "US",
          "US",
          "US",
          "US",
          "US",
          "US",
          "US",
          "US",
          "US",
          "US",
          "US",
          "US",
          "US",
          "US",
          "US",
          "US",
          "US",
          "US",
          "US",
          "US",
          "US",
          "US",
          "US",
          "US",
          "US",
          "US",
          "US",
          "US",
          "US",
          "US",
          "US",
          "US",
          "US"
         ],
         "x0": " ",
         "xaxis": "x",
         "y": [
          150000,
          72000,
          190000,
          135000,
          87000,
          85000,
          56000,
          98000,
          325000,
          100000,
          70000,
          68428,
          103000,
          250000,
          138000,
          45760,
          106000,
          188000,
          105000,
          91000,
          60000,
          118000,
          120000,
          138350,
          110000,
          130800,
          190200,
          105000,
          150000,
          235000,
          100000,
          270000,
          80000,
          140000,
          110000,
          170000,
          80000,
          276000,
          12000,
          70000,
          95746,
          75000,
          150000,
          36259,
          62000,
          73000,
          115000,
          150000,
          12000,
          225000,
          90000,
          200000,
          200000,
          50000,
          151000,
          120000,
          38400,
          100000,
          90000,
          220000,
          80000,
          135000,
          240000,
          150000,
          82500,
          100000,
          90000,
          153000,
          160000,
          150000,
          144000,
          120000,
          125000,
          165000,
          80000,
          250000,
          55000,
          150000,
          170000,
          60000,
          235000,
          174000,
          81000,
          5679,
          26005,
          174000,
          147000,
          54094,
          90000,
          195000,
          50000,
          160000,
          200000,
          165000,
          20000,
          120000,
          185000,
          140000,
          135000,
          256000,
          200000,
          200000,
          180000,
          110000,
          80000,
          110000,
          165000,
          170000,
          115000,
          90000,
          93000,
          200000,
          185000,
          130000,
          160000,
          93150,
          111775,
          72500,
          100000,
          58000,
          112000,
          105000,
          109000,
          135000,
          155000,
          120600,
          130000,
          90000,
          170000,
          150000,
          102100,
          84900,
          136620,
          99360,
          146000,
          123000,
          99000,
          116000,
          106260,
          126500,
          242000,
          200000,
          165220,
          120160,
          90320,
          181940,
          132320,
          220110,
          160080,
          180000,
          120000,
          124190,
          130000,
          110000,
          170000,
          115500,
          112900,
          90320,
          112900,
          90320,
          165400,
          132320,
          167000,
          243900,
          136600,
          109280,
          128875,
          93700,
          224000,
          167875,
          175000,
          156600,
          108800,
          95550,
          113000,
          135000,
          161342,
          137141,
          167000,
          123000,
          150000,
          211500,
          160000,
          138600,
          136000,
          58000,
          135000,
          170000,
          123000,
          189650,
          164996,
          132000,
          165400,
          208775,
          147800,
          136994,
          101570,
          128875,
          93700,
          132320,
          164000,
          155000,
          120000,
          112900,
          90320,
          145000,
          105400,
          215300,
          158200,
          209100,
          154600,
          115934,
          81666,
          175000,
          58000,
          183600,
          180000,
          260000,
          63900,
          160000,
          112300,
          241000,
          159000,
          180000,
          80000,
          82900,
          100800,
          140400,
          189650,
          164996,
          215300,
          209100,
          154600,
          180000,
          80000,
          120000,
          125000,
          37236,
          105000,
          100000,
          120000,
          144000,
          104890,
          100000,
          140000,
          135000,
          50000,
          220000,
          140000,
          185100,
          220000,
          200000,
          120000,
          324000,
          216000,
          210000,
          120000,
          230000,
          100000,
          200000,
          100000,
          153000,
          165000,
          115000,
          75000,
          120000,
          157000,
          65000,
          48000,
          152500,
          380000,
          135000,
          177000,
          78000,
          135000,
          100000,
          90320,
          214000,
          192600,
          266400,
          213120,
          112900,
          155000,
          141300,
          102100,
          115934,
          81666,
          206699,
          99100,
          130000,
          115000,
          110500,
          130000,
          99050,
          160000,
          205300,
          140400,
          176000,
          144000,
          200100,
          160000,
          145000,
          70500,
          205300,
          140400,
          205300,
          184700,
          175100,
          140250,
          116150,
          54000,
          170000,
          80000,
          140000,
          210000,
          140000,
          100000,
          69000,
          210000,
          140000,
          210000,
          150075,
          100000,
          25000,
          126500,
          106260,
          220110,
          160080,
          105000,
          110925,
          140000,
          99000,
          60000,
          192564,
          144854,
          230000,
          150000,
          150260,
          109280,
          210000,
          170000,
          160000,
          130000,
          154000,
          126000,
          129000,
          150000,
          200000
         ],
         "y0": " ",
         "yaxis": "y"
        },
        {
         "alignmentgroup": "True",
         "boxpoints": "all",
         "hovertemplate": "Ubicacion=%{x}<br>Salario en USD=%{y}<extra></extra>",
         "legendgroup": "FR",
         "marker": {
          "color": "#ab63fa"
         },
         "name": "FR",
         "notched": true,
         "offsetgroup": "FR",
         "orientation": "v",
         "showlegend": true,
         "type": "box",
         "x": [
          "FR",
          "FR",
          "FR",
          "FR",
          "FR",
          "FR",
          "FR",
          "FR",
          "FR",
          "FR",
          "FR",
          "FR",
          "FR",
          "FR",
          "FR"
         ],
         "x0": " ",
         "xaxis": "x",
         "y": [
          51321,
          39916,
          46759,
          70139,
          42197,
          53192,
          59102,
          49646,
          62649,
          152000,
          56738,
          36643,
          77684,
          93427,
          68147
         ],
         "y0": " ",
         "yaxis": "y"
        },
        {
         "alignmentgroup": "True",
         "boxpoints": "all",
         "hovertemplate": "Ubicacion=%{x}<br>Salario en USD=%{y}<extra></extra>",
         "legendgroup": "IN",
         "marker": {
          "color": "#FFA15A"
         },
         "name": "IN",
         "notched": true,
         "offsetgroup": "IN",
         "orientation": "v",
         "showlegend": true,
         "type": "box",
         "x": [
          "IN",
          "IN",
          "IN",
          "IN",
          "IN",
          "IN",
          "IN",
          "IN",
          "IN",
          "IN",
          "IN",
          "IN",
          "IN",
          "IN",
          "IN",
          "IN",
          "IN",
          "IN",
          "IN",
          "IN",
          "IN",
          "IN",
          "IN",
          "IN"
         ],
         "x0": " ",
         "xaxis": "x",
         "y": [
          40481,
          5707,
          6072,
          6072,
          5409,
          19609,
          29751,
          30428,
          9466,
          20000,
          40570,
          22611,
          24342,
          33808,
          16228,
          21637,
          28399,
          16904,
          66265,
          94665,
          79039,
          18442,
          31615,
          18442
         ],
         "y0": " ",
         "yaxis": "y"
        },
        {
         "alignmentgroup": "True",
         "boxpoints": "all",
         "hovertemplate": "Ubicacion=%{x}<br>Salario en USD=%{y}<extra></extra>",
         "legendgroup": "GR",
         "marker": {
          "color": "#19d3f3"
         },
         "name": "GR",
         "notched": true,
         "offsetgroup": "GR",
         "orientation": "v",
         "showlegend": true,
         "type": "box",
         "x": [
          "GR",
          "GR",
          "GR",
          "GR",
          "GR",
          "GR",
          "GR",
          "GR",
          "GR",
          "GR",
          "GR"
         ],
         "x0": " ",
         "xaxis": "x",
         "y": [
          47899,
          40189,
          54957,
          54957,
          65949,
          49461,
          87932,
          43966,
          32974,
          76940,
          20000
         ],
         "y0": " ",
         "yaxis": "y"
        },
        {
         "alignmentgroup": "True",
         "boxpoints": "all",
         "hovertemplate": "Ubicacion=%{x}<br>Salario en USD=%{y}<extra></extra>",
         "legendgroup": "CA",
         "marker": {
          "color": "#FF6692"
         },
         "name": "CA",
         "notched": true,
         "offsetgroup": "CA",
         "orientation": "v",
         "showlegend": true,
         "type": "box",
         "x": [
          "CA",
          "CA",
          "CA",
          "CA",
          "CA",
          "CA",
          "CA",
          "CA",
          "CA",
          "CA",
          "CA",
          "CA",
          "CA",
          "CA",
          "CA",
          "CA",
          "CA",
          "CA",
          "CA",
          "CA",
          "CA",
          "CA",
          "CA",
          "CA",
          "CA",
          "CA",
          "CA",
          "CA",
          "CA",
          "CA"
         ],
         "x0": " ",
         "xaxis": "x",
         "y": [
          117104,
          54238,
          187442,
          75774,
          127221,
          96113,
          225000,
          87738,
          71786,
          63810,
          103691,
          99703,
          192400,
          90700,
          130000,
          61300,
          130000,
          61300,
          118187,
          78791,
          196979,
          75000,
          78791,
          52396,
          70912,
          69336,
          85000,
          75000,
          67000,
          52000
         ],
         "y0": " ",
         "yaxis": "y"
        },
        {
         "alignmentgroup": "True",
         "boxpoints": "all",
         "hovertemplate": "Ubicacion=%{x}<br>Salario en USD=%{y}<extra></extra>",
         "legendgroup": "ES",
         "marker": {
          "color": "#B6E880"
         },
         "name": "ES",
         "notched": true,
         "offsetgroup": "ES",
         "orientation": "v",
         "showlegend": true,
         "type": "box",
         "x": [
          "ES",
          "ES",
          "ES",
          "ES",
          "ES",
          "ES",
          "ES",
          "ES",
          "ES",
          "ES",
          "ES",
          "ES",
          "ES",
          "ES"
         ],
         "x0": " ",
         "xaxis": "x",
         "y": [
          79833,
          38776,
          47282,
          10354,
          69741,
          37825,
          46809,
          55000,
          49461,
          43966,
          32974,
          87932,
          76940,
          65949
         ],
         "y0": " ",
         "yaxis": "y"
        }
       ],
       "layout": {
        "boxmode": "overlay",
        "legend": {
         "title": {
          "text": "Ubicacion"
         },
         "tracegroupgap": 0
        },
        "template": {
         "data": {
          "bar": [
           {
            "error_x": {
             "color": "#2a3f5f"
            },
            "error_y": {
             "color": "#2a3f5f"
            },
            "marker": {
             "line": {
              "color": "white",
              "width": 0.5
             },
             "pattern": {
              "fillmode": "overlay",
              "size": 10,
              "solidity": 0.2
             }
            },
            "type": "bar"
           }
          ],
          "barpolar": [
           {
            "marker": {
             "line": {
              "color": "white",
              "width": 0.5
             },
             "pattern": {
              "fillmode": "overlay",
              "size": 10,
              "solidity": 0.2
             }
            },
            "type": "barpolar"
           }
          ],
          "carpet": [
           {
            "aaxis": {
             "endlinecolor": "#2a3f5f",
             "gridcolor": "#C8D4E3",
             "linecolor": "#C8D4E3",
             "minorgridcolor": "#C8D4E3",
             "startlinecolor": "#2a3f5f"
            },
            "baxis": {
             "endlinecolor": "#2a3f5f",
             "gridcolor": "#C8D4E3",
             "linecolor": "#C8D4E3",
             "minorgridcolor": "#C8D4E3",
             "startlinecolor": "#2a3f5f"
            },
            "type": "carpet"
           }
          ],
          "choropleth": [
           {
            "colorbar": {
             "outlinewidth": 0,
             "ticks": ""
            },
            "type": "choropleth"
           }
          ],
          "contour": [
           {
            "colorbar": {
             "outlinewidth": 0,
             "ticks": ""
            },
            "colorscale": [
             [
              0,
              "#0d0887"
             ],
             [
              0.1111111111111111,
              "#46039f"
             ],
             [
              0.2222222222222222,
              "#7201a8"
             ],
             [
              0.3333333333333333,
              "#9c179e"
             ],
             [
              0.4444444444444444,
              "#bd3786"
             ],
             [
              0.5555555555555556,
              "#d8576b"
             ],
             [
              0.6666666666666666,
              "#ed7953"
             ],
             [
              0.7777777777777778,
              "#fb9f3a"
             ],
             [
              0.8888888888888888,
              "#fdca26"
             ],
             [
              1,
              "#f0f921"
             ]
            ],
            "type": "contour"
           }
          ],
          "contourcarpet": [
           {
            "colorbar": {
             "outlinewidth": 0,
             "ticks": ""
            },
            "type": "contourcarpet"
           }
          ],
          "heatmap": [
           {
            "colorbar": {
             "outlinewidth": 0,
             "ticks": ""
            },
            "colorscale": [
             [
              0,
              "#0d0887"
             ],
             [
              0.1111111111111111,
              "#46039f"
             ],
             [
              0.2222222222222222,
              "#7201a8"
             ],
             [
              0.3333333333333333,
              "#9c179e"
             ],
             [
              0.4444444444444444,
              "#bd3786"
             ],
             [
              0.5555555555555556,
              "#d8576b"
             ],
             [
              0.6666666666666666,
              "#ed7953"
             ],
             [
              0.7777777777777778,
              "#fb9f3a"
             ],
             [
              0.8888888888888888,
              "#fdca26"
             ],
             [
              1,
              "#f0f921"
             ]
            ],
            "type": "heatmap"
           }
          ],
          "heatmapgl": [
           {
            "colorbar": {
             "outlinewidth": 0,
             "ticks": ""
            },
            "colorscale": [
             [
              0,
              "#0d0887"
             ],
             [
              0.1111111111111111,
              "#46039f"
             ],
             [
              0.2222222222222222,
              "#7201a8"
             ],
             [
              0.3333333333333333,
              "#9c179e"
             ],
             [
              0.4444444444444444,
              "#bd3786"
             ],
             [
              0.5555555555555556,
              "#d8576b"
             ],
             [
              0.6666666666666666,
              "#ed7953"
             ],
             [
              0.7777777777777778,
              "#fb9f3a"
             ],
             [
              0.8888888888888888,
              "#fdca26"
             ],
             [
              1,
              "#f0f921"
             ]
            ],
            "type": "heatmapgl"
           }
          ],
          "histogram": [
           {
            "marker": {
             "pattern": {
              "fillmode": "overlay",
              "size": 10,
              "solidity": 0.2
             }
            },
            "type": "histogram"
           }
          ],
          "histogram2d": [
           {
            "colorbar": {
             "outlinewidth": 0,
             "ticks": ""
            },
            "colorscale": [
             [
              0,
              "#0d0887"
             ],
             [
              0.1111111111111111,
              "#46039f"
             ],
             [
              0.2222222222222222,
              "#7201a8"
             ],
             [
              0.3333333333333333,
              "#9c179e"
             ],
             [
              0.4444444444444444,
              "#bd3786"
             ],
             [
              0.5555555555555556,
              "#d8576b"
             ],
             [
              0.6666666666666666,
              "#ed7953"
             ],
             [
              0.7777777777777778,
              "#fb9f3a"
             ],
             [
              0.8888888888888888,
              "#fdca26"
             ],
             [
              1,
              "#f0f921"
             ]
            ],
            "type": "histogram2d"
           }
          ],
          "histogram2dcontour": [
           {
            "colorbar": {
             "outlinewidth": 0,
             "ticks": ""
            },
            "colorscale": [
             [
              0,
              "#0d0887"
             ],
             [
              0.1111111111111111,
              "#46039f"
             ],
             [
              0.2222222222222222,
              "#7201a8"
             ],
             [
              0.3333333333333333,
              "#9c179e"
             ],
             [
              0.4444444444444444,
              "#bd3786"
             ],
             [
              0.5555555555555556,
              "#d8576b"
             ],
             [
              0.6666666666666666,
              "#ed7953"
             ],
             [
              0.7777777777777778,
              "#fb9f3a"
             ],
             [
              0.8888888888888888,
              "#fdca26"
             ],
             [
              1,
              "#f0f921"
             ]
            ],
            "type": "histogram2dcontour"
           }
          ],
          "mesh3d": [
           {
            "colorbar": {
             "outlinewidth": 0,
             "ticks": ""
            },
            "type": "mesh3d"
           }
          ],
          "parcoords": [
           {
            "line": {
             "colorbar": {
              "outlinewidth": 0,
              "ticks": ""
             }
            },
            "type": "parcoords"
           }
          ],
          "pie": [
           {
            "automargin": true,
            "type": "pie"
           }
          ],
          "scatter": [
           {
            "fillpattern": {
             "fillmode": "overlay",
             "size": 10,
             "solidity": 0.2
            },
            "type": "scatter"
           }
          ],
          "scatter3d": [
           {
            "line": {
             "colorbar": {
              "outlinewidth": 0,
              "ticks": ""
             }
            },
            "marker": {
             "colorbar": {
              "outlinewidth": 0,
              "ticks": ""
             }
            },
            "type": "scatter3d"
           }
          ],
          "scattercarpet": [
           {
            "marker": {
             "colorbar": {
              "outlinewidth": 0,
              "ticks": ""
             }
            },
            "type": "scattercarpet"
           }
          ],
          "scattergeo": [
           {
            "marker": {
             "colorbar": {
              "outlinewidth": 0,
              "ticks": ""
             }
            },
            "type": "scattergeo"
           }
          ],
          "scattergl": [
           {
            "marker": {
             "colorbar": {
              "outlinewidth": 0,
              "ticks": ""
             }
            },
            "type": "scattergl"
           }
          ],
          "scattermapbox": [
           {
            "marker": {
             "colorbar": {
              "outlinewidth": 0,
              "ticks": ""
             }
            },
            "type": "scattermapbox"
           }
          ],
          "scatterpolar": [
           {
            "marker": {
             "colorbar": {
              "outlinewidth": 0,
              "ticks": ""
             }
            },
            "type": "scatterpolar"
           }
          ],
          "scatterpolargl": [
           {
            "marker": {
             "colorbar": {
              "outlinewidth": 0,
              "ticks": ""
             }
            },
            "type": "scatterpolargl"
           }
          ],
          "scatterternary": [
           {
            "marker": {
             "colorbar": {
              "outlinewidth": 0,
              "ticks": ""
             }
            },
            "type": "scatterternary"
           }
          ],
          "surface": [
           {
            "colorbar": {
             "outlinewidth": 0,
             "ticks": ""
            },
            "colorscale": [
             [
              0,
              "#0d0887"
             ],
             [
              0.1111111111111111,
              "#46039f"
             ],
             [
              0.2222222222222222,
              "#7201a8"
             ],
             [
              0.3333333333333333,
              "#9c179e"
             ],
             [
              0.4444444444444444,
              "#bd3786"
             ],
             [
              0.5555555555555556,
              "#d8576b"
             ],
             [
              0.6666666666666666,
              "#ed7953"
             ],
             [
              0.7777777777777778,
              "#fb9f3a"
             ],
             [
              0.8888888888888888,
              "#fdca26"
             ],
             [
              1,
              "#f0f921"
             ]
            ],
            "type": "surface"
           }
          ],
          "table": [
           {
            "cells": {
             "fill": {
              "color": "#EBF0F8"
             },
             "line": {
              "color": "white"
             }
            },
            "header": {
             "fill": {
              "color": "#C8D4E3"
             },
             "line": {
              "color": "white"
             }
            },
            "type": "table"
           }
          ]
         },
         "layout": {
          "annotationdefaults": {
           "arrowcolor": "#2a3f5f",
           "arrowhead": 0,
           "arrowwidth": 1
          },
          "autotypenumbers": "strict",
          "coloraxis": {
           "colorbar": {
            "outlinewidth": 0,
            "ticks": ""
           }
          },
          "colorscale": {
           "diverging": [
            [
             0,
             "#8e0152"
            ],
            [
             0.1,
             "#c51b7d"
            ],
            [
             0.2,
             "#de77ae"
            ],
            [
             0.3,
             "#f1b6da"
            ],
            [
             0.4,
             "#fde0ef"
            ],
            [
             0.5,
             "#f7f7f7"
            ],
            [
             0.6,
             "#e6f5d0"
            ],
            [
             0.7,
             "#b8e186"
            ],
            [
             0.8,
             "#7fbc41"
            ],
            [
             0.9,
             "#4d9221"
            ],
            [
             1,
             "#276419"
            ]
           ],
           "sequential": [
            [
             0,
             "#0d0887"
            ],
            [
             0.1111111111111111,
             "#46039f"
            ],
            [
             0.2222222222222222,
             "#7201a8"
            ],
            [
             0.3333333333333333,
             "#9c179e"
            ],
            [
             0.4444444444444444,
             "#bd3786"
            ],
            [
             0.5555555555555556,
             "#d8576b"
            ],
            [
             0.6666666666666666,
             "#ed7953"
            ],
            [
             0.7777777777777778,
             "#fb9f3a"
            ],
            [
             0.8888888888888888,
             "#fdca26"
            ],
            [
             1,
             "#f0f921"
            ]
           ],
           "sequentialminus": [
            [
             0,
             "#0d0887"
            ],
            [
             0.1111111111111111,
             "#46039f"
            ],
            [
             0.2222222222222222,
             "#7201a8"
            ],
            [
             0.3333333333333333,
             "#9c179e"
            ],
            [
             0.4444444444444444,
             "#bd3786"
            ],
            [
             0.5555555555555556,
             "#d8576b"
            ],
            [
             0.6666666666666666,
             "#ed7953"
            ],
            [
             0.7777777777777778,
             "#fb9f3a"
            ],
            [
             0.8888888888888888,
             "#fdca26"
            ],
            [
             1,
             "#f0f921"
            ]
           ]
          },
          "colorway": [
           "#636efa",
           "#EF553B",
           "#00cc96",
           "#ab63fa",
           "#FFA15A",
           "#19d3f3",
           "#FF6692",
           "#B6E880",
           "#FF97FF",
           "#FECB52"
          ],
          "font": {
           "color": "#2a3f5f"
          },
          "geo": {
           "bgcolor": "white",
           "lakecolor": "white",
           "landcolor": "white",
           "showlakes": true,
           "showland": true,
           "subunitcolor": "#C8D4E3"
          },
          "hoverlabel": {
           "align": "left"
          },
          "hovermode": "closest",
          "mapbox": {
           "style": "light"
          },
          "paper_bgcolor": "white",
          "plot_bgcolor": "white",
          "polar": {
           "angularaxis": {
            "gridcolor": "#EBF0F8",
            "linecolor": "#EBF0F8",
            "ticks": ""
           },
           "bgcolor": "white",
           "radialaxis": {
            "gridcolor": "#EBF0F8",
            "linecolor": "#EBF0F8",
            "ticks": ""
           }
          },
          "scene": {
           "xaxis": {
            "backgroundcolor": "white",
            "gridcolor": "#DFE8F3",
            "gridwidth": 2,
            "linecolor": "#EBF0F8",
            "showbackground": true,
            "ticks": "",
            "zerolinecolor": "#EBF0F8"
           },
           "yaxis": {
            "backgroundcolor": "white",
            "gridcolor": "#DFE8F3",
            "gridwidth": 2,
            "linecolor": "#EBF0F8",
            "showbackground": true,
            "ticks": "",
            "zerolinecolor": "#EBF0F8"
           },
           "zaxis": {
            "backgroundcolor": "white",
            "gridcolor": "#DFE8F3",
            "gridwidth": 2,
            "linecolor": "#EBF0F8",
            "showbackground": true,
            "ticks": "",
            "zerolinecolor": "#EBF0F8"
           }
          },
          "shapedefaults": {
           "line": {
            "color": "#2a3f5f"
           }
          },
          "ternary": {
           "aaxis": {
            "gridcolor": "#DFE8F3",
            "linecolor": "#A2B1C6",
            "ticks": ""
           },
           "baxis": {
            "gridcolor": "#DFE8F3",
            "linecolor": "#A2B1C6",
            "ticks": ""
           },
           "bgcolor": "white",
           "caxis": {
            "gridcolor": "#DFE8F3",
            "linecolor": "#A2B1C6",
            "ticks": ""
           }
          },
          "title": {
           "x": 0.05
          },
          "xaxis": {
           "automargin": true,
           "gridcolor": "#EBF0F8",
           "linecolor": "#EBF0F8",
           "ticks": "",
           "title": {
            "standoff": 15
           },
           "zerolinecolor": "#EBF0F8",
           "zerolinewidth": 2
          },
          "yaxis": {
           "automargin": true,
           "gridcolor": "#EBF0F8",
           "linecolor": "#EBF0F8",
           "ticks": "",
           "title": {
            "standoff": 15
           },
           "zerolinecolor": "#EBF0F8",
           "zerolinewidth": 2
          }
         }
        },
        "title": {
         "text": "<b>Salario por Pais"
        },
        "xaxis": {
         "anchor": "y",
         "categoryarray": [
          "DE",
          "GB",
          "US",
          "FR",
          "IN",
          "GR",
          "CA",
          "ES"
         ],
         "categoryorder": "array",
         "domain": [
          0,
          1
         ],
         "title": {
          "text": "Ubicacion"
         }
        },
        "yaxis": {
         "anchor": "x",
         "domain": [
          0,
          1
         ],
         "title": {
          "text": "Salario en USD"
         }
        }
       }
      },
      "text/html": [
       "<div>                            <div id=\"19422d0a-9971-4b95-a334-d8ed47ab905f\" class=\"plotly-graph-div\" style=\"height:525px; width:100%;\"></div>            <script type=\"text/javascript\">                require([\"plotly\"], function(Plotly) {                    window.PLOTLYENV=window.PLOTLYENV || {};                                    if (document.getElementById(\"19422d0a-9971-4b95-a334-d8ed47ab905f\")) {                    Plotly.newPlot(                        \"19422d0a-9971-4b95-a334-d8ed47ab905f\",                        [{\"alignmentgroup\":\"True\",\"boxpoints\":\"all\",\"hovertemplate\":\"Ubicacion=%{x}<br>Salario en USD=%{y}<extra></extra>\",\"legendgroup\":\"DE\",\"marker\":{\"color\":\"#636efa\"},\"name\":\"DE\",\"notched\":true,\"offsetgroup\":\"DE\",\"orientation\":\"v\",\"showlegend\":true,\"x\":[\"DE\",\"DE\",\"DE\",\"DE\",\"DE\",\"DE\",\"DE\",\"DE\",\"DE\",\"DE\",\"DE\",\"DE\",\"DE\",\"DE\",\"DE\",\"DE\",\"DE\",\"DE\",\"DE\",\"DE\",\"DE\",\"DE\",\"DE\",\"DE\",\"DE\",\"DE\",\"DE\",\"DE\"],\"x0\":\" \",\"xaxis\":\"x\",\"y\":[79833,59303,15966,54742,148261,62726,49268,79197,76833,94564,63831,130026,90734,24823,90734,88654,173762,141846,63831,25532,65013,76833,85000,87932,87932,54957,162674,58035],\"y0\":\" \",\"yaxis\":\"y\",\"type\":\"box\"},{\"alignmentgroup\":\"True\",\"boxpoints\":\"all\",\"hovertemplate\":\"Ubicacion=%{x}<br>Salario en USD=%{y}<extra></extra>\",\"legendgroup\":\"GB\",\"marker\":{\"color\":\"#EF553B\"},\"name\":\"GB\",\"notched\":true,\"offsetgroup\":\"GB\",\"orientation\":\"v\",\"showlegend\":true,\"x\":[\"GB\",\"GB\",\"GB\",\"GB\",\"GB\",\"GB\",\"GB\",\"GB\",\"GB\",\"GB\",\"GB\",\"GB\",\"GB\",\"GB\",\"GB\",\"GB\",\"GB\",\"GB\",\"GB\",\"GB\",\"GB\",\"GB\",\"GB\",\"GB\",\"GB\",\"GB\",\"GB\",\"GB\",\"GB\",\"GB\",\"GB\",\"GB\",\"GB\",\"GB\",\"GB\",\"GB\",\"GB\",\"GB\",\"GB\",\"GB\",\"GB\",\"GB\",\"GB\",\"GB\",\"GB\",\"GB\",\"GB\"],\"x0\":\" \",\"xaxis\":\"x\",\"y\":[109024,114047,112872,76958,82528,51519,113476,103160,110037,82528,61896,50000,76833,66022,116914,56256,72212,96282,117789,104702,52351,65438,39263,78526,52351,45807,78526,65438,37300,124333,98158,117789,98158,52351,71982,45807,78526,58894,39263,104702,91614,98158,78526,183228,91614,65438,45807],\"y0\":\" \",\"yaxis\":\"y\",\"type\":\"box\"},{\"alignmentgroup\":\"True\",\"boxpoints\":\"all\",\"hovertemplate\":\"Ubicacion=%{x}<br>Salario en USD=%{y}<extra></extra>\",\"legendgroup\":\"US\",\"marker\":{\"color\":\"#00cc96\"},\"name\":\"US\",\"notched\":true,\"offsetgroup\":\"US\",\"orientation\":\"v\",\"showlegend\":true,\"x\":[\"US\",\"US\",\"US\",\"US\",\"US\",\"US\",\"US\",\"US\",\"US\",\"US\",\"US\",\"US\",\"US\",\"US\",\"US\",\"US\",\"US\",\"US\",\"US\",\"US\",\"US\",\"US\",\"US\",\"US\",\"US\",\"US\",\"US\",\"US\",\"US\",\"US\",\"US\",\"US\",\"US\",\"US\",\"US\",\"US\",\"US\",\"US\",\"US\",\"US\",\"US\",\"US\",\"US\",\"US\",\"US\",\"US\",\"US\",\"US\",\"US\",\"US\",\"US\",\"US\",\"US\",\"US\",\"US\",\"US\",\"US\",\"US\",\"US\",\"US\",\"US\",\"US\",\"US\",\"US\",\"US\",\"US\",\"US\",\"US\",\"US\",\"US\",\"US\",\"US\",\"US\",\"US\",\"US\",\"US\",\"US\",\"US\",\"US\",\"US\",\"US\",\"US\",\"US\",\"US\",\"US\",\"US\",\"US\",\"US\",\"US\",\"US\",\"US\",\"US\",\"US\",\"US\",\"US\",\"US\",\"US\",\"US\",\"US\",\"US\",\"US\",\"US\",\"US\",\"US\",\"US\",\"US\",\"US\",\"US\",\"US\",\"US\",\"US\",\"US\",\"US\",\"US\",\"US\",\"US\",\"US\",\"US\",\"US\",\"US\",\"US\",\"US\",\"US\",\"US\",\"US\",\"US\",\"US\",\"US\",\"US\",\"US\",\"US\",\"US\",\"US\",\"US\",\"US\",\"US\",\"US\",\"US\",\"US\",\"US\",\"US\",\"US\",\"US\",\"US\",\"US\",\"US\",\"US\",\"US\",\"US\",\"US\",\"US\",\"US\",\"US\",\"US\",\"US\",\"US\",\"US\",\"US\",\"US\",\"US\",\"US\",\"US\",\"US\",\"US\",\"US\",\"US\",\"US\",\"US\",\"US\",\"US\",\"US\",\"US\",\"US\",\"US\",\"US\",\"US\",\"US\",\"US\",\"US\",\"US\",\"US\",\"US\",\"US\",\"US\",\"US\",\"US\",\"US\",\"US\",\"US\",\"US\",\"US\",\"US\",\"US\",\"US\",\"US\",\"US\",\"US\",\"US\",\"US\",\"US\",\"US\",\"US\",\"US\",\"US\",\"US\",\"US\",\"US\",\"US\",\"US\",\"US\",\"US\",\"US\",\"US\",\"US\",\"US\",\"US\",\"US\",\"US\",\"US\",\"US\",\"US\",\"US\",\"US\",\"US\",\"US\",\"US\",\"US\",\"US\",\"US\",\"US\",\"US\",\"US\",\"US\",\"US\",\"US\",\"US\",\"US\",\"US\",\"US\",\"US\",\"US\",\"US\",\"US\",\"US\",\"US\",\"US\",\"US\",\"US\",\"US\",\"US\",\"US\",\"US\",\"US\",\"US\",\"US\",\"US\",\"US\",\"US\",\"US\",\"US\",\"US\",\"US\",\"US\",\"US\",\"US\",\"US\",\"US\",\"US\",\"US\",\"US\",\"US\",\"US\",\"US\",\"US\",\"US\",\"US\",\"US\",\"US\",\"US\",\"US\",\"US\",\"US\",\"US\",\"US\",\"US\",\"US\",\"US\",\"US\",\"US\",\"US\",\"US\",\"US\",\"US\",\"US\",\"US\",\"US\",\"US\",\"US\",\"US\",\"US\",\"US\",\"US\",\"US\",\"US\",\"US\",\"US\",\"US\",\"US\",\"US\",\"US\",\"US\",\"US\",\"US\",\"US\",\"US\",\"US\",\"US\",\"US\",\"US\",\"US\",\"US\",\"US\",\"US\",\"US\",\"US\",\"US\",\"US\",\"US\",\"US\",\"US\",\"US\",\"US\",\"US\",\"US\",\"US\",\"US\",\"US\",\"US\",\"US\",\"US\",\"US\",\"US\",\"US\",\"US\",\"US\",\"US\",\"US\",\"US\"],\"x0\":\" \",\"xaxis\":\"x\",\"y\":[150000,72000,190000,135000,87000,85000,56000,98000,325000,100000,70000,68428,103000,250000,138000,45760,106000,188000,105000,91000,60000,118000,120000,138350,110000,130800,190200,105000,150000,235000,100000,270000,80000,140000,110000,170000,80000,276000,12000,70000,95746,75000,150000,36259,62000,73000,115000,150000,12000,225000,90000,200000,200000,50000,151000,120000,38400,100000,90000,220000,80000,135000,240000,150000,82500,100000,90000,153000,160000,150000,144000,120000,125000,165000,80000,250000,55000,150000,170000,60000,235000,174000,81000,5679,26005,174000,147000,54094,90000,195000,50000,160000,200000,165000,20000,120000,185000,140000,135000,256000,200000,200000,180000,110000,80000,110000,165000,170000,115000,90000,93000,200000,185000,130000,160000,93150,111775,72500,100000,58000,112000,105000,109000,135000,155000,120600,130000,90000,170000,150000,102100,84900,136620,99360,146000,123000,99000,116000,106260,126500,242000,200000,165220,120160,90320,181940,132320,220110,160080,180000,120000,124190,130000,110000,170000,115500,112900,90320,112900,90320,165400,132320,167000,243900,136600,109280,128875,93700,224000,167875,175000,156600,108800,95550,113000,135000,161342,137141,167000,123000,150000,211500,160000,138600,136000,58000,135000,170000,123000,189650,164996,132000,165400,208775,147800,136994,101570,128875,93700,132320,164000,155000,120000,112900,90320,145000,105400,215300,158200,209100,154600,115934,81666,175000,58000,183600,180000,260000,63900,160000,112300,241000,159000,180000,80000,82900,100800,140400,189650,164996,215300,209100,154600,180000,80000,120000,125000,37236,105000,100000,120000,144000,104890,100000,140000,135000,50000,220000,140000,185100,220000,200000,120000,324000,216000,210000,120000,230000,100000,200000,100000,153000,165000,115000,75000,120000,157000,65000,48000,152500,380000,135000,177000,78000,135000,100000,90320,214000,192600,266400,213120,112900,155000,141300,102100,115934,81666,206699,99100,130000,115000,110500,130000,99050,160000,205300,140400,176000,144000,200100,160000,145000,70500,205300,140400,205300,184700,175100,140250,116150,54000,170000,80000,140000,210000,140000,100000,69000,210000,140000,210000,150075,100000,25000,126500,106260,220110,160080,105000,110925,140000,99000,60000,192564,144854,230000,150000,150260,109280,210000,170000,160000,130000,154000,126000,129000,150000,200000],\"y0\":\" \",\"yaxis\":\"y\",\"type\":\"box\"},{\"alignmentgroup\":\"True\",\"boxpoints\":\"all\",\"hovertemplate\":\"Ubicacion=%{x}<br>Salario en USD=%{y}<extra></extra>\",\"legendgroup\":\"FR\",\"marker\":{\"color\":\"#ab63fa\"},\"name\":\"FR\",\"notched\":true,\"offsetgroup\":\"FR\",\"orientation\":\"v\",\"showlegend\":true,\"x\":[\"FR\",\"FR\",\"FR\",\"FR\",\"FR\",\"FR\",\"FR\",\"FR\",\"FR\",\"FR\",\"FR\",\"FR\",\"FR\",\"FR\",\"FR\"],\"x0\":\" \",\"xaxis\":\"x\",\"y\":[51321,39916,46759,70139,42197,53192,59102,49646,62649,152000,56738,36643,77684,93427,68147],\"y0\":\" \",\"yaxis\":\"y\",\"type\":\"box\"},{\"alignmentgroup\":\"True\",\"boxpoints\":\"all\",\"hovertemplate\":\"Ubicacion=%{x}<br>Salario en USD=%{y}<extra></extra>\",\"legendgroup\":\"IN\",\"marker\":{\"color\":\"#FFA15A\"},\"name\":\"IN\",\"notched\":true,\"offsetgroup\":\"IN\",\"orientation\":\"v\",\"showlegend\":true,\"x\":[\"IN\",\"IN\",\"IN\",\"IN\",\"IN\",\"IN\",\"IN\",\"IN\",\"IN\",\"IN\",\"IN\",\"IN\",\"IN\",\"IN\",\"IN\",\"IN\",\"IN\",\"IN\",\"IN\",\"IN\",\"IN\",\"IN\",\"IN\",\"IN\"],\"x0\":\" \",\"xaxis\":\"x\",\"y\":[40481,5707,6072,6072,5409,19609,29751,30428,9466,20000,40570,22611,24342,33808,16228,21637,28399,16904,66265,94665,79039,18442,31615,18442],\"y0\":\" \",\"yaxis\":\"y\",\"type\":\"box\"},{\"alignmentgroup\":\"True\",\"boxpoints\":\"all\",\"hovertemplate\":\"Ubicacion=%{x}<br>Salario en USD=%{y}<extra></extra>\",\"legendgroup\":\"GR\",\"marker\":{\"color\":\"#19d3f3\"},\"name\":\"GR\",\"notched\":true,\"offsetgroup\":\"GR\",\"orientation\":\"v\",\"showlegend\":true,\"x\":[\"GR\",\"GR\",\"GR\",\"GR\",\"GR\",\"GR\",\"GR\",\"GR\",\"GR\",\"GR\",\"GR\"],\"x0\":\" \",\"xaxis\":\"x\",\"y\":[47899,40189,54957,54957,65949,49461,87932,43966,32974,76940,20000],\"y0\":\" \",\"yaxis\":\"y\",\"type\":\"box\"},{\"alignmentgroup\":\"True\",\"boxpoints\":\"all\",\"hovertemplate\":\"Ubicacion=%{x}<br>Salario en USD=%{y}<extra></extra>\",\"legendgroup\":\"CA\",\"marker\":{\"color\":\"#FF6692\"},\"name\":\"CA\",\"notched\":true,\"offsetgroup\":\"CA\",\"orientation\":\"v\",\"showlegend\":true,\"x\":[\"CA\",\"CA\",\"CA\",\"CA\",\"CA\",\"CA\",\"CA\",\"CA\",\"CA\",\"CA\",\"CA\",\"CA\",\"CA\",\"CA\",\"CA\",\"CA\",\"CA\",\"CA\",\"CA\",\"CA\",\"CA\",\"CA\",\"CA\",\"CA\",\"CA\",\"CA\",\"CA\",\"CA\",\"CA\",\"CA\"],\"x0\":\" \",\"xaxis\":\"x\",\"y\":[117104,54238,187442,75774,127221,96113,225000,87738,71786,63810,103691,99703,192400,90700,130000,61300,130000,61300,118187,78791,196979,75000,78791,52396,70912,69336,85000,75000,67000,52000],\"y0\":\" \",\"yaxis\":\"y\",\"type\":\"box\"},{\"alignmentgroup\":\"True\",\"boxpoints\":\"all\",\"hovertemplate\":\"Ubicacion=%{x}<br>Salario en USD=%{y}<extra></extra>\",\"legendgroup\":\"ES\",\"marker\":{\"color\":\"#B6E880\"},\"name\":\"ES\",\"notched\":true,\"offsetgroup\":\"ES\",\"orientation\":\"v\",\"showlegend\":true,\"x\":[\"ES\",\"ES\",\"ES\",\"ES\",\"ES\",\"ES\",\"ES\",\"ES\",\"ES\",\"ES\",\"ES\",\"ES\",\"ES\",\"ES\"],\"x0\":\" \",\"xaxis\":\"x\",\"y\":[79833,38776,47282,10354,69741,37825,46809,55000,49461,43966,32974,87932,76940,65949],\"y0\":\" \",\"yaxis\":\"y\",\"type\":\"box\"}],                        {\"template\":{\"data\":{\"barpolar\":[{\"marker\":{\"line\":{\"color\":\"white\",\"width\":0.5},\"pattern\":{\"fillmode\":\"overlay\",\"size\":10,\"solidity\":0.2}},\"type\":\"barpolar\"}],\"bar\":[{\"error_x\":{\"color\":\"#2a3f5f\"},\"error_y\":{\"color\":\"#2a3f5f\"},\"marker\":{\"line\":{\"color\":\"white\",\"width\":0.5},\"pattern\":{\"fillmode\":\"overlay\",\"size\":10,\"solidity\":0.2}},\"type\":\"bar\"}],\"carpet\":[{\"aaxis\":{\"endlinecolor\":\"#2a3f5f\",\"gridcolor\":\"#C8D4E3\",\"linecolor\":\"#C8D4E3\",\"minorgridcolor\":\"#C8D4E3\",\"startlinecolor\":\"#2a3f5f\"},\"baxis\":{\"endlinecolor\":\"#2a3f5f\",\"gridcolor\":\"#C8D4E3\",\"linecolor\":\"#C8D4E3\",\"minorgridcolor\":\"#C8D4E3\",\"startlinecolor\":\"#2a3f5f\"},\"type\":\"carpet\"}],\"choropleth\":[{\"colorbar\":{\"outlinewidth\":0,\"ticks\":\"\"},\"type\":\"choropleth\"}],\"contourcarpet\":[{\"colorbar\":{\"outlinewidth\":0,\"ticks\":\"\"},\"type\":\"contourcarpet\"}],\"contour\":[{\"colorbar\":{\"outlinewidth\":0,\"ticks\":\"\"},\"colorscale\":[[0.0,\"#0d0887\"],[0.1111111111111111,\"#46039f\"],[0.2222222222222222,\"#7201a8\"],[0.3333333333333333,\"#9c179e\"],[0.4444444444444444,\"#bd3786\"],[0.5555555555555556,\"#d8576b\"],[0.6666666666666666,\"#ed7953\"],[0.7777777777777778,\"#fb9f3a\"],[0.8888888888888888,\"#fdca26\"],[1.0,\"#f0f921\"]],\"type\":\"contour\"}],\"heatmapgl\":[{\"colorbar\":{\"outlinewidth\":0,\"ticks\":\"\"},\"colorscale\":[[0.0,\"#0d0887\"],[0.1111111111111111,\"#46039f\"],[0.2222222222222222,\"#7201a8\"],[0.3333333333333333,\"#9c179e\"],[0.4444444444444444,\"#bd3786\"],[0.5555555555555556,\"#d8576b\"],[0.6666666666666666,\"#ed7953\"],[0.7777777777777778,\"#fb9f3a\"],[0.8888888888888888,\"#fdca26\"],[1.0,\"#f0f921\"]],\"type\":\"heatmapgl\"}],\"heatmap\":[{\"colorbar\":{\"outlinewidth\":0,\"ticks\":\"\"},\"colorscale\":[[0.0,\"#0d0887\"],[0.1111111111111111,\"#46039f\"],[0.2222222222222222,\"#7201a8\"],[0.3333333333333333,\"#9c179e\"],[0.4444444444444444,\"#bd3786\"],[0.5555555555555556,\"#d8576b\"],[0.6666666666666666,\"#ed7953\"],[0.7777777777777778,\"#fb9f3a\"],[0.8888888888888888,\"#fdca26\"],[1.0,\"#f0f921\"]],\"type\":\"heatmap\"}],\"histogram2dcontour\":[{\"colorbar\":{\"outlinewidth\":0,\"ticks\":\"\"},\"colorscale\":[[0.0,\"#0d0887\"],[0.1111111111111111,\"#46039f\"],[0.2222222222222222,\"#7201a8\"],[0.3333333333333333,\"#9c179e\"],[0.4444444444444444,\"#bd3786\"],[0.5555555555555556,\"#d8576b\"],[0.6666666666666666,\"#ed7953\"],[0.7777777777777778,\"#fb9f3a\"],[0.8888888888888888,\"#fdca26\"],[1.0,\"#f0f921\"]],\"type\":\"histogram2dcontour\"}],\"histogram2d\":[{\"colorbar\":{\"outlinewidth\":0,\"ticks\":\"\"},\"colorscale\":[[0.0,\"#0d0887\"],[0.1111111111111111,\"#46039f\"],[0.2222222222222222,\"#7201a8\"],[0.3333333333333333,\"#9c179e\"],[0.4444444444444444,\"#bd3786\"],[0.5555555555555556,\"#d8576b\"],[0.6666666666666666,\"#ed7953\"],[0.7777777777777778,\"#fb9f3a\"],[0.8888888888888888,\"#fdca26\"],[1.0,\"#f0f921\"]],\"type\":\"histogram2d\"}],\"histogram\":[{\"marker\":{\"pattern\":{\"fillmode\":\"overlay\",\"size\":10,\"solidity\":0.2}},\"type\":\"histogram\"}],\"mesh3d\":[{\"colorbar\":{\"outlinewidth\":0,\"ticks\":\"\"},\"type\":\"mesh3d\"}],\"parcoords\":[{\"line\":{\"colorbar\":{\"outlinewidth\":0,\"ticks\":\"\"}},\"type\":\"parcoords\"}],\"pie\":[{\"automargin\":true,\"type\":\"pie\"}],\"scatter3d\":[{\"line\":{\"colorbar\":{\"outlinewidth\":0,\"ticks\":\"\"}},\"marker\":{\"colorbar\":{\"outlinewidth\":0,\"ticks\":\"\"}},\"type\":\"scatter3d\"}],\"scattercarpet\":[{\"marker\":{\"colorbar\":{\"outlinewidth\":0,\"ticks\":\"\"}},\"type\":\"scattercarpet\"}],\"scattergeo\":[{\"marker\":{\"colorbar\":{\"outlinewidth\":0,\"ticks\":\"\"}},\"type\":\"scattergeo\"}],\"scattergl\":[{\"marker\":{\"colorbar\":{\"outlinewidth\":0,\"ticks\":\"\"}},\"type\":\"scattergl\"}],\"scattermapbox\":[{\"marker\":{\"colorbar\":{\"outlinewidth\":0,\"ticks\":\"\"}},\"type\":\"scattermapbox\"}],\"scatterpolargl\":[{\"marker\":{\"colorbar\":{\"outlinewidth\":0,\"ticks\":\"\"}},\"type\":\"scatterpolargl\"}],\"scatterpolar\":[{\"marker\":{\"colorbar\":{\"outlinewidth\":0,\"ticks\":\"\"}},\"type\":\"scatterpolar\"}],\"scatter\":[{\"fillpattern\":{\"fillmode\":\"overlay\",\"size\":10,\"solidity\":0.2},\"type\":\"scatter\"}],\"scatterternary\":[{\"marker\":{\"colorbar\":{\"outlinewidth\":0,\"ticks\":\"\"}},\"type\":\"scatterternary\"}],\"surface\":[{\"colorbar\":{\"outlinewidth\":0,\"ticks\":\"\"},\"colorscale\":[[0.0,\"#0d0887\"],[0.1111111111111111,\"#46039f\"],[0.2222222222222222,\"#7201a8\"],[0.3333333333333333,\"#9c179e\"],[0.4444444444444444,\"#bd3786\"],[0.5555555555555556,\"#d8576b\"],[0.6666666666666666,\"#ed7953\"],[0.7777777777777778,\"#fb9f3a\"],[0.8888888888888888,\"#fdca26\"],[1.0,\"#f0f921\"]],\"type\":\"surface\"}],\"table\":[{\"cells\":{\"fill\":{\"color\":\"#EBF0F8\"},\"line\":{\"color\":\"white\"}},\"header\":{\"fill\":{\"color\":\"#C8D4E3\"},\"line\":{\"color\":\"white\"}},\"type\":\"table\"}]},\"layout\":{\"annotationdefaults\":{\"arrowcolor\":\"#2a3f5f\",\"arrowhead\":0,\"arrowwidth\":1},\"autotypenumbers\":\"strict\",\"coloraxis\":{\"colorbar\":{\"outlinewidth\":0,\"ticks\":\"\"}},\"colorscale\":{\"diverging\":[[0,\"#8e0152\"],[0.1,\"#c51b7d\"],[0.2,\"#de77ae\"],[0.3,\"#f1b6da\"],[0.4,\"#fde0ef\"],[0.5,\"#f7f7f7\"],[0.6,\"#e6f5d0\"],[0.7,\"#b8e186\"],[0.8,\"#7fbc41\"],[0.9,\"#4d9221\"],[1,\"#276419\"]],\"sequential\":[[0.0,\"#0d0887\"],[0.1111111111111111,\"#46039f\"],[0.2222222222222222,\"#7201a8\"],[0.3333333333333333,\"#9c179e\"],[0.4444444444444444,\"#bd3786\"],[0.5555555555555556,\"#d8576b\"],[0.6666666666666666,\"#ed7953\"],[0.7777777777777778,\"#fb9f3a\"],[0.8888888888888888,\"#fdca26\"],[1.0,\"#f0f921\"]],\"sequentialminus\":[[0.0,\"#0d0887\"],[0.1111111111111111,\"#46039f\"],[0.2222222222222222,\"#7201a8\"],[0.3333333333333333,\"#9c179e\"],[0.4444444444444444,\"#bd3786\"],[0.5555555555555556,\"#d8576b\"],[0.6666666666666666,\"#ed7953\"],[0.7777777777777778,\"#fb9f3a\"],[0.8888888888888888,\"#fdca26\"],[1.0,\"#f0f921\"]]},\"colorway\":[\"#636efa\",\"#EF553B\",\"#00cc96\",\"#ab63fa\",\"#FFA15A\",\"#19d3f3\",\"#FF6692\",\"#B6E880\",\"#FF97FF\",\"#FECB52\"],\"font\":{\"color\":\"#2a3f5f\"},\"geo\":{\"bgcolor\":\"white\",\"lakecolor\":\"white\",\"landcolor\":\"white\",\"showlakes\":true,\"showland\":true,\"subunitcolor\":\"#C8D4E3\"},\"hoverlabel\":{\"align\":\"left\"},\"hovermode\":\"closest\",\"mapbox\":{\"style\":\"light\"},\"paper_bgcolor\":\"white\",\"plot_bgcolor\":\"white\",\"polar\":{\"angularaxis\":{\"gridcolor\":\"#EBF0F8\",\"linecolor\":\"#EBF0F8\",\"ticks\":\"\"},\"bgcolor\":\"white\",\"radialaxis\":{\"gridcolor\":\"#EBF0F8\",\"linecolor\":\"#EBF0F8\",\"ticks\":\"\"}},\"scene\":{\"xaxis\":{\"backgroundcolor\":\"white\",\"gridcolor\":\"#DFE8F3\",\"gridwidth\":2,\"linecolor\":\"#EBF0F8\",\"showbackground\":true,\"ticks\":\"\",\"zerolinecolor\":\"#EBF0F8\"},\"yaxis\":{\"backgroundcolor\":\"white\",\"gridcolor\":\"#DFE8F3\",\"gridwidth\":2,\"linecolor\":\"#EBF0F8\",\"showbackground\":true,\"ticks\":\"\",\"zerolinecolor\":\"#EBF0F8\"},\"zaxis\":{\"backgroundcolor\":\"white\",\"gridcolor\":\"#DFE8F3\",\"gridwidth\":2,\"linecolor\":\"#EBF0F8\",\"showbackground\":true,\"ticks\":\"\",\"zerolinecolor\":\"#EBF0F8\"}},\"shapedefaults\":{\"line\":{\"color\":\"#2a3f5f\"}},\"ternary\":{\"aaxis\":{\"gridcolor\":\"#DFE8F3\",\"linecolor\":\"#A2B1C6\",\"ticks\":\"\"},\"baxis\":{\"gridcolor\":\"#DFE8F3\",\"linecolor\":\"#A2B1C6\",\"ticks\":\"\"},\"bgcolor\":\"white\",\"caxis\":{\"gridcolor\":\"#DFE8F3\",\"linecolor\":\"#A2B1C6\",\"ticks\":\"\"}},\"title\":{\"x\":0.05},\"xaxis\":{\"automargin\":true,\"gridcolor\":\"#EBF0F8\",\"linecolor\":\"#EBF0F8\",\"ticks\":\"\",\"title\":{\"standoff\":15},\"zerolinecolor\":\"#EBF0F8\",\"zerolinewidth\":2},\"yaxis\":{\"automargin\":true,\"gridcolor\":\"#EBF0F8\",\"linecolor\":\"#EBF0F8\",\"ticks\":\"\",\"title\":{\"standoff\":15},\"zerolinecolor\":\"#EBF0F8\",\"zerolinewidth\":2}}},\"xaxis\":{\"anchor\":\"y\",\"domain\":[0.0,1.0],\"title\":{\"text\":\"Ubicacion\"},\"categoryorder\":\"array\",\"categoryarray\":[\"DE\",\"GB\",\"US\",\"FR\",\"IN\",\"GR\",\"CA\",\"ES\"]},\"yaxis\":{\"anchor\":\"x\",\"domain\":[0.0,1.0],\"title\":{\"text\":\"Salario en USD\"}},\"legend\":{\"title\":{\"text\":\"Ubicacion\"},\"tracegroupgap\":0},\"title\":{\"text\":\"<b>Salario por Pais\"},\"boxmode\":\"overlay\"},                        {\"responsive\": true}                    ).then(function(){\n",
       "                            \n",
       "var gd = document.getElementById('19422d0a-9971-4b95-a334-d8ed47ab905f');\n",
       "var x = new MutationObserver(function (mutations, observer) {{\n",
       "        var display = window.getComputedStyle(gd).display;\n",
       "        if (!display || display === 'none') {{\n",
       "            console.log([gd, 'removed!']);\n",
       "            Plotly.purge(gd);\n",
       "            observer.disconnect();\n",
       "        }}\n",
       "}});\n",
       "\n",
       "// Listen for the removal of the full notebook cells\n",
       "var notebookContainer = gd.closest('#notebook-container');\n",
       "if (notebookContainer) {{\n",
       "    x.observe(notebookContainer, {childList: true});\n",
       "}}\n",
       "\n",
       "// Listen for the clearing of the current output cell\n",
       "var outputEl = gd.closest('.output');\n",
       "if (outputEl) {{\n",
       "    x.observe(outputEl, {childList: true});\n",
       "}}\n",
       "\n",
       "                        })                };                });            </script>        </div>"
      ]
     },
     "metadata": {},
     "output_type": "display_data"
    }
   ],
   "source": [
    "fig = px.box(temp_location, x=\"Ubicacion\", y=\"Salario en USD\", color=\"Ubicacion\",notched=True, points='all',title=\"<b>Salario por Pais\",hover_data=[\"Ubicacion\"], template='plotly_white')\n",
    "fig.show()"
   ]
  },
  {
   "cell_type": "markdown",
   "metadata": {},
   "source": [
    "Promedio de salarios por ubicacion,\n",
    "importa la libreria de country_converter"
   ]
  },
  {
   "cell_type": "code",
   "execution_count": 203,
   "metadata": {},
   "outputs": [],
   "source": [
    "import country_converter as coco\n",
    "\n",
    "country_names = coco.convert(names=data2['Ubicacion'], to=\"ISO3\")\n",
    "data2['Ubicacion'] = country_names"
   ]
  },
  {
   "cell_type": "code",
   "execution_count": 204,
   "metadata": {},
   "outputs": [
    {
     "data": {
      "application/vnd.plotly.v1+json": {
       "config": {
        "plotlyServerURL": "https://plot.ly"
       },
       "data": [
        {
         "coloraxis": "coloraxis",
         "geo": "geo",
         "hovertemplate": "Ubicacion=%{location}<br>Salario en USD=%{z}<extra></extra>",
         "locations": [
          "DEU",
          "JPN",
          "GBR",
          "HND",
          "USA",
          "USA",
          "USA",
          "HUN",
          "USA",
          "NZL",
          "FRA",
          "IND",
          "FRA",
          "USA",
          "USA",
          "PAK",
          "JPN",
          "GBR",
          "IND",
          "USA",
          "CHN",
          "IND",
          "GRC",
          "USA",
          "ARE",
          "USA",
          "NLD",
          "MEX",
          "USA",
          "CAN",
          "DEU",
          "USA",
          "USA",
          "FRA",
          "AUT",
          "USA",
          "USA",
          "NGA",
          "USA",
          "USA",
          "ESP",
          "PRT",
          "USA",
          "GBR",
          "DEU",
          "GBR",
          "USA",
          "USA",
          "FRA",
          "IND",
          "USA",
          "DNK",
          "DEU",
          "USA",
          "DEU",
          "ESP",
          "USA",
          "USA",
          "USA",
          "USA",
          "USA",
          "ITA",
          "HRV",
          "DEU",
          "DEU",
          "USA",
          "USA",
          "AUT",
          "LUX",
          "FRA",
          "GBR",
          "USA",
          "USA",
          "FRA",
          "USA",
          "IND",
          "USA",
          "USA",
          "DEU",
          "USA",
          "CAN",
          "ESP",
          "POL",
          "POL",
          "FRA",
          "USA",
          "USA",
          "USA",
          "DNK",
          "DEU",
          "IND",
          "USA",
          "IND",
          "SGP",
          "USA",
          "USA",
          "USA",
          "USA",
          "USA",
          "USA",
          "USA",
          "USA",
          "GBR",
          "CAN",
          "USA",
          "USA",
          "IND",
          "DEU",
          "GBR",
          "GBR",
          "USA",
          "NLD",
          "USA",
          "NGA",
          "GRC",
          "USA",
          "USA",
          "ROU",
          "USA",
          "USA",
          "GBR",
          "ESP",
          "USA",
          "USA",
          "IND",
          "IND",
          "IND",
          "IRQ",
          "FRA",
          "USA",
          "BRA",
          "USA",
          "USA",
          "JPN",
          "JPN",
          "USA",
          "USA",
          "USA",
          "USA",
          "USA",
          "USA",
          "USA",
          "BEL",
          "FRA",
          "USA",
          "USA",
          "USA",
          "JPN",
          "USA",
          "CAN",
          "UKR",
          "USA",
          "CAN",
          "ISR",
          "USA",
          "USA",
          "RUS",
          "RUS",
          "MLT",
          "DEU",
          "DEU",
          "USA",
          "USA",
          "USA",
          "USA",
          "USA",
          "USA",
          "GBR",
          "USA",
          "USA",
          "PRT",
          "USA",
          "MEX",
          "CHL",
          "USA",
          "USA",
          "IND",
          "DEU",
          "USA",
          "GBR",
          "PAK",
          "IRN",
          "GBR",
          "ESP",
          "GBR",
          "JPN",
          "FRA",
          "COL",
          "MDA",
          "USA",
          "CAN",
          "USA",
          "KEN",
          "IND",
          "USA",
          "USA",
          "AUT",
          "USA",
          "ESP",
          "USA",
          "USA",
          "BRA",
          "USA",
          "USA",
          "USA",
          "USA",
          "SVN",
          "FRA",
          "GBR",
          "CHE",
          "DEU",
          "USA",
          "DNK",
          "DEU",
          "BEL",
          "USA",
          "POL",
          "GBR",
          "IND",
          "GBR",
          "CAN",
          "CAN",
          "DEU",
          "USA",
          "CAN",
          "IND",
          "USA",
          "USA",
          "USA",
          "USA",
          "USA",
          "CAN",
          "ESP",
          "VNM",
          "IND",
          "CAN",
          "USA",
          "USA",
          "USA",
          "ASM",
          "GBR",
          "FRA",
          "TUR",
          "GBR",
          "USA",
          "USA",
          "USA",
          "IND",
          "USA",
          "CAN",
          "USA",
          "DEU",
          "USA",
          "DEU",
          "USA",
          "DEU",
          "IND",
          "IND",
          "DEU",
          "USA",
          "USA",
          "USA",
          "TUR",
          "DEU",
          "USA",
          "BRA",
          "DEU",
          "DEU",
          "FRA",
          "USA",
          "USA",
          "ESP",
          "TUR",
          "LUX",
          "USA",
          "CHN",
          "NLD",
          "USA",
          "CZE",
          "IND",
          "SVN",
          "USA",
          "ITA",
          "USA",
          "USA",
          "USA",
          "USA",
          "USA",
          "USA",
          "USA",
          "USA",
          "USA",
          "USA",
          "USA",
          "GBR",
          "GBR",
          "USA",
          "USA",
          "GBR",
          "USA",
          "USA",
          "USA",
          "USA",
          "USA",
          "USA",
          "GBR",
          "GBR",
          "GBR",
          "GBR",
          "USA",
          "GBR",
          "USA",
          "USA",
          "USA",
          "USA",
          "USA",
          "USA",
          "USA",
          "USA",
          "USA",
          "USA",
          "USA",
          "USA",
          "USA",
          "USA",
          "USA",
          "USA",
          "USA",
          "USA",
          "USA",
          "USA",
          "USA",
          "USA",
          "USA",
          "USA",
          "USA",
          "USA",
          "USA",
          "USA",
          "USA",
          "USA",
          "USA",
          "USA",
          "USA",
          "USA",
          "USA",
          "USA",
          "USA",
          "GBR",
          "GBR",
          "USA",
          "USA",
          "CAN",
          "CAN",
          "CAN",
          "CAN",
          "CAN",
          "CAN",
          "USA",
          "USA",
          "USA",
          "USA",
          "USA",
          "USA",
          "USA",
          "USA",
          "USA",
          "GRC",
          "GRC",
          "CAN",
          "USA",
          "USA",
          "USA",
          "USA",
          "USA",
          "USA",
          "USA",
          "USA",
          "IND",
          "USA",
          "GBR",
          "USA",
          "USA",
          "GBR",
          "GBR",
          "USA",
          "USA",
          "USA",
          "USA",
          "USA",
          "DEU",
          "GBR",
          "USA",
          "USA",
          "USA",
          "USA",
          "USA",
          "USA",
          "USA",
          "GBR",
          "USA",
          "USA",
          "GBR",
          "USA",
          "GBR",
          "GBR",
          "GRC",
          "GRC",
          "GBR",
          "GBR",
          "USA",
          "MEX",
          "USA",
          "USA",
          "USA",
          "USA",
          "USA",
          "USA",
          "USA",
          "USA",
          "USA",
          "ESP",
          "USA",
          "GBR",
          "ESP",
          "ESP",
          "ESP",
          "ESP",
          "GBR",
          "GBR",
          "ESP",
          "GRC",
          "USA",
          "USA",
          "GRC",
          "GRC",
          "GBR",
          "GBR",
          "USA",
          "GRC",
          "USA",
          "USA",
          "USA",
          "PRT",
          "USA",
          "CAN",
          "CAN",
          "USA",
          "USA",
          "USA",
          "USA",
          "DEU",
          "IND",
          "IND",
          "PRT",
          "USA",
          "DEU",
          "IND",
          "DEU",
          "USA",
          "USA",
          "USA",
          "USA",
          "USA",
          "USA",
          "USA",
          "USA",
          "USA",
          "GBR",
          "GBR",
          "USA",
          "USA",
          "USA",
          "USA",
          "ARE",
          "ARE",
          "USA",
          "USA",
          "USA",
          "USA",
          "USA",
          "DZA",
          "USA",
          "CZE",
          "USA",
          "CAN",
          "POL",
          "CAN",
          "USA",
          "USA",
          "DEU",
          "USA",
          "FRA",
          "CAN",
          "NLD",
          "EST",
          "MYS",
          "AUS",
          "USA",
          "AUS",
          "USA",
          "AUT",
          "USA",
          "USA",
          "AUS",
          "CAN",
          "USA",
          "IRL",
          "PAK",
          "USA",
          "USA",
          "FRA",
          "CHE",
          "USA",
          "CAN",
          "LUX",
          "GRC",
          "USA",
          "USA",
          "USA",
          "USA",
          "USA",
          "USA",
          "CAN",
          "CAN",
          "USA",
          "USA",
          "USA",
          "USA",
          "USA",
          "USA",
          "USA",
          "USA",
          "USA",
          "USA",
          "USA",
          "USA",
          "USA",
          "USA",
          "USA",
          "USA",
          "USA",
          "USA",
          "USA",
          "USA",
          "USA",
          "USA",
          "USA",
          "USA",
          "USA",
          "USA",
          "USA",
          "USA",
          "USA",
          "USA",
          "USA",
          "USA",
          "USA",
          "USA",
          "USA",
          "GBR",
          "USA",
          "USA",
          "USA",
          "USA",
          "USA",
          "USA",
          "USA",
          "USA",
          "USA",
          "USA",
          "USA",
          "USA",
          "USA",
          "USA",
          "USA",
          "USA",
          "USA",
          "USA",
          "GBR",
          "USA",
          "USA",
          "USA",
          "USA",
          "USA",
          "USA",
          "USA",
          "USA",
          "USA",
          "USA",
          "USA",
          "USA",
          "USA",
          "CAN",
          "CAN",
          "USA",
          "USA",
          "USA",
          "USA",
          "USA"
         ],
         "name": "",
         "type": "choropleth",
         "z": [
          79833,
          260000,
          109024,
          20000,
          150000,
          72000,
          190000,
          35735,
          135000,
          125000,
          51321,
          40481,
          39916,
          87000,
          85000,
          8000,
          41689,
          114047,
          5707,
          56000,
          43331,
          6072,
          47899,
          98000,
          115000,
          325000,
          42000,
          33511,
          100000,
          117104,
          59303,
          70000,
          68428,
          46759,
          74130,
          103000,
          250000,
          10000,
          138000,
          45760,
          79833,
          50180,
          106000,
          112872,
          15966,
          76958,
          188000,
          105000,
          70139,
          6072,
          91000,
          45896,
          54742,
          60000,
          148261,
          38776,
          118000,
          120000,
          138350,
          110000,
          130800,
          21669,
          45618,
          62726,
          49268,
          190200,
          105000,
          91237,
          62726,
          42197,
          82528,
          150000,
          235000,
          53192,
          100000,
          5409,
          270000,
          80000,
          79197,
          140000,
          54238,
          47282,
          153667,
          28476,
          59102,
          110000,
          170000,
          80000,
          88654,
          76833,
          19609,
          276000,
          29751,
          89294,
          12000,
          70000,
          95746,
          75000,
          150000,
          36259,
          62000,
          73000,
          51519,
          187442,
          115000,
          150000,
          30428,
          94564,
          113476,
          103160,
          12000,
          45391,
          225000,
          50000,
          40189,
          90000,
          200000,
          60000,
          200000,
          50000,
          110037,
          10354,
          151000,
          120000,
          9466,
          20000,
          40570,
          100000,
          49646,
          38400,
          24000,
          100000,
          90000,
          63711,
          77364,
          220000,
          80000,
          135000,
          240000,
          150000,
          82500,
          100000,
          82744,
          62649,
          90000,
          153000,
          160000,
          168000,
          150000,
          75774,
          13400,
          144000,
          127221,
          119059,
          120000,
          125000,
          230000,
          85000,
          28369,
          63831,
          130026,
          165000,
          80000,
          250000,
          55000,
          150000,
          170000,
          82528,
          60000,
          235000,
          60757,
          174000,
          2859,
          40038,
          81000,
          5679,
          22611,
          90734,
          26005,
          61896,
          12000,
          4000,
          50000,
          69741,
          76833,
          74000,
          152000,
          21844,
          18000,
          174000,
          96113,
          147000,
          9272,
          24342,
          54094,
          90000,
          61467,
          195000,
          37825,
          50000,
          160000,
          12901,
          200000,
          165000,
          20000,
          120000,
          24823,
          56738,
          66022,
          5882,
          24823,
          185000,
          28609,
          90734,
          88654,
          140000,
          46597,
          116914,
          33808,
          56256,
          225000,
          87738,
          88654,
          135000,
          71786,
          16228,
          256000,
          200000,
          200000,
          180000,
          110000,
          63810,
          46809,
          4000,
          21637,
          103691,
          80000,
          110000,
          165000,
          18053,
          72212,
          36643,
          12103,
          96282,
          170000,
          115000,
          90000,
          28399,
          93000,
          99703,
          200000,
          173762,
          185000,
          141846,
          130000,
          63831,
          16904,
          66265,
          25532,
          160000,
          93150,
          111775,
          28016,
          65013,
          72500,
          18907,
          76833,
          85000,
          77684,
          100000,
          58000,
          55000,
          20171,
          59102,
          112000,
          100000,
          69741,
          105000,
          69999,
          94665,
          102839,
          109000,
          51064,
          135000,
          155000,
          120600,
          130000,
          90000,
          170000,
          150000,
          102100,
          84900,
          136620,
          99360,
          117789,
          104702,
          146000,
          123000,
          52351,
          99000,
          116000,
          106260,
          126500,
          242000,
          200000,
          65438,
          39263,
          78526,
          52351,
          165220,
          45807,
          120160,
          90320,
          181940,
          132320,
          220110,
          160080,
          180000,
          120000,
          124190,
          130000,
          110000,
          170000,
          115500,
          112900,
          90320,
          112900,
          90320,
          165400,
          132320,
          167000,
          243900,
          136600,
          109280,
          128875,
          93700,
          224000,
          167875,
          175000,
          156600,
          108800,
          95550,
          113000,
          135000,
          161342,
          137141,
          167000,
          123000,
          78526,
          65438,
          150000,
          211500,
          192400,
          90700,
          130000,
          61300,
          130000,
          61300,
          160000,
          138600,
          136000,
          58000,
          135000,
          170000,
          123000,
          189650,
          164996,
          54957,
          54957,
          118187,
          132000,
          165400,
          208775,
          147800,
          136994,
          101570,
          128875,
          93700,
          79039,
          132320,
          37300,
          164000,
          155000,
          124333,
          98158,
          120000,
          112900,
          90320,
          145000,
          105400,
          87932,
          117789,
          215300,
          158200,
          209100,
          154600,
          115934,
          81666,
          175000,
          98158,
          58000,
          183600,
          52351,
          180000,
          71982,
          45807,
          65949,
          49461,
          78526,
          58894,
          260000,
          60000,
          63900,
          160000,
          112300,
          241000,
          159000,
          180000,
          80000,
          82900,
          100800,
          49461,
          140400,
          39263,
          43966,
          32974,
          87932,
          76940,
          104702,
          91614,
          65949,
          87932,
          189650,
          164996,
          43966,
          32974,
          98158,
          78526,
          215300,
          76940,
          209100,
          154600,
          180000,
          21983,
          80000,
          78791,
          196979,
          120000,
          125000,
          37236,
          105000,
          87932,
          18442,
          31615,
          58255,
          100000,
          54957,
          18442,
          162674,
          120000,
          144000,
          104890,
          100000,
          140000,
          135000,
          50000,
          220000,
          140000,
          183228,
          91614,
          185100,
          220000,
          200000,
          120000,
          120000,
          65000,
          324000,
          216000,
          210000,
          120000,
          230000,
          100000,
          100000,
          31875,
          200000,
          75000,
          35590,
          78791,
          100000,
          153000,
          58035,
          165000,
          93427,
          52396,
          62651,
          32974,
          40000,
          87425,
          115000,
          86703,
          75000,
          64849,
          120000,
          157000,
          150000,
          70912,
          65000,
          71444,
          20000,
          48000,
          152500,
          68147,
          122346,
          380000,
          69336,
          10000,
          20000,
          135000,
          177000,
          78000,
          135000,
          100000,
          90320,
          85000,
          75000,
          214000,
          192600,
          266400,
          213120,
          112900,
          155000,
          141300,
          102100,
          115934,
          81666,
          206699,
          99100,
          130000,
          115000,
          110500,
          130000,
          99050,
          160000,
          205300,
          140400,
          176000,
          144000,
          200100,
          160000,
          145000,
          70500,
          205300,
          140400,
          205300,
          184700,
          175100,
          140250,
          116150,
          54000,
          170000,
          65438,
          80000,
          140000,
          210000,
          140000,
          100000,
          69000,
          210000,
          140000,
          210000,
          150075,
          100000,
          25000,
          126500,
          106260,
          220110,
          160080,
          105000,
          110925,
          45807,
          140000,
          99000,
          60000,
          192564,
          144854,
          230000,
          150000,
          150260,
          109280,
          210000,
          170000,
          160000,
          130000,
          67000,
          52000,
          154000,
          126000,
          129000,
          150000,
          200000
         ]
        }
       ],
       "layout": {
        "coloraxis": {
         "colorbar": {
          "title": {
           "text": "Salario en USD"
          }
         },
         "colorscale": [
          [
           0,
           "rgb(103,0,31)"
          ],
          [
           0.1,
           "rgb(178,24,43)"
          ],
          [
           0.2,
           "rgb(214,96,77)"
          ],
          [
           0.3,
           "rgb(244,165,130)"
          ],
          [
           0.4,
           "rgb(253,219,199)"
          ],
          [
           0.5,
           "rgb(247,247,247)"
          ],
          [
           0.6,
           "rgb(209,229,240)"
          ],
          [
           0.7,
           "rgb(146,197,222)"
          ],
          [
           0.8,
           "rgb(67,147,195)"
          ],
          [
           0.9,
           "rgb(33,102,172)"
          ],
          [
           1,
           "rgb(5,48,97)"
          ]
         ]
        },
        "font": {
         "family": "Rubik",
         "size": 18
        },
        "geo": {
         "center": {},
         "domain": {
          "x": [
           0,
           1
          ],
          "y": [
           0,
           1
          ]
         }
        },
        "legend": {
         "tracegroupgap": 0
        },
        "margin": {
         "t": 60
        },
        "template": {
         "data": {
          "bar": [
           {
            "error_x": {
             "color": "#2a3f5f"
            },
            "error_y": {
             "color": "#2a3f5f"
            },
            "marker": {
             "line": {
              "color": "#E5ECF6",
              "width": 0.5
             },
             "pattern": {
              "fillmode": "overlay",
              "size": 10,
              "solidity": 0.2
             }
            },
            "type": "bar"
           }
          ],
          "barpolar": [
           {
            "marker": {
             "line": {
              "color": "#E5ECF6",
              "width": 0.5
             },
             "pattern": {
              "fillmode": "overlay",
              "size": 10,
              "solidity": 0.2
             }
            },
            "type": "barpolar"
           }
          ],
          "carpet": [
           {
            "aaxis": {
             "endlinecolor": "#2a3f5f",
             "gridcolor": "white",
             "linecolor": "white",
             "minorgridcolor": "white",
             "startlinecolor": "#2a3f5f"
            },
            "baxis": {
             "endlinecolor": "#2a3f5f",
             "gridcolor": "white",
             "linecolor": "white",
             "minorgridcolor": "white",
             "startlinecolor": "#2a3f5f"
            },
            "type": "carpet"
           }
          ],
          "choropleth": [
           {
            "colorbar": {
             "outlinewidth": 0,
             "ticks": ""
            },
            "type": "choropleth"
           }
          ],
          "contour": [
           {
            "colorbar": {
             "outlinewidth": 0,
             "ticks": ""
            },
            "colorscale": [
             [
              0,
              "#0d0887"
             ],
             [
              0.1111111111111111,
              "#46039f"
             ],
             [
              0.2222222222222222,
              "#7201a8"
             ],
             [
              0.3333333333333333,
              "#9c179e"
             ],
             [
              0.4444444444444444,
              "#bd3786"
             ],
             [
              0.5555555555555556,
              "#d8576b"
             ],
             [
              0.6666666666666666,
              "#ed7953"
             ],
             [
              0.7777777777777778,
              "#fb9f3a"
             ],
             [
              0.8888888888888888,
              "#fdca26"
             ],
             [
              1,
              "#f0f921"
             ]
            ],
            "type": "contour"
           }
          ],
          "contourcarpet": [
           {
            "colorbar": {
             "outlinewidth": 0,
             "ticks": ""
            },
            "type": "contourcarpet"
           }
          ],
          "heatmap": [
           {
            "colorbar": {
             "outlinewidth": 0,
             "ticks": ""
            },
            "colorscale": [
             [
              0,
              "#0d0887"
             ],
             [
              0.1111111111111111,
              "#46039f"
             ],
             [
              0.2222222222222222,
              "#7201a8"
             ],
             [
              0.3333333333333333,
              "#9c179e"
             ],
             [
              0.4444444444444444,
              "#bd3786"
             ],
             [
              0.5555555555555556,
              "#d8576b"
             ],
             [
              0.6666666666666666,
              "#ed7953"
             ],
             [
              0.7777777777777778,
              "#fb9f3a"
             ],
             [
              0.8888888888888888,
              "#fdca26"
             ],
             [
              1,
              "#f0f921"
             ]
            ],
            "type": "heatmap"
           }
          ],
          "heatmapgl": [
           {
            "colorbar": {
             "outlinewidth": 0,
             "ticks": ""
            },
            "colorscale": [
             [
              0,
              "#0d0887"
             ],
             [
              0.1111111111111111,
              "#46039f"
             ],
             [
              0.2222222222222222,
              "#7201a8"
             ],
             [
              0.3333333333333333,
              "#9c179e"
             ],
             [
              0.4444444444444444,
              "#bd3786"
             ],
             [
              0.5555555555555556,
              "#d8576b"
             ],
             [
              0.6666666666666666,
              "#ed7953"
             ],
             [
              0.7777777777777778,
              "#fb9f3a"
             ],
             [
              0.8888888888888888,
              "#fdca26"
             ],
             [
              1,
              "#f0f921"
             ]
            ],
            "type": "heatmapgl"
           }
          ],
          "histogram": [
           {
            "marker": {
             "pattern": {
              "fillmode": "overlay",
              "size": 10,
              "solidity": 0.2
             }
            },
            "type": "histogram"
           }
          ],
          "histogram2d": [
           {
            "colorbar": {
             "outlinewidth": 0,
             "ticks": ""
            },
            "colorscale": [
             [
              0,
              "#0d0887"
             ],
             [
              0.1111111111111111,
              "#46039f"
             ],
             [
              0.2222222222222222,
              "#7201a8"
             ],
             [
              0.3333333333333333,
              "#9c179e"
             ],
             [
              0.4444444444444444,
              "#bd3786"
             ],
             [
              0.5555555555555556,
              "#d8576b"
             ],
             [
              0.6666666666666666,
              "#ed7953"
             ],
             [
              0.7777777777777778,
              "#fb9f3a"
             ],
             [
              0.8888888888888888,
              "#fdca26"
             ],
             [
              1,
              "#f0f921"
             ]
            ],
            "type": "histogram2d"
           }
          ],
          "histogram2dcontour": [
           {
            "colorbar": {
             "outlinewidth": 0,
             "ticks": ""
            },
            "colorscale": [
             [
              0,
              "#0d0887"
             ],
             [
              0.1111111111111111,
              "#46039f"
             ],
             [
              0.2222222222222222,
              "#7201a8"
             ],
             [
              0.3333333333333333,
              "#9c179e"
             ],
             [
              0.4444444444444444,
              "#bd3786"
             ],
             [
              0.5555555555555556,
              "#d8576b"
             ],
             [
              0.6666666666666666,
              "#ed7953"
             ],
             [
              0.7777777777777778,
              "#fb9f3a"
             ],
             [
              0.8888888888888888,
              "#fdca26"
             ],
             [
              1,
              "#f0f921"
             ]
            ],
            "type": "histogram2dcontour"
           }
          ],
          "mesh3d": [
           {
            "colorbar": {
             "outlinewidth": 0,
             "ticks": ""
            },
            "type": "mesh3d"
           }
          ],
          "parcoords": [
           {
            "line": {
             "colorbar": {
              "outlinewidth": 0,
              "ticks": ""
             }
            },
            "type": "parcoords"
           }
          ],
          "pie": [
           {
            "automargin": true,
            "type": "pie"
           }
          ],
          "scatter": [
           {
            "fillpattern": {
             "fillmode": "overlay",
             "size": 10,
             "solidity": 0.2
            },
            "type": "scatter"
           }
          ],
          "scatter3d": [
           {
            "line": {
             "colorbar": {
              "outlinewidth": 0,
              "ticks": ""
             }
            },
            "marker": {
             "colorbar": {
              "outlinewidth": 0,
              "ticks": ""
             }
            },
            "type": "scatter3d"
           }
          ],
          "scattercarpet": [
           {
            "marker": {
             "colorbar": {
              "outlinewidth": 0,
              "ticks": ""
             }
            },
            "type": "scattercarpet"
           }
          ],
          "scattergeo": [
           {
            "marker": {
             "colorbar": {
              "outlinewidth": 0,
              "ticks": ""
             }
            },
            "type": "scattergeo"
           }
          ],
          "scattergl": [
           {
            "marker": {
             "colorbar": {
              "outlinewidth": 0,
              "ticks": ""
             }
            },
            "type": "scattergl"
           }
          ],
          "scattermapbox": [
           {
            "marker": {
             "colorbar": {
              "outlinewidth": 0,
              "ticks": ""
             }
            },
            "type": "scattermapbox"
           }
          ],
          "scatterpolar": [
           {
            "marker": {
             "colorbar": {
              "outlinewidth": 0,
              "ticks": ""
             }
            },
            "type": "scatterpolar"
           }
          ],
          "scatterpolargl": [
           {
            "marker": {
             "colorbar": {
              "outlinewidth": 0,
              "ticks": ""
             }
            },
            "type": "scatterpolargl"
           }
          ],
          "scatterternary": [
           {
            "marker": {
             "colorbar": {
              "outlinewidth": 0,
              "ticks": ""
             }
            },
            "type": "scatterternary"
           }
          ],
          "surface": [
           {
            "colorbar": {
             "outlinewidth": 0,
             "ticks": ""
            },
            "colorscale": [
             [
              0,
              "#0d0887"
             ],
             [
              0.1111111111111111,
              "#46039f"
             ],
             [
              0.2222222222222222,
              "#7201a8"
             ],
             [
              0.3333333333333333,
              "#9c179e"
             ],
             [
              0.4444444444444444,
              "#bd3786"
             ],
             [
              0.5555555555555556,
              "#d8576b"
             ],
             [
              0.6666666666666666,
              "#ed7953"
             ],
             [
              0.7777777777777778,
              "#fb9f3a"
             ],
             [
              0.8888888888888888,
              "#fdca26"
             ],
             [
              1,
              "#f0f921"
             ]
            ],
            "type": "surface"
           }
          ],
          "table": [
           {
            "cells": {
             "fill": {
              "color": "#EBF0F8"
             },
             "line": {
              "color": "white"
             }
            },
            "header": {
             "fill": {
              "color": "#C8D4E3"
             },
             "line": {
              "color": "white"
             }
            },
            "type": "table"
           }
          ]
         },
         "layout": {
          "annotationdefaults": {
           "arrowcolor": "#2a3f5f",
           "arrowhead": 0,
           "arrowwidth": 1
          },
          "autotypenumbers": "strict",
          "coloraxis": {
           "colorbar": {
            "outlinewidth": 0,
            "ticks": ""
           }
          },
          "colorscale": {
           "diverging": [
            [
             0,
             "#8e0152"
            ],
            [
             0.1,
             "#c51b7d"
            ],
            [
             0.2,
             "#de77ae"
            ],
            [
             0.3,
             "#f1b6da"
            ],
            [
             0.4,
             "#fde0ef"
            ],
            [
             0.5,
             "#f7f7f7"
            ],
            [
             0.6,
             "#e6f5d0"
            ],
            [
             0.7,
             "#b8e186"
            ],
            [
             0.8,
             "#7fbc41"
            ],
            [
             0.9,
             "#4d9221"
            ],
            [
             1,
             "#276419"
            ]
           ],
           "sequential": [
            [
             0,
             "#0d0887"
            ],
            [
             0.1111111111111111,
             "#46039f"
            ],
            [
             0.2222222222222222,
             "#7201a8"
            ],
            [
             0.3333333333333333,
             "#9c179e"
            ],
            [
             0.4444444444444444,
             "#bd3786"
            ],
            [
             0.5555555555555556,
             "#d8576b"
            ],
            [
             0.6666666666666666,
             "#ed7953"
            ],
            [
             0.7777777777777778,
             "#fb9f3a"
            ],
            [
             0.8888888888888888,
             "#fdca26"
            ],
            [
             1,
             "#f0f921"
            ]
           ],
           "sequentialminus": [
            [
             0,
             "#0d0887"
            ],
            [
             0.1111111111111111,
             "#46039f"
            ],
            [
             0.2222222222222222,
             "#7201a8"
            ],
            [
             0.3333333333333333,
             "#9c179e"
            ],
            [
             0.4444444444444444,
             "#bd3786"
            ],
            [
             0.5555555555555556,
             "#d8576b"
            ],
            [
             0.6666666666666666,
             "#ed7953"
            ],
            [
             0.7777777777777778,
             "#fb9f3a"
            ],
            [
             0.8888888888888888,
             "#fdca26"
            ],
            [
             1,
             "#f0f921"
            ]
           ]
          },
          "colorway": [
           "#636efa",
           "#EF553B",
           "#00cc96",
           "#ab63fa",
           "#FFA15A",
           "#19d3f3",
           "#FF6692",
           "#B6E880",
           "#FF97FF",
           "#FECB52"
          ],
          "font": {
           "color": "#2a3f5f"
          },
          "geo": {
           "bgcolor": "white",
           "lakecolor": "white",
           "landcolor": "#E5ECF6",
           "showlakes": true,
           "showland": true,
           "subunitcolor": "white"
          },
          "hoverlabel": {
           "align": "left"
          },
          "hovermode": "closest",
          "mapbox": {
           "style": "light"
          },
          "paper_bgcolor": "white",
          "plot_bgcolor": "#E5ECF6",
          "polar": {
           "angularaxis": {
            "gridcolor": "white",
            "linecolor": "white",
            "ticks": ""
           },
           "bgcolor": "#E5ECF6",
           "radialaxis": {
            "gridcolor": "white",
            "linecolor": "white",
            "ticks": ""
           }
          },
          "scene": {
           "xaxis": {
            "backgroundcolor": "#E5ECF6",
            "gridcolor": "white",
            "gridwidth": 2,
            "linecolor": "white",
            "showbackground": true,
            "ticks": "",
            "zerolinecolor": "white"
           },
           "yaxis": {
            "backgroundcolor": "#E5ECF6",
            "gridcolor": "white",
            "gridwidth": 2,
            "linecolor": "white",
            "showbackground": true,
            "ticks": "",
            "zerolinecolor": "white"
           },
           "zaxis": {
            "backgroundcolor": "#E5ECF6",
            "gridcolor": "white",
            "gridwidth": 2,
            "linecolor": "white",
            "showbackground": true,
            "ticks": "",
            "zerolinecolor": "white"
           }
          },
          "shapedefaults": {
           "line": {
            "color": "#2a3f5f"
           }
          },
          "ternary": {
           "aaxis": {
            "gridcolor": "white",
            "linecolor": "white",
            "ticks": ""
           },
           "baxis": {
            "gridcolor": "white",
            "linecolor": "white",
            "ticks": ""
           },
           "bgcolor": "#E5ECF6",
           "caxis": {
            "gridcolor": "white",
            "linecolor": "white",
            "ticks": ""
           }
          },
          "title": {
           "x": 0.05
          },
          "xaxis": {
           "automargin": true,
           "gridcolor": "white",
           "linecolor": "white",
           "ticks": "",
           "title": {
            "standoff": 15
           },
           "zerolinecolor": "white",
           "zerolinewidth": 2
          },
          "yaxis": {
           "automargin": true,
           "gridcolor": "white",
           "linecolor": "white",
           "ticks": "",
           "title": {
            "standoff": 15
           },
           "zerolinecolor": "white",
           "zerolinewidth": 2
          }
         }
        },
        "title": {
         "text": "Salario promedio por Ubicacion",
         "x": 0.5
        }
       }
      },
      "text/html": [
       "<div>                            <div id=\"9036515d-4492-42d5-bc86-b1d2fba93189\" class=\"plotly-graph-div\" style=\"height:525px; width:100%;\"></div>            <script type=\"text/javascript\">                require([\"plotly\"], function(Plotly) {                    window.PLOTLYENV=window.PLOTLYENV || {};                                    if (document.getElementById(\"9036515d-4492-42d5-bc86-b1d2fba93189\")) {                    Plotly.newPlot(                        \"9036515d-4492-42d5-bc86-b1d2fba93189\",                        [{\"coloraxis\":\"coloraxis\",\"geo\":\"geo\",\"hovertemplate\":\"Ubicacion=%{location}<br>Salario en USD=%{z}<extra></extra>\",\"locations\":[\"DEU\",\"JPN\",\"GBR\",\"HND\",\"USA\",\"USA\",\"USA\",\"HUN\",\"USA\",\"NZL\",\"FRA\",\"IND\",\"FRA\",\"USA\",\"USA\",\"PAK\",\"JPN\",\"GBR\",\"IND\",\"USA\",\"CHN\",\"IND\",\"GRC\",\"USA\",\"ARE\",\"USA\",\"NLD\",\"MEX\",\"USA\",\"CAN\",\"DEU\",\"USA\",\"USA\",\"FRA\",\"AUT\",\"USA\",\"USA\",\"NGA\",\"USA\",\"USA\",\"ESP\",\"PRT\",\"USA\",\"GBR\",\"DEU\",\"GBR\",\"USA\",\"USA\",\"FRA\",\"IND\",\"USA\",\"DNK\",\"DEU\",\"USA\",\"DEU\",\"ESP\",\"USA\",\"USA\",\"USA\",\"USA\",\"USA\",\"ITA\",\"HRV\",\"DEU\",\"DEU\",\"USA\",\"USA\",\"AUT\",\"LUX\",\"FRA\",\"GBR\",\"USA\",\"USA\",\"FRA\",\"USA\",\"IND\",\"USA\",\"USA\",\"DEU\",\"USA\",\"CAN\",\"ESP\",\"POL\",\"POL\",\"FRA\",\"USA\",\"USA\",\"USA\",\"DNK\",\"DEU\",\"IND\",\"USA\",\"IND\",\"SGP\",\"USA\",\"USA\",\"USA\",\"USA\",\"USA\",\"USA\",\"USA\",\"USA\",\"GBR\",\"CAN\",\"USA\",\"USA\",\"IND\",\"DEU\",\"GBR\",\"GBR\",\"USA\",\"NLD\",\"USA\",\"NGA\",\"GRC\",\"USA\",\"USA\",\"ROU\",\"USA\",\"USA\",\"GBR\",\"ESP\",\"USA\",\"USA\",\"IND\",\"IND\",\"IND\",\"IRQ\",\"FRA\",\"USA\",\"BRA\",\"USA\",\"USA\",\"JPN\",\"JPN\",\"USA\",\"USA\",\"USA\",\"USA\",\"USA\",\"USA\",\"USA\",\"BEL\",\"FRA\",\"USA\",\"USA\",\"USA\",\"JPN\",\"USA\",\"CAN\",\"UKR\",\"USA\",\"CAN\",\"ISR\",\"USA\",\"USA\",\"RUS\",\"RUS\",\"MLT\",\"DEU\",\"DEU\",\"USA\",\"USA\",\"USA\",\"USA\",\"USA\",\"USA\",\"GBR\",\"USA\",\"USA\",\"PRT\",\"USA\",\"MEX\",\"CHL\",\"USA\",\"USA\",\"IND\",\"DEU\",\"USA\",\"GBR\",\"PAK\",\"IRN\",\"GBR\",\"ESP\",\"GBR\",\"JPN\",\"FRA\",\"COL\",\"MDA\",\"USA\",\"CAN\",\"USA\",\"KEN\",\"IND\",\"USA\",\"USA\",\"AUT\",\"USA\",\"ESP\",\"USA\",\"USA\",\"BRA\",\"USA\",\"USA\",\"USA\",\"USA\",\"SVN\",\"FRA\",\"GBR\",\"CHE\",\"DEU\",\"USA\",\"DNK\",\"DEU\",\"BEL\",\"USA\",\"POL\",\"GBR\",\"IND\",\"GBR\",\"CAN\",\"CAN\",\"DEU\",\"USA\",\"CAN\",\"IND\",\"USA\",\"USA\",\"USA\",\"USA\",\"USA\",\"CAN\",\"ESP\",\"VNM\",\"IND\",\"CAN\",\"USA\",\"USA\",\"USA\",\"ASM\",\"GBR\",\"FRA\",\"TUR\",\"GBR\",\"USA\",\"USA\",\"USA\",\"IND\",\"USA\",\"CAN\",\"USA\",\"DEU\",\"USA\",\"DEU\",\"USA\",\"DEU\",\"IND\",\"IND\",\"DEU\",\"USA\",\"USA\",\"USA\",\"TUR\",\"DEU\",\"USA\",\"BRA\",\"DEU\",\"DEU\",\"FRA\",\"USA\",\"USA\",\"ESP\",\"TUR\",\"LUX\",\"USA\",\"CHN\",\"NLD\",\"USA\",\"CZE\",\"IND\",\"SVN\",\"USA\",\"ITA\",\"USA\",\"USA\",\"USA\",\"USA\",\"USA\",\"USA\",\"USA\",\"USA\",\"USA\",\"USA\",\"USA\",\"GBR\",\"GBR\",\"USA\",\"USA\",\"GBR\",\"USA\",\"USA\",\"USA\",\"USA\",\"USA\",\"USA\",\"GBR\",\"GBR\",\"GBR\",\"GBR\",\"USA\",\"GBR\",\"USA\",\"USA\",\"USA\",\"USA\",\"USA\",\"USA\",\"USA\",\"USA\",\"USA\",\"USA\",\"USA\",\"USA\",\"USA\",\"USA\",\"USA\",\"USA\",\"USA\",\"USA\",\"USA\",\"USA\",\"USA\",\"USA\",\"USA\",\"USA\",\"USA\",\"USA\",\"USA\",\"USA\",\"USA\",\"USA\",\"USA\",\"USA\",\"USA\",\"USA\",\"USA\",\"USA\",\"USA\",\"GBR\",\"GBR\",\"USA\",\"USA\",\"CAN\",\"CAN\",\"CAN\",\"CAN\",\"CAN\",\"CAN\",\"USA\",\"USA\",\"USA\",\"USA\",\"USA\",\"USA\",\"USA\",\"USA\",\"USA\",\"GRC\",\"GRC\",\"CAN\",\"USA\",\"USA\",\"USA\",\"USA\",\"USA\",\"USA\",\"USA\",\"USA\",\"IND\",\"USA\",\"GBR\",\"USA\",\"USA\",\"GBR\",\"GBR\",\"USA\",\"USA\",\"USA\",\"USA\",\"USA\",\"DEU\",\"GBR\",\"USA\",\"USA\",\"USA\",\"USA\",\"USA\",\"USA\",\"USA\",\"GBR\",\"USA\",\"USA\",\"GBR\",\"USA\",\"GBR\",\"GBR\",\"GRC\",\"GRC\",\"GBR\",\"GBR\",\"USA\",\"MEX\",\"USA\",\"USA\",\"USA\",\"USA\",\"USA\",\"USA\",\"USA\",\"USA\",\"USA\",\"ESP\",\"USA\",\"GBR\",\"ESP\",\"ESP\",\"ESP\",\"ESP\",\"GBR\",\"GBR\",\"ESP\",\"GRC\",\"USA\",\"USA\",\"GRC\",\"GRC\",\"GBR\",\"GBR\",\"USA\",\"GRC\",\"USA\",\"USA\",\"USA\",\"PRT\",\"USA\",\"CAN\",\"CAN\",\"USA\",\"USA\",\"USA\",\"USA\",\"DEU\",\"IND\",\"IND\",\"PRT\",\"USA\",\"DEU\",\"IND\",\"DEU\",\"USA\",\"USA\",\"USA\",\"USA\",\"USA\",\"USA\",\"USA\",\"USA\",\"USA\",\"GBR\",\"GBR\",\"USA\",\"USA\",\"USA\",\"USA\",\"ARE\",\"ARE\",\"USA\",\"USA\",\"USA\",\"USA\",\"USA\",\"DZA\",\"USA\",\"CZE\",\"USA\",\"CAN\",\"POL\",\"CAN\",\"USA\",\"USA\",\"DEU\",\"USA\",\"FRA\",\"CAN\",\"NLD\",\"EST\",\"MYS\",\"AUS\",\"USA\",\"AUS\",\"USA\",\"AUT\",\"USA\",\"USA\",\"AUS\",\"CAN\",\"USA\",\"IRL\",\"PAK\",\"USA\",\"USA\",\"FRA\",\"CHE\",\"USA\",\"CAN\",\"LUX\",\"GRC\",\"USA\",\"USA\",\"USA\",\"USA\",\"USA\",\"USA\",\"CAN\",\"CAN\",\"USA\",\"USA\",\"USA\",\"USA\",\"USA\",\"USA\",\"USA\",\"USA\",\"USA\",\"USA\",\"USA\",\"USA\",\"USA\",\"USA\",\"USA\",\"USA\",\"USA\",\"USA\",\"USA\",\"USA\",\"USA\",\"USA\",\"USA\",\"USA\",\"USA\",\"USA\",\"USA\",\"USA\",\"USA\",\"USA\",\"USA\",\"USA\",\"USA\",\"USA\",\"USA\",\"GBR\",\"USA\",\"USA\",\"USA\",\"USA\",\"USA\",\"USA\",\"USA\",\"USA\",\"USA\",\"USA\",\"USA\",\"USA\",\"USA\",\"USA\",\"USA\",\"USA\",\"USA\",\"USA\",\"GBR\",\"USA\",\"USA\",\"USA\",\"USA\",\"USA\",\"USA\",\"USA\",\"USA\",\"USA\",\"USA\",\"USA\",\"USA\",\"USA\",\"CAN\",\"CAN\",\"USA\",\"USA\",\"USA\",\"USA\",\"USA\"],\"name\":\"\",\"z\":[79833,260000,109024,20000,150000,72000,190000,35735,135000,125000,51321,40481,39916,87000,85000,8000,41689,114047,5707,56000,43331,6072,47899,98000,115000,325000,42000,33511,100000,117104,59303,70000,68428,46759,74130,103000,250000,10000,138000,45760,79833,50180,106000,112872,15966,76958,188000,105000,70139,6072,91000,45896,54742,60000,148261,38776,118000,120000,138350,110000,130800,21669,45618,62726,49268,190200,105000,91237,62726,42197,82528,150000,235000,53192,100000,5409,270000,80000,79197,140000,54238,47282,153667,28476,59102,110000,170000,80000,88654,76833,19609,276000,29751,89294,12000,70000,95746,75000,150000,36259,62000,73000,51519,187442,115000,150000,30428,94564,113476,103160,12000,45391,225000,50000,40189,90000,200000,60000,200000,50000,110037,10354,151000,120000,9466,20000,40570,100000,49646,38400,24000,100000,90000,63711,77364,220000,80000,135000,240000,150000,82500,100000,82744,62649,90000,153000,160000,168000,150000,75774,13400,144000,127221,119059,120000,125000,230000,85000,28369,63831,130026,165000,80000,250000,55000,150000,170000,82528,60000,235000,60757,174000,2859,40038,81000,5679,22611,90734,26005,61896,12000,4000,50000,69741,76833,74000,152000,21844,18000,174000,96113,147000,9272,24342,54094,90000,61467,195000,37825,50000,160000,12901,200000,165000,20000,120000,24823,56738,66022,5882,24823,185000,28609,90734,88654,140000,46597,116914,33808,56256,225000,87738,88654,135000,71786,16228,256000,200000,200000,180000,110000,63810,46809,4000,21637,103691,80000,110000,165000,18053,72212,36643,12103,96282,170000,115000,90000,28399,93000,99703,200000,173762,185000,141846,130000,63831,16904,66265,25532,160000,93150,111775,28016,65013,72500,18907,76833,85000,77684,100000,58000,55000,20171,59102,112000,100000,69741,105000,69999,94665,102839,109000,51064,135000,155000,120600,130000,90000,170000,150000,102100,84900,136620,99360,117789,104702,146000,123000,52351,99000,116000,106260,126500,242000,200000,65438,39263,78526,52351,165220,45807,120160,90320,181940,132320,220110,160080,180000,120000,124190,130000,110000,170000,115500,112900,90320,112900,90320,165400,132320,167000,243900,136600,109280,128875,93700,224000,167875,175000,156600,108800,95550,113000,135000,161342,137141,167000,123000,78526,65438,150000,211500,192400,90700,130000,61300,130000,61300,160000,138600,136000,58000,135000,170000,123000,189650,164996,54957,54957,118187,132000,165400,208775,147800,136994,101570,128875,93700,79039,132320,37300,164000,155000,124333,98158,120000,112900,90320,145000,105400,87932,117789,215300,158200,209100,154600,115934,81666,175000,98158,58000,183600,52351,180000,71982,45807,65949,49461,78526,58894,260000,60000,63900,160000,112300,241000,159000,180000,80000,82900,100800,49461,140400,39263,43966,32974,87932,76940,104702,91614,65949,87932,189650,164996,43966,32974,98158,78526,215300,76940,209100,154600,180000,21983,80000,78791,196979,120000,125000,37236,105000,87932,18442,31615,58255,100000,54957,18442,162674,120000,144000,104890,100000,140000,135000,50000,220000,140000,183228,91614,185100,220000,200000,120000,120000,65000,324000,216000,210000,120000,230000,100000,100000,31875,200000,75000,35590,78791,100000,153000,58035,165000,93427,52396,62651,32974,40000,87425,115000,86703,75000,64849,120000,157000,150000,70912,65000,71444,20000,48000,152500,68147,122346,380000,69336,10000,20000,135000,177000,78000,135000,100000,90320,85000,75000,214000,192600,266400,213120,112900,155000,141300,102100,115934,81666,206699,99100,130000,115000,110500,130000,99050,160000,205300,140400,176000,144000,200100,160000,145000,70500,205300,140400,205300,184700,175100,140250,116150,54000,170000,65438,80000,140000,210000,140000,100000,69000,210000,140000,210000,150075,100000,25000,126500,106260,220110,160080,105000,110925,45807,140000,99000,60000,192564,144854,230000,150000,150260,109280,210000,170000,160000,130000,67000,52000,154000,126000,129000,150000,200000],\"type\":\"choropleth\"}],                        {\"template\":{\"data\":{\"histogram2dcontour\":[{\"type\":\"histogram2dcontour\",\"colorbar\":{\"outlinewidth\":0,\"ticks\":\"\"},\"colorscale\":[[0.0,\"#0d0887\"],[0.1111111111111111,\"#46039f\"],[0.2222222222222222,\"#7201a8\"],[0.3333333333333333,\"#9c179e\"],[0.4444444444444444,\"#bd3786\"],[0.5555555555555556,\"#d8576b\"],[0.6666666666666666,\"#ed7953\"],[0.7777777777777778,\"#fb9f3a\"],[0.8888888888888888,\"#fdca26\"],[1.0,\"#f0f921\"]]}],\"choropleth\":[{\"type\":\"choropleth\",\"colorbar\":{\"outlinewidth\":0,\"ticks\":\"\"}}],\"histogram2d\":[{\"type\":\"histogram2d\",\"colorbar\":{\"outlinewidth\":0,\"ticks\":\"\"},\"colorscale\":[[0.0,\"#0d0887\"],[0.1111111111111111,\"#46039f\"],[0.2222222222222222,\"#7201a8\"],[0.3333333333333333,\"#9c179e\"],[0.4444444444444444,\"#bd3786\"],[0.5555555555555556,\"#d8576b\"],[0.6666666666666666,\"#ed7953\"],[0.7777777777777778,\"#fb9f3a\"],[0.8888888888888888,\"#fdca26\"],[1.0,\"#f0f921\"]]}],\"heatmap\":[{\"type\":\"heatmap\",\"colorbar\":{\"outlinewidth\":0,\"ticks\":\"\"},\"colorscale\":[[0.0,\"#0d0887\"],[0.1111111111111111,\"#46039f\"],[0.2222222222222222,\"#7201a8\"],[0.3333333333333333,\"#9c179e\"],[0.4444444444444444,\"#bd3786\"],[0.5555555555555556,\"#d8576b\"],[0.6666666666666666,\"#ed7953\"],[0.7777777777777778,\"#fb9f3a\"],[0.8888888888888888,\"#fdca26\"],[1.0,\"#f0f921\"]]}],\"heatmapgl\":[{\"type\":\"heatmapgl\",\"colorbar\":{\"outlinewidth\":0,\"ticks\":\"\"},\"colorscale\":[[0.0,\"#0d0887\"],[0.1111111111111111,\"#46039f\"],[0.2222222222222222,\"#7201a8\"],[0.3333333333333333,\"#9c179e\"],[0.4444444444444444,\"#bd3786\"],[0.5555555555555556,\"#d8576b\"],[0.6666666666666666,\"#ed7953\"],[0.7777777777777778,\"#fb9f3a\"],[0.8888888888888888,\"#fdca26\"],[1.0,\"#f0f921\"]]}],\"contourcarpet\":[{\"type\":\"contourcarpet\",\"colorbar\":{\"outlinewidth\":0,\"ticks\":\"\"}}],\"contour\":[{\"type\":\"contour\",\"colorbar\":{\"outlinewidth\":0,\"ticks\":\"\"},\"colorscale\":[[0.0,\"#0d0887\"],[0.1111111111111111,\"#46039f\"],[0.2222222222222222,\"#7201a8\"],[0.3333333333333333,\"#9c179e\"],[0.4444444444444444,\"#bd3786\"],[0.5555555555555556,\"#d8576b\"],[0.6666666666666666,\"#ed7953\"],[0.7777777777777778,\"#fb9f3a\"],[0.8888888888888888,\"#fdca26\"],[1.0,\"#f0f921\"]]}],\"surface\":[{\"type\":\"surface\",\"colorbar\":{\"outlinewidth\":0,\"ticks\":\"\"},\"colorscale\":[[0.0,\"#0d0887\"],[0.1111111111111111,\"#46039f\"],[0.2222222222222222,\"#7201a8\"],[0.3333333333333333,\"#9c179e\"],[0.4444444444444444,\"#bd3786\"],[0.5555555555555556,\"#d8576b\"],[0.6666666666666666,\"#ed7953\"],[0.7777777777777778,\"#fb9f3a\"],[0.8888888888888888,\"#fdca26\"],[1.0,\"#f0f921\"]]}],\"mesh3d\":[{\"type\":\"mesh3d\",\"colorbar\":{\"outlinewidth\":0,\"ticks\":\"\"}}],\"scatter\":[{\"fillpattern\":{\"fillmode\":\"overlay\",\"size\":10,\"solidity\":0.2},\"type\":\"scatter\"}],\"parcoords\":[{\"type\":\"parcoords\",\"line\":{\"colorbar\":{\"outlinewidth\":0,\"ticks\":\"\"}}}],\"scatterpolargl\":[{\"type\":\"scatterpolargl\",\"marker\":{\"colorbar\":{\"outlinewidth\":0,\"ticks\":\"\"}}}],\"bar\":[{\"error_x\":{\"color\":\"#2a3f5f\"},\"error_y\":{\"color\":\"#2a3f5f\"},\"marker\":{\"line\":{\"color\":\"#E5ECF6\",\"width\":0.5},\"pattern\":{\"fillmode\":\"overlay\",\"size\":10,\"solidity\":0.2}},\"type\":\"bar\"}],\"scattergeo\":[{\"type\":\"scattergeo\",\"marker\":{\"colorbar\":{\"outlinewidth\":0,\"ticks\":\"\"}}}],\"scatterpolar\":[{\"type\":\"scatterpolar\",\"marker\":{\"colorbar\":{\"outlinewidth\":0,\"ticks\":\"\"}}}],\"histogram\":[{\"marker\":{\"pattern\":{\"fillmode\":\"overlay\",\"size\":10,\"solidity\":0.2}},\"type\":\"histogram\"}],\"scattergl\":[{\"type\":\"scattergl\",\"marker\":{\"colorbar\":{\"outlinewidth\":0,\"ticks\":\"\"}}}],\"scatter3d\":[{\"type\":\"scatter3d\",\"line\":{\"colorbar\":{\"outlinewidth\":0,\"ticks\":\"\"}},\"marker\":{\"colorbar\":{\"outlinewidth\":0,\"ticks\":\"\"}}}],\"scattermapbox\":[{\"type\":\"scattermapbox\",\"marker\":{\"colorbar\":{\"outlinewidth\":0,\"ticks\":\"\"}}}],\"scatterternary\":[{\"type\":\"scatterternary\",\"marker\":{\"colorbar\":{\"outlinewidth\":0,\"ticks\":\"\"}}}],\"scattercarpet\":[{\"type\":\"scattercarpet\",\"marker\":{\"colorbar\":{\"outlinewidth\":0,\"ticks\":\"\"}}}],\"carpet\":[{\"aaxis\":{\"endlinecolor\":\"#2a3f5f\",\"gridcolor\":\"white\",\"linecolor\":\"white\",\"minorgridcolor\":\"white\",\"startlinecolor\":\"#2a3f5f\"},\"baxis\":{\"endlinecolor\":\"#2a3f5f\",\"gridcolor\":\"white\",\"linecolor\":\"white\",\"minorgridcolor\":\"white\",\"startlinecolor\":\"#2a3f5f\"},\"type\":\"carpet\"}],\"table\":[{\"cells\":{\"fill\":{\"color\":\"#EBF0F8\"},\"line\":{\"color\":\"white\"}},\"header\":{\"fill\":{\"color\":\"#C8D4E3\"},\"line\":{\"color\":\"white\"}},\"type\":\"table\"}],\"barpolar\":[{\"marker\":{\"line\":{\"color\":\"#E5ECF6\",\"width\":0.5},\"pattern\":{\"fillmode\":\"overlay\",\"size\":10,\"solidity\":0.2}},\"type\":\"barpolar\"}],\"pie\":[{\"automargin\":true,\"type\":\"pie\"}]},\"layout\":{\"autotypenumbers\":\"strict\",\"colorway\":[\"#636efa\",\"#EF553B\",\"#00cc96\",\"#ab63fa\",\"#FFA15A\",\"#19d3f3\",\"#FF6692\",\"#B6E880\",\"#FF97FF\",\"#FECB52\"],\"font\":{\"color\":\"#2a3f5f\"},\"hovermode\":\"closest\",\"hoverlabel\":{\"align\":\"left\"},\"paper_bgcolor\":\"white\",\"plot_bgcolor\":\"#E5ECF6\",\"polar\":{\"bgcolor\":\"#E5ECF6\",\"angularaxis\":{\"gridcolor\":\"white\",\"linecolor\":\"white\",\"ticks\":\"\"},\"radialaxis\":{\"gridcolor\":\"white\",\"linecolor\":\"white\",\"ticks\":\"\"}},\"ternary\":{\"bgcolor\":\"#E5ECF6\",\"aaxis\":{\"gridcolor\":\"white\",\"linecolor\":\"white\",\"ticks\":\"\"},\"baxis\":{\"gridcolor\":\"white\",\"linecolor\":\"white\",\"ticks\":\"\"},\"caxis\":{\"gridcolor\":\"white\",\"linecolor\":\"white\",\"ticks\":\"\"}},\"coloraxis\":{\"colorbar\":{\"outlinewidth\":0,\"ticks\":\"\"}},\"colorscale\":{\"sequential\":[[0.0,\"#0d0887\"],[0.1111111111111111,\"#46039f\"],[0.2222222222222222,\"#7201a8\"],[0.3333333333333333,\"#9c179e\"],[0.4444444444444444,\"#bd3786\"],[0.5555555555555556,\"#d8576b\"],[0.6666666666666666,\"#ed7953\"],[0.7777777777777778,\"#fb9f3a\"],[0.8888888888888888,\"#fdca26\"],[1.0,\"#f0f921\"]],\"sequentialminus\":[[0.0,\"#0d0887\"],[0.1111111111111111,\"#46039f\"],[0.2222222222222222,\"#7201a8\"],[0.3333333333333333,\"#9c179e\"],[0.4444444444444444,\"#bd3786\"],[0.5555555555555556,\"#d8576b\"],[0.6666666666666666,\"#ed7953\"],[0.7777777777777778,\"#fb9f3a\"],[0.8888888888888888,\"#fdca26\"],[1.0,\"#f0f921\"]],\"diverging\":[[0,\"#8e0152\"],[0.1,\"#c51b7d\"],[0.2,\"#de77ae\"],[0.3,\"#f1b6da\"],[0.4,\"#fde0ef\"],[0.5,\"#f7f7f7\"],[0.6,\"#e6f5d0\"],[0.7,\"#b8e186\"],[0.8,\"#7fbc41\"],[0.9,\"#4d9221\"],[1,\"#276419\"]]},\"xaxis\":{\"gridcolor\":\"white\",\"linecolor\":\"white\",\"ticks\":\"\",\"title\":{\"standoff\":15},\"zerolinecolor\":\"white\",\"automargin\":true,\"zerolinewidth\":2},\"yaxis\":{\"gridcolor\":\"white\",\"linecolor\":\"white\",\"ticks\":\"\",\"title\":{\"standoff\":15},\"zerolinecolor\":\"white\",\"automargin\":true,\"zerolinewidth\":2},\"scene\":{\"xaxis\":{\"backgroundcolor\":\"#E5ECF6\",\"gridcolor\":\"white\",\"linecolor\":\"white\",\"showbackground\":true,\"ticks\":\"\",\"zerolinecolor\":\"white\",\"gridwidth\":2},\"yaxis\":{\"backgroundcolor\":\"#E5ECF6\",\"gridcolor\":\"white\",\"linecolor\":\"white\",\"showbackground\":true,\"ticks\":\"\",\"zerolinecolor\":\"white\",\"gridwidth\":2},\"zaxis\":{\"backgroundcolor\":\"#E5ECF6\",\"gridcolor\":\"white\",\"linecolor\":\"white\",\"showbackground\":true,\"ticks\":\"\",\"zerolinecolor\":\"white\",\"gridwidth\":2}},\"shapedefaults\":{\"line\":{\"color\":\"#2a3f5f\"}},\"annotationdefaults\":{\"arrowcolor\":\"#2a3f5f\",\"arrowhead\":0,\"arrowwidth\":1},\"geo\":{\"bgcolor\":\"white\",\"landcolor\":\"#E5ECF6\",\"subunitcolor\":\"white\",\"showland\":true,\"showlakes\":true,\"lakecolor\":\"white\"},\"title\":{\"x\":0.05},\"mapbox\":{\"style\":\"light\"}}},\"geo\":{\"domain\":{\"x\":[0.0,1.0],\"y\":[0.0,1.0]},\"center\":{}},\"coloraxis\":{\"colorbar\":{\"title\":{\"text\":\"Salario en USD\"}},\"colorscale\":[[0.0,\"rgb(103,0,31)\"],[0.1,\"rgb(178,24,43)\"],[0.2,\"rgb(214,96,77)\"],[0.3,\"rgb(244,165,130)\"],[0.4,\"rgb(253,219,199)\"],[0.5,\"rgb(247,247,247)\"],[0.6,\"rgb(209,229,240)\"],[0.7,\"rgb(146,197,222)\"],[0.8,\"rgb(67,147,195)\"],[0.9,\"rgb(33,102,172)\"],[1.0,\"rgb(5,48,97)\"]]},\"legend\":{\"tracegroupgap\":0},\"margin\":{\"t\":60},\"font\":{\"size\":18,\"family\":\"Rubik\"},\"title\":{\"text\":\"Salario promedio por Ubicacion\",\"x\":0.5}},                        {\"responsive\": true}                    ).then(function(){\n",
       "                            \n",
       "var gd = document.getElementById('9036515d-4492-42d5-bc86-b1d2fba93189');\n",
       "var x = new MutationObserver(function (mutations, observer) {{\n",
       "        var display = window.getComputedStyle(gd).display;\n",
       "        if (!display || display === 'none') {{\n",
       "            console.log([gd, 'removed!']);\n",
       "            Plotly.purge(gd);\n",
       "            observer.disconnect();\n",
       "        }}\n",
       "}});\n",
       "\n",
       "// Listen for the removal of the full notebook cells\n",
       "var notebookContainer = gd.closest('#notebook-container');\n",
       "if (notebookContainer) {{\n",
       "    x.observe(notebookContainer, {childList: true});\n",
       "}}\n",
       "\n",
       "// Listen for the clearing of the current output cell\n",
       "var outputEl = gd.closest('.output');\n",
       "if (outputEl) {{\n",
       "    x.observe(outputEl, {childList: true});\n",
       "}}\n",
       "\n",
       "                        })                };                });            </script>        </div>"
      ]
     },
     "metadata": {},
     "output_type": "display_data"
    }
   ],
   "source": [
    "salary_location_data = data2.groupby(['Salario en USD', 'Ubicacion']).size().reset_index()\n",
    "average_salary = salary_location_data.groupby('Ubicacion').mean().reset_index()\n",
    "\n",
    "fig = px.choropleth(data2,locations = 'Ubicacion',color= 'Salario en USD',color_continuous_scale=px.colors.sequential.RdBu,template='plotly')\n",
    "fig.update_layout(font = dict(size=17,family=\"Courier new\"))\n",
    "\n",
    "fig.update_layout(title=\"Salario promedio por Ubicacion\", title_x=0.5,font=dict(family=\"Rubik\",size=18))\n",
    "\n",
    "fig.show()\n"
   ]
  },
  {
   "cell_type": "markdown",
   "metadata": {},
   "source": [
    "Grafico Treemap"
   ]
  },
  {
   "cell_type": "markdown",
   "metadata": {},
   "source": [
    "Agrupar 3 variables;Tamaño de compañía , promedio de remoto y Salario en USD"
   ]
  },
  {
   "cell_type": "code",
   "execution_count": 252,
   "metadata": {
    "scrolled": true
   },
   "outputs": [
    {
     "data": {
      "application/vnd.plotly.v1+json": {
       "config": {
        "plotlyServerURL": "https://plot.ly"
       },
       "data": [
        {
         "branchvalues": "total",
         "customdata": [
          [
           59,
           84075.49152542373
          ],
          [
           21,
           61835
          ],
          [
           18,
           73305.05555555556
          ],
          [
           32,
           120855.875
          ],
          [
           78,
           104371.97435897436
          ],
          [
           16,
           65539.6875
          ],
          [
           102,
           122473.24509803922
          ],
          [
           226,
           124874.48230088495
          ],
          [
           48,
           76237.20833333333
          ],
          [
           193,
           110466.9067357513
          ],
          [
           325,
           115880.56
          ],
          [
           82,
           73506.24390243902
          ],
          [
           600,
           108348.01166666667
          ]
         ],
         "domain": {
          "x": [
           0,
           1
          ],
          "y": [
           0,
           1
          ]
         },
         "hovertemplate": "labels=%{label}<br>count=%{customdata[0]}<br>parent=%{parent}<br>id=%{id}<br>Salario en USD=%{color}<extra></extra>",
         "ids": [
          "Grafico Treemap/L/On Hybrid",
          "Grafico Treemap/M/On Hybrid",
          "Grafico Treemap/S/On Hybrid",
          "Grafico Treemap/L/On site",
          "Grafico Treemap/M/On site",
          "Grafico Treemap/S/On site",
          "Grafico Treemap/L/Remote",
          "Grafico Treemap/M/Remote",
          "Grafico Treemap/S/Remote",
          "Grafico Treemap/L",
          "Grafico Treemap/M",
          "Grafico Treemap/S",
          "Grafico Treemap"
         ],
         "labels": [
          "On Hybrid",
          "On Hybrid",
          "On Hybrid",
          "On site",
          "On site",
          "On site",
          "Remote",
          "Remote",
          "Remote",
          "L",
          "M",
          "S",
          "Grafico Treemap"
         ],
         "marker": {
          "coloraxis": "coloraxis",
          "colors": [
           84075.49152542373,
           61835,
           73305.05555555556,
           120855.875,
           104371.97435897436,
           65539.6875,
           122473.24509803922,
           124874.48230088495,
           76237.20833333333,
           110466.9067357513,
           115880.56,
           73506.24390243902,
           108348.01166666667
          ]
         },
         "name": "",
         "parents": [
          "Grafico Treemap/L",
          "Grafico Treemap/M",
          "Grafico Treemap/S",
          "Grafico Treemap/L",
          "Grafico Treemap/M",
          "Grafico Treemap/S",
          "Grafico Treemap/L",
          "Grafico Treemap/M",
          "Grafico Treemap/S",
          "Grafico Treemap",
          "Grafico Treemap",
          "Grafico Treemap",
          ""
         ],
         "textinfo": "label+percent parent",
         "type": "treemap",
         "values": [
          59,
          21,
          18,
          32,
          78,
          16,
          102,
          226,
          48,
          193,
          325,
          82,
          600
         ]
        }
       ],
       "layout": {
        "coloraxis": {
         "cmid": 108348.01166666667,
         "colorbar": {
          "title": {
           "text": "Salario en USD"
          }
         },
         "colorscale": [
          [
           0,
           "rgb(103,0,31)"
          ],
          [
           0.1,
           "rgb(178,24,43)"
          ],
          [
           0.2,
           "rgb(214,96,77)"
          ],
          [
           0.3,
           "rgb(244,165,130)"
          ],
          [
           0.4,
           "rgb(253,219,199)"
          ],
          [
           0.5,
           "rgb(247,247,247)"
          ],
          [
           0.6,
           "rgb(209,229,240)"
          ],
          [
           0.7,
           "rgb(146,197,222)"
          ],
          [
           0.8,
           "rgb(67,147,195)"
          ],
          [
           0.9,
           "rgb(33,102,172)"
          ],
          [
           1,
           "rgb(5,48,97)"
          ]
         ]
        },
        "font": {
         "family": "Rubik",
         "size": 21
        },
        "height": 500,
        "legend": {
         "tracegroupgap": 0
        },
        "margin": {
         "t": 60
        },
        "template": {
         "data": {
          "bar": [
           {
            "error_x": {
             "color": "#2a3f5f"
            },
            "error_y": {
             "color": "#2a3f5f"
            },
            "marker": {
             "line": {
              "color": "white",
              "width": 0.5
             },
             "pattern": {
              "fillmode": "overlay",
              "size": 10,
              "solidity": 0.2
             }
            },
            "type": "bar"
           }
          ],
          "barpolar": [
           {
            "marker": {
             "line": {
              "color": "white",
              "width": 0.5
             },
             "pattern": {
              "fillmode": "overlay",
              "size": 10,
              "solidity": 0.2
             }
            },
            "type": "barpolar"
           }
          ],
          "carpet": [
           {
            "aaxis": {
             "endlinecolor": "#2a3f5f",
             "gridcolor": "#C8D4E3",
             "linecolor": "#C8D4E3",
             "minorgridcolor": "#C8D4E3",
             "startlinecolor": "#2a3f5f"
            },
            "baxis": {
             "endlinecolor": "#2a3f5f",
             "gridcolor": "#C8D4E3",
             "linecolor": "#C8D4E3",
             "minorgridcolor": "#C8D4E3",
             "startlinecolor": "#2a3f5f"
            },
            "type": "carpet"
           }
          ],
          "choropleth": [
           {
            "colorbar": {
             "outlinewidth": 0,
             "ticks": ""
            },
            "type": "choropleth"
           }
          ],
          "contour": [
           {
            "colorbar": {
             "outlinewidth": 0,
             "ticks": ""
            },
            "colorscale": [
             [
              0,
              "#0d0887"
             ],
             [
              0.1111111111111111,
              "#46039f"
             ],
             [
              0.2222222222222222,
              "#7201a8"
             ],
             [
              0.3333333333333333,
              "#9c179e"
             ],
             [
              0.4444444444444444,
              "#bd3786"
             ],
             [
              0.5555555555555556,
              "#d8576b"
             ],
             [
              0.6666666666666666,
              "#ed7953"
             ],
             [
              0.7777777777777778,
              "#fb9f3a"
             ],
             [
              0.8888888888888888,
              "#fdca26"
             ],
             [
              1,
              "#f0f921"
             ]
            ],
            "type": "contour"
           }
          ],
          "contourcarpet": [
           {
            "colorbar": {
             "outlinewidth": 0,
             "ticks": ""
            },
            "type": "contourcarpet"
           }
          ],
          "heatmap": [
           {
            "colorbar": {
             "outlinewidth": 0,
             "ticks": ""
            },
            "colorscale": [
             [
              0,
              "#0d0887"
             ],
             [
              0.1111111111111111,
              "#46039f"
             ],
             [
              0.2222222222222222,
              "#7201a8"
             ],
             [
              0.3333333333333333,
              "#9c179e"
             ],
             [
              0.4444444444444444,
              "#bd3786"
             ],
             [
              0.5555555555555556,
              "#d8576b"
             ],
             [
              0.6666666666666666,
              "#ed7953"
             ],
             [
              0.7777777777777778,
              "#fb9f3a"
             ],
             [
              0.8888888888888888,
              "#fdca26"
             ],
             [
              1,
              "#f0f921"
             ]
            ],
            "type": "heatmap"
           }
          ],
          "heatmapgl": [
           {
            "colorbar": {
             "outlinewidth": 0,
             "ticks": ""
            },
            "colorscale": [
             [
              0,
              "#0d0887"
             ],
             [
              0.1111111111111111,
              "#46039f"
             ],
             [
              0.2222222222222222,
              "#7201a8"
             ],
             [
              0.3333333333333333,
              "#9c179e"
             ],
             [
              0.4444444444444444,
              "#bd3786"
             ],
             [
              0.5555555555555556,
              "#d8576b"
             ],
             [
              0.6666666666666666,
              "#ed7953"
             ],
             [
              0.7777777777777778,
              "#fb9f3a"
             ],
             [
              0.8888888888888888,
              "#fdca26"
             ],
             [
              1,
              "#f0f921"
             ]
            ],
            "type": "heatmapgl"
           }
          ],
          "histogram": [
           {
            "marker": {
             "pattern": {
              "fillmode": "overlay",
              "size": 10,
              "solidity": 0.2
             }
            },
            "type": "histogram"
           }
          ],
          "histogram2d": [
           {
            "colorbar": {
             "outlinewidth": 0,
             "ticks": ""
            },
            "colorscale": [
             [
              0,
              "#0d0887"
             ],
             [
              0.1111111111111111,
              "#46039f"
             ],
             [
              0.2222222222222222,
              "#7201a8"
             ],
             [
              0.3333333333333333,
              "#9c179e"
             ],
             [
              0.4444444444444444,
              "#bd3786"
             ],
             [
              0.5555555555555556,
              "#d8576b"
             ],
             [
              0.6666666666666666,
              "#ed7953"
             ],
             [
              0.7777777777777778,
              "#fb9f3a"
             ],
             [
              0.8888888888888888,
              "#fdca26"
             ],
             [
              1,
              "#f0f921"
             ]
            ],
            "type": "histogram2d"
           }
          ],
          "histogram2dcontour": [
           {
            "colorbar": {
             "outlinewidth": 0,
             "ticks": ""
            },
            "colorscale": [
             [
              0,
              "#0d0887"
             ],
             [
              0.1111111111111111,
              "#46039f"
             ],
             [
              0.2222222222222222,
              "#7201a8"
             ],
             [
              0.3333333333333333,
              "#9c179e"
             ],
             [
              0.4444444444444444,
              "#bd3786"
             ],
             [
              0.5555555555555556,
              "#d8576b"
             ],
             [
              0.6666666666666666,
              "#ed7953"
             ],
             [
              0.7777777777777778,
              "#fb9f3a"
             ],
             [
              0.8888888888888888,
              "#fdca26"
             ],
             [
              1,
              "#f0f921"
             ]
            ],
            "type": "histogram2dcontour"
           }
          ],
          "mesh3d": [
           {
            "colorbar": {
             "outlinewidth": 0,
             "ticks": ""
            },
            "type": "mesh3d"
           }
          ],
          "parcoords": [
           {
            "line": {
             "colorbar": {
              "outlinewidth": 0,
              "ticks": ""
             }
            },
            "type": "parcoords"
           }
          ],
          "pie": [
           {
            "automargin": true,
            "type": "pie"
           }
          ],
          "scatter": [
           {
            "fillpattern": {
             "fillmode": "overlay",
             "size": 10,
             "solidity": 0.2
            },
            "type": "scatter"
           }
          ],
          "scatter3d": [
           {
            "line": {
             "colorbar": {
              "outlinewidth": 0,
              "ticks": ""
             }
            },
            "marker": {
             "colorbar": {
              "outlinewidth": 0,
              "ticks": ""
             }
            },
            "type": "scatter3d"
           }
          ],
          "scattercarpet": [
           {
            "marker": {
             "colorbar": {
              "outlinewidth": 0,
              "ticks": ""
             }
            },
            "type": "scattercarpet"
           }
          ],
          "scattergeo": [
           {
            "marker": {
             "colorbar": {
              "outlinewidth": 0,
              "ticks": ""
             }
            },
            "type": "scattergeo"
           }
          ],
          "scattergl": [
           {
            "marker": {
             "colorbar": {
              "outlinewidth": 0,
              "ticks": ""
             }
            },
            "type": "scattergl"
           }
          ],
          "scattermapbox": [
           {
            "marker": {
             "colorbar": {
              "outlinewidth": 0,
              "ticks": ""
             }
            },
            "type": "scattermapbox"
           }
          ],
          "scatterpolar": [
           {
            "marker": {
             "colorbar": {
              "outlinewidth": 0,
              "ticks": ""
             }
            },
            "type": "scatterpolar"
           }
          ],
          "scatterpolargl": [
           {
            "marker": {
             "colorbar": {
              "outlinewidth": 0,
              "ticks": ""
             }
            },
            "type": "scatterpolargl"
           }
          ],
          "scatterternary": [
           {
            "marker": {
             "colorbar": {
              "outlinewidth": 0,
              "ticks": ""
             }
            },
            "type": "scatterternary"
           }
          ],
          "surface": [
           {
            "colorbar": {
             "outlinewidth": 0,
             "ticks": ""
            },
            "colorscale": [
             [
              0,
              "#0d0887"
             ],
             [
              0.1111111111111111,
              "#46039f"
             ],
             [
              0.2222222222222222,
              "#7201a8"
             ],
             [
              0.3333333333333333,
              "#9c179e"
             ],
             [
              0.4444444444444444,
              "#bd3786"
             ],
             [
              0.5555555555555556,
              "#d8576b"
             ],
             [
              0.6666666666666666,
              "#ed7953"
             ],
             [
              0.7777777777777778,
              "#fb9f3a"
             ],
             [
              0.8888888888888888,
              "#fdca26"
             ],
             [
              1,
              "#f0f921"
             ]
            ],
            "type": "surface"
           }
          ],
          "table": [
           {
            "cells": {
             "fill": {
              "color": "#EBF0F8"
             },
             "line": {
              "color": "white"
             }
            },
            "header": {
             "fill": {
              "color": "#C8D4E3"
             },
             "line": {
              "color": "white"
             }
            },
            "type": "table"
           }
          ]
         },
         "layout": {
          "annotationdefaults": {
           "arrowcolor": "#2a3f5f",
           "arrowhead": 0,
           "arrowwidth": 1
          },
          "autotypenumbers": "strict",
          "coloraxis": {
           "colorbar": {
            "outlinewidth": 0,
            "ticks": ""
           }
          },
          "colorscale": {
           "diverging": [
            [
             0,
             "#8e0152"
            ],
            [
             0.1,
             "#c51b7d"
            ],
            [
             0.2,
             "#de77ae"
            ],
            [
             0.3,
             "#f1b6da"
            ],
            [
             0.4,
             "#fde0ef"
            ],
            [
             0.5,
             "#f7f7f7"
            ],
            [
             0.6,
             "#e6f5d0"
            ],
            [
             0.7,
             "#b8e186"
            ],
            [
             0.8,
             "#7fbc41"
            ],
            [
             0.9,
             "#4d9221"
            ],
            [
             1,
             "#276419"
            ]
           ],
           "sequential": [
            [
             0,
             "#0d0887"
            ],
            [
             0.1111111111111111,
             "#46039f"
            ],
            [
             0.2222222222222222,
             "#7201a8"
            ],
            [
             0.3333333333333333,
             "#9c179e"
            ],
            [
             0.4444444444444444,
             "#bd3786"
            ],
            [
             0.5555555555555556,
             "#d8576b"
            ],
            [
             0.6666666666666666,
             "#ed7953"
            ],
            [
             0.7777777777777778,
             "#fb9f3a"
            ],
            [
             0.8888888888888888,
             "#fdca26"
            ],
            [
             1,
             "#f0f921"
            ]
           ],
           "sequentialminus": [
            [
             0,
             "#0d0887"
            ],
            [
             0.1111111111111111,
             "#46039f"
            ],
            [
             0.2222222222222222,
             "#7201a8"
            ],
            [
             0.3333333333333333,
             "#9c179e"
            ],
            [
             0.4444444444444444,
             "#bd3786"
            ],
            [
             0.5555555555555556,
             "#d8576b"
            ],
            [
             0.6666666666666666,
             "#ed7953"
            ],
            [
             0.7777777777777778,
             "#fb9f3a"
            ],
            [
             0.8888888888888888,
             "#fdca26"
            ],
            [
             1,
             "#f0f921"
            ]
           ]
          },
          "colorway": [
           "#636efa",
           "#EF553B",
           "#00cc96",
           "#ab63fa",
           "#FFA15A",
           "#19d3f3",
           "#FF6692",
           "#B6E880",
           "#FF97FF",
           "#FECB52"
          ],
          "font": {
           "color": "#2a3f5f"
          },
          "geo": {
           "bgcolor": "white",
           "lakecolor": "white",
           "landcolor": "white",
           "showlakes": true,
           "showland": true,
           "subunitcolor": "#C8D4E3"
          },
          "hoverlabel": {
           "align": "left"
          },
          "hovermode": "closest",
          "mapbox": {
           "style": "light"
          },
          "paper_bgcolor": "white",
          "plot_bgcolor": "white",
          "polar": {
           "angularaxis": {
            "gridcolor": "#EBF0F8",
            "linecolor": "#EBF0F8",
            "ticks": ""
           },
           "bgcolor": "white",
           "radialaxis": {
            "gridcolor": "#EBF0F8",
            "linecolor": "#EBF0F8",
            "ticks": ""
           }
          },
          "scene": {
           "xaxis": {
            "backgroundcolor": "white",
            "gridcolor": "#DFE8F3",
            "gridwidth": 2,
            "linecolor": "#EBF0F8",
            "showbackground": true,
            "ticks": "",
            "zerolinecolor": "#EBF0F8"
           },
           "yaxis": {
            "backgroundcolor": "white",
            "gridcolor": "#DFE8F3",
            "gridwidth": 2,
            "linecolor": "#EBF0F8",
            "showbackground": true,
            "ticks": "",
            "zerolinecolor": "#EBF0F8"
           },
           "zaxis": {
            "backgroundcolor": "white",
            "gridcolor": "#DFE8F3",
            "gridwidth": 2,
            "linecolor": "#EBF0F8",
            "showbackground": true,
            "ticks": "",
            "zerolinecolor": "#EBF0F8"
           }
          },
          "shapedefaults": {
           "line": {
            "color": "#2a3f5f"
           }
          },
          "ternary": {
           "aaxis": {
            "gridcolor": "#DFE8F3",
            "linecolor": "#A2B1C6",
            "ticks": ""
           },
           "baxis": {
            "gridcolor": "#DFE8F3",
            "linecolor": "#A2B1C6",
            "ticks": ""
           },
           "bgcolor": "white",
           "caxis": {
            "gridcolor": "#DFE8F3",
            "linecolor": "#A2B1C6",
            "ticks": ""
           }
          },
          "title": {
           "x": 0.05
          },
          "xaxis": {
           "automargin": true,
           "gridcolor": "#EBF0F8",
           "linecolor": "#EBF0F8",
           "ticks": "",
           "title": {
            "standoff": 15
           },
           "zerolinecolor": "#EBF0F8",
           "zerolinewidth": 2
          },
          "yaxis": {
           "automargin": true,
           "gridcolor": "#EBF0F8",
           "linecolor": "#EBF0F8",
           "ticks": "",
           "title": {
            "standoff": 15
           },
           "zerolinecolor": "#EBF0F8",
           "zerolinewidth": 2
          }
         }
        },
        "title": {
         "text": "<i> Tamaño de compañía </i> , <i> Remote Ratio </i> , <i> Salario </i>",
         "x": 0.5
        }
       }
      },
      "text/html": [
       "<div>                            <div id=\"2dfcd57f-7202-4a15-98c6-aa343f217989\" class=\"plotly-graph-div\" style=\"height:500px; width:100%;\"></div>            <script type=\"text/javascript\">                require([\"plotly\"], function(Plotly) {                    window.PLOTLYENV=window.PLOTLYENV || {};                                    if (document.getElementById(\"2dfcd57f-7202-4a15-98c6-aa343f217989\")) {                    Plotly.newPlot(                        \"2dfcd57f-7202-4a15-98c6-aa343f217989\",                        [{\"branchvalues\":\"total\",\"customdata\":[[59.0,84075.49152542373],[21.0,61835.0],[18.0,73305.05555555556],[32.0,120855.875],[78.0,104371.97435897436],[16.0,65539.6875],[102.0,122473.24509803922],[226.0,124874.48230088495],[48.0,76237.20833333333],[193.0,110466.9067357513],[325.0,115880.56],[82.0,73506.24390243902],[600.0,108348.01166666667]],\"domain\":{\"x\":[0.0,1.0],\"y\":[0.0,1.0]},\"hovertemplate\":\"labels=%{label}<br>count=%{customdata[0]}<br>parent=%{parent}<br>id=%{id}<br>Salario en USD=%{color}<extra></extra>\",\"ids\":[\"Grafico Treemap/L/On Hybrid\",\"Grafico Treemap/M/On Hybrid\",\"Grafico Treemap/S/On Hybrid\",\"Grafico Treemap/L/On site\",\"Grafico Treemap/M/On site\",\"Grafico Treemap/S/On site\",\"Grafico Treemap/L/Remote\",\"Grafico Treemap/M/Remote\",\"Grafico Treemap/S/Remote\",\"Grafico Treemap/L\",\"Grafico Treemap/M\",\"Grafico Treemap/S\",\"Grafico Treemap\"],\"labels\":[\"On Hybrid\",\"On Hybrid\",\"On Hybrid\",\"On site\",\"On site\",\"On site\",\"Remote\",\"Remote\",\"Remote\",\"L\",\"M\",\"S\",\"Grafico Treemap\"],\"marker\":{\"coloraxis\":\"coloraxis\",\"colors\":[84075.49152542373,61835.0,73305.05555555556,120855.875,104371.97435897436,65539.6875,122473.24509803922,124874.48230088495,76237.20833333333,110466.9067357513,115880.56,73506.24390243902,108348.01166666667]},\"name\":\"\",\"parents\":[\"Grafico Treemap/L\",\"Grafico Treemap/M\",\"Grafico Treemap/S\",\"Grafico Treemap/L\",\"Grafico Treemap/M\",\"Grafico Treemap/S\",\"Grafico Treemap/L\",\"Grafico Treemap/M\",\"Grafico Treemap/S\",\"Grafico Treemap\",\"Grafico Treemap\",\"Grafico Treemap\",\"\"],\"values\":[59,21,18,32,78,16,102,226,48,193,325,82,600],\"type\":\"treemap\",\"textinfo\":\"label+percent parent\"}],                        {\"template\":{\"data\":{\"barpolar\":[{\"marker\":{\"line\":{\"color\":\"white\",\"width\":0.5},\"pattern\":{\"fillmode\":\"overlay\",\"size\":10,\"solidity\":0.2}},\"type\":\"barpolar\"}],\"bar\":[{\"error_x\":{\"color\":\"#2a3f5f\"},\"error_y\":{\"color\":\"#2a3f5f\"},\"marker\":{\"line\":{\"color\":\"white\",\"width\":0.5},\"pattern\":{\"fillmode\":\"overlay\",\"size\":10,\"solidity\":0.2}},\"type\":\"bar\"}],\"carpet\":[{\"aaxis\":{\"endlinecolor\":\"#2a3f5f\",\"gridcolor\":\"#C8D4E3\",\"linecolor\":\"#C8D4E3\",\"minorgridcolor\":\"#C8D4E3\",\"startlinecolor\":\"#2a3f5f\"},\"baxis\":{\"endlinecolor\":\"#2a3f5f\",\"gridcolor\":\"#C8D4E3\",\"linecolor\":\"#C8D4E3\",\"minorgridcolor\":\"#C8D4E3\",\"startlinecolor\":\"#2a3f5f\"},\"type\":\"carpet\"}],\"choropleth\":[{\"colorbar\":{\"outlinewidth\":0,\"ticks\":\"\"},\"type\":\"choropleth\"}],\"contourcarpet\":[{\"colorbar\":{\"outlinewidth\":0,\"ticks\":\"\"},\"type\":\"contourcarpet\"}],\"contour\":[{\"colorbar\":{\"outlinewidth\":0,\"ticks\":\"\"},\"colorscale\":[[0.0,\"#0d0887\"],[0.1111111111111111,\"#46039f\"],[0.2222222222222222,\"#7201a8\"],[0.3333333333333333,\"#9c179e\"],[0.4444444444444444,\"#bd3786\"],[0.5555555555555556,\"#d8576b\"],[0.6666666666666666,\"#ed7953\"],[0.7777777777777778,\"#fb9f3a\"],[0.8888888888888888,\"#fdca26\"],[1.0,\"#f0f921\"]],\"type\":\"contour\"}],\"heatmapgl\":[{\"colorbar\":{\"outlinewidth\":0,\"ticks\":\"\"},\"colorscale\":[[0.0,\"#0d0887\"],[0.1111111111111111,\"#46039f\"],[0.2222222222222222,\"#7201a8\"],[0.3333333333333333,\"#9c179e\"],[0.4444444444444444,\"#bd3786\"],[0.5555555555555556,\"#d8576b\"],[0.6666666666666666,\"#ed7953\"],[0.7777777777777778,\"#fb9f3a\"],[0.8888888888888888,\"#fdca26\"],[1.0,\"#f0f921\"]],\"type\":\"heatmapgl\"}],\"heatmap\":[{\"colorbar\":{\"outlinewidth\":0,\"ticks\":\"\"},\"colorscale\":[[0.0,\"#0d0887\"],[0.1111111111111111,\"#46039f\"],[0.2222222222222222,\"#7201a8\"],[0.3333333333333333,\"#9c179e\"],[0.4444444444444444,\"#bd3786\"],[0.5555555555555556,\"#d8576b\"],[0.6666666666666666,\"#ed7953\"],[0.7777777777777778,\"#fb9f3a\"],[0.8888888888888888,\"#fdca26\"],[1.0,\"#f0f921\"]],\"type\":\"heatmap\"}],\"histogram2dcontour\":[{\"colorbar\":{\"outlinewidth\":0,\"ticks\":\"\"},\"colorscale\":[[0.0,\"#0d0887\"],[0.1111111111111111,\"#46039f\"],[0.2222222222222222,\"#7201a8\"],[0.3333333333333333,\"#9c179e\"],[0.4444444444444444,\"#bd3786\"],[0.5555555555555556,\"#d8576b\"],[0.6666666666666666,\"#ed7953\"],[0.7777777777777778,\"#fb9f3a\"],[0.8888888888888888,\"#fdca26\"],[1.0,\"#f0f921\"]],\"type\":\"histogram2dcontour\"}],\"histogram2d\":[{\"colorbar\":{\"outlinewidth\":0,\"ticks\":\"\"},\"colorscale\":[[0.0,\"#0d0887\"],[0.1111111111111111,\"#46039f\"],[0.2222222222222222,\"#7201a8\"],[0.3333333333333333,\"#9c179e\"],[0.4444444444444444,\"#bd3786\"],[0.5555555555555556,\"#d8576b\"],[0.6666666666666666,\"#ed7953\"],[0.7777777777777778,\"#fb9f3a\"],[0.8888888888888888,\"#fdca26\"],[1.0,\"#f0f921\"]],\"type\":\"histogram2d\"}],\"histogram\":[{\"marker\":{\"pattern\":{\"fillmode\":\"overlay\",\"size\":10,\"solidity\":0.2}},\"type\":\"histogram\"}],\"mesh3d\":[{\"colorbar\":{\"outlinewidth\":0,\"ticks\":\"\"},\"type\":\"mesh3d\"}],\"parcoords\":[{\"line\":{\"colorbar\":{\"outlinewidth\":0,\"ticks\":\"\"}},\"type\":\"parcoords\"}],\"pie\":[{\"automargin\":true,\"type\":\"pie\"}],\"scatter3d\":[{\"line\":{\"colorbar\":{\"outlinewidth\":0,\"ticks\":\"\"}},\"marker\":{\"colorbar\":{\"outlinewidth\":0,\"ticks\":\"\"}},\"type\":\"scatter3d\"}],\"scattercarpet\":[{\"marker\":{\"colorbar\":{\"outlinewidth\":0,\"ticks\":\"\"}},\"type\":\"scattercarpet\"}],\"scattergeo\":[{\"marker\":{\"colorbar\":{\"outlinewidth\":0,\"ticks\":\"\"}},\"type\":\"scattergeo\"}],\"scattergl\":[{\"marker\":{\"colorbar\":{\"outlinewidth\":0,\"ticks\":\"\"}},\"type\":\"scattergl\"}],\"scattermapbox\":[{\"marker\":{\"colorbar\":{\"outlinewidth\":0,\"ticks\":\"\"}},\"type\":\"scattermapbox\"}],\"scatterpolargl\":[{\"marker\":{\"colorbar\":{\"outlinewidth\":0,\"ticks\":\"\"}},\"type\":\"scatterpolargl\"}],\"scatterpolar\":[{\"marker\":{\"colorbar\":{\"outlinewidth\":0,\"ticks\":\"\"}},\"type\":\"scatterpolar\"}],\"scatter\":[{\"fillpattern\":{\"fillmode\":\"overlay\",\"size\":10,\"solidity\":0.2},\"type\":\"scatter\"}],\"scatterternary\":[{\"marker\":{\"colorbar\":{\"outlinewidth\":0,\"ticks\":\"\"}},\"type\":\"scatterternary\"}],\"surface\":[{\"colorbar\":{\"outlinewidth\":0,\"ticks\":\"\"},\"colorscale\":[[0.0,\"#0d0887\"],[0.1111111111111111,\"#46039f\"],[0.2222222222222222,\"#7201a8\"],[0.3333333333333333,\"#9c179e\"],[0.4444444444444444,\"#bd3786\"],[0.5555555555555556,\"#d8576b\"],[0.6666666666666666,\"#ed7953\"],[0.7777777777777778,\"#fb9f3a\"],[0.8888888888888888,\"#fdca26\"],[1.0,\"#f0f921\"]],\"type\":\"surface\"}],\"table\":[{\"cells\":{\"fill\":{\"color\":\"#EBF0F8\"},\"line\":{\"color\":\"white\"}},\"header\":{\"fill\":{\"color\":\"#C8D4E3\"},\"line\":{\"color\":\"white\"}},\"type\":\"table\"}]},\"layout\":{\"annotationdefaults\":{\"arrowcolor\":\"#2a3f5f\",\"arrowhead\":0,\"arrowwidth\":1},\"autotypenumbers\":\"strict\",\"coloraxis\":{\"colorbar\":{\"outlinewidth\":0,\"ticks\":\"\"}},\"colorscale\":{\"diverging\":[[0,\"#8e0152\"],[0.1,\"#c51b7d\"],[0.2,\"#de77ae\"],[0.3,\"#f1b6da\"],[0.4,\"#fde0ef\"],[0.5,\"#f7f7f7\"],[0.6,\"#e6f5d0\"],[0.7,\"#b8e186\"],[0.8,\"#7fbc41\"],[0.9,\"#4d9221\"],[1,\"#276419\"]],\"sequential\":[[0.0,\"#0d0887\"],[0.1111111111111111,\"#46039f\"],[0.2222222222222222,\"#7201a8\"],[0.3333333333333333,\"#9c179e\"],[0.4444444444444444,\"#bd3786\"],[0.5555555555555556,\"#d8576b\"],[0.6666666666666666,\"#ed7953\"],[0.7777777777777778,\"#fb9f3a\"],[0.8888888888888888,\"#fdca26\"],[1.0,\"#f0f921\"]],\"sequentialminus\":[[0.0,\"#0d0887\"],[0.1111111111111111,\"#46039f\"],[0.2222222222222222,\"#7201a8\"],[0.3333333333333333,\"#9c179e\"],[0.4444444444444444,\"#bd3786\"],[0.5555555555555556,\"#d8576b\"],[0.6666666666666666,\"#ed7953\"],[0.7777777777777778,\"#fb9f3a\"],[0.8888888888888888,\"#fdca26\"],[1.0,\"#f0f921\"]]},\"colorway\":[\"#636efa\",\"#EF553B\",\"#00cc96\",\"#ab63fa\",\"#FFA15A\",\"#19d3f3\",\"#FF6692\",\"#B6E880\",\"#FF97FF\",\"#FECB52\"],\"font\":{\"color\":\"#2a3f5f\"},\"geo\":{\"bgcolor\":\"white\",\"lakecolor\":\"white\",\"landcolor\":\"white\",\"showlakes\":true,\"showland\":true,\"subunitcolor\":\"#C8D4E3\"},\"hoverlabel\":{\"align\":\"left\"},\"hovermode\":\"closest\",\"mapbox\":{\"style\":\"light\"},\"paper_bgcolor\":\"white\",\"plot_bgcolor\":\"white\",\"polar\":{\"angularaxis\":{\"gridcolor\":\"#EBF0F8\",\"linecolor\":\"#EBF0F8\",\"ticks\":\"\"},\"bgcolor\":\"white\",\"radialaxis\":{\"gridcolor\":\"#EBF0F8\",\"linecolor\":\"#EBF0F8\",\"ticks\":\"\"}},\"scene\":{\"xaxis\":{\"backgroundcolor\":\"white\",\"gridcolor\":\"#DFE8F3\",\"gridwidth\":2,\"linecolor\":\"#EBF0F8\",\"showbackground\":true,\"ticks\":\"\",\"zerolinecolor\":\"#EBF0F8\"},\"yaxis\":{\"backgroundcolor\":\"white\",\"gridcolor\":\"#DFE8F3\",\"gridwidth\":2,\"linecolor\":\"#EBF0F8\",\"showbackground\":true,\"ticks\":\"\",\"zerolinecolor\":\"#EBF0F8\"},\"zaxis\":{\"backgroundcolor\":\"white\",\"gridcolor\":\"#DFE8F3\",\"gridwidth\":2,\"linecolor\":\"#EBF0F8\",\"showbackground\":true,\"ticks\":\"\",\"zerolinecolor\":\"#EBF0F8\"}},\"shapedefaults\":{\"line\":{\"color\":\"#2a3f5f\"}},\"ternary\":{\"aaxis\":{\"gridcolor\":\"#DFE8F3\",\"linecolor\":\"#A2B1C6\",\"ticks\":\"\"},\"baxis\":{\"gridcolor\":\"#DFE8F3\",\"linecolor\":\"#A2B1C6\",\"ticks\":\"\"},\"bgcolor\":\"white\",\"caxis\":{\"gridcolor\":\"#DFE8F3\",\"linecolor\":\"#A2B1C6\",\"ticks\":\"\"}},\"title\":{\"x\":0.05},\"xaxis\":{\"automargin\":true,\"gridcolor\":\"#EBF0F8\",\"linecolor\":\"#EBF0F8\",\"ticks\":\"\",\"title\":{\"standoff\":15},\"zerolinecolor\":\"#EBF0F8\",\"zerolinewidth\":2},\"yaxis\":{\"automargin\":true,\"gridcolor\":\"#EBF0F8\",\"linecolor\":\"#EBF0F8\",\"ticks\":\"\",\"title\":{\"standoff\":15},\"zerolinecolor\":\"#EBF0F8\",\"zerolinewidth\":2}}},\"coloraxis\":{\"colorbar\":{\"title\":{\"text\":\"Salario en USD\"}},\"colorscale\":[[0.0,\"rgb(103,0,31)\"],[0.1,\"rgb(178,24,43)\"],[0.2,\"rgb(214,96,77)\"],[0.3,\"rgb(244,165,130)\"],[0.4,\"rgb(253,219,199)\"],[0.5,\"rgb(247,247,247)\"],[0.6,\"rgb(209,229,240)\"],[0.7,\"rgb(146,197,222)\"],[0.8,\"rgb(67,147,195)\"],[0.9,\"rgb(33,102,172)\"],[1.0,\"rgb(5,48,97)\"]],\"cmid\":108348.01166666667},\"legend\":{\"tracegroupgap\":0},\"margin\":{\"t\":60},\"title\":{\"text\":\"<i> Tama\\u00f1o de compa\\u00f1\\u00eda </i> , <i> Remote Ratio </i> , <i> Salario </i>\",\"x\":0.5},\"font\":{\"family\":\"Rubik\",\"size\":21},\"height\":500},                        {\"responsive\": true}                    ).then(function(){\n",
       "                            \n",
       "var gd = document.getElementById('2dfcd57f-7202-4a15-98c6-aa343f217989');\n",
       "var x = new MutationObserver(function (mutations, observer) {{\n",
       "        var display = window.getComputedStyle(gd).display;\n",
       "        if (!display || display === 'none') {{\n",
       "            console.log([gd, 'removed!']);\n",
       "            Plotly.purge(gd);\n",
       "            observer.disconnect();\n",
       "        }}\n",
       "}});\n",
       "\n",
       "// Listen for the removal of the full notebook cells\n",
       "var notebookContainer = gd.closest('#notebook-container');\n",
       "if (notebookContainer) {{\n",
       "    x.observe(notebookContainer, {childList: true});\n",
       "}}\n",
       "\n",
       "// Listen for the clearing of the current output cell\n",
       "var outputEl = gd.closest('.output');\n",
       "if (outputEl) {{\n",
       "    x.observe(outputEl, {childList: true});\n",
       "}}\n",
       "\n",
       "                        })                };                });            </script>        </div>"
      ]
     },
     "metadata": {},
     "output_type": "display_data"
    }
   ],
   "source": [
    "company_remote_data = data2.groupby(['company_size', 'remote_ratio', 'Salario en USD']).size().reset_index().rename(columns={0: 'count'})\n",
    "\n",
    "fig = px.treemap(company_remote_data, path=[px.Constant(\"Grafico Treemap\"), 'company_size', 'remote_ratio'], values='count', color='Salario en USD', hover_data=['count'],color_continuous_scale='RdBu',color_continuous_midpoint=np.average(company_remote_data['Salario en USD'], weights=company_remote_data['count']))\n",
    "\n",
    "fig.update_traces(textinfo=\"label+percent parent\")\n",
    "\n",
    "fig.update_layout(title_text=\"<i> Tamaño de compañía </i> , <i> Remote Ratio </i> , <i> Salario </i>\", title_x=0.5, height=500, template='plotly_white',font=dict(family=\"Rubik\",size=21))\n",
    "\n",
    "fig.show()\n"
   ]
  },
  {
   "cell_type": "code",
   "execution_count": 235,
   "metadata": {},
   "outputs": [
    {
     "data": {
      "text/plain": [
       "Data Scientist               142\n",
       "Data Engineer                132\n",
       "Data Analyst                  97\n",
       "Machine Learning Engineer     41\n",
       "Research Scientist            15\n",
       "Name: Puesto Laboral, dtype: int64"
      ]
     },
     "execution_count": 235,
     "metadata": {},
     "output_type": "execute_result"
    }
   ],
   "source": [
    "data2['Puesto Laboral'].value_counts().head()"
   ]
  },
  {
   "cell_type": "code",
   "execution_count": 249,
   "metadata": {},
   "outputs": [
    {
     "data": {
      "text/html": [
       "<div>\n",
       "<style scoped>\n",
       "    .dataframe tbody tr th:only-of-type {\n",
       "        vertical-align: middle;\n",
       "    }\n",
       "\n",
       "    .dataframe tbody tr th {\n",
       "        vertical-align: top;\n",
       "    }\n",
       "\n",
       "    .dataframe thead th {\n",
       "        text-align: right;\n",
       "    }\n",
       "</style>\n",
       "<table border=\"1\" class=\"dataframe\">\n",
       "  <thead>\n",
       "    <tr style=\"text-align: right;\">\n",
       "      <th></th>\n",
       "      <th>work_year</th>\n",
       "      <th>experience_level</th>\n",
       "      <th>employment_type</th>\n",
       "      <th>Puesto Laboral</th>\n",
       "      <th>salary</th>\n",
       "      <th>salary_currency</th>\n",
       "      <th>Salario en USD</th>\n",
       "      <th>employee_residence</th>\n",
       "      <th>remote_ratio</th>\n",
       "      <th>Ubicacion</th>\n",
       "      <th>company_size</th>\n",
       "    </tr>\n",
       "  </thead>\n",
       "  <tbody>\n",
       "    <tr>\n",
       "      <th>0</th>\n",
       "      <td>2020</td>\n",
       "      <td>MI</td>\n",
       "      <td>FT</td>\n",
       "      <td>Data Scientist</td>\n",
       "      <td>70000</td>\n",
       "      <td>EUR</td>\n",
       "      <td>79833</td>\n",
       "      <td>DE</td>\n",
       "      <td>On site</td>\n",
       "      <td>DEU</td>\n",
       "      <td>L</td>\n",
       "    </tr>\n",
       "    <tr>\n",
       "      <th>4</th>\n",
       "      <td>2020</td>\n",
       "      <td>SE</td>\n",
       "      <td>FT</td>\n",
       "      <td>Machine Learning Engineer</td>\n",
       "      <td>150000</td>\n",
       "      <td>USD</td>\n",
       "      <td>150000</td>\n",
       "      <td>US</td>\n",
       "      <td>On Hybrid</td>\n",
       "      <td>USA</td>\n",
       "      <td>L</td>\n",
       "    </tr>\n",
       "    <tr>\n",
       "      <th>5</th>\n",
       "      <td>2020</td>\n",
       "      <td>EN</td>\n",
       "      <td>FT</td>\n",
       "      <td>Data Analyst</td>\n",
       "      <td>72000</td>\n",
       "      <td>USD</td>\n",
       "      <td>72000</td>\n",
       "      <td>US</td>\n",
       "      <td>Remote</td>\n",
       "      <td>USA</td>\n",
       "      <td>L</td>\n",
       "    </tr>\n",
       "    <tr>\n",
       "      <th>7</th>\n",
       "      <td>2020</td>\n",
       "      <td>MI</td>\n",
       "      <td>FT</td>\n",
       "      <td>Data Scientist</td>\n",
       "      <td>11000000</td>\n",
       "      <td>HUF</td>\n",
       "      <td>35735</td>\n",
       "      <td>HU</td>\n",
       "      <td>On Hybrid</td>\n",
       "      <td>HUN</td>\n",
       "      <td>L</td>\n",
       "    </tr>\n",
       "    <tr>\n",
       "      <th>10</th>\n",
       "      <td>2020</td>\n",
       "      <td>EN</td>\n",
       "      <td>FT</td>\n",
       "      <td>Data Scientist</td>\n",
       "      <td>45000</td>\n",
       "      <td>EUR</td>\n",
       "      <td>51321</td>\n",
       "      <td>FR</td>\n",
       "      <td>On site</td>\n",
       "      <td>FRA</td>\n",
       "      <td>S</td>\n",
       "    </tr>\n",
       "    <tr>\n",
       "      <th>...</th>\n",
       "      <td>...</td>\n",
       "      <td>...</td>\n",
       "      <td>...</td>\n",
       "      <td>...</td>\n",
       "      <td>...</td>\n",
       "      <td>...</td>\n",
       "      <td>...</td>\n",
       "      <td>...</td>\n",
       "      <td>...</td>\n",
       "      <td>...</td>\n",
       "      <td>...</td>\n",
       "    </tr>\n",
       "    <tr>\n",
       "      <th>601</th>\n",
       "      <td>2022</td>\n",
       "      <td>EN</td>\n",
       "      <td>FT</td>\n",
       "      <td>Data Analyst</td>\n",
       "      <td>52000</td>\n",
       "      <td>USD</td>\n",
       "      <td>52000</td>\n",
       "      <td>CA</td>\n",
       "      <td>On site</td>\n",
       "      <td>CAN</td>\n",
       "      <td>M</td>\n",
       "    </tr>\n",
       "    <tr>\n",
       "      <th>602</th>\n",
       "      <td>2022</td>\n",
       "      <td>SE</td>\n",
       "      <td>FT</td>\n",
       "      <td>Data Engineer</td>\n",
       "      <td>154000</td>\n",
       "      <td>USD</td>\n",
       "      <td>154000</td>\n",
       "      <td>US</td>\n",
       "      <td>Remote</td>\n",
       "      <td>USA</td>\n",
       "      <td>M</td>\n",
       "    </tr>\n",
       "    <tr>\n",
       "      <th>603</th>\n",
       "      <td>2022</td>\n",
       "      <td>SE</td>\n",
       "      <td>FT</td>\n",
       "      <td>Data Engineer</td>\n",
       "      <td>126000</td>\n",
       "      <td>USD</td>\n",
       "      <td>126000</td>\n",
       "      <td>US</td>\n",
       "      <td>Remote</td>\n",
       "      <td>USA</td>\n",
       "      <td>M</td>\n",
       "    </tr>\n",
       "    <tr>\n",
       "      <th>604</th>\n",
       "      <td>2022</td>\n",
       "      <td>SE</td>\n",
       "      <td>FT</td>\n",
       "      <td>Data Analyst</td>\n",
       "      <td>129000</td>\n",
       "      <td>USD</td>\n",
       "      <td>129000</td>\n",
       "      <td>US</td>\n",
       "      <td>On site</td>\n",
       "      <td>USA</td>\n",
       "      <td>M</td>\n",
       "    </tr>\n",
       "    <tr>\n",
       "      <th>605</th>\n",
       "      <td>2022</td>\n",
       "      <td>SE</td>\n",
       "      <td>FT</td>\n",
       "      <td>Data Analyst</td>\n",
       "      <td>150000</td>\n",
       "      <td>USD</td>\n",
       "      <td>150000</td>\n",
       "      <td>US</td>\n",
       "      <td>Remote</td>\n",
       "      <td>USA</td>\n",
       "      <td>M</td>\n",
       "    </tr>\n",
       "  </tbody>\n",
       "</table>\n",
       "<p>427 rows × 11 columns</p>\n",
       "</div>"
      ],
      "text/plain": [
       "     work_year experience_level employment_type             Puesto Laboral  \\\n",
       "0         2020               MI              FT             Data Scientist   \n",
       "4         2020               SE              FT  Machine Learning Engineer   \n",
       "5         2020               EN              FT               Data Analyst   \n",
       "7         2020               MI              FT             Data Scientist   \n",
       "10        2020               EN              FT             Data Scientist   \n",
       "..         ...              ...             ...                        ...   \n",
       "601       2022               EN              FT               Data Analyst   \n",
       "602       2022               SE              FT              Data Engineer   \n",
       "603       2022               SE              FT              Data Engineer   \n",
       "604       2022               SE              FT               Data Analyst   \n",
       "605       2022               SE              FT               Data Analyst   \n",
       "\n",
       "       salary salary_currency  Salario en USD employee_residence remote_ratio  \\\n",
       "0       70000             EUR           79833                 DE      On site   \n",
       "4      150000             USD          150000                 US    On Hybrid   \n",
       "5       72000             USD           72000                 US       Remote   \n",
       "7    11000000             HUF           35735                 HU    On Hybrid   \n",
       "10      45000             EUR           51321                 FR      On site   \n",
       "..        ...             ...             ...                ...          ...   \n",
       "601     52000             USD           52000                 CA      On site   \n",
       "602    154000             USD          154000                 US       Remote   \n",
       "603    126000             USD          126000                 US       Remote   \n",
       "604    129000             USD          129000                 US      On site   \n",
       "605    150000             USD          150000                 US       Remote   \n",
       "\n",
       "    Ubicacion company_size  \n",
       "0         DEU            L  \n",
       "4         USA            L  \n",
       "5         USA            L  \n",
       "7         HUN            L  \n",
       "10        FRA            S  \n",
       "..        ...          ...  \n",
       "601       CAN            M  \n",
       "602       USA            M  \n",
       "603       USA            M  \n",
       "604       USA            M  \n",
       "605       USA            M  \n",
       "\n",
       "[427 rows x 11 columns]"
      ]
     },
     "execution_count": 249,
     "metadata": {},
     "output_type": "execute_result"
    }
   ],
   "source": [
    "data3 = data2.loc[data2['Puesto Laboral'].isin(['Data Scientist','Data Engineer','Data Analyst','Machine Learning Engineer','Research Scientist'])] \n",
    "data3"
   ]
  },
  {
   "cell_type": "markdown",
   "metadata": {},
   "source": [
    "Grafico 3D Scatter"
   ]
  },
  {
   "cell_type": "code",
   "execution_count": 250,
   "metadata": {},
   "outputs": [
    {
     "data": {
      "application/vnd.plotly.v1+json": {
       "config": {
        "plotlyServerURL": "https://plot.ly"
       },
       "data": [
        {
         "hovertemplate": "experience_level=%{x}<br>Puesto Laboral=%{y}<br>Salario en USD=%{marker.color}<extra></extra>",
         "legendgroup": "",
         "marker": {
          "color": [
           79833,
           150000,
           72000,
           35735,
           51321,
           40481,
           39916,
           85000,
           8000,
           41689,
           43331,
           47899,
           42000,
           33511,
           68428,
           46759,
           74130,
           250000,
           10000,
           138000,
           45760,
           106000,
           112872,
           76958,
           188000,
           105000,
           70139,
           6072,
           91000,
           54742,
           38776,
           118000,
           120000,
           138350,
           110000,
           130800,
           21669,
           45618,
           62726,
           49268,
           105000,
           91237,
           62726,
           42197,
           82528,
           53192,
           80000,
           140000,
           47282,
           28476,
           59102,
           80000,
           29751,
           75000,
           150000,
           62000,
           73000,
           51519,
           187442,
           115000,
           150000,
           30428,
           94564,
           45391,
           50000,
           90000,
           200000,
           50000,
           10354,
           9466,
           20000,
           49646,
           100000,
           90000,
           80000,
           135000,
           82500,
           100000,
           82744,
           62649,
           90000,
           150000,
           75774,
           13400,
           119059,
           125000,
           28369,
           80000,
           82528,
           60000,
           60757,
           2859,
           40038,
           81000,
           5679,
           90734,
           26005,
           4000,
           76833,
           74000,
           21844,
           96113,
           147000,
           24342,
           61467,
           37825,
           50000,
           160000,
           12901,
           200000,
           165000,
           20000,
           24823,
           56738,
           66022,
           24823,
           90734,
           88654,
           46597,
           116914,
           33808,
           56256,
           87738,
           88654,
           135000,
           71786,
           200000,
           63810,
           46809,
           4000,
           21637,
           103691,
           80000,
           110000,
           165000,
           72212,
           36643,
           12103,
           96282,
           115000,
           90000,
           28399,
           93000,
           200000,
           185000,
           130000,
           63831,
           16904,
           66265,
           25532,
           93150,
           111775,
           28016,
           65013,
           72500,
           85000,
           77684,
           100000,
           58000,
           20171,
           112000,
           100000,
           69741,
           69999,
           109000,
           51064,
           135000,
           155000,
           120600,
           130000,
           90000,
           170000,
           150000,
           102100,
           84900,
           136620,
           99360,
           117789,
           104702,
           146000,
           123000,
           52351,
           99000,
           116000,
           106260,
           126500,
           242000,
           200000,
           65438,
           39263,
           78526,
           52351,
           165220,
           45807,
           120160,
           90320,
           181940,
           132320,
           220110,
           160080,
           180000,
           120000,
           124190,
           130000,
           110000,
           170000,
           115500,
           112900,
           90320,
           112900,
           90320,
           165400,
           132320,
           167000,
           243900,
           136600,
           109280,
           128875,
           93700,
           156600,
           108800,
           95550,
           113000,
           135000,
           167000,
           123000,
           78526,
           65438,
           150000,
           211500,
           130000,
           61300,
           130000,
           61300,
           160000,
           138600,
           136000,
           58000,
           170000,
           123000,
           189650,
           164996,
           132000,
           165400,
           136994,
           101570,
           128875,
           93700,
           132320,
           37300,
           164000,
           155000,
           124333,
           98158,
           112900,
           90320,
           87932,
           117789,
           215300,
           158200,
           209100,
           154600,
           115934,
           81666,
           175000,
           98158,
           58000,
           183600,
           52351,
           180000,
           71982,
           45807,
           65949,
           49461,
           78526,
           58894,
           260000,
           63900,
           180000,
           80000,
           82900,
           100800,
           49461,
           140400,
           39263,
           43966,
           32974,
           87932,
           76940,
           104702,
           91614,
           65949,
           87932,
           189650,
           164996,
           43966,
           32974,
           98158,
           78526,
           215300,
           76940,
           209100,
           154600,
           180000,
           80000,
           120000,
           105000,
           31615,
           54957,
           18442,
           120000,
           144000,
           104890,
           100000,
           140000,
           135000,
           50000,
           220000,
           140000,
           183228,
           91614,
           185100,
           220000,
           200000,
           120000,
           120000,
           65000,
           324000,
           216000,
           210000,
           120000,
           230000,
           100000,
           100000,
           35590,
           100000,
           58035,
           165000,
           93427,
           52396,
           62651,
           40000,
           87425,
           115000,
           86703,
           64849,
           120000,
           65000,
           71444,
           48000,
           68147,
           122346,
           69336,
           20000,
           135000,
           78000,
           135000,
           100000,
           90320,
           85000,
           75000,
           214000,
           192600,
           112900,
           155000,
           141300,
           102100,
           115934,
           81666,
           206699,
           99100,
           130000,
           115000,
           110500,
           130000,
           99050,
           160000,
           205300,
           140400,
           176000,
           144000,
           200100,
           160000,
           145000,
           70500,
           205300,
           140400,
           175100,
           140250,
           116150,
           54000,
           170000,
           65438,
           80000,
           140000,
           210000,
           140000,
           100000,
           69000,
           210000,
           140000,
           210000,
           150075,
           100000,
           25000,
           126500,
           106260,
           220110,
           160080,
           105000,
           110925,
           45807,
           140000,
           99000,
           60000,
           230000,
           150000,
           210000,
           170000,
           160000,
           130000,
           67000,
           52000,
           154000,
           126000,
           129000,
           150000
          ],
          "coloraxis": "coloraxis",
          "symbol": "circle"
         },
         "mode": "markers",
         "name": "",
         "scene": "scene",
         "showlegend": false,
         "type": "scatter3d",
         "x": [
          "MI",
          "SE",
          "EN",
          "MI",
          "EN",
          "MI",
          "EN",
          "MI",
          "MI",
          "EN",
          "MI",
          "SE",
          "EN",
          "SE",
          "SE",
          "MI",
          "MI",
          "EN",
          "EN",
          "EN",
          "MI",
          "MI",
          "MI",
          "MI",
          "SE",
          "MI",
          "MI",
          "EN",
          "EN",
          "EN",
          "MI",
          "MI",
          "SE",
          "MI",
          "MI",
          "MI",
          "EN",
          "SE",
          "EN",
          "EN",
          "EN",
          "SE",
          "MI",
          "MI",
          "EN",
          "SE",
          "EN",
          "MI",
          "MI",
          "MI",
          "EN",
          "SE",
          "EN",
          "MI",
          "SE",
          "MI",
          "MI",
          "MI",
          "MI",
          "SE",
          "SE",
          "EN",
          "SE",
          "MI",
          "MI",
          "EN",
          "MI",
          "EN",
          "EN",
          "MI",
          "EN",
          "EN",
          "EN",
          "MI",
          "EN",
          "MI",
          "MI",
          "MI",
          "SE",
          "MI",
          "MI",
          "MI",
          "MI",
          "EN",
          "MI",
          "EN",
          "MI",
          "EN",
          "MI",
          "EN",
          "SE",
          "MI",
          "MI",
          "EN",
          "MI",
          "MI",
          "MI",
          "MI",
          "SE",
          "MI",
          "EN",
          "SE",
          "MI",
          "SE",
          "MI",
          "MI",
          "SE",
          "MI",
          "MI",
          "SE",
          "SE",
          "MI",
          "MI",
          "MI",
          "MI",
          "EN",
          "MI",
          "MI",
          "MI",
          "MI",
          "MI",
          "MI",
          "SE",
          "MI",
          "SE",
          "SE",
          "SE",
          "MI",
          "MI",
          "EN",
          "EN",
          "SE",
          "MI",
          "MI",
          "SE",
          "MI",
          "EN",
          "MI",
          "SE",
          "MI",
          "EN",
          "EN",
          "MI",
          "MI",
          "SE",
          "MI",
          "SE",
          "MI",
          "SE",
          "MI",
          "MI",
          "MI",
          "MI",
          "EN",
          "EN",
          "EN",
          "SE",
          "EN",
          "EN",
          "SE",
          "MI",
          "EN",
          "MI",
          "MI",
          "MI",
          "MI",
          "SE",
          "SE",
          "SE",
          "MI",
          "MI",
          "MI",
          "MI",
          "SE",
          "SE",
          "SE",
          "SE",
          "SE",
          "SE",
          "SE",
          "SE",
          "EN",
          "SE",
          "SE",
          "MI",
          "MI",
          "EX",
          "EX",
          "MI",
          "MI",
          "MI",
          "MI",
          "SE",
          "EN",
          "SE",
          "SE",
          "SE",
          "SE",
          "SE",
          "SE",
          "SE",
          "SE",
          "SE",
          "EX",
          "EX",
          "SE",
          "MI",
          "SE",
          "SE",
          "SE",
          "SE",
          "SE",
          "SE",
          "MI",
          "SE",
          "SE",
          "SE",
          "SE",
          "SE",
          "SE",
          "SE",
          "SE",
          "SE",
          "SE",
          "SE",
          "SE",
          "SE",
          "SE",
          "SE",
          "SE",
          "SE",
          "SE",
          "SE",
          "SE",
          "SE",
          "SE",
          "SE",
          "MI",
          "SE",
          "SE",
          "SE",
          "SE",
          "SE",
          "SE",
          "SE",
          "SE",
          "SE",
          "SE",
          "SE",
          "EN",
          "SE",
          "SE",
          "MI",
          "MI",
          "SE",
          "SE",
          "MI",
          "MI",
          "SE",
          "SE",
          "SE",
          "SE",
          "SE",
          "SE",
          "SE",
          "MI",
          "MI",
          "SE",
          "MI",
          "SE",
          "MI",
          "MI",
          "MI",
          "MI",
          "MI",
          "MI",
          "SE",
          "MI",
          "SE",
          "SE",
          "MI",
          "SE",
          "MI",
          "SE",
          "MI",
          "MI",
          "MI",
          "MI",
          "MI",
          "MI",
          "MI",
          "MI",
          "MI",
          "SE",
          "SE",
          "MI",
          "MI",
          "MI",
          "MI",
          "SE",
          "MI",
          "SE",
          "SE",
          "SE",
          "SE",
          "MI",
          "SE",
          "MI",
          "MI",
          "EN",
          "EN",
          "SE",
          "SE",
          "SE",
          "SE",
          "MI",
          "MI",
          "SE",
          "SE",
          "MI",
          "MI",
          "SE",
          "SE",
          "MI",
          "MI",
          "SE",
          "SE",
          "EX",
          "EX",
          "SE",
          "SE",
          "SE",
          "EN",
          "MI",
          "MI",
          "SE",
          "EN",
          "SE",
          "SE",
          "EN",
          "SE",
          "EN",
          "MI",
          "SE",
          "EN",
          "MI",
          "EN",
          "EN",
          "SE",
          "MI",
          "MI",
          "MI",
          "MI",
          "MI",
          "MI",
          "MI",
          "SE",
          "SE",
          "SE",
          "MI",
          "MI",
          "SE",
          "SE",
          "SE",
          "SE",
          "MI",
          "MI",
          "SE",
          "SE",
          "MI",
          "MI",
          "SE",
          "SE",
          "SE",
          "SE",
          "SE",
          "SE",
          "SE",
          "SE",
          "SE",
          "SE",
          "SE",
          "SE",
          "SE",
          "SE",
          "SE",
          "SE",
          "SE",
          "SE",
          "SE",
          "SE",
          "SE",
          "MI",
          "SE",
          "SE",
          "SE",
          "SE",
          "SE",
          "SE",
          "SE",
          "SE",
          "SE",
          "SE",
          "SE",
          "SE",
          "SE",
          "SE",
          "SE",
          "SE",
          "SE",
          "SE",
          "MI",
          "SE",
          "SE",
          "SE",
          "SE",
          "SE",
          "SE",
          "SE",
          "MI",
          "MI",
          "EN",
          "EN",
          "SE",
          "SE",
          "SE",
          "SE"
         ],
         "y": [
          "Data Scientist",
          "Machine Learning Engineer",
          "Data Analyst",
          "Data Scientist",
          "Data Scientist",
          "Data Scientist",
          "Data Scientist",
          "Data Analyst",
          "Data Analyst",
          "Data Engineer",
          "Machine Learning Engineer",
          "Data Engineer",
          "Research Scientist",
          "Data Engineer",
          "Data Scientist",
          "Data Analyst",
          "Data Engineer",
          "Machine Learning Engineer",
          "Data Analyst",
          "Machine Learning Engineer",
          "Data Scientist",
          "Data Engineer",
          "Data Engineer",
          "Data Scientist",
          "Data Engineer",
          "Data Scientist",
          "Data Engineer",
          "Data Analyst",
          "Data Analyst",
          "Data Engineer",
          "Data Scientist",
          "Data Scientist",
          "Data Scientist",
          "Data Scientist",
          "Data Engineer",
          "Data Engineer",
          "Data Scientist",
          "Machine Learning Engineer",
          "Data Scientist",
          "Data Scientist",
          "Data Scientist",
          "Data Scientist",
          "Data Scientist",
          "Data Scientist",
          "Research Scientist",
          "Data Scientist",
          "Data Analyst",
          "Data Engineer",
          "Machine Learning Engineer",
          "Data Engineer",
          "Data Analyst",
          "Data Analyst",
          "Data Scientist",
          "Data Analyst",
          "Data Engineer",
          "Data Analyst",
          "Data Scientist",
          "Data Analyst",
          "Research Scientist",
          "Data Engineer",
          "Data Engineer",
          "Data Engineer",
          "Machine Learning Engineer",
          "Data Engineer",
          "Data Scientist",
          "Data Analyst",
          "Data Engineer",
          "Data Analyst",
          "Data Analyst",
          "Data Scientist",
          "Machine Learning Engineer",
          "Data Scientist",
          "Data Scientist",
          "Data Analyst",
          "Data Scientist",
          "Data Analyst",
          "Data Scientist",
          "Data Engineer",
          "Machine Learning Engineer",
          "Research Scientist",
          "Data Engineer",
          "Data Scientist",
          "Data Scientist",
          "Data Scientist",
          "Data Scientist",
          "Machine Learning Engineer",
          "Data Engineer",
          "Data Engineer",
          "Data Engineer",
          "Data Analyst",
          "Research Scientist",
          "Data Scientist",
          "Data Scientist",
          "Machine Learning Engineer",
          "Data Scientist",
          "Data Scientist",
          "Data Engineer",
          "Data Engineer",
          "Data Engineer",
          "Machine Learning Engineer",
          "Machine Learning Engineer",
          "Research Scientist",
          "Data Scientist",
          "Machine Learning Engineer",
          "Data Scientist",
          "Data Scientist",
          "Research Scientist",
          "Data Scientist",
          "Data Scientist",
          "Machine Learning Engineer",
          "Data Engineer",
          "Data Engineer",
          "Machine Learning Engineer",
          "Research Scientist",
          "Data Engineer",
          "Machine Learning Engineer",
          "Data Scientist",
          "Machine Learning Engineer",
          "Machine Learning Engineer",
          "Data Scientist",
          "Data Scientist",
          "Data Scientist",
          "Data Scientist",
          "Data Scientist",
          "Data Scientist",
          "Data Analyst",
          "Data Analyst",
          "Research Scientist",
          "Data Scientist",
          "Data Scientist",
          "Data Engineer",
          "Data Scientist",
          "Data Analyst",
          "Data Engineer",
          "Data Scientist",
          "Data Engineer",
          "Data Scientist",
          "Data Engineer",
          "Data Engineer",
          "Data Scientist",
          "Data Scientist",
          "Data Scientist",
          "Data Analyst",
          "Data Engineer",
          "Machine Learning Engineer",
          "Data Scientist",
          "Data Analyst",
          "Data Scientist",
          "Machine Learning Engineer",
          "Data Scientist",
          "Data Engineer",
          "Data Engineer",
          "Data Engineer",
          "Data Engineer",
          "Data Engineer",
          "Machine Learning Engineer",
          "Data Scientist",
          "Data Scientist",
          "Data Scientist",
          "Data Scientist",
          "Data Engineer",
          "Research Scientist",
          "Data Engineer",
          "Research Scientist",
          "Data Scientist",
          "Machine Learning Engineer",
          "Data Engineer",
          "Data Analyst",
          "Data Analyst",
          "Data Scientist",
          "Data Scientist",
          "Data Engineer",
          "Data Engineer",
          "Data Analyst",
          "Data Analyst",
          "Data Scientist",
          "Data Scientist",
          "Data Scientist",
          "Data Scientist",
          "Data Scientist",
          "Data Scientist",
          "Data Engineer",
          "Data Analyst",
          "Data Analyst",
          "Data Analyst",
          "Data Analyst",
          "Data Engineer",
          "Data Engineer",
          "Data Scientist",
          "Data Scientist",
          "Data Engineer",
          "Data Engineer",
          "Data Scientist",
          "Data Engineer",
          "Data Scientist",
          "Data Analyst",
          "Data Engineer",
          "Data Engineer",
          "Data Engineer",
          "Data Engineer",
          "Data Scientist",
          "Data Scientist",
          "Data Analyst",
          "Data Analyst",
          "Data Analyst",
          "Data Analyst",
          "Data Analyst",
          "Data Analyst",
          "Data Analyst",
          "Data Analyst",
          "Data Analyst",
          "Data Engineer",
          "Data Engineer",
          "Data Analyst",
          "Data Engineer",
          "Data Analyst",
          "Data Analyst",
          "Data Engineer",
          "Data Engineer",
          "Data Engineer",
          "Data Engineer",
          "Data Scientist",
          "Data Engineer",
          "Data Analyst",
          "Data Scientist",
          "Data Scientist",
          "Data Engineer",
          "Data Engineer",
          "Data Scientist",
          "Data Scientist",
          "Data Analyst",
          "Data Analyst",
          "Data Analyst",
          "Data Analyst",
          "Data Engineer",
          "Data Scientist",
          "Data Engineer",
          "Data Analyst",
          "Data Scientist",
          "Data Scientist",
          "Machine Learning Engineer",
          "Machine Learning Engineer",
          "Data Analyst",
          "Data Engineer",
          "Data Engineer",
          "Data Engineer",
          "Data Analyst",
          "Data Analyst",
          "Data Engineer",
          "Machine Learning Engineer",
          "Data Analyst",
          "Data Engineer",
          "Machine Learning Engineer",
          "Machine Learning Engineer",
          "Data Analyst",
          "Data Analyst",
          "Machine Learning Engineer",
          "Data Engineer",
          "Data Scientist",
          "Data Scientist",
          "Data Engineer",
          "Data Engineer",
          "Data Analyst",
          "Data Analyst",
          "Data Engineer",
          "Data Engineer",
          "Data Analyst",
          "Data Engineer",
          "Data Analyst",
          "Data Scientist",
          "Data Scientist",
          "Data Scientist",
          "Data Engineer",
          "Data Engineer",
          "Data Engineer",
          "Data Engineer",
          "Data Scientist",
          "Data Engineer",
          "Data Scientist",
          "Data Scientist",
          "Data Engineer",
          "Data Engineer",
          "Data Engineer",
          "Data Scientist",
          "Data Analyst",
          "Data Analyst",
          "Data Analyst",
          "Data Engineer",
          "Data Engineer",
          "Data Engineer",
          "Data Engineer",
          "Data Engineer",
          "Data Engineer",
          "Machine Learning Engineer",
          "Machine Learning Engineer",
          "Data Analyst",
          "Data Analyst",
          "Data Engineer",
          "Data Engineer",
          "Data Scientist",
          "Data Engineer",
          "Data Engineer",
          "Data Engineer",
          "Data Engineer",
          "Data Engineer",
          "Machine Learning Engineer",
          "Data Engineer",
          "Data Scientist",
          "Data Engineer",
          "Data Scientist",
          "Data Engineer",
          "Research Scientist",
          "Data Scientist",
          "Data Engineer",
          "Data Scientist",
          "Data Analyst",
          "Data Analyst",
          "Data Scientist",
          "Data Scientist",
          "Data Scientist",
          "Data Scientist",
          "Data Scientist",
          "Machine Learning Engineer",
          "Data Scientist",
          "Data Scientist",
          "Machine Learning Engineer",
          "Machine Learning Engineer",
          "Data Engineer",
          "Data Engineer",
          "Data Engineer",
          "Machine Learning Engineer",
          "Data Scientist",
          "Data Scientist",
          "Data Scientist",
          "Data Scientist",
          "Data Scientist",
          "Data Engineer",
          "Data Scientist",
          "Research Scientist",
          "Data Scientist",
          "Machine Learning Engineer",
          "Data Scientist",
          "Machine Learning Engineer",
          "Data Engineer",
          "Data Scientist",
          "Research Scientist",
          "Research Scientist",
          "Data Engineer",
          "Machine Learning Engineer",
          "Data Scientist",
          "Data Engineer",
          "Data Scientist",
          "Data Scientist",
          "Data Analyst",
          "Data Scientist",
          "Data Scientist",
          "Data Analyst",
          "Data Analyst",
          "Data Analyst",
          "Data Analyst",
          "Data Analyst",
          "Machine Learning Engineer",
          "Machine Learning Engineer",
          "Data Analyst",
          "Data Engineer",
          "Data Scientist",
          "Data Scientist",
          "Data Analyst",
          "Data Analyst",
          "Data Engineer",
          "Data Engineer",
          "Data Engineer",
          "Data Engineer",
          "Data Engineer",
          "Data Engineer",
          "Data Analyst",
          "Data Engineer",
          "Data Scientist",
          "Data Scientist",
          "Data Scientist",
          "Data Scientist",
          "Data Engineer",
          "Data Engineer",
          "Data Engineer",
          "Data Engineer",
          "Data Scientist",
          "Data Scientist",
          "Data Engineer",
          "Data Engineer",
          "Data Analyst",
          "Data Engineer",
          "Data Analyst",
          "Data Analyst",
          "Data Analyst",
          "Data Scientist",
          "Data Scientist",
          "Data Scientist",
          "Data Analyst",
          "Data Analyst",
          "Data Scientist",
          "Data Scientist",
          "Data Scientist",
          "Data Analyst",
          "Data Engineer",
          "Data Engineer",
          "Data Analyst",
          "Data Analyst",
          "Data Engineer",
          "Data Engineer",
          "Data Analyst",
          "Data Analyst",
          "Data Analyst",
          "Data Scientist",
          "Data Analyst",
          "Data Analyst",
          "Data Scientist",
          "Data Scientist",
          "Data Scientist",
          "Data Analyst",
          "Data Scientist",
          "Data Scientist",
          "Data Analyst",
          "Data Analyst",
          "Data Engineer",
          "Data Engineer",
          "Data Analyst",
          "Data Analyst"
         ],
         "z": [
          79833,
          150000,
          72000,
          35735,
          51321,
          40481,
          39916,
          85000,
          8000,
          41689,
          43331,
          47899,
          42000,
          33511,
          68428,
          46759,
          74130,
          250000,
          10000,
          138000,
          45760,
          106000,
          112872,
          76958,
          188000,
          105000,
          70139,
          6072,
          91000,
          54742,
          38776,
          118000,
          120000,
          138350,
          110000,
          130800,
          21669,
          45618,
          62726,
          49268,
          105000,
          91237,
          62726,
          42197,
          82528,
          53192,
          80000,
          140000,
          47282,
          28476,
          59102,
          80000,
          29751,
          75000,
          150000,
          62000,
          73000,
          51519,
          187442,
          115000,
          150000,
          30428,
          94564,
          45391,
          50000,
          90000,
          200000,
          50000,
          10354,
          9466,
          20000,
          49646,
          100000,
          90000,
          80000,
          135000,
          82500,
          100000,
          82744,
          62649,
          90000,
          150000,
          75774,
          13400,
          119059,
          125000,
          28369,
          80000,
          82528,
          60000,
          60757,
          2859,
          40038,
          81000,
          5679,
          90734,
          26005,
          4000,
          76833,
          74000,
          21844,
          96113,
          147000,
          24342,
          61467,
          37825,
          50000,
          160000,
          12901,
          200000,
          165000,
          20000,
          24823,
          56738,
          66022,
          24823,
          90734,
          88654,
          46597,
          116914,
          33808,
          56256,
          87738,
          88654,
          135000,
          71786,
          200000,
          63810,
          46809,
          4000,
          21637,
          103691,
          80000,
          110000,
          165000,
          72212,
          36643,
          12103,
          96282,
          115000,
          90000,
          28399,
          93000,
          200000,
          185000,
          130000,
          63831,
          16904,
          66265,
          25532,
          93150,
          111775,
          28016,
          65013,
          72500,
          85000,
          77684,
          100000,
          58000,
          20171,
          112000,
          100000,
          69741,
          69999,
          109000,
          51064,
          135000,
          155000,
          120600,
          130000,
          90000,
          170000,
          150000,
          102100,
          84900,
          136620,
          99360,
          117789,
          104702,
          146000,
          123000,
          52351,
          99000,
          116000,
          106260,
          126500,
          242000,
          200000,
          65438,
          39263,
          78526,
          52351,
          165220,
          45807,
          120160,
          90320,
          181940,
          132320,
          220110,
          160080,
          180000,
          120000,
          124190,
          130000,
          110000,
          170000,
          115500,
          112900,
          90320,
          112900,
          90320,
          165400,
          132320,
          167000,
          243900,
          136600,
          109280,
          128875,
          93700,
          156600,
          108800,
          95550,
          113000,
          135000,
          167000,
          123000,
          78526,
          65438,
          150000,
          211500,
          130000,
          61300,
          130000,
          61300,
          160000,
          138600,
          136000,
          58000,
          170000,
          123000,
          189650,
          164996,
          132000,
          165400,
          136994,
          101570,
          128875,
          93700,
          132320,
          37300,
          164000,
          155000,
          124333,
          98158,
          112900,
          90320,
          87932,
          117789,
          215300,
          158200,
          209100,
          154600,
          115934,
          81666,
          175000,
          98158,
          58000,
          183600,
          52351,
          180000,
          71982,
          45807,
          65949,
          49461,
          78526,
          58894,
          260000,
          63900,
          180000,
          80000,
          82900,
          100800,
          49461,
          140400,
          39263,
          43966,
          32974,
          87932,
          76940,
          104702,
          91614,
          65949,
          87932,
          189650,
          164996,
          43966,
          32974,
          98158,
          78526,
          215300,
          76940,
          209100,
          154600,
          180000,
          80000,
          120000,
          105000,
          31615,
          54957,
          18442,
          120000,
          144000,
          104890,
          100000,
          140000,
          135000,
          50000,
          220000,
          140000,
          183228,
          91614,
          185100,
          220000,
          200000,
          120000,
          120000,
          65000,
          324000,
          216000,
          210000,
          120000,
          230000,
          100000,
          100000,
          35590,
          100000,
          58035,
          165000,
          93427,
          52396,
          62651,
          40000,
          87425,
          115000,
          86703,
          64849,
          120000,
          65000,
          71444,
          48000,
          68147,
          122346,
          69336,
          20000,
          135000,
          78000,
          135000,
          100000,
          90320,
          85000,
          75000,
          214000,
          192600,
          112900,
          155000,
          141300,
          102100,
          115934,
          81666,
          206699,
          99100,
          130000,
          115000,
          110500,
          130000,
          99050,
          160000,
          205300,
          140400,
          176000,
          144000,
          200100,
          160000,
          145000,
          70500,
          205300,
          140400,
          175100,
          140250,
          116150,
          54000,
          170000,
          65438,
          80000,
          140000,
          210000,
          140000,
          100000,
          69000,
          210000,
          140000,
          210000,
          150075,
          100000,
          25000,
          126500,
          106260,
          220110,
          160080,
          105000,
          110925,
          45807,
          140000,
          99000,
          60000,
          230000,
          150000,
          210000,
          170000,
          160000,
          130000,
          67000,
          52000,
          154000,
          126000,
          129000,
          150000
         ]
        }
       ],
       "layout": {
        "coloraxis": {
         "colorbar": {
          "title": {
           "text": "Salario en USD"
          }
         },
         "colorscale": [
          [
           0,
           "#0d0887"
          ],
          [
           0.1111111111111111,
           "#46039f"
          ],
          [
           0.2222222222222222,
           "#7201a8"
          ],
          [
           0.3333333333333333,
           "#9c179e"
          ],
          [
           0.4444444444444444,
           "#bd3786"
          ],
          [
           0.5555555555555556,
           "#d8576b"
          ],
          [
           0.6666666666666666,
           "#ed7953"
          ],
          [
           0.7777777777777778,
           "#fb9f3a"
          ],
          [
           0.8888888888888888,
           "#fdca26"
          ],
          [
           1,
           "#f0f921"
          ]
         ]
        },
        "height": 500,
        "legend": {
         "tracegroupgap": 0
        },
        "margin": {
         "t": 60
        },
        "scene": {
         "domain": {
          "x": [
           0,
           1
          ],
          "y": [
           0,
           1
          ]
         },
         "xaxis": {
          "backgroundcolor": "rgb(200, 200, 230)",
          "gridcolor": "white",
          "showbackground": true,
          "title": {
           "text": "experience_level"
          },
          "zerolinecolor": "black"
         },
         "yaxis": {
          "backgroundcolor": "rgb(230, 200,230)",
          "gridcolor": "white",
          "showbackground": true,
          "title": {
           "text": "Puesto Laboral"
          },
          "zerolinecolor": "black"
         },
         "zaxis": {
          "backgroundcolor": "rgb(230, 230,200)",
          "gridcolor": "white",
          "showbackground": true,
          "title": {
           "text": "Salario en USD"
          },
          "zerolinecolor": "black"
         }
        },
        "template": {
         "data": {
          "bar": [
           {
            "error_x": {
             "color": "#2a3f5f"
            },
            "error_y": {
             "color": "#2a3f5f"
            },
            "marker": {
             "line": {
              "color": "white",
              "width": 0.5
             },
             "pattern": {
              "fillmode": "overlay",
              "size": 10,
              "solidity": 0.2
             }
            },
            "type": "bar"
           }
          ],
          "barpolar": [
           {
            "marker": {
             "line": {
              "color": "white",
              "width": 0.5
             },
             "pattern": {
              "fillmode": "overlay",
              "size": 10,
              "solidity": 0.2
             }
            },
            "type": "barpolar"
           }
          ],
          "carpet": [
           {
            "aaxis": {
             "endlinecolor": "#2a3f5f",
             "gridcolor": "#C8D4E3",
             "linecolor": "#C8D4E3",
             "minorgridcolor": "#C8D4E3",
             "startlinecolor": "#2a3f5f"
            },
            "baxis": {
             "endlinecolor": "#2a3f5f",
             "gridcolor": "#C8D4E3",
             "linecolor": "#C8D4E3",
             "minorgridcolor": "#C8D4E3",
             "startlinecolor": "#2a3f5f"
            },
            "type": "carpet"
           }
          ],
          "choropleth": [
           {
            "colorbar": {
             "outlinewidth": 0,
             "ticks": ""
            },
            "type": "choropleth"
           }
          ],
          "contour": [
           {
            "colorbar": {
             "outlinewidth": 0,
             "ticks": ""
            },
            "colorscale": [
             [
              0,
              "#0d0887"
             ],
             [
              0.1111111111111111,
              "#46039f"
             ],
             [
              0.2222222222222222,
              "#7201a8"
             ],
             [
              0.3333333333333333,
              "#9c179e"
             ],
             [
              0.4444444444444444,
              "#bd3786"
             ],
             [
              0.5555555555555556,
              "#d8576b"
             ],
             [
              0.6666666666666666,
              "#ed7953"
             ],
             [
              0.7777777777777778,
              "#fb9f3a"
             ],
             [
              0.8888888888888888,
              "#fdca26"
             ],
             [
              1,
              "#f0f921"
             ]
            ],
            "type": "contour"
           }
          ],
          "contourcarpet": [
           {
            "colorbar": {
             "outlinewidth": 0,
             "ticks": ""
            },
            "type": "contourcarpet"
           }
          ],
          "heatmap": [
           {
            "colorbar": {
             "outlinewidth": 0,
             "ticks": ""
            },
            "colorscale": [
             [
              0,
              "#0d0887"
             ],
             [
              0.1111111111111111,
              "#46039f"
             ],
             [
              0.2222222222222222,
              "#7201a8"
             ],
             [
              0.3333333333333333,
              "#9c179e"
             ],
             [
              0.4444444444444444,
              "#bd3786"
             ],
             [
              0.5555555555555556,
              "#d8576b"
             ],
             [
              0.6666666666666666,
              "#ed7953"
             ],
             [
              0.7777777777777778,
              "#fb9f3a"
             ],
             [
              0.8888888888888888,
              "#fdca26"
             ],
             [
              1,
              "#f0f921"
             ]
            ],
            "type": "heatmap"
           }
          ],
          "heatmapgl": [
           {
            "colorbar": {
             "outlinewidth": 0,
             "ticks": ""
            },
            "colorscale": [
             [
              0,
              "#0d0887"
             ],
             [
              0.1111111111111111,
              "#46039f"
             ],
             [
              0.2222222222222222,
              "#7201a8"
             ],
             [
              0.3333333333333333,
              "#9c179e"
             ],
             [
              0.4444444444444444,
              "#bd3786"
             ],
             [
              0.5555555555555556,
              "#d8576b"
             ],
             [
              0.6666666666666666,
              "#ed7953"
             ],
             [
              0.7777777777777778,
              "#fb9f3a"
             ],
             [
              0.8888888888888888,
              "#fdca26"
             ],
             [
              1,
              "#f0f921"
             ]
            ],
            "type": "heatmapgl"
           }
          ],
          "histogram": [
           {
            "marker": {
             "pattern": {
              "fillmode": "overlay",
              "size": 10,
              "solidity": 0.2
             }
            },
            "type": "histogram"
           }
          ],
          "histogram2d": [
           {
            "colorbar": {
             "outlinewidth": 0,
             "ticks": ""
            },
            "colorscale": [
             [
              0,
              "#0d0887"
             ],
             [
              0.1111111111111111,
              "#46039f"
             ],
             [
              0.2222222222222222,
              "#7201a8"
             ],
             [
              0.3333333333333333,
              "#9c179e"
             ],
             [
              0.4444444444444444,
              "#bd3786"
             ],
             [
              0.5555555555555556,
              "#d8576b"
             ],
             [
              0.6666666666666666,
              "#ed7953"
             ],
             [
              0.7777777777777778,
              "#fb9f3a"
             ],
             [
              0.8888888888888888,
              "#fdca26"
             ],
             [
              1,
              "#f0f921"
             ]
            ],
            "type": "histogram2d"
           }
          ],
          "histogram2dcontour": [
           {
            "colorbar": {
             "outlinewidth": 0,
             "ticks": ""
            },
            "colorscale": [
             [
              0,
              "#0d0887"
             ],
             [
              0.1111111111111111,
              "#46039f"
             ],
             [
              0.2222222222222222,
              "#7201a8"
             ],
             [
              0.3333333333333333,
              "#9c179e"
             ],
             [
              0.4444444444444444,
              "#bd3786"
             ],
             [
              0.5555555555555556,
              "#d8576b"
             ],
             [
              0.6666666666666666,
              "#ed7953"
             ],
             [
              0.7777777777777778,
              "#fb9f3a"
             ],
             [
              0.8888888888888888,
              "#fdca26"
             ],
             [
              1,
              "#f0f921"
             ]
            ],
            "type": "histogram2dcontour"
           }
          ],
          "mesh3d": [
           {
            "colorbar": {
             "outlinewidth": 0,
             "ticks": ""
            },
            "type": "mesh3d"
           }
          ],
          "parcoords": [
           {
            "line": {
             "colorbar": {
              "outlinewidth": 0,
              "ticks": ""
             }
            },
            "type": "parcoords"
           }
          ],
          "pie": [
           {
            "automargin": true,
            "type": "pie"
           }
          ],
          "scatter": [
           {
            "fillpattern": {
             "fillmode": "overlay",
             "size": 10,
             "solidity": 0.2
            },
            "type": "scatter"
           }
          ],
          "scatter3d": [
           {
            "line": {
             "colorbar": {
              "outlinewidth": 0,
              "ticks": ""
             }
            },
            "marker": {
             "colorbar": {
              "outlinewidth": 0,
              "ticks": ""
             }
            },
            "type": "scatter3d"
           }
          ],
          "scattercarpet": [
           {
            "marker": {
             "colorbar": {
              "outlinewidth": 0,
              "ticks": ""
             }
            },
            "type": "scattercarpet"
           }
          ],
          "scattergeo": [
           {
            "marker": {
             "colorbar": {
              "outlinewidth": 0,
              "ticks": ""
             }
            },
            "type": "scattergeo"
           }
          ],
          "scattergl": [
           {
            "marker": {
             "colorbar": {
              "outlinewidth": 0,
              "ticks": ""
             }
            },
            "type": "scattergl"
           }
          ],
          "scattermapbox": [
           {
            "marker": {
             "colorbar": {
              "outlinewidth": 0,
              "ticks": ""
             }
            },
            "type": "scattermapbox"
           }
          ],
          "scatterpolar": [
           {
            "marker": {
             "colorbar": {
              "outlinewidth": 0,
              "ticks": ""
             }
            },
            "type": "scatterpolar"
           }
          ],
          "scatterpolargl": [
           {
            "marker": {
             "colorbar": {
              "outlinewidth": 0,
              "ticks": ""
             }
            },
            "type": "scatterpolargl"
           }
          ],
          "scatterternary": [
           {
            "marker": {
             "colorbar": {
              "outlinewidth": 0,
              "ticks": ""
             }
            },
            "type": "scatterternary"
           }
          ],
          "surface": [
           {
            "colorbar": {
             "outlinewidth": 0,
             "ticks": ""
            },
            "colorscale": [
             [
              0,
              "#0d0887"
             ],
             [
              0.1111111111111111,
              "#46039f"
             ],
             [
              0.2222222222222222,
              "#7201a8"
             ],
             [
              0.3333333333333333,
              "#9c179e"
             ],
             [
              0.4444444444444444,
              "#bd3786"
             ],
             [
              0.5555555555555556,
              "#d8576b"
             ],
             [
              0.6666666666666666,
              "#ed7953"
             ],
             [
              0.7777777777777778,
              "#fb9f3a"
             ],
             [
              0.8888888888888888,
              "#fdca26"
             ],
             [
              1,
              "#f0f921"
             ]
            ],
            "type": "surface"
           }
          ],
          "table": [
           {
            "cells": {
             "fill": {
              "color": "#EBF0F8"
             },
             "line": {
              "color": "white"
             }
            },
            "header": {
             "fill": {
              "color": "#C8D4E3"
             },
             "line": {
              "color": "white"
             }
            },
            "type": "table"
           }
          ]
         },
         "layout": {
          "annotationdefaults": {
           "arrowcolor": "#2a3f5f",
           "arrowhead": 0,
           "arrowwidth": 1
          },
          "autotypenumbers": "strict",
          "coloraxis": {
           "colorbar": {
            "outlinewidth": 0,
            "ticks": ""
           }
          },
          "colorscale": {
           "diverging": [
            [
             0,
             "#8e0152"
            ],
            [
             0.1,
             "#c51b7d"
            ],
            [
             0.2,
             "#de77ae"
            ],
            [
             0.3,
             "#f1b6da"
            ],
            [
             0.4,
             "#fde0ef"
            ],
            [
             0.5,
             "#f7f7f7"
            ],
            [
             0.6,
             "#e6f5d0"
            ],
            [
             0.7,
             "#b8e186"
            ],
            [
             0.8,
             "#7fbc41"
            ],
            [
             0.9,
             "#4d9221"
            ],
            [
             1,
             "#276419"
            ]
           ],
           "sequential": [
            [
             0,
             "#0d0887"
            ],
            [
             0.1111111111111111,
             "#46039f"
            ],
            [
             0.2222222222222222,
             "#7201a8"
            ],
            [
             0.3333333333333333,
             "#9c179e"
            ],
            [
             0.4444444444444444,
             "#bd3786"
            ],
            [
             0.5555555555555556,
             "#d8576b"
            ],
            [
             0.6666666666666666,
             "#ed7953"
            ],
            [
             0.7777777777777778,
             "#fb9f3a"
            ],
            [
             0.8888888888888888,
             "#fdca26"
            ],
            [
             1,
             "#f0f921"
            ]
           ],
           "sequentialminus": [
            [
             0,
             "#0d0887"
            ],
            [
             0.1111111111111111,
             "#46039f"
            ],
            [
             0.2222222222222222,
             "#7201a8"
            ],
            [
             0.3333333333333333,
             "#9c179e"
            ],
            [
             0.4444444444444444,
             "#bd3786"
            ],
            [
             0.5555555555555556,
             "#d8576b"
            ],
            [
             0.6666666666666666,
             "#ed7953"
            ],
            [
             0.7777777777777778,
             "#fb9f3a"
            ],
            [
             0.8888888888888888,
             "#fdca26"
            ],
            [
             1,
             "#f0f921"
            ]
           ]
          },
          "colorway": [
           "#636efa",
           "#EF553B",
           "#00cc96",
           "#ab63fa",
           "#FFA15A",
           "#19d3f3",
           "#FF6692",
           "#B6E880",
           "#FF97FF",
           "#FECB52"
          ],
          "font": {
           "color": "#2a3f5f"
          },
          "geo": {
           "bgcolor": "white",
           "lakecolor": "white",
           "landcolor": "white",
           "showlakes": true,
           "showland": true,
           "subunitcolor": "#C8D4E3"
          },
          "hoverlabel": {
           "align": "left"
          },
          "hovermode": "closest",
          "mapbox": {
           "style": "light"
          },
          "paper_bgcolor": "white",
          "plot_bgcolor": "white",
          "polar": {
           "angularaxis": {
            "gridcolor": "#EBF0F8",
            "linecolor": "#EBF0F8",
            "ticks": ""
           },
           "bgcolor": "white",
           "radialaxis": {
            "gridcolor": "#EBF0F8",
            "linecolor": "#EBF0F8",
            "ticks": ""
           }
          },
          "scene": {
           "xaxis": {
            "backgroundcolor": "white",
            "gridcolor": "#DFE8F3",
            "gridwidth": 2,
            "linecolor": "#EBF0F8",
            "showbackground": true,
            "ticks": "",
            "zerolinecolor": "#EBF0F8"
           },
           "yaxis": {
            "backgroundcolor": "white",
            "gridcolor": "#DFE8F3",
            "gridwidth": 2,
            "linecolor": "#EBF0F8",
            "showbackground": true,
            "ticks": "",
            "zerolinecolor": "#EBF0F8"
           },
           "zaxis": {
            "backgroundcolor": "white",
            "gridcolor": "#DFE8F3",
            "gridwidth": 2,
            "linecolor": "#EBF0F8",
            "showbackground": true,
            "ticks": "",
            "zerolinecolor": "#EBF0F8"
           }
          },
          "shapedefaults": {
           "line": {
            "color": "#2a3f5f"
           }
          },
          "ternary": {
           "aaxis": {
            "gridcolor": "#DFE8F3",
            "linecolor": "#A2B1C6",
            "ticks": ""
           },
           "baxis": {
            "gridcolor": "#DFE8F3",
            "linecolor": "#A2B1C6",
            "ticks": ""
           },
           "bgcolor": "white",
           "caxis": {
            "gridcolor": "#DFE8F3",
            "linecolor": "#A2B1C6",
            "ticks": ""
           }
          },
          "title": {
           "x": 0.05
          },
          "xaxis": {
           "automargin": true,
           "gridcolor": "#EBF0F8",
           "linecolor": "#EBF0F8",
           "ticks": "",
           "title": {
            "standoff": 15
           },
           "zerolinecolor": "#EBF0F8",
           "zerolinewidth": 2
          },
          "yaxis": {
           "automargin": true,
           "gridcolor": "#EBF0F8",
           "linecolor": "#EBF0F8",
           "ticks": "",
           "title": {
            "standoff": 15
           },
           "zerolinecolor": "#EBF0F8",
           "zerolinewidth": 2
          }
         }
        },
        "title": {
         "font": {
          "color": "white",
          "family": "Courier New",
          "size": 28
         },
         "text": "<b> 3D Scatter Plot <b>",
         "x": 0.5
        },
        "width": 900
       }
      },
      "text/html": [
       "<div>                            <div id=\"a8713bea-476c-4c88-809c-357f55a1d028\" class=\"plotly-graph-div\" style=\"height:500px; width:900px;\"></div>            <script type=\"text/javascript\">                require([\"plotly\"], function(Plotly) {                    window.PLOTLYENV=window.PLOTLYENV || {};                                    if (document.getElementById(\"a8713bea-476c-4c88-809c-357f55a1d028\")) {                    Plotly.newPlot(                        \"a8713bea-476c-4c88-809c-357f55a1d028\",                        [{\"hovertemplate\":\"experience_level=%{x}<br>Puesto Laboral=%{y}<br>Salario en USD=%{marker.color}<extra></extra>\",\"legendgroup\":\"\",\"marker\":{\"color\":[79833,150000,72000,35735,51321,40481,39916,85000,8000,41689,43331,47899,42000,33511,68428,46759,74130,250000,10000,138000,45760,106000,112872,76958,188000,105000,70139,6072,91000,54742,38776,118000,120000,138350,110000,130800,21669,45618,62726,49268,105000,91237,62726,42197,82528,53192,80000,140000,47282,28476,59102,80000,29751,75000,150000,62000,73000,51519,187442,115000,150000,30428,94564,45391,50000,90000,200000,50000,10354,9466,20000,49646,100000,90000,80000,135000,82500,100000,82744,62649,90000,150000,75774,13400,119059,125000,28369,80000,82528,60000,60757,2859,40038,81000,5679,90734,26005,4000,76833,74000,21844,96113,147000,24342,61467,37825,50000,160000,12901,200000,165000,20000,24823,56738,66022,24823,90734,88654,46597,116914,33808,56256,87738,88654,135000,71786,200000,63810,46809,4000,21637,103691,80000,110000,165000,72212,36643,12103,96282,115000,90000,28399,93000,200000,185000,130000,63831,16904,66265,25532,93150,111775,28016,65013,72500,85000,77684,100000,58000,20171,112000,100000,69741,69999,109000,51064,135000,155000,120600,130000,90000,170000,150000,102100,84900,136620,99360,117789,104702,146000,123000,52351,99000,116000,106260,126500,242000,200000,65438,39263,78526,52351,165220,45807,120160,90320,181940,132320,220110,160080,180000,120000,124190,130000,110000,170000,115500,112900,90320,112900,90320,165400,132320,167000,243900,136600,109280,128875,93700,156600,108800,95550,113000,135000,167000,123000,78526,65438,150000,211500,130000,61300,130000,61300,160000,138600,136000,58000,170000,123000,189650,164996,132000,165400,136994,101570,128875,93700,132320,37300,164000,155000,124333,98158,112900,90320,87932,117789,215300,158200,209100,154600,115934,81666,175000,98158,58000,183600,52351,180000,71982,45807,65949,49461,78526,58894,260000,63900,180000,80000,82900,100800,49461,140400,39263,43966,32974,87932,76940,104702,91614,65949,87932,189650,164996,43966,32974,98158,78526,215300,76940,209100,154600,180000,80000,120000,105000,31615,54957,18442,120000,144000,104890,100000,140000,135000,50000,220000,140000,183228,91614,185100,220000,200000,120000,120000,65000,324000,216000,210000,120000,230000,100000,100000,35590,100000,58035,165000,93427,52396,62651,40000,87425,115000,86703,64849,120000,65000,71444,48000,68147,122346,69336,20000,135000,78000,135000,100000,90320,85000,75000,214000,192600,112900,155000,141300,102100,115934,81666,206699,99100,130000,115000,110500,130000,99050,160000,205300,140400,176000,144000,200100,160000,145000,70500,205300,140400,175100,140250,116150,54000,170000,65438,80000,140000,210000,140000,100000,69000,210000,140000,210000,150075,100000,25000,126500,106260,220110,160080,105000,110925,45807,140000,99000,60000,230000,150000,210000,170000,160000,130000,67000,52000,154000,126000,129000,150000],\"coloraxis\":\"coloraxis\",\"symbol\":\"circle\"},\"mode\":\"markers\",\"name\":\"\",\"scene\":\"scene\",\"showlegend\":false,\"x\":[\"MI\",\"SE\",\"EN\",\"MI\",\"EN\",\"MI\",\"EN\",\"MI\",\"MI\",\"EN\",\"MI\",\"SE\",\"EN\",\"SE\",\"SE\",\"MI\",\"MI\",\"EN\",\"EN\",\"EN\",\"MI\",\"MI\",\"MI\",\"MI\",\"SE\",\"MI\",\"MI\",\"EN\",\"EN\",\"EN\",\"MI\",\"MI\",\"SE\",\"MI\",\"MI\",\"MI\",\"EN\",\"SE\",\"EN\",\"EN\",\"EN\",\"SE\",\"MI\",\"MI\",\"EN\",\"SE\",\"EN\",\"MI\",\"MI\",\"MI\",\"EN\",\"SE\",\"EN\",\"MI\",\"SE\",\"MI\",\"MI\",\"MI\",\"MI\",\"SE\",\"SE\",\"EN\",\"SE\",\"MI\",\"MI\",\"EN\",\"MI\",\"EN\",\"EN\",\"MI\",\"EN\",\"EN\",\"EN\",\"MI\",\"EN\",\"MI\",\"MI\",\"MI\",\"SE\",\"MI\",\"MI\",\"MI\",\"MI\",\"EN\",\"MI\",\"EN\",\"MI\",\"EN\",\"MI\",\"EN\",\"SE\",\"MI\",\"MI\",\"EN\",\"MI\",\"MI\",\"MI\",\"MI\",\"SE\",\"MI\",\"EN\",\"SE\",\"MI\",\"SE\",\"MI\",\"MI\",\"SE\",\"MI\",\"MI\",\"SE\",\"SE\",\"MI\",\"MI\",\"MI\",\"MI\",\"EN\",\"MI\",\"MI\",\"MI\",\"MI\",\"MI\",\"MI\",\"SE\",\"MI\",\"SE\",\"SE\",\"SE\",\"MI\",\"MI\",\"EN\",\"EN\",\"SE\",\"MI\",\"MI\",\"SE\",\"MI\",\"EN\",\"MI\",\"SE\",\"MI\",\"EN\",\"EN\",\"MI\",\"MI\",\"SE\",\"MI\",\"SE\",\"MI\",\"SE\",\"MI\",\"MI\",\"MI\",\"MI\",\"EN\",\"EN\",\"EN\",\"SE\",\"EN\",\"EN\",\"SE\",\"MI\",\"EN\",\"MI\",\"MI\",\"MI\",\"MI\",\"SE\",\"SE\",\"SE\",\"MI\",\"MI\",\"MI\",\"MI\",\"SE\",\"SE\",\"SE\",\"SE\",\"SE\",\"SE\",\"SE\",\"SE\",\"EN\",\"SE\",\"SE\",\"MI\",\"MI\",\"EX\",\"EX\",\"MI\",\"MI\",\"MI\",\"MI\",\"SE\",\"EN\",\"SE\",\"SE\",\"SE\",\"SE\",\"SE\",\"SE\",\"SE\",\"SE\",\"SE\",\"EX\",\"EX\",\"SE\",\"MI\",\"SE\",\"SE\",\"SE\",\"SE\",\"SE\",\"SE\",\"MI\",\"SE\",\"SE\",\"SE\",\"SE\",\"SE\",\"SE\",\"SE\",\"SE\",\"SE\",\"SE\",\"SE\",\"SE\",\"SE\",\"SE\",\"SE\",\"SE\",\"SE\",\"SE\",\"SE\",\"SE\",\"SE\",\"SE\",\"SE\",\"MI\",\"SE\",\"SE\",\"SE\",\"SE\",\"SE\",\"SE\",\"SE\",\"SE\",\"SE\",\"SE\",\"SE\",\"EN\",\"SE\",\"SE\",\"MI\",\"MI\",\"SE\",\"SE\",\"MI\",\"MI\",\"SE\",\"SE\",\"SE\",\"SE\",\"SE\",\"SE\",\"SE\",\"MI\",\"MI\",\"SE\",\"MI\",\"SE\",\"MI\",\"MI\",\"MI\",\"MI\",\"MI\",\"MI\",\"SE\",\"MI\",\"SE\",\"SE\",\"MI\",\"SE\",\"MI\",\"SE\",\"MI\",\"MI\",\"MI\",\"MI\",\"MI\",\"MI\",\"MI\",\"MI\",\"MI\",\"SE\",\"SE\",\"MI\",\"MI\",\"MI\",\"MI\",\"SE\",\"MI\",\"SE\",\"SE\",\"SE\",\"SE\",\"MI\",\"SE\",\"MI\",\"MI\",\"EN\",\"EN\",\"SE\",\"SE\",\"SE\",\"SE\",\"MI\",\"MI\",\"SE\",\"SE\",\"MI\",\"MI\",\"SE\",\"SE\",\"MI\",\"MI\",\"SE\",\"SE\",\"EX\",\"EX\",\"SE\",\"SE\",\"SE\",\"EN\",\"MI\",\"MI\",\"SE\",\"EN\",\"SE\",\"SE\",\"EN\",\"SE\",\"EN\",\"MI\",\"SE\",\"EN\",\"MI\",\"EN\",\"EN\",\"SE\",\"MI\",\"MI\",\"MI\",\"MI\",\"MI\",\"MI\",\"MI\",\"SE\",\"SE\",\"SE\",\"MI\",\"MI\",\"SE\",\"SE\",\"SE\",\"SE\",\"MI\",\"MI\",\"SE\",\"SE\",\"MI\",\"MI\",\"SE\",\"SE\",\"SE\",\"SE\",\"SE\",\"SE\",\"SE\",\"SE\",\"SE\",\"SE\",\"SE\",\"SE\",\"SE\",\"SE\",\"SE\",\"SE\",\"SE\",\"SE\",\"SE\",\"SE\",\"SE\",\"MI\",\"SE\",\"SE\",\"SE\",\"SE\",\"SE\",\"SE\",\"SE\",\"SE\",\"SE\",\"SE\",\"SE\",\"SE\",\"SE\",\"SE\",\"SE\",\"SE\",\"SE\",\"SE\",\"MI\",\"SE\",\"SE\",\"SE\",\"SE\",\"SE\",\"SE\",\"SE\",\"MI\",\"MI\",\"EN\",\"EN\",\"SE\",\"SE\",\"SE\",\"SE\"],\"y\":[\"Data Scientist\",\"Machine Learning Engineer\",\"Data Analyst\",\"Data Scientist\",\"Data Scientist\",\"Data Scientist\",\"Data Scientist\",\"Data Analyst\",\"Data Analyst\",\"Data Engineer\",\"Machine Learning Engineer\",\"Data Engineer\",\"Research Scientist\",\"Data Engineer\",\"Data Scientist\",\"Data Analyst\",\"Data Engineer\",\"Machine Learning Engineer\",\"Data Analyst\",\"Machine Learning Engineer\",\"Data Scientist\",\"Data Engineer\",\"Data Engineer\",\"Data Scientist\",\"Data Engineer\",\"Data Scientist\",\"Data Engineer\",\"Data Analyst\",\"Data Analyst\",\"Data Engineer\",\"Data Scientist\",\"Data Scientist\",\"Data Scientist\",\"Data Scientist\",\"Data Engineer\",\"Data Engineer\",\"Data Scientist\",\"Machine Learning Engineer\",\"Data Scientist\",\"Data Scientist\",\"Data Scientist\",\"Data Scientist\",\"Data Scientist\",\"Data Scientist\",\"Research Scientist\",\"Data Scientist\",\"Data Analyst\",\"Data Engineer\",\"Machine Learning Engineer\",\"Data Engineer\",\"Data Analyst\",\"Data Analyst\",\"Data Scientist\",\"Data Analyst\",\"Data Engineer\",\"Data Analyst\",\"Data Scientist\",\"Data Analyst\",\"Research Scientist\",\"Data Engineer\",\"Data Engineer\",\"Data Engineer\",\"Machine Learning Engineer\",\"Data Engineer\",\"Data Scientist\",\"Data Analyst\",\"Data Engineer\",\"Data Analyst\",\"Data Analyst\",\"Data Scientist\",\"Machine Learning Engineer\",\"Data Scientist\",\"Data Scientist\",\"Data Analyst\",\"Data Scientist\",\"Data Analyst\",\"Data Scientist\",\"Data Engineer\",\"Machine Learning Engineer\",\"Research Scientist\",\"Data Engineer\",\"Data Scientist\",\"Data Scientist\",\"Data Scientist\",\"Data Scientist\",\"Machine Learning Engineer\",\"Data Engineer\",\"Data Engineer\",\"Data Engineer\",\"Data Analyst\",\"Research Scientist\",\"Data Scientist\",\"Data Scientist\",\"Machine Learning Engineer\",\"Data Scientist\",\"Data Scientist\",\"Data Engineer\",\"Data Engineer\",\"Data Engineer\",\"Machine Learning Engineer\",\"Machine Learning Engineer\",\"Research Scientist\",\"Data Scientist\",\"Machine Learning Engineer\",\"Data Scientist\",\"Data Scientist\",\"Research Scientist\",\"Data Scientist\",\"Data Scientist\",\"Machine Learning Engineer\",\"Data Engineer\",\"Data Engineer\",\"Machine Learning Engineer\",\"Research Scientist\",\"Data Engineer\",\"Machine Learning Engineer\",\"Data Scientist\",\"Machine Learning Engineer\",\"Machine Learning Engineer\",\"Data Scientist\",\"Data Scientist\",\"Data Scientist\",\"Data Scientist\",\"Data Scientist\",\"Data Scientist\",\"Data Analyst\",\"Data Analyst\",\"Research Scientist\",\"Data Scientist\",\"Data Scientist\",\"Data Engineer\",\"Data Scientist\",\"Data Analyst\",\"Data Engineer\",\"Data Scientist\",\"Data Engineer\",\"Data Scientist\",\"Data Engineer\",\"Data Engineer\",\"Data Scientist\",\"Data Scientist\",\"Data Scientist\",\"Data Analyst\",\"Data Engineer\",\"Machine Learning Engineer\",\"Data Scientist\",\"Data Analyst\",\"Data Scientist\",\"Machine Learning Engineer\",\"Data Scientist\",\"Data Engineer\",\"Data Engineer\",\"Data Engineer\",\"Data Engineer\",\"Data Engineer\",\"Machine Learning Engineer\",\"Data Scientist\",\"Data Scientist\",\"Data Scientist\",\"Data Scientist\",\"Data Engineer\",\"Research Scientist\",\"Data Engineer\",\"Research Scientist\",\"Data Scientist\",\"Machine Learning Engineer\",\"Data Engineer\",\"Data Analyst\",\"Data Analyst\",\"Data Scientist\",\"Data Scientist\",\"Data Engineer\",\"Data Engineer\",\"Data Analyst\",\"Data Analyst\",\"Data Scientist\",\"Data Scientist\",\"Data Scientist\",\"Data Scientist\",\"Data Scientist\",\"Data Scientist\",\"Data Engineer\",\"Data Analyst\",\"Data Analyst\",\"Data Analyst\",\"Data Analyst\",\"Data Engineer\",\"Data Engineer\",\"Data Scientist\",\"Data Scientist\",\"Data Engineer\",\"Data Engineer\",\"Data Scientist\",\"Data Engineer\",\"Data Scientist\",\"Data Analyst\",\"Data Engineer\",\"Data Engineer\",\"Data Engineer\",\"Data Engineer\",\"Data Scientist\",\"Data Scientist\",\"Data Analyst\",\"Data Analyst\",\"Data Analyst\",\"Data Analyst\",\"Data Analyst\",\"Data Analyst\",\"Data Analyst\",\"Data Analyst\",\"Data Analyst\",\"Data Engineer\",\"Data Engineer\",\"Data Analyst\",\"Data Engineer\",\"Data Analyst\",\"Data Analyst\",\"Data Engineer\",\"Data Engineer\",\"Data Engineer\",\"Data Engineer\",\"Data Scientist\",\"Data Engineer\",\"Data Analyst\",\"Data Scientist\",\"Data Scientist\",\"Data Engineer\",\"Data Engineer\",\"Data Scientist\",\"Data Scientist\",\"Data Analyst\",\"Data Analyst\",\"Data Analyst\",\"Data Analyst\",\"Data Engineer\",\"Data Scientist\",\"Data Engineer\",\"Data Analyst\",\"Data Scientist\",\"Data Scientist\",\"Machine Learning Engineer\",\"Machine Learning Engineer\",\"Data Analyst\",\"Data Engineer\",\"Data Engineer\",\"Data Engineer\",\"Data Analyst\",\"Data Analyst\",\"Data Engineer\",\"Machine Learning Engineer\",\"Data Analyst\",\"Data Engineer\",\"Machine Learning Engineer\",\"Machine Learning Engineer\",\"Data Analyst\",\"Data Analyst\",\"Machine Learning Engineer\",\"Data Engineer\",\"Data Scientist\",\"Data Scientist\",\"Data Engineer\",\"Data Engineer\",\"Data Analyst\",\"Data Analyst\",\"Data Engineer\",\"Data Engineer\",\"Data Analyst\",\"Data Engineer\",\"Data Analyst\",\"Data Scientist\",\"Data Scientist\",\"Data Scientist\",\"Data Engineer\",\"Data Engineer\",\"Data Engineer\",\"Data Engineer\",\"Data Scientist\",\"Data Engineer\",\"Data Scientist\",\"Data Scientist\",\"Data Engineer\",\"Data Engineer\",\"Data Engineer\",\"Data Scientist\",\"Data Analyst\",\"Data Analyst\",\"Data Analyst\",\"Data Engineer\",\"Data Engineer\",\"Data Engineer\",\"Data Engineer\",\"Data Engineer\",\"Data Engineer\",\"Machine Learning Engineer\",\"Machine Learning Engineer\",\"Data Analyst\",\"Data Analyst\",\"Data Engineer\",\"Data Engineer\",\"Data Scientist\",\"Data Engineer\",\"Data Engineer\",\"Data Engineer\",\"Data Engineer\",\"Data Engineer\",\"Machine Learning Engineer\",\"Data Engineer\",\"Data Scientist\",\"Data Engineer\",\"Data Scientist\",\"Data Engineer\",\"Research Scientist\",\"Data Scientist\",\"Data Engineer\",\"Data Scientist\",\"Data Analyst\",\"Data Analyst\",\"Data Scientist\",\"Data Scientist\",\"Data Scientist\",\"Data Scientist\",\"Data Scientist\",\"Machine Learning Engineer\",\"Data Scientist\",\"Data Scientist\",\"Machine Learning Engineer\",\"Machine Learning Engineer\",\"Data Engineer\",\"Data Engineer\",\"Data Engineer\",\"Machine Learning Engineer\",\"Data Scientist\",\"Data Scientist\",\"Data Scientist\",\"Data Scientist\",\"Data Scientist\",\"Data Engineer\",\"Data Scientist\",\"Research Scientist\",\"Data Scientist\",\"Machine Learning Engineer\",\"Data Scientist\",\"Machine Learning Engineer\",\"Data Engineer\",\"Data Scientist\",\"Research Scientist\",\"Research Scientist\",\"Data Engineer\",\"Machine Learning Engineer\",\"Data Scientist\",\"Data Engineer\",\"Data Scientist\",\"Data Scientist\",\"Data Analyst\",\"Data Scientist\",\"Data Scientist\",\"Data Analyst\",\"Data Analyst\",\"Data Analyst\",\"Data Analyst\",\"Data Analyst\",\"Machine Learning Engineer\",\"Machine Learning Engineer\",\"Data Analyst\",\"Data Engineer\",\"Data Scientist\",\"Data Scientist\",\"Data Analyst\",\"Data Analyst\",\"Data Engineer\",\"Data Engineer\",\"Data Engineer\",\"Data Engineer\",\"Data Engineer\",\"Data Engineer\",\"Data Analyst\",\"Data Engineer\",\"Data Scientist\",\"Data Scientist\",\"Data Scientist\",\"Data Scientist\",\"Data Engineer\",\"Data Engineer\",\"Data Engineer\",\"Data Engineer\",\"Data Scientist\",\"Data Scientist\",\"Data Engineer\",\"Data Engineer\",\"Data Analyst\",\"Data Engineer\",\"Data Analyst\",\"Data Analyst\",\"Data Analyst\",\"Data Scientist\",\"Data Scientist\",\"Data Scientist\",\"Data Analyst\",\"Data Analyst\",\"Data Scientist\",\"Data Scientist\",\"Data Scientist\",\"Data Analyst\",\"Data Engineer\",\"Data Engineer\",\"Data Analyst\",\"Data Analyst\",\"Data Engineer\",\"Data Engineer\",\"Data Analyst\",\"Data Analyst\",\"Data Analyst\",\"Data Scientist\",\"Data Analyst\",\"Data Analyst\",\"Data Scientist\",\"Data Scientist\",\"Data Scientist\",\"Data Analyst\",\"Data Scientist\",\"Data Scientist\",\"Data Analyst\",\"Data Analyst\",\"Data Engineer\",\"Data Engineer\",\"Data Analyst\",\"Data Analyst\"],\"z\":[79833,150000,72000,35735,51321,40481,39916,85000,8000,41689,43331,47899,42000,33511,68428,46759,74130,250000,10000,138000,45760,106000,112872,76958,188000,105000,70139,6072,91000,54742,38776,118000,120000,138350,110000,130800,21669,45618,62726,49268,105000,91237,62726,42197,82528,53192,80000,140000,47282,28476,59102,80000,29751,75000,150000,62000,73000,51519,187442,115000,150000,30428,94564,45391,50000,90000,200000,50000,10354,9466,20000,49646,100000,90000,80000,135000,82500,100000,82744,62649,90000,150000,75774,13400,119059,125000,28369,80000,82528,60000,60757,2859,40038,81000,5679,90734,26005,4000,76833,74000,21844,96113,147000,24342,61467,37825,50000,160000,12901,200000,165000,20000,24823,56738,66022,24823,90734,88654,46597,116914,33808,56256,87738,88654,135000,71786,200000,63810,46809,4000,21637,103691,80000,110000,165000,72212,36643,12103,96282,115000,90000,28399,93000,200000,185000,130000,63831,16904,66265,25532,93150,111775,28016,65013,72500,85000,77684,100000,58000,20171,112000,100000,69741,69999,109000,51064,135000,155000,120600,130000,90000,170000,150000,102100,84900,136620,99360,117789,104702,146000,123000,52351,99000,116000,106260,126500,242000,200000,65438,39263,78526,52351,165220,45807,120160,90320,181940,132320,220110,160080,180000,120000,124190,130000,110000,170000,115500,112900,90320,112900,90320,165400,132320,167000,243900,136600,109280,128875,93700,156600,108800,95550,113000,135000,167000,123000,78526,65438,150000,211500,130000,61300,130000,61300,160000,138600,136000,58000,170000,123000,189650,164996,132000,165400,136994,101570,128875,93700,132320,37300,164000,155000,124333,98158,112900,90320,87932,117789,215300,158200,209100,154600,115934,81666,175000,98158,58000,183600,52351,180000,71982,45807,65949,49461,78526,58894,260000,63900,180000,80000,82900,100800,49461,140400,39263,43966,32974,87932,76940,104702,91614,65949,87932,189650,164996,43966,32974,98158,78526,215300,76940,209100,154600,180000,80000,120000,105000,31615,54957,18442,120000,144000,104890,100000,140000,135000,50000,220000,140000,183228,91614,185100,220000,200000,120000,120000,65000,324000,216000,210000,120000,230000,100000,100000,35590,100000,58035,165000,93427,52396,62651,40000,87425,115000,86703,64849,120000,65000,71444,48000,68147,122346,69336,20000,135000,78000,135000,100000,90320,85000,75000,214000,192600,112900,155000,141300,102100,115934,81666,206699,99100,130000,115000,110500,130000,99050,160000,205300,140400,176000,144000,200100,160000,145000,70500,205300,140400,175100,140250,116150,54000,170000,65438,80000,140000,210000,140000,100000,69000,210000,140000,210000,150075,100000,25000,126500,106260,220110,160080,105000,110925,45807,140000,99000,60000,230000,150000,210000,170000,160000,130000,67000,52000,154000,126000,129000,150000],\"type\":\"scatter3d\"}],                        {\"template\":{\"data\":{\"barpolar\":[{\"marker\":{\"line\":{\"color\":\"white\",\"width\":0.5},\"pattern\":{\"fillmode\":\"overlay\",\"size\":10,\"solidity\":0.2}},\"type\":\"barpolar\"}],\"bar\":[{\"error_x\":{\"color\":\"#2a3f5f\"},\"error_y\":{\"color\":\"#2a3f5f\"},\"marker\":{\"line\":{\"color\":\"white\",\"width\":0.5},\"pattern\":{\"fillmode\":\"overlay\",\"size\":10,\"solidity\":0.2}},\"type\":\"bar\"}],\"carpet\":[{\"aaxis\":{\"endlinecolor\":\"#2a3f5f\",\"gridcolor\":\"#C8D4E3\",\"linecolor\":\"#C8D4E3\",\"minorgridcolor\":\"#C8D4E3\",\"startlinecolor\":\"#2a3f5f\"},\"baxis\":{\"endlinecolor\":\"#2a3f5f\",\"gridcolor\":\"#C8D4E3\",\"linecolor\":\"#C8D4E3\",\"minorgridcolor\":\"#C8D4E3\",\"startlinecolor\":\"#2a3f5f\"},\"type\":\"carpet\"}],\"choropleth\":[{\"colorbar\":{\"outlinewidth\":0,\"ticks\":\"\"},\"type\":\"choropleth\"}],\"contourcarpet\":[{\"colorbar\":{\"outlinewidth\":0,\"ticks\":\"\"},\"type\":\"contourcarpet\"}],\"contour\":[{\"colorbar\":{\"outlinewidth\":0,\"ticks\":\"\"},\"colorscale\":[[0.0,\"#0d0887\"],[0.1111111111111111,\"#46039f\"],[0.2222222222222222,\"#7201a8\"],[0.3333333333333333,\"#9c179e\"],[0.4444444444444444,\"#bd3786\"],[0.5555555555555556,\"#d8576b\"],[0.6666666666666666,\"#ed7953\"],[0.7777777777777778,\"#fb9f3a\"],[0.8888888888888888,\"#fdca26\"],[1.0,\"#f0f921\"]],\"type\":\"contour\"}],\"heatmapgl\":[{\"colorbar\":{\"outlinewidth\":0,\"ticks\":\"\"},\"colorscale\":[[0.0,\"#0d0887\"],[0.1111111111111111,\"#46039f\"],[0.2222222222222222,\"#7201a8\"],[0.3333333333333333,\"#9c179e\"],[0.4444444444444444,\"#bd3786\"],[0.5555555555555556,\"#d8576b\"],[0.6666666666666666,\"#ed7953\"],[0.7777777777777778,\"#fb9f3a\"],[0.8888888888888888,\"#fdca26\"],[1.0,\"#f0f921\"]],\"type\":\"heatmapgl\"}],\"heatmap\":[{\"colorbar\":{\"outlinewidth\":0,\"ticks\":\"\"},\"colorscale\":[[0.0,\"#0d0887\"],[0.1111111111111111,\"#46039f\"],[0.2222222222222222,\"#7201a8\"],[0.3333333333333333,\"#9c179e\"],[0.4444444444444444,\"#bd3786\"],[0.5555555555555556,\"#d8576b\"],[0.6666666666666666,\"#ed7953\"],[0.7777777777777778,\"#fb9f3a\"],[0.8888888888888888,\"#fdca26\"],[1.0,\"#f0f921\"]],\"type\":\"heatmap\"}],\"histogram2dcontour\":[{\"colorbar\":{\"outlinewidth\":0,\"ticks\":\"\"},\"colorscale\":[[0.0,\"#0d0887\"],[0.1111111111111111,\"#46039f\"],[0.2222222222222222,\"#7201a8\"],[0.3333333333333333,\"#9c179e\"],[0.4444444444444444,\"#bd3786\"],[0.5555555555555556,\"#d8576b\"],[0.6666666666666666,\"#ed7953\"],[0.7777777777777778,\"#fb9f3a\"],[0.8888888888888888,\"#fdca26\"],[1.0,\"#f0f921\"]],\"type\":\"histogram2dcontour\"}],\"histogram2d\":[{\"colorbar\":{\"outlinewidth\":0,\"ticks\":\"\"},\"colorscale\":[[0.0,\"#0d0887\"],[0.1111111111111111,\"#46039f\"],[0.2222222222222222,\"#7201a8\"],[0.3333333333333333,\"#9c179e\"],[0.4444444444444444,\"#bd3786\"],[0.5555555555555556,\"#d8576b\"],[0.6666666666666666,\"#ed7953\"],[0.7777777777777778,\"#fb9f3a\"],[0.8888888888888888,\"#fdca26\"],[1.0,\"#f0f921\"]],\"type\":\"histogram2d\"}],\"histogram\":[{\"marker\":{\"pattern\":{\"fillmode\":\"overlay\",\"size\":10,\"solidity\":0.2}},\"type\":\"histogram\"}],\"mesh3d\":[{\"colorbar\":{\"outlinewidth\":0,\"ticks\":\"\"},\"type\":\"mesh3d\"}],\"parcoords\":[{\"line\":{\"colorbar\":{\"outlinewidth\":0,\"ticks\":\"\"}},\"type\":\"parcoords\"}],\"pie\":[{\"automargin\":true,\"type\":\"pie\"}],\"scatter3d\":[{\"line\":{\"colorbar\":{\"outlinewidth\":0,\"ticks\":\"\"}},\"marker\":{\"colorbar\":{\"outlinewidth\":0,\"ticks\":\"\"}},\"type\":\"scatter3d\"}],\"scattercarpet\":[{\"marker\":{\"colorbar\":{\"outlinewidth\":0,\"ticks\":\"\"}},\"type\":\"scattercarpet\"}],\"scattergeo\":[{\"marker\":{\"colorbar\":{\"outlinewidth\":0,\"ticks\":\"\"}},\"type\":\"scattergeo\"}],\"scattergl\":[{\"marker\":{\"colorbar\":{\"outlinewidth\":0,\"ticks\":\"\"}},\"type\":\"scattergl\"}],\"scattermapbox\":[{\"marker\":{\"colorbar\":{\"outlinewidth\":0,\"ticks\":\"\"}},\"type\":\"scattermapbox\"}],\"scatterpolargl\":[{\"marker\":{\"colorbar\":{\"outlinewidth\":0,\"ticks\":\"\"}},\"type\":\"scatterpolargl\"}],\"scatterpolar\":[{\"marker\":{\"colorbar\":{\"outlinewidth\":0,\"ticks\":\"\"}},\"type\":\"scatterpolar\"}],\"scatter\":[{\"fillpattern\":{\"fillmode\":\"overlay\",\"size\":10,\"solidity\":0.2},\"type\":\"scatter\"}],\"scatterternary\":[{\"marker\":{\"colorbar\":{\"outlinewidth\":0,\"ticks\":\"\"}},\"type\":\"scatterternary\"}],\"surface\":[{\"colorbar\":{\"outlinewidth\":0,\"ticks\":\"\"},\"colorscale\":[[0.0,\"#0d0887\"],[0.1111111111111111,\"#46039f\"],[0.2222222222222222,\"#7201a8\"],[0.3333333333333333,\"#9c179e\"],[0.4444444444444444,\"#bd3786\"],[0.5555555555555556,\"#d8576b\"],[0.6666666666666666,\"#ed7953\"],[0.7777777777777778,\"#fb9f3a\"],[0.8888888888888888,\"#fdca26\"],[1.0,\"#f0f921\"]],\"type\":\"surface\"}],\"table\":[{\"cells\":{\"fill\":{\"color\":\"#EBF0F8\"},\"line\":{\"color\":\"white\"}},\"header\":{\"fill\":{\"color\":\"#C8D4E3\"},\"line\":{\"color\":\"white\"}},\"type\":\"table\"}]},\"layout\":{\"annotationdefaults\":{\"arrowcolor\":\"#2a3f5f\",\"arrowhead\":0,\"arrowwidth\":1},\"autotypenumbers\":\"strict\",\"coloraxis\":{\"colorbar\":{\"outlinewidth\":0,\"ticks\":\"\"}},\"colorscale\":{\"diverging\":[[0,\"#8e0152\"],[0.1,\"#c51b7d\"],[0.2,\"#de77ae\"],[0.3,\"#f1b6da\"],[0.4,\"#fde0ef\"],[0.5,\"#f7f7f7\"],[0.6,\"#e6f5d0\"],[0.7,\"#b8e186\"],[0.8,\"#7fbc41\"],[0.9,\"#4d9221\"],[1,\"#276419\"]],\"sequential\":[[0.0,\"#0d0887\"],[0.1111111111111111,\"#46039f\"],[0.2222222222222222,\"#7201a8\"],[0.3333333333333333,\"#9c179e\"],[0.4444444444444444,\"#bd3786\"],[0.5555555555555556,\"#d8576b\"],[0.6666666666666666,\"#ed7953\"],[0.7777777777777778,\"#fb9f3a\"],[0.8888888888888888,\"#fdca26\"],[1.0,\"#f0f921\"]],\"sequentialminus\":[[0.0,\"#0d0887\"],[0.1111111111111111,\"#46039f\"],[0.2222222222222222,\"#7201a8\"],[0.3333333333333333,\"#9c179e\"],[0.4444444444444444,\"#bd3786\"],[0.5555555555555556,\"#d8576b\"],[0.6666666666666666,\"#ed7953\"],[0.7777777777777778,\"#fb9f3a\"],[0.8888888888888888,\"#fdca26\"],[1.0,\"#f0f921\"]]},\"colorway\":[\"#636efa\",\"#EF553B\",\"#00cc96\",\"#ab63fa\",\"#FFA15A\",\"#19d3f3\",\"#FF6692\",\"#B6E880\",\"#FF97FF\",\"#FECB52\"],\"font\":{\"color\":\"#2a3f5f\"},\"geo\":{\"bgcolor\":\"white\",\"lakecolor\":\"white\",\"landcolor\":\"white\",\"showlakes\":true,\"showland\":true,\"subunitcolor\":\"#C8D4E3\"},\"hoverlabel\":{\"align\":\"left\"},\"hovermode\":\"closest\",\"mapbox\":{\"style\":\"light\"},\"paper_bgcolor\":\"white\",\"plot_bgcolor\":\"white\",\"polar\":{\"angularaxis\":{\"gridcolor\":\"#EBF0F8\",\"linecolor\":\"#EBF0F8\",\"ticks\":\"\"},\"bgcolor\":\"white\",\"radialaxis\":{\"gridcolor\":\"#EBF0F8\",\"linecolor\":\"#EBF0F8\",\"ticks\":\"\"}},\"scene\":{\"xaxis\":{\"backgroundcolor\":\"white\",\"gridcolor\":\"#DFE8F3\",\"gridwidth\":2,\"linecolor\":\"#EBF0F8\",\"showbackground\":true,\"ticks\":\"\",\"zerolinecolor\":\"#EBF0F8\"},\"yaxis\":{\"backgroundcolor\":\"white\",\"gridcolor\":\"#DFE8F3\",\"gridwidth\":2,\"linecolor\":\"#EBF0F8\",\"showbackground\":true,\"ticks\":\"\",\"zerolinecolor\":\"#EBF0F8\"},\"zaxis\":{\"backgroundcolor\":\"white\",\"gridcolor\":\"#DFE8F3\",\"gridwidth\":2,\"linecolor\":\"#EBF0F8\",\"showbackground\":true,\"ticks\":\"\",\"zerolinecolor\":\"#EBF0F8\"}},\"shapedefaults\":{\"line\":{\"color\":\"#2a3f5f\"}},\"ternary\":{\"aaxis\":{\"gridcolor\":\"#DFE8F3\",\"linecolor\":\"#A2B1C6\",\"ticks\":\"\"},\"baxis\":{\"gridcolor\":\"#DFE8F3\",\"linecolor\":\"#A2B1C6\",\"ticks\":\"\"},\"bgcolor\":\"white\",\"caxis\":{\"gridcolor\":\"#DFE8F3\",\"linecolor\":\"#A2B1C6\",\"ticks\":\"\"}},\"title\":{\"x\":0.05},\"xaxis\":{\"automargin\":true,\"gridcolor\":\"#EBF0F8\",\"linecolor\":\"#EBF0F8\",\"ticks\":\"\",\"title\":{\"standoff\":15},\"zerolinecolor\":\"#EBF0F8\",\"zerolinewidth\":2},\"yaxis\":{\"automargin\":true,\"gridcolor\":\"#EBF0F8\",\"linecolor\":\"#EBF0F8\",\"ticks\":\"\",\"title\":{\"standoff\":15},\"zerolinecolor\":\"#EBF0F8\",\"zerolinewidth\":2}}},\"scene\":{\"domain\":{\"x\":[0.0,1.0],\"y\":[0.0,1.0]},\"xaxis\":{\"title\":{\"text\":\"experience_level\"},\"backgroundcolor\":\"rgb(200, 200, 230)\",\"gridcolor\":\"white\",\"showbackground\":true,\"zerolinecolor\":\"black\"},\"yaxis\":{\"title\":{\"text\":\"Puesto Laboral\"},\"backgroundcolor\":\"rgb(230, 200,230)\",\"gridcolor\":\"white\",\"showbackground\":true,\"zerolinecolor\":\"black\"},\"zaxis\":{\"title\":{\"text\":\"Salario en USD\"},\"backgroundcolor\":\"rgb(230, 230,200)\",\"gridcolor\":\"white\",\"showbackground\":true,\"zerolinecolor\":\"black\"}},\"coloraxis\":{\"colorbar\":{\"title\":{\"text\":\"Salario en USD\"}},\"colorscale\":[[0.0,\"#0d0887\"],[0.1111111111111111,\"#46039f\"],[0.2222222222222222,\"#7201a8\"],[0.3333333333333333,\"#9c179e\"],[0.4444444444444444,\"#bd3786\"],[0.5555555555555556,\"#d8576b\"],[0.6666666666666666,\"#ed7953\"],[0.7777777777777778,\"#fb9f3a\"],[0.8888888888888888,\"#fdca26\"],[1.0,\"#f0f921\"]]},\"legend\":{\"tracegroupgap\":0},\"margin\":{\"t\":60},\"title\":{\"text\":\"<b> 3D Scatter Plot <b>\",\"x\":0.5,\"font\":{\"size\":28,\"family\":\"Courier New\",\"color\":\"white\"}},\"width\":900,\"height\":500},                        {\"responsive\": true}                    ).then(function(){\n",
       "                            \n",
       "var gd = document.getElementById('a8713bea-476c-4c88-809c-357f55a1d028');\n",
       "var x = new MutationObserver(function (mutations, observer) {{\n",
       "        var display = window.getComputedStyle(gd).display;\n",
       "        if (!display || display === 'none') {{\n",
       "            console.log([gd, 'removed!']);\n",
       "            Plotly.purge(gd);\n",
       "            observer.disconnect();\n",
       "        }}\n",
       "}});\n",
       "\n",
       "// Listen for the removal of the full notebook cells\n",
       "var notebookContainer = gd.closest('#notebook-container');\n",
       "if (notebookContainer) {{\n",
       "    x.observe(notebookContainer, {childList: true});\n",
       "}}\n",
       "\n",
       "// Listen for the clearing of the current output cell\n",
       "var outputEl = gd.closest('.output');\n",
       "if (outputEl) {{\n",
       "    x.observe(outputEl, {childList: true});\n",
       "}}\n",
       "\n",
       "                        })                };                });            </script>        </div>"
      ]
     },
     "metadata": {},
     "output_type": "display_data"
    }
   ],
   "source": [
    "fig = px.scatter_3d(data3, x='experience_level', y='Puesto Laboral', z='Salario en USD',color='Salario en USD')\n",
    "fig.update_layout(title='<b> 3D Scatter Plot <b>', title_x=0.5,titlefont=dict({'size':28, 'family': 'Courier New', 'color':'white'}),template='plotly_white', width=900, height=500,)\n",
    "fig.update_layout(scene = dict(xaxis = dict( backgroundcolor=\"rgb(200, 200, 230)\",gridcolor=\"white\",showbackground=True,zerolinecolor=\"black\",),yaxis = dict(backgroundcolor=\"rgb(230, 200,230)\",gridcolor=\"white\",showbackground=True,zerolinecolor=\"black\"),zaxis = dict(backgroundcolor=\"rgb(230, 230,200)\",gridcolor=\"white\",showbackground=True,zerolinecolor=\"black\"),),)\n",
    "fig.show()"
   ]
  },
  {
   "cell_type": "code",
   "execution_count": 251,
   "metadata": {},
   "outputs": [
    {
     "data": {
      "application/vnd.plotly.v1+json": {
       "config": {
        "plotlyServerURL": "https://plot.ly"
       },
       "data": [
        {
         "hovertemplate": "experience_level=%{x}<br>remote_ratio=%{y}<br>Salario en USD=%{marker.color}<extra></extra>",
         "legendgroup": "",
         "marker": {
          "color": [
           79833,
           260000,
           109024,
           20000,
           150000,
           72000,
           190000,
           35735,
           135000,
           125000,
           51321,
           40481,
           39916,
           87000,
           85000,
           8000,
           41689,
           114047,
           5707,
           56000,
           43331,
           6072,
           47899,
           98000,
           115000,
           325000,
           42000,
           33511,
           100000,
           117104,
           59303,
           70000,
           68428,
           46759,
           74130,
           103000,
           250000,
           10000,
           138000,
           45760,
           79833,
           50180,
           106000,
           112872,
           15966,
           76958,
           188000,
           105000,
           70139,
           6072,
           91000,
           45896,
           54742,
           60000,
           148261,
           38776,
           118000,
           120000,
           138350,
           110000,
           130800,
           21669,
           45618,
           62726,
           49268,
           190200,
           105000,
           91237,
           62726,
           42197,
           82528,
           150000,
           235000,
           53192,
           100000,
           5409,
           270000,
           80000,
           79197,
           140000,
           54238,
           47282,
           153667,
           28476,
           59102,
           110000,
           170000,
           80000,
           88654,
           76833,
           19609,
           276000,
           29751,
           89294,
           12000,
           70000,
           95746,
           75000,
           150000,
           36259,
           62000,
           73000,
           51519,
           187442,
           115000,
           150000,
           30428,
           94564,
           113476,
           103160,
           12000,
           45391,
           225000,
           50000,
           40189,
           90000,
           200000,
           60000,
           200000,
           50000,
           110037,
           10354,
           151000,
           120000,
           9466,
           20000,
           40570,
           100000,
           49646,
           38400,
           24000,
           100000,
           90000,
           63711,
           77364,
           220000,
           80000,
           135000,
           240000,
           150000,
           82500,
           100000,
           82744,
           62649,
           90000,
           153000,
           160000,
           168000,
           150000,
           75774,
           13400,
           144000,
           127221,
           119059,
           120000,
           125000,
           230000,
           85000,
           28369,
           63831,
           130026,
           165000,
           80000,
           250000,
           55000,
           150000,
           170000,
           82528,
           60000,
           235000,
           60757,
           174000,
           2859,
           40038,
           81000,
           5679,
           22611,
           90734,
           26005,
           61896,
           12000,
           4000,
           50000,
           69741,
           76833,
           74000,
           152000,
           21844,
           18000,
           174000,
           96113,
           147000,
           9272,
           24342,
           54094,
           90000,
           61467,
           195000,
           37825,
           50000,
           160000,
           12901,
           200000,
           165000,
           20000,
           120000,
           24823,
           56738,
           66022,
           5882,
           24823,
           185000,
           28609,
           90734,
           88654,
           140000,
           46597,
           116914,
           33808,
           56256,
           225000,
           87738,
           88654,
           135000,
           71786,
           16228,
           256000,
           200000,
           200000,
           180000,
           110000,
           63810,
           46809,
           4000,
           21637,
           103691,
           80000,
           110000,
           165000,
           18053,
           72212,
           36643,
           12103,
           96282,
           170000,
           115000,
           90000,
           28399,
           93000,
           99703,
           200000,
           173762,
           185000,
           141846,
           130000,
           63831,
           16904,
           66265,
           25532,
           160000,
           93150,
           111775,
           28016,
           65013,
           72500,
           18907,
           76833,
           85000,
           77684,
           100000,
           58000,
           55000,
           20171,
           59102,
           112000,
           100000,
           69741,
           105000,
           69999,
           94665,
           102839,
           109000,
           51064,
           135000,
           155000,
           120600,
           130000,
           90000,
           170000,
           150000,
           102100,
           84900,
           136620,
           99360,
           117789,
           104702,
           146000,
           123000,
           52351,
           99000,
           116000,
           106260,
           126500,
           242000,
           200000,
           65438,
           39263,
           78526,
           52351,
           165220,
           45807,
           120160,
           90320,
           181940,
           132320,
           220110,
           160080,
           180000,
           120000,
           124190,
           130000,
           110000,
           170000,
           115500,
           112900,
           90320,
           112900,
           90320,
           165400,
           132320,
           167000,
           243900,
           136600,
           109280,
           128875,
           93700,
           224000,
           167875,
           175000,
           156600,
           108800,
           95550,
           113000,
           135000,
           161342,
           137141,
           167000,
           123000,
           78526,
           65438,
           150000,
           211500,
           192400,
           90700,
           130000,
           61300,
           130000,
           61300,
           160000,
           138600,
           136000,
           58000,
           135000,
           170000,
           123000,
           189650,
           164996,
           54957,
           54957,
           118187,
           132000,
           165400,
           208775,
           147800,
           136994,
           101570,
           128875,
           93700,
           79039,
           132320,
           37300,
           164000,
           155000,
           124333,
           98158,
           120000,
           112900,
           90320,
           145000,
           105400,
           87932,
           117789,
           215300,
           158200,
           209100,
           154600,
           115934,
           81666,
           175000,
           98158,
           58000,
           183600,
           52351,
           180000,
           71982,
           45807,
           65949,
           49461,
           78526,
           58894,
           260000,
           60000,
           63900,
           160000,
           112300,
           241000,
           159000,
           180000,
           80000,
           82900,
           100800,
           49461,
           140400,
           39263,
           43966,
           32974,
           87932,
           76940,
           104702,
           91614,
           65949,
           87932,
           189650,
           164996,
           43966,
           32974,
           98158,
           78526,
           215300,
           76940,
           209100,
           154600,
           180000,
           21983,
           80000,
           78791,
           196979,
           120000,
           125000,
           37236,
           105000,
           87932,
           18442,
           31615,
           58255,
           100000,
           54957,
           18442,
           162674,
           120000,
           144000,
           104890,
           100000,
           140000,
           135000,
           50000,
           220000,
           140000,
           183228,
           91614,
           185100,
           220000,
           200000,
           120000,
           120000,
           65000,
           324000,
           216000,
           210000,
           120000,
           230000,
           100000,
           100000,
           31875,
           200000,
           75000,
           35590,
           78791,
           100000,
           153000,
           58035,
           165000,
           93427,
           52396,
           62651,
           32974,
           40000,
           87425,
           115000,
           86703,
           75000,
           64849,
           120000,
           157000,
           150000,
           70912,
           65000,
           71444,
           20000,
           48000,
           152500,
           68147,
           122346,
           380000,
           69336,
           10000,
           20000,
           135000,
           177000,
           78000,
           135000,
           100000,
           90320,
           85000,
           75000,
           214000,
           192600,
           266400,
           213120,
           112900,
           155000,
           141300,
           102100,
           115934,
           81666,
           206699,
           99100,
           130000,
           115000,
           110500,
           130000,
           99050,
           160000,
           205300,
           140400,
           176000,
           144000,
           200100,
           160000,
           145000,
           70500,
           205300,
           140400,
           205300,
           184700,
           175100,
           140250,
           116150,
           54000,
           170000,
           65438,
           80000,
           140000,
           210000,
           140000,
           100000,
           69000,
           210000,
           140000,
           210000,
           150075,
           100000,
           25000,
           126500,
           106260,
           220110,
           160080,
           105000,
           110925,
           45807,
           140000,
           99000,
           60000,
           192564,
           144854,
           230000,
           150000,
           150260,
           109280,
           210000,
           170000,
           160000,
           130000,
           67000,
           52000,
           154000,
           126000,
           129000,
           150000,
           200000
          ],
          "coloraxis": "coloraxis",
          "symbol": "circle"
         },
         "mode": "markers",
         "name": "",
         "scene": "scene",
         "showlegend": false,
         "type": "scatter3d",
         "x": [
          "MI",
          "SE",
          "SE",
          "MI",
          "SE",
          "EN",
          "SE",
          "MI",
          "MI",
          "SE",
          "EN",
          "MI",
          "EN",
          "MI",
          "MI",
          "MI",
          "EN",
          "SE",
          "EN",
          "MI",
          "MI",
          "MI",
          "SE",
          "MI",
          "MI",
          "EX",
          "EN",
          "SE",
          "EN",
          "SE",
          "MI",
          "EN",
          "SE",
          "MI",
          "MI",
          "MI",
          "EN",
          "EN",
          "EN",
          "MI",
          "EX",
          "MI",
          "MI",
          "MI",
          "EN",
          "MI",
          "SE",
          "MI",
          "MI",
          "EN",
          "EN",
          "EN",
          "EN",
          "SE",
          "SE",
          "MI",
          "MI",
          "SE",
          "MI",
          "MI",
          "MI",
          "EN",
          "SE",
          "EN",
          "EN",
          "SE",
          "EN",
          "SE",
          "MI",
          "MI",
          "EN",
          "EX",
          "EX",
          "SE",
          "MI",
          "MI",
          "MI",
          "EN",
          "SE",
          "MI",
          "MI",
          "MI",
          "EX",
          "MI",
          "EN",
          "MI",
          "SE",
          "SE",
          "SE",
          "EN",
          "MI",
          "SE",
          "EN",
          "MI",
          "EN",
          "EN",
          "MI",
          "MI",
          "SE",
          "MI",
          "MI",
          "MI",
          "MI",
          "MI",
          "SE",
          "SE",
          "EN",
          "SE",
          "SE",
          "SE",
          "EN",
          "MI",
          "EN",
          "MI",
          "MI",
          "EN",
          "MI",
          "MI",
          "SE",
          "EN",
          "EN",
          "EN",
          "MI",
          "SE",
          "MI",
          "EN",
          "SE",
          "EN",
          "EN",
          "MI",
          "SE",
          "EN",
          "MI",
          "MI",
          "MI",
          "SE",
          "EN",
          "MI",
          "SE",
          "SE",
          "MI",
          "MI",
          "SE",
          "MI",
          "MI",
          "SE",
          "SE",
          "SE",
          "MI",
          "MI",
          "EN",
          "SE",
          "SE",
          "MI",
          "SE",
          "EN",
          "EX",
          "EX",
          "MI",
          "EN",
          "EX",
          "SE",
          "EN",
          "EX",
          "EN",
          "MI",
          "MI",
          "MI",
          "EN",
          "SE",
          "SE",
          "SE",
          "MI",
          "MI",
          "EN",
          "MI",
          "MI",
          "MI",
          "MI",
          "SE",
          "MI",
          "MI",
          "SE",
          "EX",
          "SE",
          "MI",
          "SE",
          "EN",
          "MI",
          "SE",
          "SE",
          "MI",
          "EN",
          "SE",
          "SE",
          "EN",
          "MI",
          "SE",
          "MI",
          "SE",
          "MI",
          "MI",
          "SE",
          "SE",
          "MI",
          "SE",
          "MI",
          "MI",
          "MI",
          "EN",
          "EN",
          "SE",
          "EN",
          "MI",
          "MI",
          "SE",
          "MI",
          "MI",
          "MI",
          "MI",
          "SE",
          "SE",
          "MI",
          "SE",
          "SE",
          "EN",
          "SE",
          "SE",
          "SE",
          "MI",
          "MI",
          "MI",
          "MI",
          "EN",
          "EN",
          "SE",
          "MI",
          "MI",
          "SE",
          "EN",
          "MI",
          "EN",
          "MI",
          "SE",
          "SE",
          "MI",
          "EN",
          "EN",
          "MI",
          "SE",
          "MI",
          "SE",
          "SE",
          "EX",
          "MI",
          "SE",
          "MI",
          "SE",
          "MI",
          "SE",
          "MI",
          "MI",
          "MI",
          "EN",
          "EN",
          "SE",
          "EN",
          "EN",
          "SE",
          "EN",
          "EN",
          "SE",
          "SE",
          "EN",
          "MI",
          "EN",
          "MI",
          "SE",
          "MI",
          "SE",
          "SE",
          "MI",
          "MI",
          "SE",
          "SE",
          "SE",
          "MI",
          "MI",
          "MI",
          "MI",
          "SE",
          "SE",
          "SE",
          "SE",
          "SE",
          "SE",
          "SE",
          "SE",
          "EN",
          "SE",
          "SE",
          "MI",
          "MI",
          "EX",
          "EX",
          "MI",
          "MI",
          "MI",
          "MI",
          "SE",
          "EN",
          "SE",
          "SE",
          "SE",
          "SE",
          "SE",
          "SE",
          "SE",
          "SE",
          "SE",
          "EX",
          "EX",
          "SE",
          "MI",
          "SE",
          "SE",
          "SE",
          "SE",
          "SE",
          "SE",
          "MI",
          "SE",
          "SE",
          "SE",
          "SE",
          "SE",
          "EX",
          "EX",
          "EX",
          "SE",
          "SE",
          "SE",
          "SE",
          "SE",
          "SE",
          "SE",
          "SE",
          "SE",
          "SE",
          "SE",
          "SE",
          "SE",
          "SE",
          "SE",
          "SE",
          "SE",
          "SE",
          "SE",
          "SE",
          "SE",
          "SE",
          "MI",
          "EX",
          "SE",
          "SE",
          "SE",
          "SE",
          "MI",
          "MI",
          "EX",
          "SE",
          "SE",
          "SE",
          "SE",
          "SE",
          "SE",
          "SE",
          "SE",
          "EX",
          "SE",
          "EN",
          "SE",
          "SE",
          "MI",
          "MI",
          "MI",
          "SE",
          "SE",
          "SE",
          "SE",
          "MI",
          "MI",
          "SE",
          "SE",
          "SE",
          "SE",
          "SE",
          "SE",
          "SE",
          "MI",
          "MI",
          "SE",
          "MI",
          "SE",
          "MI",
          "MI",
          "MI",
          "MI",
          "MI",
          "MI",
          "SE",
          "SE",
          "MI",
          "MI",
          "MI",
          "MI",
          "MI",
          "SE",
          "SE",
          "MI",
          "SE",
          "MI",
          "SE",
          "MI",
          "MI",
          "MI",
          "MI",
          "MI",
          "MI",
          "MI",
          "MI",
          "MI",
          "SE",
          "SE",
          "MI",
          "MI",
          "MI",
          "MI",
          "SE",
          "MI",
          "SE",
          "SE",
          "SE",
          "EN",
          "SE",
          "MI",
          "EX",
          "MI",
          "EN",
          "MI",
          "SE",
          "SE",
          "MI",
          "MI",
          "MI",
          "EN",
          "MI",
          "EN",
          "SE",
          "EN",
          "SE",
          "SE",
          "SE",
          "SE",
          "MI",
          "MI",
          "SE",
          "SE",
          "MI",
          "MI",
          "SE",
          "SE",
          "MI",
          "MI",
          "SE",
          "SE",
          "EX",
          "EX",
          "SE",
          "SE",
          "SE",
          "EN",
          "MI",
          "EN",
          "SE",
          "MI",
          "MI",
          "SE",
          "SE",
          "MI",
          "EN",
          "SE",
          "SE",
          "EN",
          "SE",
          "MI",
          "EN",
          "MI",
          "SE",
          "EN",
          "MI",
          "MI",
          "EN",
          "MI",
          "EN",
          "MI",
          "EN",
          "SE",
          "EN",
          "MI",
          "SE",
          "MI",
          "MI",
          "SE",
          "MI",
          "EN",
          "MI",
          "MI",
          "SE",
          "MI",
          "SE",
          "SE",
          "SE",
          "MI",
          "MI",
          "SE",
          "SE",
          "SE",
          "SE",
          "SE",
          "SE",
          "MI",
          "MI",
          "SE",
          "SE",
          "MI",
          "MI",
          "SE",
          "SE",
          "SE",
          "SE",
          "SE",
          "SE",
          "SE",
          "SE",
          "SE",
          "SE",
          "SE",
          "SE",
          "SE",
          "SE",
          "SE",
          "SE",
          "SE",
          "SE",
          "SE",
          "SE",
          "SE",
          "SE",
          "SE",
          "MI",
          "SE",
          "SE",
          "SE",
          "SE",
          "SE",
          "SE",
          "SE",
          "SE",
          "SE",
          "SE",
          "SE",
          "SE",
          "SE",
          "SE",
          "SE",
          "SE",
          "SE",
          "SE",
          "MI",
          "SE",
          "SE",
          "SE",
          "SE",
          "SE",
          "SE",
          "SE",
          "SE",
          "SE",
          "SE",
          "SE",
          "MI",
          "MI",
          "EN",
          "EN",
          "SE",
          "SE",
          "SE",
          "SE",
          "MI"
         ],
         "y": [
          "On site",
          "On site",
          "On Hybrid",
          "On site",
          "On Hybrid",
          "Remote",
          "Remote",
          "On Hybrid",
          "Remote",
          "On Hybrid",
          "On site",
          "On site",
          "On site",
          "Remote",
          "Remote",
          "On Hybrid",
          "Remote",
          "Remote",
          "On Hybrid",
          "Remote",
          "On site",
          "Remote",
          "On Hybrid",
          "On site",
          "On site",
          "Remote",
          "On Hybrid",
          "On site",
          "Remote",
          "On Hybrid",
          "Remote",
          "Remote",
          "Remote",
          "On Hybrid",
          "On Hybrid",
          "Remote",
          "On Hybrid",
          "Remote",
          "Remote",
          "Remote",
          "On Hybrid",
          "On site",
          "Remote",
          "On Hybrid",
          "Remote",
          "Remote",
          "Remote",
          "Remote",
          "On Hybrid",
          "On site",
          "Remote",
          "On Hybrid",
          "Remote",
          "Remote",
          "Remote",
          "Remote",
          "Remote",
          "On Hybrid",
          "Remote",
          "Remote",
          "Remote",
          "On Hybrid",
          "Remote",
          "On Hybrid",
          "On site",
          "Remote",
          "Remote",
          "On site",
          "On Hybrid",
          "On Hybrid",
          "On Hybrid",
          "Remote",
          "Remote",
          "On Hybrid",
          "Remote",
          "On Hybrid",
          "Remote",
          "Remote",
          "Remote",
          "Remote",
          "On Hybrid",
          "Remote",
          "Remote",
          "Remote",
          "On Hybrid",
          "Remote",
          "Remote",
          "Remote",
          "Remote",
          "Remote",
          "Remote",
          "On site",
          "On Hybrid",
          "On Hybrid",
          "Remote",
          "Remote",
          "Remote",
          "On site",
          "Remote",
          "On Hybrid",
          "On site",
          "On site",
          "On Hybrid",
          "Remote",
          "Remote",
          "Remote",
          "Remote",
          "On Hybrid",
          "Remote",
          "Remote",
          "Remote",
          "Remote",
          "Remote",
          "Remote",
          "Remote",
          "Remote",
          "Remote",
          "On Hybrid",
          "Remote",
          "Remote",
          "On site",
          "On Hybrid",
          "Remote",
          "On Hybrid",
          "On site",
          "Remote",
          "On Hybrid",
          "On Hybrid",
          "On Hybrid",
          "Remote",
          "Remote",
          "On site",
          "Remote",
          "On Hybrid",
          "On Hybrid",
          "On site",
          "Remote",
          "Remote",
          "On site",
          "On site",
          "Remote",
          "Remote",
          "On Hybrid",
          "On Hybrid",
          "Remote",
          "Remote",
          "Remote",
          "On site",
          "Remote",
          "Remote",
          "Remote",
          "Remote",
          "On Hybrid",
          "Remote",
          "Remote",
          "Remote",
          "On Hybrid",
          "On site",
          "On Hybrid",
          "On Hybrid",
          "On Hybrid",
          "Remote",
          "Remote",
          "On site",
          "On Hybrid",
          "Remote",
          "Remote",
          "Remote",
          "Remote",
          "Remote",
          "On Hybrid",
          "Remote",
          "On site",
          "Remote",
          "On Hybrid",
          "Remote",
          "On site",
          "On Hybrid",
          "On site",
          "On Hybrid",
          "On Hybrid",
          "Remote",
          "Remote",
          "Remote",
          "On Hybrid",
          "On Hybrid",
          "Remote",
          "On Hybrid",
          "On site",
          "Remote",
          "On Hybrid",
          "On Hybrid",
          "Remote",
          "Remote",
          "On Hybrid",
          "Remote",
          "On Hybrid",
          "Remote",
          "Remote",
          "Remote",
          "Remote",
          "On site",
          "Remote",
          "On site",
          "On site",
          "On site",
          "On Hybrid",
          "On Hybrid",
          "On Hybrid",
          "On site",
          "On Hybrid",
          "Remote",
          "On Hybrid",
          "On Hybrid",
          "Remote",
          "Remote",
          "Remote",
          "On Hybrid",
          "On site",
          "On Hybrid",
          "Remote",
          "Remote",
          "On Hybrid",
          "On site",
          "Remote",
          "Remote",
          "Remote",
          "Remote",
          "Remote",
          "Remote",
          "On site",
          "Remote",
          "Remote",
          "On site",
          "On Hybrid",
          "Remote",
          "Remote",
          "Remote",
          "Remote",
          "Remote",
          "On Hybrid",
          "On Hybrid",
          "On site",
          "On Hybrid",
          "Remote",
          "On Hybrid",
          "Remote",
          "Remote",
          "Remote",
          "On Hybrid",
          "Remote",
          "Remote",
          "On Hybrid",
          "On site",
          "On Hybrid",
          "On Hybrid",
          "Remote",
          "On site",
          "Remote",
          "On Hybrid",
          "On site",
          "On site",
          "Remote",
          "On Hybrid",
          "Remote",
          "On site",
          "On site",
          "Remote",
          "On Hybrid",
          "Remote",
          "On Hybrid",
          "Remote",
          "On Hybrid",
          "Remote",
          "Remote",
          "On site",
          "Remote",
          "Remote",
          "On Hybrid",
          "On Hybrid",
          "Remote",
          "On Hybrid",
          "On Hybrid",
          "Remote",
          "Remote",
          "Remote",
          "On site",
          "On site",
          "Remote",
          "Remote",
          "Remote",
          "Remote",
          "Remote",
          "Remote",
          "On site",
          "On site",
          "Remote",
          "Remote",
          "Remote",
          "On site",
          "On site",
          "On site",
          "On site",
          "Remote",
          "Remote",
          "On site",
          "On site",
          "On site",
          "On site",
          "Remote",
          "Remote",
          "Remote",
          "Remote",
          "On site",
          "On site",
          "On site",
          "On site",
          "On site",
          "On site",
          "Remote",
          "Remote",
          "Remote",
          "Remote",
          "Remote",
          "Remote",
          "Remote",
          "Remote",
          "Remote",
          "Remote",
          "Remote",
          "Remote",
          "Remote",
          "Remote",
          "Remote",
          "Remote",
          "Remote",
          "Remote",
          "Remote",
          "Remote",
          "Remote",
          "On site",
          "On site",
          "On site",
          "Remote",
          "Remote",
          "Remote",
          "Remote",
          "Remote",
          "On site",
          "On site",
          "On site",
          "Remote",
          "Remote",
          "Remote",
          "Remote",
          "Remote",
          "Remote",
          "Remote",
          "On site",
          "Remote",
          "On site",
          "On site",
          "Remote",
          "Remote",
          "Remote",
          "On site",
          "On site",
          "On site",
          "On site",
          "Remote",
          "On site",
          "Remote",
          "Remote",
          "Remote",
          "Remote",
          "Remote",
          "Remote",
          "Remote",
          "On Hybrid",
          "Remote",
          "Remote",
          "On site",
          "Remote",
          "On site",
          "On site",
          "On site",
          "Remote",
          "Remote",
          "Remote",
          "Remote",
          "Remote",
          "On site",
          "Remote",
          "Remote",
          "Remote",
          "Remote",
          "On site",
          "On site",
          "Remote",
          "On site",
          "On site",
          "Remote",
          "Remote",
          "Remote",
          "On site",
          "On site",
          "Remote",
          "Remote",
          "Remote",
          "Remote",
          "Remote",
          "Remote",
          "On site",
          "Remote",
          "Remote",
          "Remote",
          "Remote",
          "On site",
          "On site",
          "On site",
          "Remote",
          "Remote",
          "On site",
          "Remote",
          "Remote",
          "Remote",
          "Remote",
          "Remote",
          "Remote",
          "Remote",
          "Remote",
          "Remote",
          "On site",
          "On site",
          "Remote",
          "Remote",
          "Remote",
          "Remote",
          "On site",
          "Remote",
          "Remote",
          "Remote",
          "Remote",
          "Remote",
          "Remote",
          "Remote",
          "On Hybrid",
          "Remote",
          "On site",
          "On Hybrid",
          "Remote",
          "On site",
          "Remote",
          "Remote",
          "On Hybrid",
          "On Hybrid",
          "On Hybrid",
          "Remote",
          "Remote",
          "Remote",
          "On Hybrid",
          "Remote",
          "Remote",
          "Remote",
          "Remote",
          "Remote",
          "Remote",
          "Remote",
          "On site",
          "On site",
          "Remote",
          "Remote",
          "Remote",
          "Remote",
          "Remote",
          "Remote",
          "Remote",
          "Remote",
          "Remote",
          "Remote",
          "Remote",
          "On Hybrid",
          "Remote",
          "Remote",
          "Remote",
          "Remote",
          "Remote",
          "Remote",
          "Remote",
          "On Hybrid",
          "Remote",
          "Remote",
          "On Hybrid",
          "Remote",
          "Remote",
          "Remote",
          "Remote",
          "Remote",
          "Remote",
          "On Hybrid",
          "Remote",
          "On site",
          "Remote",
          "Remote",
          "Remote",
          "On Hybrid",
          "Remote",
          "Remote",
          "On site",
          "Remote",
          "Remote",
          "Remote",
          "On site",
          "Remote",
          "Remote",
          "Remote",
          "Remote",
          "Remote",
          "Remote",
          "Remote",
          "Remote",
          "Remote",
          "Remote",
          "On site",
          "On site",
          "Remote",
          "Remote",
          "Remote",
          "Remote",
          "Remote",
          "Remote",
          "On site",
          "On site",
          "Remote",
          "Remote",
          "On site",
          "On site",
          "Remote",
          "Remote",
          "Remote",
          "Remote",
          "Remote",
          "Remote",
          "On site",
          "On site",
          "Remote",
          "Remote",
          "Remote",
          "Remote",
          "Remote",
          "On site",
          "On site",
          "On site",
          "On site",
          "On site",
          "Remote",
          "Remote",
          "Remote",
          "On site",
          "Remote",
          "On site",
          "Remote",
          "Remote",
          "Remote",
          "Remote",
          "Remote",
          "Remote",
          "Remote",
          "Remote",
          "Remote",
          "Remote",
          "Remote",
          "Remote",
          "Remote",
          "Remote",
          "Remote",
          "Remote",
          "Remote",
          "Remote",
          "On site",
          "Remote",
          "On site",
          "Remote",
          "Remote",
          "Remote",
          "Remote",
          "Remote",
          "Remote",
          "Remote",
          "Remote",
          "Remote",
          "Remote",
          "Remote",
          "On site",
          "On site",
          "Remote",
          "Remote",
          "On site",
          "Remote",
          "Remote"
         ],
         "z": [
          79833,
          260000,
          109024,
          20000,
          150000,
          72000,
          190000,
          35735,
          135000,
          125000,
          51321,
          40481,
          39916,
          87000,
          85000,
          8000,
          41689,
          114047,
          5707,
          56000,
          43331,
          6072,
          47899,
          98000,
          115000,
          325000,
          42000,
          33511,
          100000,
          117104,
          59303,
          70000,
          68428,
          46759,
          74130,
          103000,
          250000,
          10000,
          138000,
          45760,
          79833,
          50180,
          106000,
          112872,
          15966,
          76958,
          188000,
          105000,
          70139,
          6072,
          91000,
          45896,
          54742,
          60000,
          148261,
          38776,
          118000,
          120000,
          138350,
          110000,
          130800,
          21669,
          45618,
          62726,
          49268,
          190200,
          105000,
          91237,
          62726,
          42197,
          82528,
          150000,
          235000,
          53192,
          100000,
          5409,
          270000,
          80000,
          79197,
          140000,
          54238,
          47282,
          153667,
          28476,
          59102,
          110000,
          170000,
          80000,
          88654,
          76833,
          19609,
          276000,
          29751,
          89294,
          12000,
          70000,
          95746,
          75000,
          150000,
          36259,
          62000,
          73000,
          51519,
          187442,
          115000,
          150000,
          30428,
          94564,
          113476,
          103160,
          12000,
          45391,
          225000,
          50000,
          40189,
          90000,
          200000,
          60000,
          200000,
          50000,
          110037,
          10354,
          151000,
          120000,
          9466,
          20000,
          40570,
          100000,
          49646,
          38400,
          24000,
          100000,
          90000,
          63711,
          77364,
          220000,
          80000,
          135000,
          240000,
          150000,
          82500,
          100000,
          82744,
          62649,
          90000,
          153000,
          160000,
          168000,
          150000,
          75774,
          13400,
          144000,
          127221,
          119059,
          120000,
          125000,
          230000,
          85000,
          28369,
          63831,
          130026,
          165000,
          80000,
          250000,
          55000,
          150000,
          170000,
          82528,
          60000,
          235000,
          60757,
          174000,
          2859,
          40038,
          81000,
          5679,
          22611,
          90734,
          26005,
          61896,
          12000,
          4000,
          50000,
          69741,
          76833,
          74000,
          152000,
          21844,
          18000,
          174000,
          96113,
          147000,
          9272,
          24342,
          54094,
          90000,
          61467,
          195000,
          37825,
          50000,
          160000,
          12901,
          200000,
          165000,
          20000,
          120000,
          24823,
          56738,
          66022,
          5882,
          24823,
          185000,
          28609,
          90734,
          88654,
          140000,
          46597,
          116914,
          33808,
          56256,
          225000,
          87738,
          88654,
          135000,
          71786,
          16228,
          256000,
          200000,
          200000,
          180000,
          110000,
          63810,
          46809,
          4000,
          21637,
          103691,
          80000,
          110000,
          165000,
          18053,
          72212,
          36643,
          12103,
          96282,
          170000,
          115000,
          90000,
          28399,
          93000,
          99703,
          200000,
          173762,
          185000,
          141846,
          130000,
          63831,
          16904,
          66265,
          25532,
          160000,
          93150,
          111775,
          28016,
          65013,
          72500,
          18907,
          76833,
          85000,
          77684,
          100000,
          58000,
          55000,
          20171,
          59102,
          112000,
          100000,
          69741,
          105000,
          69999,
          94665,
          102839,
          109000,
          51064,
          135000,
          155000,
          120600,
          130000,
          90000,
          170000,
          150000,
          102100,
          84900,
          136620,
          99360,
          117789,
          104702,
          146000,
          123000,
          52351,
          99000,
          116000,
          106260,
          126500,
          242000,
          200000,
          65438,
          39263,
          78526,
          52351,
          165220,
          45807,
          120160,
          90320,
          181940,
          132320,
          220110,
          160080,
          180000,
          120000,
          124190,
          130000,
          110000,
          170000,
          115500,
          112900,
          90320,
          112900,
          90320,
          165400,
          132320,
          167000,
          243900,
          136600,
          109280,
          128875,
          93700,
          224000,
          167875,
          175000,
          156600,
          108800,
          95550,
          113000,
          135000,
          161342,
          137141,
          167000,
          123000,
          78526,
          65438,
          150000,
          211500,
          192400,
          90700,
          130000,
          61300,
          130000,
          61300,
          160000,
          138600,
          136000,
          58000,
          135000,
          170000,
          123000,
          189650,
          164996,
          54957,
          54957,
          118187,
          132000,
          165400,
          208775,
          147800,
          136994,
          101570,
          128875,
          93700,
          79039,
          132320,
          37300,
          164000,
          155000,
          124333,
          98158,
          120000,
          112900,
          90320,
          145000,
          105400,
          87932,
          117789,
          215300,
          158200,
          209100,
          154600,
          115934,
          81666,
          175000,
          98158,
          58000,
          183600,
          52351,
          180000,
          71982,
          45807,
          65949,
          49461,
          78526,
          58894,
          260000,
          60000,
          63900,
          160000,
          112300,
          241000,
          159000,
          180000,
          80000,
          82900,
          100800,
          49461,
          140400,
          39263,
          43966,
          32974,
          87932,
          76940,
          104702,
          91614,
          65949,
          87932,
          189650,
          164996,
          43966,
          32974,
          98158,
          78526,
          215300,
          76940,
          209100,
          154600,
          180000,
          21983,
          80000,
          78791,
          196979,
          120000,
          125000,
          37236,
          105000,
          87932,
          18442,
          31615,
          58255,
          100000,
          54957,
          18442,
          162674,
          120000,
          144000,
          104890,
          100000,
          140000,
          135000,
          50000,
          220000,
          140000,
          183228,
          91614,
          185100,
          220000,
          200000,
          120000,
          120000,
          65000,
          324000,
          216000,
          210000,
          120000,
          230000,
          100000,
          100000,
          31875,
          200000,
          75000,
          35590,
          78791,
          100000,
          153000,
          58035,
          165000,
          93427,
          52396,
          62651,
          32974,
          40000,
          87425,
          115000,
          86703,
          75000,
          64849,
          120000,
          157000,
          150000,
          70912,
          65000,
          71444,
          20000,
          48000,
          152500,
          68147,
          122346,
          380000,
          69336,
          10000,
          20000,
          135000,
          177000,
          78000,
          135000,
          100000,
          90320,
          85000,
          75000,
          214000,
          192600,
          266400,
          213120,
          112900,
          155000,
          141300,
          102100,
          115934,
          81666,
          206699,
          99100,
          130000,
          115000,
          110500,
          130000,
          99050,
          160000,
          205300,
          140400,
          176000,
          144000,
          200100,
          160000,
          145000,
          70500,
          205300,
          140400,
          205300,
          184700,
          175100,
          140250,
          116150,
          54000,
          170000,
          65438,
          80000,
          140000,
          210000,
          140000,
          100000,
          69000,
          210000,
          140000,
          210000,
          150075,
          100000,
          25000,
          126500,
          106260,
          220110,
          160080,
          105000,
          110925,
          45807,
          140000,
          99000,
          60000,
          192564,
          144854,
          230000,
          150000,
          150260,
          109280,
          210000,
          170000,
          160000,
          130000,
          67000,
          52000,
          154000,
          126000,
          129000,
          150000,
          200000
         ]
        }
       ],
       "layout": {
        "coloraxis": {
         "colorbar": {
          "title": {
           "text": "Salario en USD"
          }
         },
         "colorscale": [
          [
           0,
           "#0d0887"
          ],
          [
           0.1111111111111111,
           "#46039f"
          ],
          [
           0.2222222222222222,
           "#7201a8"
          ],
          [
           0.3333333333333333,
           "#9c179e"
          ],
          [
           0.4444444444444444,
           "#bd3786"
          ],
          [
           0.5555555555555556,
           "#d8576b"
          ],
          [
           0.6666666666666666,
           "#ed7953"
          ],
          [
           0.7777777777777778,
           "#fb9f3a"
          ],
          [
           0.8888888888888888,
           "#fdca26"
          ],
          [
           1,
           "#f0f921"
          ]
         ]
        },
        "height": 500,
        "legend": {
         "tracegroupgap": 0
        },
        "margin": {
         "t": 60
        },
        "scene": {
         "domain": {
          "x": [
           0,
           1
          ],
          "y": [
           0,
           1
          ]
         },
         "xaxis": {
          "backgroundcolor": "rgb(200, 200, 230)",
          "gridcolor": "white",
          "showbackground": true,
          "title": {
           "text": "experience_level"
          },
          "zerolinecolor": "black"
         },
         "yaxis": {
          "backgroundcolor": "rgb(230, 200,230)",
          "gridcolor": "white",
          "showbackground": true,
          "title": {
           "text": "remote_ratio"
          },
          "zerolinecolor": "black"
         },
         "zaxis": {
          "backgroundcolor": "rgb(230, 230,200)",
          "gridcolor": "white",
          "showbackground": true,
          "title": {
           "text": "Salario en USD"
          },
          "zerolinecolor": "black"
         }
        },
        "template": {
         "data": {
          "bar": [
           {
            "error_x": {
             "color": "#2a3f5f"
            },
            "error_y": {
             "color": "#2a3f5f"
            },
            "marker": {
             "line": {
              "color": "white",
              "width": 0.5
             },
             "pattern": {
              "fillmode": "overlay",
              "size": 10,
              "solidity": 0.2
             }
            },
            "type": "bar"
           }
          ],
          "barpolar": [
           {
            "marker": {
             "line": {
              "color": "white",
              "width": 0.5
             },
             "pattern": {
              "fillmode": "overlay",
              "size": 10,
              "solidity": 0.2
             }
            },
            "type": "barpolar"
           }
          ],
          "carpet": [
           {
            "aaxis": {
             "endlinecolor": "#2a3f5f",
             "gridcolor": "#C8D4E3",
             "linecolor": "#C8D4E3",
             "minorgridcolor": "#C8D4E3",
             "startlinecolor": "#2a3f5f"
            },
            "baxis": {
             "endlinecolor": "#2a3f5f",
             "gridcolor": "#C8D4E3",
             "linecolor": "#C8D4E3",
             "minorgridcolor": "#C8D4E3",
             "startlinecolor": "#2a3f5f"
            },
            "type": "carpet"
           }
          ],
          "choropleth": [
           {
            "colorbar": {
             "outlinewidth": 0,
             "ticks": ""
            },
            "type": "choropleth"
           }
          ],
          "contour": [
           {
            "colorbar": {
             "outlinewidth": 0,
             "ticks": ""
            },
            "colorscale": [
             [
              0,
              "#0d0887"
             ],
             [
              0.1111111111111111,
              "#46039f"
             ],
             [
              0.2222222222222222,
              "#7201a8"
             ],
             [
              0.3333333333333333,
              "#9c179e"
             ],
             [
              0.4444444444444444,
              "#bd3786"
             ],
             [
              0.5555555555555556,
              "#d8576b"
             ],
             [
              0.6666666666666666,
              "#ed7953"
             ],
             [
              0.7777777777777778,
              "#fb9f3a"
             ],
             [
              0.8888888888888888,
              "#fdca26"
             ],
             [
              1,
              "#f0f921"
             ]
            ],
            "type": "contour"
           }
          ],
          "contourcarpet": [
           {
            "colorbar": {
             "outlinewidth": 0,
             "ticks": ""
            },
            "type": "contourcarpet"
           }
          ],
          "heatmap": [
           {
            "colorbar": {
             "outlinewidth": 0,
             "ticks": ""
            },
            "colorscale": [
             [
              0,
              "#0d0887"
             ],
             [
              0.1111111111111111,
              "#46039f"
             ],
             [
              0.2222222222222222,
              "#7201a8"
             ],
             [
              0.3333333333333333,
              "#9c179e"
             ],
             [
              0.4444444444444444,
              "#bd3786"
             ],
             [
              0.5555555555555556,
              "#d8576b"
             ],
             [
              0.6666666666666666,
              "#ed7953"
             ],
             [
              0.7777777777777778,
              "#fb9f3a"
             ],
             [
              0.8888888888888888,
              "#fdca26"
             ],
             [
              1,
              "#f0f921"
             ]
            ],
            "type": "heatmap"
           }
          ],
          "heatmapgl": [
           {
            "colorbar": {
             "outlinewidth": 0,
             "ticks": ""
            },
            "colorscale": [
             [
              0,
              "#0d0887"
             ],
             [
              0.1111111111111111,
              "#46039f"
             ],
             [
              0.2222222222222222,
              "#7201a8"
             ],
             [
              0.3333333333333333,
              "#9c179e"
             ],
             [
              0.4444444444444444,
              "#bd3786"
             ],
             [
              0.5555555555555556,
              "#d8576b"
             ],
             [
              0.6666666666666666,
              "#ed7953"
             ],
             [
              0.7777777777777778,
              "#fb9f3a"
             ],
             [
              0.8888888888888888,
              "#fdca26"
             ],
             [
              1,
              "#f0f921"
             ]
            ],
            "type": "heatmapgl"
           }
          ],
          "histogram": [
           {
            "marker": {
             "pattern": {
              "fillmode": "overlay",
              "size": 10,
              "solidity": 0.2
             }
            },
            "type": "histogram"
           }
          ],
          "histogram2d": [
           {
            "colorbar": {
             "outlinewidth": 0,
             "ticks": ""
            },
            "colorscale": [
             [
              0,
              "#0d0887"
             ],
             [
              0.1111111111111111,
              "#46039f"
             ],
             [
              0.2222222222222222,
              "#7201a8"
             ],
             [
              0.3333333333333333,
              "#9c179e"
             ],
             [
              0.4444444444444444,
              "#bd3786"
             ],
             [
              0.5555555555555556,
              "#d8576b"
             ],
             [
              0.6666666666666666,
              "#ed7953"
             ],
             [
              0.7777777777777778,
              "#fb9f3a"
             ],
             [
              0.8888888888888888,
              "#fdca26"
             ],
             [
              1,
              "#f0f921"
             ]
            ],
            "type": "histogram2d"
           }
          ],
          "histogram2dcontour": [
           {
            "colorbar": {
             "outlinewidth": 0,
             "ticks": ""
            },
            "colorscale": [
             [
              0,
              "#0d0887"
             ],
             [
              0.1111111111111111,
              "#46039f"
             ],
             [
              0.2222222222222222,
              "#7201a8"
             ],
             [
              0.3333333333333333,
              "#9c179e"
             ],
             [
              0.4444444444444444,
              "#bd3786"
             ],
             [
              0.5555555555555556,
              "#d8576b"
             ],
             [
              0.6666666666666666,
              "#ed7953"
             ],
             [
              0.7777777777777778,
              "#fb9f3a"
             ],
             [
              0.8888888888888888,
              "#fdca26"
             ],
             [
              1,
              "#f0f921"
             ]
            ],
            "type": "histogram2dcontour"
           }
          ],
          "mesh3d": [
           {
            "colorbar": {
             "outlinewidth": 0,
             "ticks": ""
            },
            "type": "mesh3d"
           }
          ],
          "parcoords": [
           {
            "line": {
             "colorbar": {
              "outlinewidth": 0,
              "ticks": ""
             }
            },
            "type": "parcoords"
           }
          ],
          "pie": [
           {
            "automargin": true,
            "type": "pie"
           }
          ],
          "scatter": [
           {
            "fillpattern": {
             "fillmode": "overlay",
             "size": 10,
             "solidity": 0.2
            },
            "type": "scatter"
           }
          ],
          "scatter3d": [
           {
            "line": {
             "colorbar": {
              "outlinewidth": 0,
              "ticks": ""
             }
            },
            "marker": {
             "colorbar": {
              "outlinewidth": 0,
              "ticks": ""
             }
            },
            "type": "scatter3d"
           }
          ],
          "scattercarpet": [
           {
            "marker": {
             "colorbar": {
              "outlinewidth": 0,
              "ticks": ""
             }
            },
            "type": "scattercarpet"
           }
          ],
          "scattergeo": [
           {
            "marker": {
             "colorbar": {
              "outlinewidth": 0,
              "ticks": ""
             }
            },
            "type": "scattergeo"
           }
          ],
          "scattergl": [
           {
            "marker": {
             "colorbar": {
              "outlinewidth": 0,
              "ticks": ""
             }
            },
            "type": "scattergl"
           }
          ],
          "scattermapbox": [
           {
            "marker": {
             "colorbar": {
              "outlinewidth": 0,
              "ticks": ""
             }
            },
            "type": "scattermapbox"
           }
          ],
          "scatterpolar": [
           {
            "marker": {
             "colorbar": {
              "outlinewidth": 0,
              "ticks": ""
             }
            },
            "type": "scatterpolar"
           }
          ],
          "scatterpolargl": [
           {
            "marker": {
             "colorbar": {
              "outlinewidth": 0,
              "ticks": ""
             }
            },
            "type": "scatterpolargl"
           }
          ],
          "scatterternary": [
           {
            "marker": {
             "colorbar": {
              "outlinewidth": 0,
              "ticks": ""
             }
            },
            "type": "scatterternary"
           }
          ],
          "surface": [
           {
            "colorbar": {
             "outlinewidth": 0,
             "ticks": ""
            },
            "colorscale": [
             [
              0,
              "#0d0887"
             ],
             [
              0.1111111111111111,
              "#46039f"
             ],
             [
              0.2222222222222222,
              "#7201a8"
             ],
             [
              0.3333333333333333,
              "#9c179e"
             ],
             [
              0.4444444444444444,
              "#bd3786"
             ],
             [
              0.5555555555555556,
              "#d8576b"
             ],
             [
              0.6666666666666666,
              "#ed7953"
             ],
             [
              0.7777777777777778,
              "#fb9f3a"
             ],
             [
              0.8888888888888888,
              "#fdca26"
             ],
             [
              1,
              "#f0f921"
             ]
            ],
            "type": "surface"
           }
          ],
          "table": [
           {
            "cells": {
             "fill": {
              "color": "#EBF0F8"
             },
             "line": {
              "color": "white"
             }
            },
            "header": {
             "fill": {
              "color": "#C8D4E3"
             },
             "line": {
              "color": "white"
             }
            },
            "type": "table"
           }
          ]
         },
         "layout": {
          "annotationdefaults": {
           "arrowcolor": "#2a3f5f",
           "arrowhead": 0,
           "arrowwidth": 1
          },
          "autotypenumbers": "strict",
          "coloraxis": {
           "colorbar": {
            "outlinewidth": 0,
            "ticks": ""
           }
          },
          "colorscale": {
           "diverging": [
            [
             0,
             "#8e0152"
            ],
            [
             0.1,
             "#c51b7d"
            ],
            [
             0.2,
             "#de77ae"
            ],
            [
             0.3,
             "#f1b6da"
            ],
            [
             0.4,
             "#fde0ef"
            ],
            [
             0.5,
             "#f7f7f7"
            ],
            [
             0.6,
             "#e6f5d0"
            ],
            [
             0.7,
             "#b8e186"
            ],
            [
             0.8,
             "#7fbc41"
            ],
            [
             0.9,
             "#4d9221"
            ],
            [
             1,
             "#276419"
            ]
           ],
           "sequential": [
            [
             0,
             "#0d0887"
            ],
            [
             0.1111111111111111,
             "#46039f"
            ],
            [
             0.2222222222222222,
             "#7201a8"
            ],
            [
             0.3333333333333333,
             "#9c179e"
            ],
            [
             0.4444444444444444,
             "#bd3786"
            ],
            [
             0.5555555555555556,
             "#d8576b"
            ],
            [
             0.6666666666666666,
             "#ed7953"
            ],
            [
             0.7777777777777778,
             "#fb9f3a"
            ],
            [
             0.8888888888888888,
             "#fdca26"
            ],
            [
             1,
             "#f0f921"
            ]
           ],
           "sequentialminus": [
            [
             0,
             "#0d0887"
            ],
            [
             0.1111111111111111,
             "#46039f"
            ],
            [
             0.2222222222222222,
             "#7201a8"
            ],
            [
             0.3333333333333333,
             "#9c179e"
            ],
            [
             0.4444444444444444,
             "#bd3786"
            ],
            [
             0.5555555555555556,
             "#d8576b"
            ],
            [
             0.6666666666666666,
             "#ed7953"
            ],
            [
             0.7777777777777778,
             "#fb9f3a"
            ],
            [
             0.8888888888888888,
             "#fdca26"
            ],
            [
             1,
             "#f0f921"
            ]
           ]
          },
          "colorway": [
           "#636efa",
           "#EF553B",
           "#00cc96",
           "#ab63fa",
           "#FFA15A",
           "#19d3f3",
           "#FF6692",
           "#B6E880",
           "#FF97FF",
           "#FECB52"
          ],
          "font": {
           "color": "#2a3f5f"
          },
          "geo": {
           "bgcolor": "white",
           "lakecolor": "white",
           "landcolor": "white",
           "showlakes": true,
           "showland": true,
           "subunitcolor": "#C8D4E3"
          },
          "hoverlabel": {
           "align": "left"
          },
          "hovermode": "closest",
          "mapbox": {
           "style": "light"
          },
          "paper_bgcolor": "white",
          "plot_bgcolor": "white",
          "polar": {
           "angularaxis": {
            "gridcolor": "#EBF0F8",
            "linecolor": "#EBF0F8",
            "ticks": ""
           },
           "bgcolor": "white",
           "radialaxis": {
            "gridcolor": "#EBF0F8",
            "linecolor": "#EBF0F8",
            "ticks": ""
           }
          },
          "scene": {
           "xaxis": {
            "backgroundcolor": "white",
            "gridcolor": "#DFE8F3",
            "gridwidth": 2,
            "linecolor": "#EBF0F8",
            "showbackground": true,
            "ticks": "",
            "zerolinecolor": "#EBF0F8"
           },
           "yaxis": {
            "backgroundcolor": "white",
            "gridcolor": "#DFE8F3",
            "gridwidth": 2,
            "linecolor": "#EBF0F8",
            "showbackground": true,
            "ticks": "",
            "zerolinecolor": "#EBF0F8"
           },
           "zaxis": {
            "backgroundcolor": "white",
            "gridcolor": "#DFE8F3",
            "gridwidth": 2,
            "linecolor": "#EBF0F8",
            "showbackground": true,
            "ticks": "",
            "zerolinecolor": "#EBF0F8"
           }
          },
          "shapedefaults": {
           "line": {
            "color": "#2a3f5f"
           }
          },
          "ternary": {
           "aaxis": {
            "gridcolor": "#DFE8F3",
            "linecolor": "#A2B1C6",
            "ticks": ""
           },
           "baxis": {
            "gridcolor": "#DFE8F3",
            "linecolor": "#A2B1C6",
            "ticks": ""
           },
           "bgcolor": "white",
           "caxis": {
            "gridcolor": "#DFE8F3",
            "linecolor": "#A2B1C6",
            "ticks": ""
           }
          },
          "title": {
           "x": 0.05
          },
          "xaxis": {
           "automargin": true,
           "gridcolor": "#EBF0F8",
           "linecolor": "#EBF0F8",
           "ticks": "",
           "title": {
            "standoff": 15
           },
           "zerolinecolor": "#EBF0F8",
           "zerolinewidth": 2
          },
          "yaxis": {
           "automargin": true,
           "gridcolor": "#EBF0F8",
           "linecolor": "#EBF0F8",
           "ticks": "",
           "title": {
            "standoff": 15
           },
           "zerolinecolor": "#EBF0F8",
           "zerolinewidth": 2
          }
         }
        },
        "title": {
         "font": {
          "color": "white",
          "family": "Courier New",
          "size": 28
         },
         "text": "<b> 3D Scatter Plot <b>",
         "x": 0.5
        },
        "width": 900
       }
      },
      "text/html": [
       "<div>                            <div id=\"171c004a-b179-4d9d-9b04-f38025ad3f9b\" class=\"plotly-graph-div\" style=\"height:500px; width:900px;\"></div>            <script type=\"text/javascript\">                require([\"plotly\"], function(Plotly) {                    window.PLOTLYENV=window.PLOTLYENV || {};                                    if (document.getElementById(\"171c004a-b179-4d9d-9b04-f38025ad3f9b\")) {                    Plotly.newPlot(                        \"171c004a-b179-4d9d-9b04-f38025ad3f9b\",                        [{\"hovertemplate\":\"experience_level=%{x}<br>remote_ratio=%{y}<br>Salario en USD=%{marker.color}<extra></extra>\",\"legendgroup\":\"\",\"marker\":{\"color\":[79833,260000,109024,20000,150000,72000,190000,35735,135000,125000,51321,40481,39916,87000,85000,8000,41689,114047,5707,56000,43331,6072,47899,98000,115000,325000,42000,33511,100000,117104,59303,70000,68428,46759,74130,103000,250000,10000,138000,45760,79833,50180,106000,112872,15966,76958,188000,105000,70139,6072,91000,45896,54742,60000,148261,38776,118000,120000,138350,110000,130800,21669,45618,62726,49268,190200,105000,91237,62726,42197,82528,150000,235000,53192,100000,5409,270000,80000,79197,140000,54238,47282,153667,28476,59102,110000,170000,80000,88654,76833,19609,276000,29751,89294,12000,70000,95746,75000,150000,36259,62000,73000,51519,187442,115000,150000,30428,94564,113476,103160,12000,45391,225000,50000,40189,90000,200000,60000,200000,50000,110037,10354,151000,120000,9466,20000,40570,100000,49646,38400,24000,100000,90000,63711,77364,220000,80000,135000,240000,150000,82500,100000,82744,62649,90000,153000,160000,168000,150000,75774,13400,144000,127221,119059,120000,125000,230000,85000,28369,63831,130026,165000,80000,250000,55000,150000,170000,82528,60000,235000,60757,174000,2859,40038,81000,5679,22611,90734,26005,61896,12000,4000,50000,69741,76833,74000,152000,21844,18000,174000,96113,147000,9272,24342,54094,90000,61467,195000,37825,50000,160000,12901,200000,165000,20000,120000,24823,56738,66022,5882,24823,185000,28609,90734,88654,140000,46597,116914,33808,56256,225000,87738,88654,135000,71786,16228,256000,200000,200000,180000,110000,63810,46809,4000,21637,103691,80000,110000,165000,18053,72212,36643,12103,96282,170000,115000,90000,28399,93000,99703,200000,173762,185000,141846,130000,63831,16904,66265,25532,160000,93150,111775,28016,65013,72500,18907,76833,85000,77684,100000,58000,55000,20171,59102,112000,100000,69741,105000,69999,94665,102839,109000,51064,135000,155000,120600,130000,90000,170000,150000,102100,84900,136620,99360,117789,104702,146000,123000,52351,99000,116000,106260,126500,242000,200000,65438,39263,78526,52351,165220,45807,120160,90320,181940,132320,220110,160080,180000,120000,124190,130000,110000,170000,115500,112900,90320,112900,90320,165400,132320,167000,243900,136600,109280,128875,93700,224000,167875,175000,156600,108800,95550,113000,135000,161342,137141,167000,123000,78526,65438,150000,211500,192400,90700,130000,61300,130000,61300,160000,138600,136000,58000,135000,170000,123000,189650,164996,54957,54957,118187,132000,165400,208775,147800,136994,101570,128875,93700,79039,132320,37300,164000,155000,124333,98158,120000,112900,90320,145000,105400,87932,117789,215300,158200,209100,154600,115934,81666,175000,98158,58000,183600,52351,180000,71982,45807,65949,49461,78526,58894,260000,60000,63900,160000,112300,241000,159000,180000,80000,82900,100800,49461,140400,39263,43966,32974,87932,76940,104702,91614,65949,87932,189650,164996,43966,32974,98158,78526,215300,76940,209100,154600,180000,21983,80000,78791,196979,120000,125000,37236,105000,87932,18442,31615,58255,100000,54957,18442,162674,120000,144000,104890,100000,140000,135000,50000,220000,140000,183228,91614,185100,220000,200000,120000,120000,65000,324000,216000,210000,120000,230000,100000,100000,31875,200000,75000,35590,78791,100000,153000,58035,165000,93427,52396,62651,32974,40000,87425,115000,86703,75000,64849,120000,157000,150000,70912,65000,71444,20000,48000,152500,68147,122346,380000,69336,10000,20000,135000,177000,78000,135000,100000,90320,85000,75000,214000,192600,266400,213120,112900,155000,141300,102100,115934,81666,206699,99100,130000,115000,110500,130000,99050,160000,205300,140400,176000,144000,200100,160000,145000,70500,205300,140400,205300,184700,175100,140250,116150,54000,170000,65438,80000,140000,210000,140000,100000,69000,210000,140000,210000,150075,100000,25000,126500,106260,220110,160080,105000,110925,45807,140000,99000,60000,192564,144854,230000,150000,150260,109280,210000,170000,160000,130000,67000,52000,154000,126000,129000,150000,200000],\"coloraxis\":\"coloraxis\",\"symbol\":\"circle\"},\"mode\":\"markers\",\"name\":\"\",\"scene\":\"scene\",\"showlegend\":false,\"x\":[\"MI\",\"SE\",\"SE\",\"MI\",\"SE\",\"EN\",\"SE\",\"MI\",\"MI\",\"SE\",\"EN\",\"MI\",\"EN\",\"MI\",\"MI\",\"MI\",\"EN\",\"SE\",\"EN\",\"MI\",\"MI\",\"MI\",\"SE\",\"MI\",\"MI\",\"EX\",\"EN\",\"SE\",\"EN\",\"SE\",\"MI\",\"EN\",\"SE\",\"MI\",\"MI\",\"MI\",\"EN\",\"EN\",\"EN\",\"MI\",\"EX\",\"MI\",\"MI\",\"MI\",\"EN\",\"MI\",\"SE\",\"MI\",\"MI\",\"EN\",\"EN\",\"EN\",\"EN\",\"SE\",\"SE\",\"MI\",\"MI\",\"SE\",\"MI\",\"MI\",\"MI\",\"EN\",\"SE\",\"EN\",\"EN\",\"SE\",\"EN\",\"SE\",\"MI\",\"MI\",\"EN\",\"EX\",\"EX\",\"SE\",\"MI\",\"MI\",\"MI\",\"EN\",\"SE\",\"MI\",\"MI\",\"MI\",\"EX\",\"MI\",\"EN\",\"MI\",\"SE\",\"SE\",\"SE\",\"EN\",\"MI\",\"SE\",\"EN\",\"MI\",\"EN\",\"EN\",\"MI\",\"MI\",\"SE\",\"MI\",\"MI\",\"MI\",\"MI\",\"MI\",\"SE\",\"SE\",\"EN\",\"SE\",\"SE\",\"SE\",\"EN\",\"MI\",\"EN\",\"MI\",\"MI\",\"EN\",\"MI\",\"MI\",\"SE\",\"EN\",\"EN\",\"EN\",\"MI\",\"SE\",\"MI\",\"EN\",\"SE\",\"EN\",\"EN\",\"MI\",\"SE\",\"EN\",\"MI\",\"MI\",\"MI\",\"SE\",\"EN\",\"MI\",\"SE\",\"SE\",\"MI\",\"MI\",\"SE\",\"MI\",\"MI\",\"SE\",\"SE\",\"SE\",\"MI\",\"MI\",\"EN\",\"SE\",\"SE\",\"MI\",\"SE\",\"EN\",\"EX\",\"EX\",\"MI\",\"EN\",\"EX\",\"SE\",\"EN\",\"EX\",\"EN\",\"MI\",\"MI\",\"MI\",\"EN\",\"SE\",\"SE\",\"SE\",\"MI\",\"MI\",\"EN\",\"MI\",\"MI\",\"MI\",\"MI\",\"SE\",\"MI\",\"MI\",\"SE\",\"EX\",\"SE\",\"MI\",\"SE\",\"EN\",\"MI\",\"SE\",\"SE\",\"MI\",\"EN\",\"SE\",\"SE\",\"EN\",\"MI\",\"SE\",\"MI\",\"SE\",\"MI\",\"MI\",\"SE\",\"SE\",\"MI\",\"SE\",\"MI\",\"MI\",\"MI\",\"EN\",\"EN\",\"SE\",\"EN\",\"MI\",\"MI\",\"SE\",\"MI\",\"MI\",\"MI\",\"MI\",\"SE\",\"SE\",\"MI\",\"SE\",\"SE\",\"EN\",\"SE\",\"SE\",\"SE\",\"MI\",\"MI\",\"MI\",\"MI\",\"EN\",\"EN\",\"SE\",\"MI\",\"MI\",\"SE\",\"EN\",\"MI\",\"EN\",\"MI\",\"SE\",\"SE\",\"MI\",\"EN\",\"EN\",\"MI\",\"SE\",\"MI\",\"SE\",\"SE\",\"EX\",\"MI\",\"SE\",\"MI\",\"SE\",\"MI\",\"SE\",\"MI\",\"MI\",\"MI\",\"EN\",\"EN\",\"SE\",\"EN\",\"EN\",\"SE\",\"EN\",\"EN\",\"SE\",\"SE\",\"EN\",\"MI\",\"EN\",\"MI\",\"SE\",\"MI\",\"SE\",\"SE\",\"MI\",\"MI\",\"SE\",\"SE\",\"SE\",\"MI\",\"MI\",\"MI\",\"MI\",\"SE\",\"SE\",\"SE\",\"SE\",\"SE\",\"SE\",\"SE\",\"SE\",\"EN\",\"SE\",\"SE\",\"MI\",\"MI\",\"EX\",\"EX\",\"MI\",\"MI\",\"MI\",\"MI\",\"SE\",\"EN\",\"SE\",\"SE\",\"SE\",\"SE\",\"SE\",\"SE\",\"SE\",\"SE\",\"SE\",\"EX\",\"EX\",\"SE\",\"MI\",\"SE\",\"SE\",\"SE\",\"SE\",\"SE\",\"SE\",\"MI\",\"SE\",\"SE\",\"SE\",\"SE\",\"SE\",\"EX\",\"EX\",\"EX\",\"SE\",\"SE\",\"SE\",\"SE\",\"SE\",\"SE\",\"SE\",\"SE\",\"SE\",\"SE\",\"SE\",\"SE\",\"SE\",\"SE\",\"SE\",\"SE\",\"SE\",\"SE\",\"SE\",\"SE\",\"SE\",\"SE\",\"MI\",\"EX\",\"SE\",\"SE\",\"SE\",\"SE\",\"MI\",\"MI\",\"EX\",\"SE\",\"SE\",\"SE\",\"SE\",\"SE\",\"SE\",\"SE\",\"SE\",\"EX\",\"SE\",\"EN\",\"SE\",\"SE\",\"MI\",\"MI\",\"MI\",\"SE\",\"SE\",\"SE\",\"SE\",\"MI\",\"MI\",\"SE\",\"SE\",\"SE\",\"SE\",\"SE\",\"SE\",\"SE\",\"MI\",\"MI\",\"SE\",\"MI\",\"SE\",\"MI\",\"MI\",\"MI\",\"MI\",\"MI\",\"MI\",\"SE\",\"SE\",\"MI\",\"MI\",\"MI\",\"MI\",\"MI\",\"SE\",\"SE\",\"MI\",\"SE\",\"MI\",\"SE\",\"MI\",\"MI\",\"MI\",\"MI\",\"MI\",\"MI\",\"MI\",\"MI\",\"MI\",\"SE\",\"SE\",\"MI\",\"MI\",\"MI\",\"MI\",\"SE\",\"MI\",\"SE\",\"SE\",\"SE\",\"EN\",\"SE\",\"MI\",\"EX\",\"MI\",\"EN\",\"MI\",\"SE\",\"SE\",\"MI\",\"MI\",\"MI\",\"EN\",\"MI\",\"EN\",\"SE\",\"EN\",\"SE\",\"SE\",\"SE\",\"SE\",\"MI\",\"MI\",\"SE\",\"SE\",\"MI\",\"MI\",\"SE\",\"SE\",\"MI\",\"MI\",\"SE\",\"SE\",\"EX\",\"EX\",\"SE\",\"SE\",\"SE\",\"EN\",\"MI\",\"EN\",\"SE\",\"MI\",\"MI\",\"SE\",\"SE\",\"MI\",\"EN\",\"SE\",\"SE\",\"EN\",\"SE\",\"MI\",\"EN\",\"MI\",\"SE\",\"EN\",\"MI\",\"MI\",\"EN\",\"MI\",\"EN\",\"MI\",\"EN\",\"SE\",\"EN\",\"MI\",\"SE\",\"MI\",\"MI\",\"SE\",\"MI\",\"EN\",\"MI\",\"MI\",\"SE\",\"MI\",\"SE\",\"SE\",\"SE\",\"MI\",\"MI\",\"SE\",\"SE\",\"SE\",\"SE\",\"SE\",\"SE\",\"MI\",\"MI\",\"SE\",\"SE\",\"MI\",\"MI\",\"SE\",\"SE\",\"SE\",\"SE\",\"SE\",\"SE\",\"SE\",\"SE\",\"SE\",\"SE\",\"SE\",\"SE\",\"SE\",\"SE\",\"SE\",\"SE\",\"SE\",\"SE\",\"SE\",\"SE\",\"SE\",\"SE\",\"SE\",\"MI\",\"SE\",\"SE\",\"SE\",\"SE\",\"SE\",\"SE\",\"SE\",\"SE\",\"SE\",\"SE\",\"SE\",\"SE\",\"SE\",\"SE\",\"SE\",\"SE\",\"SE\",\"SE\",\"MI\",\"SE\",\"SE\",\"SE\",\"SE\",\"SE\",\"SE\",\"SE\",\"SE\",\"SE\",\"SE\",\"SE\",\"MI\",\"MI\",\"EN\",\"EN\",\"SE\",\"SE\",\"SE\",\"SE\",\"MI\"],\"y\":[\"On site\",\"On site\",\"On Hybrid\",\"On site\",\"On Hybrid\",\"Remote\",\"Remote\",\"On Hybrid\",\"Remote\",\"On Hybrid\",\"On site\",\"On site\",\"On site\",\"Remote\",\"Remote\",\"On Hybrid\",\"Remote\",\"Remote\",\"On Hybrid\",\"Remote\",\"On site\",\"Remote\",\"On Hybrid\",\"On site\",\"On site\",\"Remote\",\"On Hybrid\",\"On site\",\"Remote\",\"On Hybrid\",\"Remote\",\"Remote\",\"Remote\",\"On Hybrid\",\"On Hybrid\",\"Remote\",\"On Hybrid\",\"Remote\",\"Remote\",\"Remote\",\"On Hybrid\",\"On site\",\"Remote\",\"On Hybrid\",\"Remote\",\"Remote\",\"Remote\",\"Remote\",\"On Hybrid\",\"On site\",\"Remote\",\"On Hybrid\",\"Remote\",\"Remote\",\"Remote\",\"Remote\",\"Remote\",\"On Hybrid\",\"Remote\",\"Remote\",\"Remote\",\"On Hybrid\",\"Remote\",\"On Hybrid\",\"On site\",\"Remote\",\"Remote\",\"On site\",\"On Hybrid\",\"On Hybrid\",\"On Hybrid\",\"Remote\",\"Remote\",\"On Hybrid\",\"Remote\",\"On Hybrid\",\"Remote\",\"Remote\",\"Remote\",\"Remote\",\"On Hybrid\",\"Remote\",\"Remote\",\"Remote\",\"On Hybrid\",\"Remote\",\"Remote\",\"Remote\",\"Remote\",\"Remote\",\"Remote\",\"On site\",\"On Hybrid\",\"On Hybrid\",\"Remote\",\"Remote\",\"Remote\",\"On site\",\"Remote\",\"On Hybrid\",\"On site\",\"On site\",\"On Hybrid\",\"Remote\",\"Remote\",\"Remote\",\"Remote\",\"On Hybrid\",\"Remote\",\"Remote\",\"Remote\",\"Remote\",\"Remote\",\"Remote\",\"Remote\",\"Remote\",\"Remote\",\"On Hybrid\",\"Remote\",\"Remote\",\"On site\",\"On Hybrid\",\"Remote\",\"On Hybrid\",\"On site\",\"Remote\",\"On Hybrid\",\"On Hybrid\",\"On Hybrid\",\"Remote\",\"Remote\",\"On site\",\"Remote\",\"On Hybrid\",\"On Hybrid\",\"On site\",\"Remote\",\"Remote\",\"On site\",\"On site\",\"Remote\",\"Remote\",\"On Hybrid\",\"On Hybrid\",\"Remote\",\"Remote\",\"Remote\",\"On site\",\"Remote\",\"Remote\",\"Remote\",\"Remote\",\"On Hybrid\",\"Remote\",\"Remote\",\"Remote\",\"On Hybrid\",\"On site\",\"On Hybrid\",\"On Hybrid\",\"On Hybrid\",\"Remote\",\"Remote\",\"On site\",\"On Hybrid\",\"Remote\",\"Remote\",\"Remote\",\"Remote\",\"Remote\",\"On Hybrid\",\"Remote\",\"On site\",\"Remote\",\"On Hybrid\",\"Remote\",\"On site\",\"On Hybrid\",\"On site\",\"On Hybrid\",\"On Hybrid\",\"Remote\",\"Remote\",\"Remote\",\"On Hybrid\",\"On Hybrid\",\"Remote\",\"On Hybrid\",\"On site\",\"Remote\",\"On Hybrid\",\"On Hybrid\",\"Remote\",\"Remote\",\"On Hybrid\",\"Remote\",\"On Hybrid\",\"Remote\",\"Remote\",\"Remote\",\"Remote\",\"On site\",\"Remote\",\"On site\",\"On site\",\"On site\",\"On Hybrid\",\"On Hybrid\",\"On Hybrid\",\"On site\",\"On Hybrid\",\"Remote\",\"On Hybrid\",\"On Hybrid\",\"Remote\",\"Remote\",\"Remote\",\"On Hybrid\",\"On site\",\"On Hybrid\",\"Remote\",\"Remote\",\"On Hybrid\",\"On site\",\"Remote\",\"Remote\",\"Remote\",\"Remote\",\"Remote\",\"Remote\",\"On site\",\"Remote\",\"Remote\",\"On site\",\"On Hybrid\",\"Remote\",\"Remote\",\"Remote\",\"Remote\",\"Remote\",\"On Hybrid\",\"On Hybrid\",\"On site\",\"On Hybrid\",\"Remote\",\"On Hybrid\",\"Remote\",\"Remote\",\"Remote\",\"On Hybrid\",\"Remote\",\"Remote\",\"On Hybrid\",\"On site\",\"On Hybrid\",\"On Hybrid\",\"Remote\",\"On site\",\"Remote\",\"On Hybrid\",\"On site\",\"On site\",\"Remote\",\"On Hybrid\",\"Remote\",\"On site\",\"On site\",\"Remote\",\"On Hybrid\",\"Remote\",\"On Hybrid\",\"Remote\",\"On Hybrid\",\"Remote\",\"Remote\",\"On site\",\"Remote\",\"Remote\",\"On Hybrid\",\"On Hybrid\",\"Remote\",\"On Hybrid\",\"On Hybrid\",\"Remote\",\"Remote\",\"Remote\",\"On site\",\"On site\",\"Remote\",\"Remote\",\"Remote\",\"Remote\",\"Remote\",\"Remote\",\"On site\",\"On site\",\"Remote\",\"Remote\",\"Remote\",\"On site\",\"On site\",\"On site\",\"On site\",\"Remote\",\"Remote\",\"On site\",\"On site\",\"On site\",\"On site\",\"Remote\",\"Remote\",\"Remote\",\"Remote\",\"On site\",\"On site\",\"On site\",\"On site\",\"On site\",\"On site\",\"Remote\",\"Remote\",\"Remote\",\"Remote\",\"Remote\",\"Remote\",\"Remote\",\"Remote\",\"Remote\",\"Remote\",\"Remote\",\"Remote\",\"Remote\",\"Remote\",\"Remote\",\"Remote\",\"Remote\",\"Remote\",\"Remote\",\"Remote\",\"Remote\",\"On site\",\"On site\",\"On site\",\"Remote\",\"Remote\",\"Remote\",\"Remote\",\"Remote\",\"On site\",\"On site\",\"On site\",\"Remote\",\"Remote\",\"Remote\",\"Remote\",\"Remote\",\"Remote\",\"Remote\",\"On site\",\"Remote\",\"On site\",\"On site\",\"Remote\",\"Remote\",\"Remote\",\"On site\",\"On site\",\"On site\",\"On site\",\"Remote\",\"On site\",\"Remote\",\"Remote\",\"Remote\",\"Remote\",\"Remote\",\"Remote\",\"Remote\",\"On Hybrid\",\"Remote\",\"Remote\",\"On site\",\"Remote\",\"On site\",\"On site\",\"On site\",\"Remote\",\"Remote\",\"Remote\",\"Remote\",\"Remote\",\"On site\",\"Remote\",\"Remote\",\"Remote\",\"Remote\",\"On site\",\"On site\",\"Remote\",\"On site\",\"On site\",\"Remote\",\"Remote\",\"Remote\",\"On site\",\"On site\",\"Remote\",\"Remote\",\"Remote\",\"Remote\",\"Remote\",\"Remote\",\"On site\",\"Remote\",\"Remote\",\"Remote\",\"Remote\",\"On site\",\"On site\",\"On site\",\"Remote\",\"Remote\",\"On site\",\"Remote\",\"Remote\",\"Remote\",\"Remote\",\"Remote\",\"Remote\",\"Remote\",\"Remote\",\"Remote\",\"On site\",\"On site\",\"Remote\",\"Remote\",\"Remote\",\"Remote\",\"On site\",\"Remote\",\"Remote\",\"Remote\",\"Remote\",\"Remote\",\"Remote\",\"Remote\",\"On Hybrid\",\"Remote\",\"On site\",\"On Hybrid\",\"Remote\",\"On site\",\"Remote\",\"Remote\",\"On Hybrid\",\"On Hybrid\",\"On Hybrid\",\"Remote\",\"Remote\",\"Remote\",\"On Hybrid\",\"Remote\",\"Remote\",\"Remote\",\"Remote\",\"Remote\",\"Remote\",\"Remote\",\"On site\",\"On site\",\"Remote\",\"Remote\",\"Remote\",\"Remote\",\"Remote\",\"Remote\",\"Remote\",\"Remote\",\"Remote\",\"Remote\",\"Remote\",\"On Hybrid\",\"Remote\",\"Remote\",\"Remote\",\"Remote\",\"Remote\",\"Remote\",\"Remote\",\"On Hybrid\",\"Remote\",\"Remote\",\"On Hybrid\",\"Remote\",\"Remote\",\"Remote\",\"Remote\",\"Remote\",\"Remote\",\"On Hybrid\",\"Remote\",\"On site\",\"Remote\",\"Remote\",\"Remote\",\"On Hybrid\",\"Remote\",\"Remote\",\"On site\",\"Remote\",\"Remote\",\"Remote\",\"On site\",\"Remote\",\"Remote\",\"Remote\",\"Remote\",\"Remote\",\"Remote\",\"Remote\",\"Remote\",\"Remote\",\"Remote\",\"On site\",\"On site\",\"Remote\",\"Remote\",\"Remote\",\"Remote\",\"Remote\",\"Remote\",\"On site\",\"On site\",\"Remote\",\"Remote\",\"On site\",\"On site\",\"Remote\",\"Remote\",\"Remote\",\"Remote\",\"Remote\",\"Remote\",\"On site\",\"On site\",\"Remote\",\"Remote\",\"Remote\",\"Remote\",\"Remote\",\"On site\",\"On site\",\"On site\",\"On site\",\"On site\",\"Remote\",\"Remote\",\"Remote\",\"On site\",\"Remote\",\"On site\",\"Remote\",\"Remote\",\"Remote\",\"Remote\",\"Remote\",\"Remote\",\"Remote\",\"Remote\",\"Remote\",\"Remote\",\"Remote\",\"Remote\",\"Remote\",\"Remote\",\"Remote\",\"Remote\",\"Remote\",\"Remote\",\"On site\",\"Remote\",\"On site\",\"Remote\",\"Remote\",\"Remote\",\"Remote\",\"Remote\",\"Remote\",\"Remote\",\"Remote\",\"Remote\",\"Remote\",\"Remote\",\"On site\",\"On site\",\"Remote\",\"Remote\",\"On site\",\"Remote\",\"Remote\"],\"z\":[79833,260000,109024,20000,150000,72000,190000,35735,135000,125000,51321,40481,39916,87000,85000,8000,41689,114047,5707,56000,43331,6072,47899,98000,115000,325000,42000,33511,100000,117104,59303,70000,68428,46759,74130,103000,250000,10000,138000,45760,79833,50180,106000,112872,15966,76958,188000,105000,70139,6072,91000,45896,54742,60000,148261,38776,118000,120000,138350,110000,130800,21669,45618,62726,49268,190200,105000,91237,62726,42197,82528,150000,235000,53192,100000,5409,270000,80000,79197,140000,54238,47282,153667,28476,59102,110000,170000,80000,88654,76833,19609,276000,29751,89294,12000,70000,95746,75000,150000,36259,62000,73000,51519,187442,115000,150000,30428,94564,113476,103160,12000,45391,225000,50000,40189,90000,200000,60000,200000,50000,110037,10354,151000,120000,9466,20000,40570,100000,49646,38400,24000,100000,90000,63711,77364,220000,80000,135000,240000,150000,82500,100000,82744,62649,90000,153000,160000,168000,150000,75774,13400,144000,127221,119059,120000,125000,230000,85000,28369,63831,130026,165000,80000,250000,55000,150000,170000,82528,60000,235000,60757,174000,2859,40038,81000,5679,22611,90734,26005,61896,12000,4000,50000,69741,76833,74000,152000,21844,18000,174000,96113,147000,9272,24342,54094,90000,61467,195000,37825,50000,160000,12901,200000,165000,20000,120000,24823,56738,66022,5882,24823,185000,28609,90734,88654,140000,46597,116914,33808,56256,225000,87738,88654,135000,71786,16228,256000,200000,200000,180000,110000,63810,46809,4000,21637,103691,80000,110000,165000,18053,72212,36643,12103,96282,170000,115000,90000,28399,93000,99703,200000,173762,185000,141846,130000,63831,16904,66265,25532,160000,93150,111775,28016,65013,72500,18907,76833,85000,77684,100000,58000,55000,20171,59102,112000,100000,69741,105000,69999,94665,102839,109000,51064,135000,155000,120600,130000,90000,170000,150000,102100,84900,136620,99360,117789,104702,146000,123000,52351,99000,116000,106260,126500,242000,200000,65438,39263,78526,52351,165220,45807,120160,90320,181940,132320,220110,160080,180000,120000,124190,130000,110000,170000,115500,112900,90320,112900,90320,165400,132320,167000,243900,136600,109280,128875,93700,224000,167875,175000,156600,108800,95550,113000,135000,161342,137141,167000,123000,78526,65438,150000,211500,192400,90700,130000,61300,130000,61300,160000,138600,136000,58000,135000,170000,123000,189650,164996,54957,54957,118187,132000,165400,208775,147800,136994,101570,128875,93700,79039,132320,37300,164000,155000,124333,98158,120000,112900,90320,145000,105400,87932,117789,215300,158200,209100,154600,115934,81666,175000,98158,58000,183600,52351,180000,71982,45807,65949,49461,78526,58894,260000,60000,63900,160000,112300,241000,159000,180000,80000,82900,100800,49461,140400,39263,43966,32974,87932,76940,104702,91614,65949,87932,189650,164996,43966,32974,98158,78526,215300,76940,209100,154600,180000,21983,80000,78791,196979,120000,125000,37236,105000,87932,18442,31615,58255,100000,54957,18442,162674,120000,144000,104890,100000,140000,135000,50000,220000,140000,183228,91614,185100,220000,200000,120000,120000,65000,324000,216000,210000,120000,230000,100000,100000,31875,200000,75000,35590,78791,100000,153000,58035,165000,93427,52396,62651,32974,40000,87425,115000,86703,75000,64849,120000,157000,150000,70912,65000,71444,20000,48000,152500,68147,122346,380000,69336,10000,20000,135000,177000,78000,135000,100000,90320,85000,75000,214000,192600,266400,213120,112900,155000,141300,102100,115934,81666,206699,99100,130000,115000,110500,130000,99050,160000,205300,140400,176000,144000,200100,160000,145000,70500,205300,140400,205300,184700,175100,140250,116150,54000,170000,65438,80000,140000,210000,140000,100000,69000,210000,140000,210000,150075,100000,25000,126500,106260,220110,160080,105000,110925,45807,140000,99000,60000,192564,144854,230000,150000,150260,109280,210000,170000,160000,130000,67000,52000,154000,126000,129000,150000,200000],\"type\":\"scatter3d\"}],                        {\"template\":{\"data\":{\"barpolar\":[{\"marker\":{\"line\":{\"color\":\"white\",\"width\":0.5},\"pattern\":{\"fillmode\":\"overlay\",\"size\":10,\"solidity\":0.2}},\"type\":\"barpolar\"}],\"bar\":[{\"error_x\":{\"color\":\"#2a3f5f\"},\"error_y\":{\"color\":\"#2a3f5f\"},\"marker\":{\"line\":{\"color\":\"white\",\"width\":0.5},\"pattern\":{\"fillmode\":\"overlay\",\"size\":10,\"solidity\":0.2}},\"type\":\"bar\"}],\"carpet\":[{\"aaxis\":{\"endlinecolor\":\"#2a3f5f\",\"gridcolor\":\"#C8D4E3\",\"linecolor\":\"#C8D4E3\",\"minorgridcolor\":\"#C8D4E3\",\"startlinecolor\":\"#2a3f5f\"},\"baxis\":{\"endlinecolor\":\"#2a3f5f\",\"gridcolor\":\"#C8D4E3\",\"linecolor\":\"#C8D4E3\",\"minorgridcolor\":\"#C8D4E3\",\"startlinecolor\":\"#2a3f5f\"},\"type\":\"carpet\"}],\"choropleth\":[{\"colorbar\":{\"outlinewidth\":0,\"ticks\":\"\"},\"type\":\"choropleth\"}],\"contourcarpet\":[{\"colorbar\":{\"outlinewidth\":0,\"ticks\":\"\"},\"type\":\"contourcarpet\"}],\"contour\":[{\"colorbar\":{\"outlinewidth\":0,\"ticks\":\"\"},\"colorscale\":[[0.0,\"#0d0887\"],[0.1111111111111111,\"#46039f\"],[0.2222222222222222,\"#7201a8\"],[0.3333333333333333,\"#9c179e\"],[0.4444444444444444,\"#bd3786\"],[0.5555555555555556,\"#d8576b\"],[0.6666666666666666,\"#ed7953\"],[0.7777777777777778,\"#fb9f3a\"],[0.8888888888888888,\"#fdca26\"],[1.0,\"#f0f921\"]],\"type\":\"contour\"}],\"heatmapgl\":[{\"colorbar\":{\"outlinewidth\":0,\"ticks\":\"\"},\"colorscale\":[[0.0,\"#0d0887\"],[0.1111111111111111,\"#46039f\"],[0.2222222222222222,\"#7201a8\"],[0.3333333333333333,\"#9c179e\"],[0.4444444444444444,\"#bd3786\"],[0.5555555555555556,\"#d8576b\"],[0.6666666666666666,\"#ed7953\"],[0.7777777777777778,\"#fb9f3a\"],[0.8888888888888888,\"#fdca26\"],[1.0,\"#f0f921\"]],\"type\":\"heatmapgl\"}],\"heatmap\":[{\"colorbar\":{\"outlinewidth\":0,\"ticks\":\"\"},\"colorscale\":[[0.0,\"#0d0887\"],[0.1111111111111111,\"#46039f\"],[0.2222222222222222,\"#7201a8\"],[0.3333333333333333,\"#9c179e\"],[0.4444444444444444,\"#bd3786\"],[0.5555555555555556,\"#d8576b\"],[0.6666666666666666,\"#ed7953\"],[0.7777777777777778,\"#fb9f3a\"],[0.8888888888888888,\"#fdca26\"],[1.0,\"#f0f921\"]],\"type\":\"heatmap\"}],\"histogram2dcontour\":[{\"colorbar\":{\"outlinewidth\":0,\"ticks\":\"\"},\"colorscale\":[[0.0,\"#0d0887\"],[0.1111111111111111,\"#46039f\"],[0.2222222222222222,\"#7201a8\"],[0.3333333333333333,\"#9c179e\"],[0.4444444444444444,\"#bd3786\"],[0.5555555555555556,\"#d8576b\"],[0.6666666666666666,\"#ed7953\"],[0.7777777777777778,\"#fb9f3a\"],[0.8888888888888888,\"#fdca26\"],[1.0,\"#f0f921\"]],\"type\":\"histogram2dcontour\"}],\"histogram2d\":[{\"colorbar\":{\"outlinewidth\":0,\"ticks\":\"\"},\"colorscale\":[[0.0,\"#0d0887\"],[0.1111111111111111,\"#46039f\"],[0.2222222222222222,\"#7201a8\"],[0.3333333333333333,\"#9c179e\"],[0.4444444444444444,\"#bd3786\"],[0.5555555555555556,\"#d8576b\"],[0.6666666666666666,\"#ed7953\"],[0.7777777777777778,\"#fb9f3a\"],[0.8888888888888888,\"#fdca26\"],[1.0,\"#f0f921\"]],\"type\":\"histogram2d\"}],\"histogram\":[{\"marker\":{\"pattern\":{\"fillmode\":\"overlay\",\"size\":10,\"solidity\":0.2}},\"type\":\"histogram\"}],\"mesh3d\":[{\"colorbar\":{\"outlinewidth\":0,\"ticks\":\"\"},\"type\":\"mesh3d\"}],\"parcoords\":[{\"line\":{\"colorbar\":{\"outlinewidth\":0,\"ticks\":\"\"}},\"type\":\"parcoords\"}],\"pie\":[{\"automargin\":true,\"type\":\"pie\"}],\"scatter3d\":[{\"line\":{\"colorbar\":{\"outlinewidth\":0,\"ticks\":\"\"}},\"marker\":{\"colorbar\":{\"outlinewidth\":0,\"ticks\":\"\"}},\"type\":\"scatter3d\"}],\"scattercarpet\":[{\"marker\":{\"colorbar\":{\"outlinewidth\":0,\"ticks\":\"\"}},\"type\":\"scattercarpet\"}],\"scattergeo\":[{\"marker\":{\"colorbar\":{\"outlinewidth\":0,\"ticks\":\"\"}},\"type\":\"scattergeo\"}],\"scattergl\":[{\"marker\":{\"colorbar\":{\"outlinewidth\":0,\"ticks\":\"\"}},\"type\":\"scattergl\"}],\"scattermapbox\":[{\"marker\":{\"colorbar\":{\"outlinewidth\":0,\"ticks\":\"\"}},\"type\":\"scattermapbox\"}],\"scatterpolargl\":[{\"marker\":{\"colorbar\":{\"outlinewidth\":0,\"ticks\":\"\"}},\"type\":\"scatterpolargl\"}],\"scatterpolar\":[{\"marker\":{\"colorbar\":{\"outlinewidth\":0,\"ticks\":\"\"}},\"type\":\"scatterpolar\"}],\"scatter\":[{\"fillpattern\":{\"fillmode\":\"overlay\",\"size\":10,\"solidity\":0.2},\"type\":\"scatter\"}],\"scatterternary\":[{\"marker\":{\"colorbar\":{\"outlinewidth\":0,\"ticks\":\"\"}},\"type\":\"scatterternary\"}],\"surface\":[{\"colorbar\":{\"outlinewidth\":0,\"ticks\":\"\"},\"colorscale\":[[0.0,\"#0d0887\"],[0.1111111111111111,\"#46039f\"],[0.2222222222222222,\"#7201a8\"],[0.3333333333333333,\"#9c179e\"],[0.4444444444444444,\"#bd3786\"],[0.5555555555555556,\"#d8576b\"],[0.6666666666666666,\"#ed7953\"],[0.7777777777777778,\"#fb9f3a\"],[0.8888888888888888,\"#fdca26\"],[1.0,\"#f0f921\"]],\"type\":\"surface\"}],\"table\":[{\"cells\":{\"fill\":{\"color\":\"#EBF0F8\"},\"line\":{\"color\":\"white\"}},\"header\":{\"fill\":{\"color\":\"#C8D4E3\"},\"line\":{\"color\":\"white\"}},\"type\":\"table\"}]},\"layout\":{\"annotationdefaults\":{\"arrowcolor\":\"#2a3f5f\",\"arrowhead\":0,\"arrowwidth\":1},\"autotypenumbers\":\"strict\",\"coloraxis\":{\"colorbar\":{\"outlinewidth\":0,\"ticks\":\"\"}},\"colorscale\":{\"diverging\":[[0,\"#8e0152\"],[0.1,\"#c51b7d\"],[0.2,\"#de77ae\"],[0.3,\"#f1b6da\"],[0.4,\"#fde0ef\"],[0.5,\"#f7f7f7\"],[0.6,\"#e6f5d0\"],[0.7,\"#b8e186\"],[0.8,\"#7fbc41\"],[0.9,\"#4d9221\"],[1,\"#276419\"]],\"sequential\":[[0.0,\"#0d0887\"],[0.1111111111111111,\"#46039f\"],[0.2222222222222222,\"#7201a8\"],[0.3333333333333333,\"#9c179e\"],[0.4444444444444444,\"#bd3786\"],[0.5555555555555556,\"#d8576b\"],[0.6666666666666666,\"#ed7953\"],[0.7777777777777778,\"#fb9f3a\"],[0.8888888888888888,\"#fdca26\"],[1.0,\"#f0f921\"]],\"sequentialminus\":[[0.0,\"#0d0887\"],[0.1111111111111111,\"#46039f\"],[0.2222222222222222,\"#7201a8\"],[0.3333333333333333,\"#9c179e\"],[0.4444444444444444,\"#bd3786\"],[0.5555555555555556,\"#d8576b\"],[0.6666666666666666,\"#ed7953\"],[0.7777777777777778,\"#fb9f3a\"],[0.8888888888888888,\"#fdca26\"],[1.0,\"#f0f921\"]]},\"colorway\":[\"#636efa\",\"#EF553B\",\"#00cc96\",\"#ab63fa\",\"#FFA15A\",\"#19d3f3\",\"#FF6692\",\"#B6E880\",\"#FF97FF\",\"#FECB52\"],\"font\":{\"color\":\"#2a3f5f\"},\"geo\":{\"bgcolor\":\"white\",\"lakecolor\":\"white\",\"landcolor\":\"white\",\"showlakes\":true,\"showland\":true,\"subunitcolor\":\"#C8D4E3\"},\"hoverlabel\":{\"align\":\"left\"},\"hovermode\":\"closest\",\"mapbox\":{\"style\":\"light\"},\"paper_bgcolor\":\"white\",\"plot_bgcolor\":\"white\",\"polar\":{\"angularaxis\":{\"gridcolor\":\"#EBF0F8\",\"linecolor\":\"#EBF0F8\",\"ticks\":\"\"},\"bgcolor\":\"white\",\"radialaxis\":{\"gridcolor\":\"#EBF0F8\",\"linecolor\":\"#EBF0F8\",\"ticks\":\"\"}},\"scene\":{\"xaxis\":{\"backgroundcolor\":\"white\",\"gridcolor\":\"#DFE8F3\",\"gridwidth\":2,\"linecolor\":\"#EBF0F8\",\"showbackground\":true,\"ticks\":\"\",\"zerolinecolor\":\"#EBF0F8\"},\"yaxis\":{\"backgroundcolor\":\"white\",\"gridcolor\":\"#DFE8F3\",\"gridwidth\":2,\"linecolor\":\"#EBF0F8\",\"showbackground\":true,\"ticks\":\"\",\"zerolinecolor\":\"#EBF0F8\"},\"zaxis\":{\"backgroundcolor\":\"white\",\"gridcolor\":\"#DFE8F3\",\"gridwidth\":2,\"linecolor\":\"#EBF0F8\",\"showbackground\":true,\"ticks\":\"\",\"zerolinecolor\":\"#EBF0F8\"}},\"shapedefaults\":{\"line\":{\"color\":\"#2a3f5f\"}},\"ternary\":{\"aaxis\":{\"gridcolor\":\"#DFE8F3\",\"linecolor\":\"#A2B1C6\",\"ticks\":\"\"},\"baxis\":{\"gridcolor\":\"#DFE8F3\",\"linecolor\":\"#A2B1C6\",\"ticks\":\"\"},\"bgcolor\":\"white\",\"caxis\":{\"gridcolor\":\"#DFE8F3\",\"linecolor\":\"#A2B1C6\",\"ticks\":\"\"}},\"title\":{\"x\":0.05},\"xaxis\":{\"automargin\":true,\"gridcolor\":\"#EBF0F8\",\"linecolor\":\"#EBF0F8\",\"ticks\":\"\",\"title\":{\"standoff\":15},\"zerolinecolor\":\"#EBF0F8\",\"zerolinewidth\":2},\"yaxis\":{\"automargin\":true,\"gridcolor\":\"#EBF0F8\",\"linecolor\":\"#EBF0F8\",\"ticks\":\"\",\"title\":{\"standoff\":15},\"zerolinecolor\":\"#EBF0F8\",\"zerolinewidth\":2}}},\"scene\":{\"domain\":{\"x\":[0.0,1.0],\"y\":[0.0,1.0]},\"xaxis\":{\"title\":{\"text\":\"experience_level\"},\"backgroundcolor\":\"rgb(200, 200, 230)\",\"gridcolor\":\"white\",\"showbackground\":true,\"zerolinecolor\":\"black\"},\"yaxis\":{\"title\":{\"text\":\"remote_ratio\"},\"backgroundcolor\":\"rgb(230, 200,230)\",\"gridcolor\":\"white\",\"showbackground\":true,\"zerolinecolor\":\"black\"},\"zaxis\":{\"title\":{\"text\":\"Salario en USD\"},\"backgroundcolor\":\"rgb(230, 230,200)\",\"gridcolor\":\"white\",\"showbackground\":true,\"zerolinecolor\":\"black\"}},\"coloraxis\":{\"colorbar\":{\"title\":{\"text\":\"Salario en USD\"}},\"colorscale\":[[0.0,\"#0d0887\"],[0.1111111111111111,\"#46039f\"],[0.2222222222222222,\"#7201a8\"],[0.3333333333333333,\"#9c179e\"],[0.4444444444444444,\"#bd3786\"],[0.5555555555555556,\"#d8576b\"],[0.6666666666666666,\"#ed7953\"],[0.7777777777777778,\"#fb9f3a\"],[0.8888888888888888,\"#fdca26\"],[1.0,\"#f0f921\"]]},\"legend\":{\"tracegroupgap\":0},\"margin\":{\"t\":60},\"title\":{\"text\":\"<b> 3D Scatter Plot <b>\",\"x\":0.5,\"font\":{\"size\":28,\"family\":\"Courier New\",\"color\":\"white\"}},\"width\":900,\"height\":500},                        {\"responsive\": true}                    ).then(function(){\n",
       "                            \n",
       "var gd = document.getElementById('171c004a-b179-4d9d-9b04-f38025ad3f9b');\n",
       "var x = new MutationObserver(function (mutations, observer) {{\n",
       "        var display = window.getComputedStyle(gd).display;\n",
       "        if (!display || display === 'none') {{\n",
       "            console.log([gd, 'removed!']);\n",
       "            Plotly.purge(gd);\n",
       "            observer.disconnect();\n",
       "        }}\n",
       "}});\n",
       "\n",
       "// Listen for the removal of the full notebook cells\n",
       "var notebookContainer = gd.closest('#notebook-container');\n",
       "if (notebookContainer) {{\n",
       "    x.observe(notebookContainer, {childList: true});\n",
       "}}\n",
       "\n",
       "// Listen for the clearing of the current output cell\n",
       "var outputEl = gd.closest('.output');\n",
       "if (outputEl) {{\n",
       "    x.observe(outputEl, {childList: true});\n",
       "}}\n",
       "\n",
       "                        })                };                });            </script>        </div>"
      ]
     },
     "metadata": {},
     "output_type": "display_data"
    }
   ],
   "source": [
    "fig = px.scatter_3d(data2, x='experience_level', y='remote_ratio', z='Salario en USD',color='Salario en USD')\n",
    "fig.update_layout(title='<b> 3D Scatter Plot <b>', title_x=0.5,titlefont=dict({'size':28, 'family': 'Courier New', 'color':'white'}),template='plotly_white', width=900, height=500,)\n",
    "fig.update_layout(scene = dict(xaxis = dict( backgroundcolor=\"rgb(200, 200, 230)\",gridcolor=\"white\",showbackground=True,zerolinecolor=\"black\",),yaxis = dict(backgroundcolor=\"rgb(230, 200,230)\",gridcolor=\"white\",showbackground=True,zerolinecolor=\"black\"),zaxis = dict(backgroundcolor=\"rgb(230, 230,200)\",gridcolor=\"white\",showbackground=True,zerolinecolor=\"black\"),),)\n",
    "fig.show()"
   ]
  },
  {
   "cell_type": "code",
   "execution_count": null,
   "metadata": {},
   "outputs": [],
   "source": []
  }
 ],
 "metadata": {
  "kernelspec": {
   "display_name": "Python 3",
   "language": "python",
   "name": "python3"
  },
  "language_info": {
   "codemirror_mode": {
    "name": "ipython",
    "version": 3
   },
   "file_extension": ".py",
   "mimetype": "text/x-python",
   "name": "python",
   "nbconvert_exporter": "python",
   "pygments_lexer": "ipython3",
   "version": "3.7.6"
  }
 },
 "nbformat": 4,
 "nbformat_minor": 4
}
